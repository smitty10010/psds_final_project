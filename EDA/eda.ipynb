{
 "metadata": {
  "language_info": {
   "codemirror_mode": {
    "name": "ipython",
    "version": 3
   },
   "file_extension": ".py",
   "mimetype": "text/x-python",
   "name": "python",
   "nbconvert_exporter": "python",
   "pygments_lexer": "ipython3",
   "version": "3.8.5"
  },
  "orig_nbformat": 2,
  "kernelspec": {
   "name": "python385jvsc74a57bd0e134e05457d34029b6460cd73bbf1ed73f339b5b6d98c95be70b69eba114fe95",
   "display_name": "Python 3.8.5 64-bit ('base': conda)"
  }
 },
 "nbformat": 4,
 "nbformat_minor": 2,
 "cells": [
  {
   "cell_type": "code",
   "execution_count": 1,
   "metadata": {},
   "outputs": [],
   "source": [
    "import os\n",
    "\n",
    "try:\n",
    "    from dotenv import load_dotenv\n",
    "except ImportError:\n",
    "    from pip._internal import main as pip\n",
    "    pip(['install', 'python-dotenv'])\n",
    "    from dotenv import load_dotenv\n",
    "\n",
    "try:\n",
    "    import psycopg2\n",
    "except ImportError:\n",
    "    from pip._internal import main as pip\n",
    "    pip(['install', 'psycopg2'])\n",
    "    import psycopg2\n",
    "\n",
    "import pandas as pd\n",
    "import numpy as np\n",
    "import plotly.graph_objects as go\n",
    "import plotly.express as px"
   ]
  },
  {
   "cell_type": "code",
   "execution_count": 2,
   "metadata": {},
   "outputs": [],
   "source": [
    "load_dotenv(dotenv_path='//.env')\n",
    "db = os.getenv('DB')"
   ]
  },
  {
   "cell_type": "code",
   "execution_count": 137,
   "metadata": {},
   "outputs": [],
   "source": [
    "acled = pd.read_sql_query('SELECT sub_event_type, COUNT(*) FROM acled GROUP BY sub_event_type ORDER BY COUNT(*) desc',db)\n",
    "sipri = pd.read_sql_query('SELECT weapon_description, SUM(number_ordered) as total FROM sipri GROUP BY weapon_description HAVING SUM(number_ordered) IS NOT NULL ORDER BY total desc',db)\n",
    "#acled = pd.read_sql_query('SELECT DISTINCT actor1 FROM acled', db)\n",
    "#sipri = pd.read_sql_query('SELECT DISTINCT buyer FROM sipri', db)"
   ]
  },
  {
   "cell_type": "code",
   "execution_count": 138,
   "metadata": {},
   "outputs": [
    {
     "output_type": "display_data",
     "data": {
      "application/vnd.plotly.v1+json": {
       "config": {
        "plotlyServerURL": "https://plot.ly"
       },
       "data": [
        {
         "alignmentgroup": "True",
         "hovertemplate": "sub_event_type=%{x}<br>count=%{y}<extra></extra>",
         "legendgroup": "",
         "marker": {
          "color": "#636efa"
         },
         "name": "",
         "offsetgroup": "",
         "orientation": "v",
         "showlegend": false,
         "textposition": "auto",
         "type": "bar",
         "x": [
          "Peaceful protest",
          "Armed clash",
          "Attack",
          "Shelling/artillery/missile attack",
          "Air/drone strike",
          "Violent demonstration",
          "Remote explosive/landmine/IED",
          "Mob violence",
          "Protest with intervention",
          "Looting/property destruction",
          "Abduction/forced disappearance",
          "Change to group/activity",
          "Government regains territory",
          "Disrupted weapons use",
          "Arrests",
          "Other",
          "Non-state actor overtakes territory",
          "Grenade",
          "Excessive force against protesters",
          "Sexual violence",
          "Non-violent transfer of territory",
          "Suicide bomb",
          "Agreement",
          "Headquarters or base established",
          "Chemical weapon"
         ],
         "xaxis": "x",
         "y": [
          381908,
          207104,
          115266,
          70804,
          60718,
          44906,
          35560,
          34985,
          21897,
          14106,
          10509,
          10210,
          8558,
          6294,
          5911,
          5060,
          4620,
          4584,
          3498,
          2597,
          2380,
          1905,
          1694,
          865,
          110
         ],
         "yaxis": "y"
        }
       ],
       "layout": {
        "barmode": "relative",
        "legend": {
         "tracegroupgap": 0
        },
        "margin": {
         "t": 60
        },
        "template": {
         "data": {
          "bar": [
           {
            "error_x": {
             "color": "#2a3f5f"
            },
            "error_y": {
             "color": "#2a3f5f"
            },
            "marker": {
             "line": {
              "color": "#E5ECF6",
              "width": 0.5
             }
            },
            "type": "bar"
           }
          ],
          "barpolar": [
           {
            "marker": {
             "line": {
              "color": "#E5ECF6",
              "width": 0.5
             }
            },
            "type": "barpolar"
           }
          ],
          "carpet": [
           {
            "aaxis": {
             "endlinecolor": "#2a3f5f",
             "gridcolor": "white",
             "linecolor": "white",
             "minorgridcolor": "white",
             "startlinecolor": "#2a3f5f"
            },
            "baxis": {
             "endlinecolor": "#2a3f5f",
             "gridcolor": "white",
             "linecolor": "white",
             "minorgridcolor": "white",
             "startlinecolor": "#2a3f5f"
            },
            "type": "carpet"
           }
          ],
          "choropleth": [
           {
            "colorbar": {
             "outlinewidth": 0,
             "ticks": ""
            },
            "type": "choropleth"
           }
          ],
          "contour": [
           {
            "colorbar": {
             "outlinewidth": 0,
             "ticks": ""
            },
            "colorscale": [
             [
              0,
              "#0d0887"
             ],
             [
              0.1111111111111111,
              "#46039f"
             ],
             [
              0.2222222222222222,
              "#7201a8"
             ],
             [
              0.3333333333333333,
              "#9c179e"
             ],
             [
              0.4444444444444444,
              "#bd3786"
             ],
             [
              0.5555555555555556,
              "#d8576b"
             ],
             [
              0.6666666666666666,
              "#ed7953"
             ],
             [
              0.7777777777777778,
              "#fb9f3a"
             ],
             [
              0.8888888888888888,
              "#fdca26"
             ],
             [
              1,
              "#f0f921"
             ]
            ],
            "type": "contour"
           }
          ],
          "contourcarpet": [
           {
            "colorbar": {
             "outlinewidth": 0,
             "ticks": ""
            },
            "type": "contourcarpet"
           }
          ],
          "heatmap": [
           {
            "colorbar": {
             "outlinewidth": 0,
             "ticks": ""
            },
            "colorscale": [
             [
              0,
              "#0d0887"
             ],
             [
              0.1111111111111111,
              "#46039f"
             ],
             [
              0.2222222222222222,
              "#7201a8"
             ],
             [
              0.3333333333333333,
              "#9c179e"
             ],
             [
              0.4444444444444444,
              "#bd3786"
             ],
             [
              0.5555555555555556,
              "#d8576b"
             ],
             [
              0.6666666666666666,
              "#ed7953"
             ],
             [
              0.7777777777777778,
              "#fb9f3a"
             ],
             [
              0.8888888888888888,
              "#fdca26"
             ],
             [
              1,
              "#f0f921"
             ]
            ],
            "type": "heatmap"
           }
          ],
          "heatmapgl": [
           {
            "colorbar": {
             "outlinewidth": 0,
             "ticks": ""
            },
            "colorscale": [
             [
              0,
              "#0d0887"
             ],
             [
              0.1111111111111111,
              "#46039f"
             ],
             [
              0.2222222222222222,
              "#7201a8"
             ],
             [
              0.3333333333333333,
              "#9c179e"
             ],
             [
              0.4444444444444444,
              "#bd3786"
             ],
             [
              0.5555555555555556,
              "#d8576b"
             ],
             [
              0.6666666666666666,
              "#ed7953"
             ],
             [
              0.7777777777777778,
              "#fb9f3a"
             ],
             [
              0.8888888888888888,
              "#fdca26"
             ],
             [
              1,
              "#f0f921"
             ]
            ],
            "type": "heatmapgl"
           }
          ],
          "histogram": [
           {
            "marker": {
             "colorbar": {
              "outlinewidth": 0,
              "ticks": ""
             }
            },
            "type": "histogram"
           }
          ],
          "histogram2d": [
           {
            "colorbar": {
             "outlinewidth": 0,
             "ticks": ""
            },
            "colorscale": [
             [
              0,
              "#0d0887"
             ],
             [
              0.1111111111111111,
              "#46039f"
             ],
             [
              0.2222222222222222,
              "#7201a8"
             ],
             [
              0.3333333333333333,
              "#9c179e"
             ],
             [
              0.4444444444444444,
              "#bd3786"
             ],
             [
              0.5555555555555556,
              "#d8576b"
             ],
             [
              0.6666666666666666,
              "#ed7953"
             ],
             [
              0.7777777777777778,
              "#fb9f3a"
             ],
             [
              0.8888888888888888,
              "#fdca26"
             ],
             [
              1,
              "#f0f921"
             ]
            ],
            "type": "histogram2d"
           }
          ],
          "histogram2dcontour": [
           {
            "colorbar": {
             "outlinewidth": 0,
             "ticks": ""
            },
            "colorscale": [
             [
              0,
              "#0d0887"
             ],
             [
              0.1111111111111111,
              "#46039f"
             ],
             [
              0.2222222222222222,
              "#7201a8"
             ],
             [
              0.3333333333333333,
              "#9c179e"
             ],
             [
              0.4444444444444444,
              "#bd3786"
             ],
             [
              0.5555555555555556,
              "#d8576b"
             ],
             [
              0.6666666666666666,
              "#ed7953"
             ],
             [
              0.7777777777777778,
              "#fb9f3a"
             ],
             [
              0.8888888888888888,
              "#fdca26"
             ],
             [
              1,
              "#f0f921"
             ]
            ],
            "type": "histogram2dcontour"
           }
          ],
          "mesh3d": [
           {
            "colorbar": {
             "outlinewidth": 0,
             "ticks": ""
            },
            "type": "mesh3d"
           }
          ],
          "parcoords": [
           {
            "line": {
             "colorbar": {
              "outlinewidth": 0,
              "ticks": ""
             }
            },
            "type": "parcoords"
           }
          ],
          "pie": [
           {
            "automargin": true,
            "type": "pie"
           }
          ],
          "scatter": [
           {
            "marker": {
             "colorbar": {
              "outlinewidth": 0,
              "ticks": ""
             }
            },
            "type": "scatter"
           }
          ],
          "scatter3d": [
           {
            "line": {
             "colorbar": {
              "outlinewidth": 0,
              "ticks": ""
             }
            },
            "marker": {
             "colorbar": {
              "outlinewidth": 0,
              "ticks": ""
             }
            },
            "type": "scatter3d"
           }
          ],
          "scattercarpet": [
           {
            "marker": {
             "colorbar": {
              "outlinewidth": 0,
              "ticks": ""
             }
            },
            "type": "scattercarpet"
           }
          ],
          "scattergeo": [
           {
            "marker": {
             "colorbar": {
              "outlinewidth": 0,
              "ticks": ""
             }
            },
            "type": "scattergeo"
           }
          ],
          "scattergl": [
           {
            "marker": {
             "colorbar": {
              "outlinewidth": 0,
              "ticks": ""
             }
            },
            "type": "scattergl"
           }
          ],
          "scattermapbox": [
           {
            "marker": {
             "colorbar": {
              "outlinewidth": 0,
              "ticks": ""
             }
            },
            "type": "scattermapbox"
           }
          ],
          "scatterpolar": [
           {
            "marker": {
             "colorbar": {
              "outlinewidth": 0,
              "ticks": ""
             }
            },
            "type": "scatterpolar"
           }
          ],
          "scatterpolargl": [
           {
            "marker": {
             "colorbar": {
              "outlinewidth": 0,
              "ticks": ""
             }
            },
            "type": "scatterpolargl"
           }
          ],
          "scatterternary": [
           {
            "marker": {
             "colorbar": {
              "outlinewidth": 0,
              "ticks": ""
             }
            },
            "type": "scatterternary"
           }
          ],
          "surface": [
           {
            "colorbar": {
             "outlinewidth": 0,
             "ticks": ""
            },
            "colorscale": [
             [
              0,
              "#0d0887"
             ],
             [
              0.1111111111111111,
              "#46039f"
             ],
             [
              0.2222222222222222,
              "#7201a8"
             ],
             [
              0.3333333333333333,
              "#9c179e"
             ],
             [
              0.4444444444444444,
              "#bd3786"
             ],
             [
              0.5555555555555556,
              "#d8576b"
             ],
             [
              0.6666666666666666,
              "#ed7953"
             ],
             [
              0.7777777777777778,
              "#fb9f3a"
             ],
             [
              0.8888888888888888,
              "#fdca26"
             ],
             [
              1,
              "#f0f921"
             ]
            ],
            "type": "surface"
           }
          ],
          "table": [
           {
            "cells": {
             "fill": {
              "color": "#EBF0F8"
             },
             "line": {
              "color": "white"
             }
            },
            "header": {
             "fill": {
              "color": "#C8D4E3"
             },
             "line": {
              "color": "white"
             }
            },
            "type": "table"
           }
          ]
         },
         "layout": {
          "annotationdefaults": {
           "arrowcolor": "#2a3f5f",
           "arrowhead": 0,
           "arrowwidth": 1
          },
          "autotypenumbers": "strict",
          "coloraxis": {
           "colorbar": {
            "outlinewidth": 0,
            "ticks": ""
           }
          },
          "colorscale": {
           "diverging": [
            [
             0,
             "#8e0152"
            ],
            [
             0.1,
             "#c51b7d"
            ],
            [
             0.2,
             "#de77ae"
            ],
            [
             0.3,
             "#f1b6da"
            ],
            [
             0.4,
             "#fde0ef"
            ],
            [
             0.5,
             "#f7f7f7"
            ],
            [
             0.6,
             "#e6f5d0"
            ],
            [
             0.7,
             "#b8e186"
            ],
            [
             0.8,
             "#7fbc41"
            ],
            [
             0.9,
             "#4d9221"
            ],
            [
             1,
             "#276419"
            ]
           ],
           "sequential": [
            [
             0,
             "#0d0887"
            ],
            [
             0.1111111111111111,
             "#46039f"
            ],
            [
             0.2222222222222222,
             "#7201a8"
            ],
            [
             0.3333333333333333,
             "#9c179e"
            ],
            [
             0.4444444444444444,
             "#bd3786"
            ],
            [
             0.5555555555555556,
             "#d8576b"
            ],
            [
             0.6666666666666666,
             "#ed7953"
            ],
            [
             0.7777777777777778,
             "#fb9f3a"
            ],
            [
             0.8888888888888888,
             "#fdca26"
            ],
            [
             1,
             "#f0f921"
            ]
           ],
           "sequentialminus": [
            [
             0,
             "#0d0887"
            ],
            [
             0.1111111111111111,
             "#46039f"
            ],
            [
             0.2222222222222222,
             "#7201a8"
            ],
            [
             0.3333333333333333,
             "#9c179e"
            ],
            [
             0.4444444444444444,
             "#bd3786"
            ],
            [
             0.5555555555555556,
             "#d8576b"
            ],
            [
             0.6666666666666666,
             "#ed7953"
            ],
            [
             0.7777777777777778,
             "#fb9f3a"
            ],
            [
             0.8888888888888888,
             "#fdca26"
            ],
            [
             1,
             "#f0f921"
            ]
           ]
          },
          "colorway": [
           "#636efa",
           "#EF553B",
           "#00cc96",
           "#ab63fa",
           "#FFA15A",
           "#19d3f3",
           "#FF6692",
           "#B6E880",
           "#FF97FF",
           "#FECB52"
          ],
          "font": {
           "color": "#2a3f5f"
          },
          "geo": {
           "bgcolor": "white",
           "lakecolor": "white",
           "landcolor": "#E5ECF6",
           "showlakes": true,
           "showland": true,
           "subunitcolor": "white"
          },
          "hoverlabel": {
           "align": "left"
          },
          "hovermode": "closest",
          "mapbox": {
           "style": "light"
          },
          "paper_bgcolor": "white",
          "plot_bgcolor": "#E5ECF6",
          "polar": {
           "angularaxis": {
            "gridcolor": "white",
            "linecolor": "white",
            "ticks": ""
           },
           "bgcolor": "#E5ECF6",
           "radialaxis": {
            "gridcolor": "white",
            "linecolor": "white",
            "ticks": ""
           }
          },
          "scene": {
           "xaxis": {
            "backgroundcolor": "#E5ECF6",
            "gridcolor": "white",
            "gridwidth": 2,
            "linecolor": "white",
            "showbackground": true,
            "ticks": "",
            "zerolinecolor": "white"
           },
           "yaxis": {
            "backgroundcolor": "#E5ECF6",
            "gridcolor": "white",
            "gridwidth": 2,
            "linecolor": "white",
            "showbackground": true,
            "ticks": "",
            "zerolinecolor": "white"
           },
           "zaxis": {
            "backgroundcolor": "#E5ECF6",
            "gridcolor": "white",
            "gridwidth": 2,
            "linecolor": "white",
            "showbackground": true,
            "ticks": "",
            "zerolinecolor": "white"
           }
          },
          "shapedefaults": {
           "line": {
            "color": "#2a3f5f"
           }
          },
          "ternary": {
           "aaxis": {
            "gridcolor": "white",
            "linecolor": "white",
            "ticks": ""
           },
           "baxis": {
            "gridcolor": "white",
            "linecolor": "white",
            "ticks": ""
           },
           "bgcolor": "#E5ECF6",
           "caxis": {
            "gridcolor": "white",
            "linecolor": "white",
            "ticks": ""
           }
          },
          "title": {
           "x": 0.05
          },
          "xaxis": {
           "automargin": true,
           "gridcolor": "white",
           "linecolor": "white",
           "ticks": "",
           "title": {
            "standoff": 15
           },
           "zerolinecolor": "white",
           "zerolinewidth": 2
          },
          "yaxis": {
           "automargin": true,
           "gridcolor": "white",
           "linecolor": "white",
           "ticks": "",
           "title": {
            "standoff": 15
           },
           "zerolinecolor": "white",
           "zerolinewidth": 2
          }
         }
        },
        "xaxis": {
         "anchor": "y",
         "domain": [
          0,
          1
         ],
         "title": {
          "text": "sub_event_type"
         }
        },
        "yaxis": {
         "anchor": "x",
         "domain": [
          0,
          1
         ],
         "title": {
          "text": "count"
         }
        }
       }
      }
     },
     "metadata": {}
    }
   ],
   "source": [
    "acled_counts = px.bar(acled,x='sub_event_type',y='count')\n",
    "acled_counts.show()"
   ]
  },
  {
   "cell_type": "code",
   "execution_count": 139,
   "metadata": {},
   "outputs": [
    {
     "output_type": "display_data",
     "data": {
      "application/vnd.plotly.v1+json": {
       "config": {
        "plotlyServerURL": "https://plot.ly"
       },
       "data": [
        {
         "alignmentgroup": "True",
         "hovertemplate": "weapon_description=%{x}<br>total=%{y}<extra></extra>",
         "legendgroup": "",
         "marker": {
          "color": "#636efa"
         },
         "name": "",
         "offsetgroup": "",
         "orientation": "v",
         "showlegend": false,
         "textposition": "auto",
         "type": "bar",
         "x": [
          "Anti-tank missile",
          "Guided bomb",
          "Portable SAM",
          "APC",
          "APV",
          "Diesel engine",
          "BVRAAM",
          "SAM",
          "Guided shell",
          "APC turret",
          "Tank",
          "Guided rocket",
          "ASM",
          "ASM/anti-tank missile",
          "IFV",
          "SRAAM",
          "Anti-ship missile",
          "Turbofan",
          "Towed gun",
          "FGA aircraft",
          "APC/APV",
          "Mortar",
          "IFV turret",
          "AIM-9S",
          "ASW torpedo",
          "Self-propelled gun",
          "SSM",
          "ABM",
          "Light helicopter",
          "Combat ac radar",
          "Trainer aircraft",
          "Helicopter",
          "Transport helicopter",
          "Turboprop/turboshaft",
          "Aircraft EO system",
          "ARM",
          "AS/ASW torpedo",
          "Combat helicopter",
          "Guided Bomb",
          "Self-propelled MRL",
          "Anti-ship missile/ARM",
          "Anti-ship missile/SSM",
          "UAV",
          "Anti-ship MI/SSM",
          "Turboshaft",
          "Trainer/combat ac",
          "Air search radar",
          "Fire control radar",
          "ARV",
          "SSM/ASM",
          "Loitering munition",
          "Ground surv radar",
          "Turboprop",
          "Transport aircraft",
          "APV/APC",
          "AA gun",
          "Gas turbine",
          "AFSV",
          "Naval gun",
          "BVRAAM/SAM",
          "Self-propelled mortar",
          "ASW sonar",
          "AS torpedo",
          "Patrol craft",
          "Light transport ac",
          "Light aircraft",
          "SAM system",
          "Tank turret",
          "Towed MRL",
          "ABM missile",
          "Reconnaissance AV",
          "ASW helicopter",
          "Tank destroyer",
          "MP aircraft radar",
          "Armed UAV",
          "Mobile AD system",
          "Fighter aircraft",
          "APC/IFV",
          "Mobile SAM system",
          "Air/sea search radar",
          "Air refuel system",
          "Tank chassis",
          "Armoured car",
          "Light tank",
          "Turbojet",
          "Combat heli radar",
          "Ground attack ac",
          "Frigate",
          "SPAAG",
          "ALV",
          "MP aircraft",
          "Sea search radar",
          "Guided rocket/SSM",
          "CIWS",
          "Anti-tank AV turret",
          "FAC",
          "Submarine",
          "Naval SAM system",
          "Arty locating radar",
          "SPG turret",
          "ASW aircraft",
          "SAM/ABM",
          "OPV",
          "Aircraft recce system",
          "SPG chassis",
          "APC/Command Post",
          "Mortar turret",
          "ABL",
          "SAM/ABM system",
          "AEV",
          "Naval mine/torpedo",
          "Tanker/transport ac",
          "Aircraft IRST",
          "MCM sonar",
          "EO search/fire control",
          "AEW&C aircraft",
          "Towed mortar",
          "SLBM",
          "Trainer/light ac",
          "Air search system",
          "Gun chassis",
          "MCM ship",
          "Heavy transport ac",
          "Corvette",
          "Landing craft",
          "AEW radar",
          "IFV/AFSV",
          "AIP engine",
          "AGS aircraft",
          "AGS radar",
          "Reconnaissance ac",
          "Trainer/combat aircraft",
          "AEV/ARV",
          "Bomber aircraft",
          "AALS",
          "AEW helicopter",
          "SSM launcher",
          "Minehunter",
          "FGA/EW aircraft",
          "Transport ship",
          "ASW MRL",
          "MRL",
          "Transport ac/helicopter",
          "SIGINT system",
          "Air/ground surv radar",
          "AD system",
          "ASW Helicopter",
          "Coastal defence system",
          "Cargo ship",
          "EO system",
          "Submarine sonar",
          "ACV/landing craft",
          "SIGINT aircraft",
          "SSM TEL",
          "Replenishment ship",
          "Landing ship",
          "Recce satellite",
          "Combat aircraft",
          "Multi-function radar",
          "AA gun system",
          "Destroyer",
          "Minesweeper",
          "AGS aerostat",
          "Helicopter turret",
          "Multifuntion radar",
          "Mobile SSM launcher",
          "ABM system",
          "Self-propelled MRL/SSM TEL",
          "MP UAV",
          "Naval MRL",
          "Support ship",
          "Multifunction radar",
          "ALCM",
          "Protector",
          "multi-function radar",
          "Replenishment tanker",
          "Anti-ship helicopter",
          "AGS/SIGINT system",
          "Height-finding radar",
          "Naval EO system",
          "Training ship",
          "Supply ship",
          "AMV",
          "OPV/frigate",
          "Tug",
          "AEW&C system",
          "UAV/light aircraft",
          "AGS/MP radar",
          "patrol craft",
          "Aircraft carrier",
          "Salvage ship",
          "ISR aircraft",
          "Transport aicraft",
          "Nuclear submarine",
          "FAC/MCM ship",
          "Minelayer",
          "OPV/Training ship",
          "Naval gun/CIWS",
          "Support craft",
          "ABM/SAM system",
          "Training tank",
          "Recce/SIGINT ac",
          "Airship",
          "Light aircraft/UAV",
          "OPV/tug",
          "Tanker",
          "Cargo Ship",
          "Survey ship",
          "AEW/AGS aircraft",
          "OPV/transport ship",
          "Transport craft",
          "SAM system radar"
         ],
         "xaxis": "x",
         "y": [
          415216,
          193502,
          59826,
          59197,
          52355,
          48935,
          48084,
          46923,
          21137,
          19568,
          17395,
          16062,
          15288,
          14338,
          13576,
          12502,
          6213,
          6094,
          5838,
          5635,
          4997,
          4950,
          4658,
          4277,
          4094,
          4011,
          3350,
          3344,
          3232,
          3023,
          2748,
          2691,
          2601,
          2485,
          2380,
          2297,
          2268,
          1915,
          1790,
          1776,
          1682,
          1588,
          1531,
          1416,
          1317,
          1317,
          1297,
          1252,
          1240,
          1207,
          1154,
          1112,
          1103,
          1080,
          858,
          857,
          840,
          811,
          809,
          780,
          765,
          762,
          720,
          705,
          686,
          650,
          622,
          607,
          554,
          552,
          524,
          487,
          468,
          457,
          449,
          425,
          396,
          386,
          357,
          289,
          286,
          274,
          272,
          266,
          266,
          261,
          250,
          238,
          230,
          220,
          206,
          205,
          200,
          186,
          183,
          172,
          154,
          150,
          147,
          142,
          140,
          126,
          122,
          122,
          120,
          118,
          115,
          114,
          102,
          102,
          100,
          96,
          96,
          92,
          87,
          84,
          78,
          72,
          57,
          56,
          54,
          53,
          53,
          50,
          49,
          48,
          47,
          46,
          44,
          44,
          43,
          40,
          39,
          34,
          31,
          29,
          28,
          27,
          27,
          26,
          26,
          26,
          25,
          23,
          23,
          23,
          20,
          20,
          19,
          19,
          18,
          17,
          17,
          16,
          14,
          13,
          13,
          12,
          12,
          12,
          11,
          10,
          10,
          10,
          9,
          9,
          9,
          8,
          8,
          8,
          8,
          7,
          6,
          6,
          6,
          5,
          5,
          5,
          4,
          4,
          4,
          4,
          4,
          3,
          3,
          3,
          3,
          3,
          3,
          3,
          3,
          3,
          3,
          3,
          3,
          2,
          2,
          2,
          2,
          2,
          1,
          1,
          1,
          1,
          1,
          1,
          1,
          1,
          1,
          1,
          1,
          1
         ],
         "yaxis": "y"
        }
       ],
       "layout": {
        "barmode": "relative",
        "legend": {
         "tracegroupgap": 0
        },
        "margin": {
         "t": 60
        },
        "template": {
         "data": {
          "bar": [
           {
            "error_x": {
             "color": "#2a3f5f"
            },
            "error_y": {
             "color": "#2a3f5f"
            },
            "marker": {
             "line": {
              "color": "#E5ECF6",
              "width": 0.5
             }
            },
            "type": "bar"
           }
          ],
          "barpolar": [
           {
            "marker": {
             "line": {
              "color": "#E5ECF6",
              "width": 0.5
             }
            },
            "type": "barpolar"
           }
          ],
          "carpet": [
           {
            "aaxis": {
             "endlinecolor": "#2a3f5f",
             "gridcolor": "white",
             "linecolor": "white",
             "minorgridcolor": "white",
             "startlinecolor": "#2a3f5f"
            },
            "baxis": {
             "endlinecolor": "#2a3f5f",
             "gridcolor": "white",
             "linecolor": "white",
             "minorgridcolor": "white",
             "startlinecolor": "#2a3f5f"
            },
            "type": "carpet"
           }
          ],
          "choropleth": [
           {
            "colorbar": {
             "outlinewidth": 0,
             "ticks": ""
            },
            "type": "choropleth"
           }
          ],
          "contour": [
           {
            "colorbar": {
             "outlinewidth": 0,
             "ticks": ""
            },
            "colorscale": [
             [
              0,
              "#0d0887"
             ],
             [
              0.1111111111111111,
              "#46039f"
             ],
             [
              0.2222222222222222,
              "#7201a8"
             ],
             [
              0.3333333333333333,
              "#9c179e"
             ],
             [
              0.4444444444444444,
              "#bd3786"
             ],
             [
              0.5555555555555556,
              "#d8576b"
             ],
             [
              0.6666666666666666,
              "#ed7953"
             ],
             [
              0.7777777777777778,
              "#fb9f3a"
             ],
             [
              0.8888888888888888,
              "#fdca26"
             ],
             [
              1,
              "#f0f921"
             ]
            ],
            "type": "contour"
           }
          ],
          "contourcarpet": [
           {
            "colorbar": {
             "outlinewidth": 0,
             "ticks": ""
            },
            "type": "contourcarpet"
           }
          ],
          "heatmap": [
           {
            "colorbar": {
             "outlinewidth": 0,
             "ticks": ""
            },
            "colorscale": [
             [
              0,
              "#0d0887"
             ],
             [
              0.1111111111111111,
              "#46039f"
             ],
             [
              0.2222222222222222,
              "#7201a8"
             ],
             [
              0.3333333333333333,
              "#9c179e"
             ],
             [
              0.4444444444444444,
              "#bd3786"
             ],
             [
              0.5555555555555556,
              "#d8576b"
             ],
             [
              0.6666666666666666,
              "#ed7953"
             ],
             [
              0.7777777777777778,
              "#fb9f3a"
             ],
             [
              0.8888888888888888,
              "#fdca26"
             ],
             [
              1,
              "#f0f921"
             ]
            ],
            "type": "heatmap"
           }
          ],
          "heatmapgl": [
           {
            "colorbar": {
             "outlinewidth": 0,
             "ticks": ""
            },
            "colorscale": [
             [
              0,
              "#0d0887"
             ],
             [
              0.1111111111111111,
              "#46039f"
             ],
             [
              0.2222222222222222,
              "#7201a8"
             ],
             [
              0.3333333333333333,
              "#9c179e"
             ],
             [
              0.4444444444444444,
              "#bd3786"
             ],
             [
              0.5555555555555556,
              "#d8576b"
             ],
             [
              0.6666666666666666,
              "#ed7953"
             ],
             [
              0.7777777777777778,
              "#fb9f3a"
             ],
             [
              0.8888888888888888,
              "#fdca26"
             ],
             [
              1,
              "#f0f921"
             ]
            ],
            "type": "heatmapgl"
           }
          ],
          "histogram": [
           {
            "marker": {
             "colorbar": {
              "outlinewidth": 0,
              "ticks": ""
             }
            },
            "type": "histogram"
           }
          ],
          "histogram2d": [
           {
            "colorbar": {
             "outlinewidth": 0,
             "ticks": ""
            },
            "colorscale": [
             [
              0,
              "#0d0887"
             ],
             [
              0.1111111111111111,
              "#46039f"
             ],
             [
              0.2222222222222222,
              "#7201a8"
             ],
             [
              0.3333333333333333,
              "#9c179e"
             ],
             [
              0.4444444444444444,
              "#bd3786"
             ],
             [
              0.5555555555555556,
              "#d8576b"
             ],
             [
              0.6666666666666666,
              "#ed7953"
             ],
             [
              0.7777777777777778,
              "#fb9f3a"
             ],
             [
              0.8888888888888888,
              "#fdca26"
             ],
             [
              1,
              "#f0f921"
             ]
            ],
            "type": "histogram2d"
           }
          ],
          "histogram2dcontour": [
           {
            "colorbar": {
             "outlinewidth": 0,
             "ticks": ""
            },
            "colorscale": [
             [
              0,
              "#0d0887"
             ],
             [
              0.1111111111111111,
              "#46039f"
             ],
             [
              0.2222222222222222,
              "#7201a8"
             ],
             [
              0.3333333333333333,
              "#9c179e"
             ],
             [
              0.4444444444444444,
              "#bd3786"
             ],
             [
              0.5555555555555556,
              "#d8576b"
             ],
             [
              0.6666666666666666,
              "#ed7953"
             ],
             [
              0.7777777777777778,
              "#fb9f3a"
             ],
             [
              0.8888888888888888,
              "#fdca26"
             ],
             [
              1,
              "#f0f921"
             ]
            ],
            "type": "histogram2dcontour"
           }
          ],
          "mesh3d": [
           {
            "colorbar": {
             "outlinewidth": 0,
             "ticks": ""
            },
            "type": "mesh3d"
           }
          ],
          "parcoords": [
           {
            "line": {
             "colorbar": {
              "outlinewidth": 0,
              "ticks": ""
             }
            },
            "type": "parcoords"
           }
          ],
          "pie": [
           {
            "automargin": true,
            "type": "pie"
           }
          ],
          "scatter": [
           {
            "marker": {
             "colorbar": {
              "outlinewidth": 0,
              "ticks": ""
             }
            },
            "type": "scatter"
           }
          ],
          "scatter3d": [
           {
            "line": {
             "colorbar": {
              "outlinewidth": 0,
              "ticks": ""
             }
            },
            "marker": {
             "colorbar": {
              "outlinewidth": 0,
              "ticks": ""
             }
            },
            "type": "scatter3d"
           }
          ],
          "scattercarpet": [
           {
            "marker": {
             "colorbar": {
              "outlinewidth": 0,
              "ticks": ""
             }
            },
            "type": "scattercarpet"
           }
          ],
          "scattergeo": [
           {
            "marker": {
             "colorbar": {
              "outlinewidth": 0,
              "ticks": ""
             }
            },
            "type": "scattergeo"
           }
          ],
          "scattergl": [
           {
            "marker": {
             "colorbar": {
              "outlinewidth": 0,
              "ticks": ""
             }
            },
            "type": "scattergl"
           }
          ],
          "scattermapbox": [
           {
            "marker": {
             "colorbar": {
              "outlinewidth": 0,
              "ticks": ""
             }
            },
            "type": "scattermapbox"
           }
          ],
          "scatterpolar": [
           {
            "marker": {
             "colorbar": {
              "outlinewidth": 0,
              "ticks": ""
             }
            },
            "type": "scatterpolar"
           }
          ],
          "scatterpolargl": [
           {
            "marker": {
             "colorbar": {
              "outlinewidth": 0,
              "ticks": ""
             }
            },
            "type": "scatterpolargl"
           }
          ],
          "scatterternary": [
           {
            "marker": {
             "colorbar": {
              "outlinewidth": 0,
              "ticks": ""
             }
            },
            "type": "scatterternary"
           }
          ],
          "surface": [
           {
            "colorbar": {
             "outlinewidth": 0,
             "ticks": ""
            },
            "colorscale": [
             [
              0,
              "#0d0887"
             ],
             [
              0.1111111111111111,
              "#46039f"
             ],
             [
              0.2222222222222222,
              "#7201a8"
             ],
             [
              0.3333333333333333,
              "#9c179e"
             ],
             [
              0.4444444444444444,
              "#bd3786"
             ],
             [
              0.5555555555555556,
              "#d8576b"
             ],
             [
              0.6666666666666666,
              "#ed7953"
             ],
             [
              0.7777777777777778,
              "#fb9f3a"
             ],
             [
              0.8888888888888888,
              "#fdca26"
             ],
             [
              1,
              "#f0f921"
             ]
            ],
            "type": "surface"
           }
          ],
          "table": [
           {
            "cells": {
             "fill": {
              "color": "#EBF0F8"
             },
             "line": {
              "color": "white"
             }
            },
            "header": {
             "fill": {
              "color": "#C8D4E3"
             },
             "line": {
              "color": "white"
             }
            },
            "type": "table"
           }
          ]
         },
         "layout": {
          "annotationdefaults": {
           "arrowcolor": "#2a3f5f",
           "arrowhead": 0,
           "arrowwidth": 1
          },
          "autotypenumbers": "strict",
          "coloraxis": {
           "colorbar": {
            "outlinewidth": 0,
            "ticks": ""
           }
          },
          "colorscale": {
           "diverging": [
            [
             0,
             "#8e0152"
            ],
            [
             0.1,
             "#c51b7d"
            ],
            [
             0.2,
             "#de77ae"
            ],
            [
             0.3,
             "#f1b6da"
            ],
            [
             0.4,
             "#fde0ef"
            ],
            [
             0.5,
             "#f7f7f7"
            ],
            [
             0.6,
             "#e6f5d0"
            ],
            [
             0.7,
             "#b8e186"
            ],
            [
             0.8,
             "#7fbc41"
            ],
            [
             0.9,
             "#4d9221"
            ],
            [
             1,
             "#276419"
            ]
           ],
           "sequential": [
            [
             0,
             "#0d0887"
            ],
            [
             0.1111111111111111,
             "#46039f"
            ],
            [
             0.2222222222222222,
             "#7201a8"
            ],
            [
             0.3333333333333333,
             "#9c179e"
            ],
            [
             0.4444444444444444,
             "#bd3786"
            ],
            [
             0.5555555555555556,
             "#d8576b"
            ],
            [
             0.6666666666666666,
             "#ed7953"
            ],
            [
             0.7777777777777778,
             "#fb9f3a"
            ],
            [
             0.8888888888888888,
             "#fdca26"
            ],
            [
             1,
             "#f0f921"
            ]
           ],
           "sequentialminus": [
            [
             0,
             "#0d0887"
            ],
            [
             0.1111111111111111,
             "#46039f"
            ],
            [
             0.2222222222222222,
             "#7201a8"
            ],
            [
             0.3333333333333333,
             "#9c179e"
            ],
            [
             0.4444444444444444,
             "#bd3786"
            ],
            [
             0.5555555555555556,
             "#d8576b"
            ],
            [
             0.6666666666666666,
             "#ed7953"
            ],
            [
             0.7777777777777778,
             "#fb9f3a"
            ],
            [
             0.8888888888888888,
             "#fdca26"
            ],
            [
             1,
             "#f0f921"
            ]
           ]
          },
          "colorway": [
           "#636efa",
           "#EF553B",
           "#00cc96",
           "#ab63fa",
           "#FFA15A",
           "#19d3f3",
           "#FF6692",
           "#B6E880",
           "#FF97FF",
           "#FECB52"
          ],
          "font": {
           "color": "#2a3f5f"
          },
          "geo": {
           "bgcolor": "white",
           "lakecolor": "white",
           "landcolor": "#E5ECF6",
           "showlakes": true,
           "showland": true,
           "subunitcolor": "white"
          },
          "hoverlabel": {
           "align": "left"
          },
          "hovermode": "closest",
          "mapbox": {
           "style": "light"
          },
          "paper_bgcolor": "white",
          "plot_bgcolor": "#E5ECF6",
          "polar": {
           "angularaxis": {
            "gridcolor": "white",
            "linecolor": "white",
            "ticks": ""
           },
           "bgcolor": "#E5ECF6",
           "radialaxis": {
            "gridcolor": "white",
            "linecolor": "white",
            "ticks": ""
           }
          },
          "scene": {
           "xaxis": {
            "backgroundcolor": "#E5ECF6",
            "gridcolor": "white",
            "gridwidth": 2,
            "linecolor": "white",
            "showbackground": true,
            "ticks": "",
            "zerolinecolor": "white"
           },
           "yaxis": {
            "backgroundcolor": "#E5ECF6",
            "gridcolor": "white",
            "gridwidth": 2,
            "linecolor": "white",
            "showbackground": true,
            "ticks": "",
            "zerolinecolor": "white"
           },
           "zaxis": {
            "backgroundcolor": "#E5ECF6",
            "gridcolor": "white",
            "gridwidth": 2,
            "linecolor": "white",
            "showbackground": true,
            "ticks": "",
            "zerolinecolor": "white"
           }
          },
          "shapedefaults": {
           "line": {
            "color": "#2a3f5f"
           }
          },
          "ternary": {
           "aaxis": {
            "gridcolor": "white",
            "linecolor": "white",
            "ticks": ""
           },
           "baxis": {
            "gridcolor": "white",
            "linecolor": "white",
            "ticks": ""
           },
           "bgcolor": "#E5ECF6",
           "caxis": {
            "gridcolor": "white",
            "linecolor": "white",
            "ticks": ""
           }
          },
          "title": {
           "x": 0.05
          },
          "xaxis": {
           "automargin": true,
           "gridcolor": "white",
           "linecolor": "white",
           "ticks": "",
           "title": {
            "standoff": 15
           },
           "zerolinecolor": "white",
           "zerolinewidth": 2
          },
          "yaxis": {
           "automargin": true,
           "gridcolor": "white",
           "linecolor": "white",
           "ticks": "",
           "title": {
            "standoff": 15
           },
           "zerolinecolor": "white",
           "zerolinewidth": 2
          }
         }
        },
        "xaxis": {
         "anchor": "y",
         "domain": [
          0,
          1
         ],
         "title": {
          "text": "weapon_description"
         }
        },
        "yaxis": {
         "anchor": "x",
         "domain": [
          0,
          1
         ],
         "title": {
          "text": "total"
         }
        }
       }
      }
     },
     "metadata": {}
    }
   ],
   "source": [
    "#sipri_filter = sipri.query('total > 440')\n",
    "sipri_counts = px.bar(sipri,x='weapon_description',y='total')\n",
    "sipri_counts.show()"
   ]
  },
  {
   "cell_type": "code",
   "execution_count": 224,
   "metadata": {},
   "outputs": [],
   "source": [
    "#acled_countries = pd.read_sql_query('SELECT country,sub_event_type, COUNT(*) FROM acled WHERE year > 2015 GROUP BY country,sub_event_type ORDER BY COUNT(*) DESC',db)\n",
    "acled_countries = pd.read_sql_query('SELECT country, COUNT(*) FROM acled WHERE year > 2015 GROUP BY country ORDER BY COUNT(*) DESC',db)\n",
    "#sipri_countries = pd.read_sql_query('SELECT buyer, SUM(number_ordered) as total FROM sipri WHERE CAST(order_year as integer) > 2015 GROUP BY buyer HAVING SUM(number_ordered) IS NOT NULL ORDER BY total desc',db)\n",
    "sipri_countries = pd.read_sql_query('SELECT buyer, weapon_description, SUM(number_delivered) as total FROM sipri WHERE CAST(order_year as integer) > 2015 GROUP BY buyer, weapon_description HAVING SUM(number_delivered) IS NOT NULL ORDER BY total desc',db)"
   ]
  },
  {
   "cell_type": "code",
   "execution_count": 201,
   "metadata": {},
   "outputs": [
    {
     "output_type": "display_data",
     "data": {
      "application/vnd.plotly.v1+json": {
       "config": {
        "plotlyServerURL": "https://plot.ly"
       },
       "data": [
        {
         "alignmentgroup": "True",
         "hovertemplate": "Nation=%{x}<br>Counts=%{y}<extra></extra>",
         "legendgroup": "",
         "marker": {
          "color": "#636efa"
         },
         "name": "",
         "offsetgroup": "",
         "orientation": "v",
         "showlegend": false,
         "textposition": "auto",
         "type": "bar",
         "x": [
          "India",
          "Syria",
          "Yemen",
          "Afghanistan",
          "Ukraine",
          "Mexico",
          "Brazil",
          "Pakistan",
          "Iraq",
          "United States",
          "Azerbaijan",
          "Turkey",
          "South Korea",
          "Somalia",
          "Philippines",
          "Nigeria",
          "Democratic Republic of Congo",
          "China",
          "Bahrain",
          "Venezuela",
          "Israel",
          "Iran",
          "Palestine",
          "Myanmar",
          "Lebanon",
          "South Africa",
          "Chile",
          "Argentina",
          "Italy",
          "France",
          "Algeria",
          "Bangladesh",
          "Russia",
          "Tunisia",
          "Sudan",
          "Libya",
          "Colombia",
          "Germany",
          "Armenia",
          "Indonesia",
          "South Sudan",
          "Japan",
          "Burundi",
          "Spain",
          "Nepal",
          "Cameroon",
          "Mali",
          "Ethiopia",
          "Guatemala",
          "Honduras",
          "Egypt",
          "Thailand",
          "Sri Lanka",
          "Morocco",
          "Saudi Arabia",
          "Georgia",
          "Belarus",
          "Peru",
          "Kenya",
          "Burkina Faso",
          "El Salvador",
          "United Kingdom",
          "Central African Republic",
          "Greece",
          "Taiwan",
          "Poland",
          "Uganda",
          "Bolivia",
          "Paraguay",
          "Kazakhstan",
          "Bulgaria",
          "Serbia",
          "Romania",
          "Mozambique",
          "Panama",
          "Haiti",
          "Niger",
          "Zimbabwe",
          "Guinea",
          "Ecuador",
          "Trinidad and Tobago",
          "Madagascar",
          "Sweden",
          "Costa Rica",
          "Ivory Coast",
          "Belgium",
          "Kyrgyzstan",
          "Netherlands",
          "Albania",
          "Ghana",
          "Moldova",
          "Mauritania",
          "Puerto Rico",
          "Denmark",
          "Nicaragua",
          "Cambodia",
          "Bosnia and Herzegovina",
          "Jordan",
          "Cyprus",
          "Montenegro",
          "Croatia",
          "Malawi",
          "North Macedonia",
          "Chad",
          "Austria",
          "Malaysia",
          "Jamaica",
          "Angola",
          "Portugal",
          "Kosovo",
          "Uzbekistan",
          "Sierra Leone",
          "Liberia",
          "Zambia",
          "Senegal",
          "Norway",
          "Ireland",
          "Guyana",
          "Namibia",
          "Finland",
          "Belize",
          "Czech Republic",
          "Vietnam",
          "Mongolia",
          "Tanzania",
          "Benin",
          "Togo",
          "Hungary",
          "Dominican Republic",
          "Cuba",
          "Switzerland",
          "Slovenia",
          "Gabon",
          "Estonia",
          "Slovakia",
          "North Korea",
          "Uruguay",
          "Gambia",
          "Martinique",
          "Republic of Congo",
          "Guadeloupe",
          "Tajikistan",
          "Suriname",
          "eSwatini",
          "Djibouti",
          "Rwanda",
          "Latvia",
          "Lithuania",
          "French Guiana",
          "Guinea-Bissau",
          "Kuwait",
          "Malta",
          "Antigua and Barbuda",
          "Bahamas",
          "Lesotho",
          "Luxembourg",
          "Botswana",
          "Turkmenistan",
          "Iceland",
          "Curacao",
          "Dominica",
          "Equatorial Guinea",
          "Eritrea",
          "Laos",
          "Oman",
          "Turks and Caicos Islands",
          "Sint Maarten",
          "Grenada",
          "Saint Lucia",
          "Barbados",
          "Saint-Martin",
          "Aruba",
          "Andorra",
          "United Arab Emirates",
          "Qatar",
          "Caribbean Netherlands",
          "Isle of Man",
          "Bailiwick of Guernsey",
          "Saint Kitts and Nevis",
          "Bailiwick of Jersey",
          "San Marino",
          "Greenland",
          "Cayman Islands",
          "Monaco",
          "Anguilla",
          "Vatican City",
          "Faroe Islands",
          "Liechtenstein",
          "Gibraltar",
          "Saint Vincent and the Grenadines",
          "Virgin Islands, U.S.",
          "Montserrat",
          "Falkland Islands"
         ],
         "xaxis": "x",
         "y": [
          89668,
          85815,
          54225,
          50562,
          42640,
          42409,
          39076,
          33479,
          29338,
          25029,
          17146,
          15513,
          14982,
          14106,
          11619,
          11247,
          10439,
          9533,
          9191,
          9116,
          8814,
          8632,
          8198,
          7487,
          7314,
          7120,
          6798,
          6793,
          6667,
          6467,
          6357,
          6117,
          5957,
          5814,
          5811,
          5707,
          5632,
          5260,
          5095,
          4921,
          4702,
          4644,
          4467,
          4152,
          4116,
          3855,
          3639,
          3493,
          3424,
          3376,
          3304,
          3087,
          3040,
          3033,
          2751,
          2750,
          2659,
          2596,
          2583,
          2574,
          2461,
          2450,
          2335,
          2315,
          2158,
          2129,
          2017,
          1882,
          1791,
          1766,
          1745,
          1737,
          1457,
          1435,
          1377,
          1372,
          1269,
          1215,
          1170,
          1124,
          1063,
          1063,
          1057,
          1003,
          949,
          924,
          907,
          859,
          833,
          820,
          793,
          673,
          669,
          655,
          653,
          651,
          633,
          622,
          621,
          612,
          566,
          551,
          544,
          541,
          514,
          487,
          482,
          429,
          413,
          409,
          394,
          381,
          364,
          362,
          360,
          338,
          318,
          287,
          273,
          268,
          266,
          259,
          259,
          257,
          241,
          230,
          223,
          213,
          209,
          189,
          176,
          169,
          165,
          165,
          155,
          126,
          121,
          115,
          110,
          106,
          103,
          97,
          89,
          88,
          78,
          77,
          76,
          68,
          67,
          66,
          64,
          58,
          44,
          44,
          44,
          42,
          41,
          40,
          40,
          37,
          37,
          35,
          33,
          27,
          17,
          16,
          15,
          15,
          14,
          13,
          12,
          10,
          9,
          9,
          9,
          9,
          7,
          6,
          6,
          5,
          5,
          4,
          4,
          4,
          3,
          3,
          2,
          2,
          1,
          1,
          1,
          1,
          1
         ],
         "yaxis": "y"
        }
       ],
       "layout": {
        "barmode": "relative",
        "legend": {
         "tracegroupgap": 0
        },
        "template": {
         "data": {
          "bar": [
           {
            "error_x": {
             "color": "#2a3f5f"
            },
            "error_y": {
             "color": "#2a3f5f"
            },
            "marker": {
             "line": {
              "color": "#E5ECF6",
              "width": 0.5
             }
            },
            "type": "bar"
           }
          ],
          "barpolar": [
           {
            "marker": {
             "line": {
              "color": "#E5ECF6",
              "width": 0.5
             }
            },
            "type": "barpolar"
           }
          ],
          "carpet": [
           {
            "aaxis": {
             "endlinecolor": "#2a3f5f",
             "gridcolor": "white",
             "linecolor": "white",
             "minorgridcolor": "white",
             "startlinecolor": "#2a3f5f"
            },
            "baxis": {
             "endlinecolor": "#2a3f5f",
             "gridcolor": "white",
             "linecolor": "white",
             "minorgridcolor": "white",
             "startlinecolor": "#2a3f5f"
            },
            "type": "carpet"
           }
          ],
          "choropleth": [
           {
            "colorbar": {
             "outlinewidth": 0,
             "ticks": ""
            },
            "type": "choropleth"
           }
          ],
          "contour": [
           {
            "colorbar": {
             "outlinewidth": 0,
             "ticks": ""
            },
            "colorscale": [
             [
              0,
              "#0d0887"
             ],
             [
              0.1111111111111111,
              "#46039f"
             ],
             [
              0.2222222222222222,
              "#7201a8"
             ],
             [
              0.3333333333333333,
              "#9c179e"
             ],
             [
              0.4444444444444444,
              "#bd3786"
             ],
             [
              0.5555555555555556,
              "#d8576b"
             ],
             [
              0.6666666666666666,
              "#ed7953"
             ],
             [
              0.7777777777777778,
              "#fb9f3a"
             ],
             [
              0.8888888888888888,
              "#fdca26"
             ],
             [
              1,
              "#f0f921"
             ]
            ],
            "type": "contour"
           }
          ],
          "contourcarpet": [
           {
            "colorbar": {
             "outlinewidth": 0,
             "ticks": ""
            },
            "type": "contourcarpet"
           }
          ],
          "heatmap": [
           {
            "colorbar": {
             "outlinewidth": 0,
             "ticks": ""
            },
            "colorscale": [
             [
              0,
              "#0d0887"
             ],
             [
              0.1111111111111111,
              "#46039f"
             ],
             [
              0.2222222222222222,
              "#7201a8"
             ],
             [
              0.3333333333333333,
              "#9c179e"
             ],
             [
              0.4444444444444444,
              "#bd3786"
             ],
             [
              0.5555555555555556,
              "#d8576b"
             ],
             [
              0.6666666666666666,
              "#ed7953"
             ],
             [
              0.7777777777777778,
              "#fb9f3a"
             ],
             [
              0.8888888888888888,
              "#fdca26"
             ],
             [
              1,
              "#f0f921"
             ]
            ],
            "type": "heatmap"
           }
          ],
          "heatmapgl": [
           {
            "colorbar": {
             "outlinewidth": 0,
             "ticks": ""
            },
            "colorscale": [
             [
              0,
              "#0d0887"
             ],
             [
              0.1111111111111111,
              "#46039f"
             ],
             [
              0.2222222222222222,
              "#7201a8"
             ],
             [
              0.3333333333333333,
              "#9c179e"
             ],
             [
              0.4444444444444444,
              "#bd3786"
             ],
             [
              0.5555555555555556,
              "#d8576b"
             ],
             [
              0.6666666666666666,
              "#ed7953"
             ],
             [
              0.7777777777777778,
              "#fb9f3a"
             ],
             [
              0.8888888888888888,
              "#fdca26"
             ],
             [
              1,
              "#f0f921"
             ]
            ],
            "type": "heatmapgl"
           }
          ],
          "histogram": [
           {
            "marker": {
             "colorbar": {
              "outlinewidth": 0,
              "ticks": ""
             }
            },
            "type": "histogram"
           }
          ],
          "histogram2d": [
           {
            "colorbar": {
             "outlinewidth": 0,
             "ticks": ""
            },
            "colorscale": [
             [
              0,
              "#0d0887"
             ],
             [
              0.1111111111111111,
              "#46039f"
             ],
             [
              0.2222222222222222,
              "#7201a8"
             ],
             [
              0.3333333333333333,
              "#9c179e"
             ],
             [
              0.4444444444444444,
              "#bd3786"
             ],
             [
              0.5555555555555556,
              "#d8576b"
             ],
             [
              0.6666666666666666,
              "#ed7953"
             ],
             [
              0.7777777777777778,
              "#fb9f3a"
             ],
             [
              0.8888888888888888,
              "#fdca26"
             ],
             [
              1,
              "#f0f921"
             ]
            ],
            "type": "histogram2d"
           }
          ],
          "histogram2dcontour": [
           {
            "colorbar": {
             "outlinewidth": 0,
             "ticks": ""
            },
            "colorscale": [
             [
              0,
              "#0d0887"
             ],
             [
              0.1111111111111111,
              "#46039f"
             ],
             [
              0.2222222222222222,
              "#7201a8"
             ],
             [
              0.3333333333333333,
              "#9c179e"
             ],
             [
              0.4444444444444444,
              "#bd3786"
             ],
             [
              0.5555555555555556,
              "#d8576b"
             ],
             [
              0.6666666666666666,
              "#ed7953"
             ],
             [
              0.7777777777777778,
              "#fb9f3a"
             ],
             [
              0.8888888888888888,
              "#fdca26"
             ],
             [
              1,
              "#f0f921"
             ]
            ],
            "type": "histogram2dcontour"
           }
          ],
          "mesh3d": [
           {
            "colorbar": {
             "outlinewidth": 0,
             "ticks": ""
            },
            "type": "mesh3d"
           }
          ],
          "parcoords": [
           {
            "line": {
             "colorbar": {
              "outlinewidth": 0,
              "ticks": ""
             }
            },
            "type": "parcoords"
           }
          ],
          "pie": [
           {
            "automargin": true,
            "type": "pie"
           }
          ],
          "scatter": [
           {
            "marker": {
             "colorbar": {
              "outlinewidth": 0,
              "ticks": ""
             }
            },
            "type": "scatter"
           }
          ],
          "scatter3d": [
           {
            "line": {
             "colorbar": {
              "outlinewidth": 0,
              "ticks": ""
             }
            },
            "marker": {
             "colorbar": {
              "outlinewidth": 0,
              "ticks": ""
             }
            },
            "type": "scatter3d"
           }
          ],
          "scattercarpet": [
           {
            "marker": {
             "colorbar": {
              "outlinewidth": 0,
              "ticks": ""
             }
            },
            "type": "scattercarpet"
           }
          ],
          "scattergeo": [
           {
            "marker": {
             "colorbar": {
              "outlinewidth": 0,
              "ticks": ""
             }
            },
            "type": "scattergeo"
           }
          ],
          "scattergl": [
           {
            "marker": {
             "colorbar": {
              "outlinewidth": 0,
              "ticks": ""
             }
            },
            "type": "scattergl"
           }
          ],
          "scattermapbox": [
           {
            "marker": {
             "colorbar": {
              "outlinewidth": 0,
              "ticks": ""
             }
            },
            "type": "scattermapbox"
           }
          ],
          "scatterpolar": [
           {
            "marker": {
             "colorbar": {
              "outlinewidth": 0,
              "ticks": ""
             }
            },
            "type": "scatterpolar"
           }
          ],
          "scatterpolargl": [
           {
            "marker": {
             "colorbar": {
              "outlinewidth": 0,
              "ticks": ""
             }
            },
            "type": "scatterpolargl"
           }
          ],
          "scatterternary": [
           {
            "marker": {
             "colorbar": {
              "outlinewidth": 0,
              "ticks": ""
             }
            },
            "type": "scatterternary"
           }
          ],
          "surface": [
           {
            "colorbar": {
             "outlinewidth": 0,
             "ticks": ""
            },
            "colorscale": [
             [
              0,
              "#0d0887"
             ],
             [
              0.1111111111111111,
              "#46039f"
             ],
             [
              0.2222222222222222,
              "#7201a8"
             ],
             [
              0.3333333333333333,
              "#9c179e"
             ],
             [
              0.4444444444444444,
              "#bd3786"
             ],
             [
              0.5555555555555556,
              "#d8576b"
             ],
             [
              0.6666666666666666,
              "#ed7953"
             ],
             [
              0.7777777777777778,
              "#fb9f3a"
             ],
             [
              0.8888888888888888,
              "#fdca26"
             ],
             [
              1,
              "#f0f921"
             ]
            ],
            "type": "surface"
           }
          ],
          "table": [
           {
            "cells": {
             "fill": {
              "color": "#EBF0F8"
             },
             "line": {
              "color": "white"
             }
            },
            "header": {
             "fill": {
              "color": "#C8D4E3"
             },
             "line": {
              "color": "white"
             }
            },
            "type": "table"
           }
          ]
         },
         "layout": {
          "annotationdefaults": {
           "arrowcolor": "#2a3f5f",
           "arrowhead": 0,
           "arrowwidth": 1
          },
          "autotypenumbers": "strict",
          "coloraxis": {
           "colorbar": {
            "outlinewidth": 0,
            "ticks": ""
           }
          },
          "colorscale": {
           "diverging": [
            [
             0,
             "#8e0152"
            ],
            [
             0.1,
             "#c51b7d"
            ],
            [
             0.2,
             "#de77ae"
            ],
            [
             0.3,
             "#f1b6da"
            ],
            [
             0.4,
             "#fde0ef"
            ],
            [
             0.5,
             "#f7f7f7"
            ],
            [
             0.6,
             "#e6f5d0"
            ],
            [
             0.7,
             "#b8e186"
            ],
            [
             0.8,
             "#7fbc41"
            ],
            [
             0.9,
             "#4d9221"
            ],
            [
             1,
             "#276419"
            ]
           ],
           "sequential": [
            [
             0,
             "#0d0887"
            ],
            [
             0.1111111111111111,
             "#46039f"
            ],
            [
             0.2222222222222222,
             "#7201a8"
            ],
            [
             0.3333333333333333,
             "#9c179e"
            ],
            [
             0.4444444444444444,
             "#bd3786"
            ],
            [
             0.5555555555555556,
             "#d8576b"
            ],
            [
             0.6666666666666666,
             "#ed7953"
            ],
            [
             0.7777777777777778,
             "#fb9f3a"
            ],
            [
             0.8888888888888888,
             "#fdca26"
            ],
            [
             1,
             "#f0f921"
            ]
           ],
           "sequentialminus": [
            [
             0,
             "#0d0887"
            ],
            [
             0.1111111111111111,
             "#46039f"
            ],
            [
             0.2222222222222222,
             "#7201a8"
            ],
            [
             0.3333333333333333,
             "#9c179e"
            ],
            [
             0.4444444444444444,
             "#bd3786"
            ],
            [
             0.5555555555555556,
             "#d8576b"
            ],
            [
             0.6666666666666666,
             "#ed7953"
            ],
            [
             0.7777777777777778,
             "#fb9f3a"
            ],
            [
             0.8888888888888888,
             "#fdca26"
            ],
            [
             1,
             "#f0f921"
            ]
           ]
          },
          "colorway": [
           "#636efa",
           "#EF553B",
           "#00cc96",
           "#ab63fa",
           "#FFA15A",
           "#19d3f3",
           "#FF6692",
           "#B6E880",
           "#FF97FF",
           "#FECB52"
          ],
          "font": {
           "color": "#2a3f5f"
          },
          "geo": {
           "bgcolor": "white",
           "lakecolor": "white",
           "landcolor": "#E5ECF6",
           "showlakes": true,
           "showland": true,
           "subunitcolor": "white"
          },
          "hoverlabel": {
           "align": "left"
          },
          "hovermode": "closest",
          "mapbox": {
           "style": "light"
          },
          "paper_bgcolor": "white",
          "plot_bgcolor": "#E5ECF6",
          "polar": {
           "angularaxis": {
            "gridcolor": "white",
            "linecolor": "white",
            "ticks": ""
           },
           "bgcolor": "#E5ECF6",
           "radialaxis": {
            "gridcolor": "white",
            "linecolor": "white",
            "ticks": ""
           }
          },
          "scene": {
           "xaxis": {
            "backgroundcolor": "#E5ECF6",
            "gridcolor": "white",
            "gridwidth": 2,
            "linecolor": "white",
            "showbackground": true,
            "ticks": "",
            "zerolinecolor": "white"
           },
           "yaxis": {
            "backgroundcolor": "#E5ECF6",
            "gridcolor": "white",
            "gridwidth": 2,
            "linecolor": "white",
            "showbackground": true,
            "ticks": "",
            "zerolinecolor": "white"
           },
           "zaxis": {
            "backgroundcolor": "#E5ECF6",
            "gridcolor": "white",
            "gridwidth": 2,
            "linecolor": "white",
            "showbackground": true,
            "ticks": "",
            "zerolinecolor": "white"
           }
          },
          "shapedefaults": {
           "line": {
            "color": "#2a3f5f"
           }
          },
          "ternary": {
           "aaxis": {
            "gridcolor": "white",
            "linecolor": "white",
            "ticks": ""
           },
           "baxis": {
            "gridcolor": "white",
            "linecolor": "white",
            "ticks": ""
           },
           "bgcolor": "#E5ECF6",
           "caxis": {
            "gridcolor": "white",
            "linecolor": "white",
            "ticks": ""
           }
          },
          "title": {
           "x": 0.05
          },
          "xaxis": {
           "automargin": true,
           "gridcolor": "white",
           "linecolor": "white",
           "ticks": "",
           "title": {
            "standoff": 15
           },
           "zerolinecolor": "white",
           "zerolinewidth": 2
          },
          "yaxis": {
           "automargin": true,
           "gridcolor": "white",
           "linecolor": "white",
           "ticks": "",
           "title": {
            "standoff": 15
           },
           "zerolinecolor": "white",
           "zerolinewidth": 2
          }
         }
        },
        "title": {
         "text": "Total Amount of Conflict Events Amongst<br>Nations Across All Categories 2015-2020"
        },
        "xaxis": {
         "anchor": "y",
         "domain": [
          0,
          1
         ],
         "title": {
          "text": "Nation"
         }
        },
        "yaxis": {
         "anchor": "x",
         "domain": [
          0,
          1
         ],
         "title": {
          "text": "Counts"
         }
        }
       }
      }
     },
     "metadata": {}
    }
   ],
   "source": [
    "acled_conflict_countries = px.bar(acled_countries,x='country',y='count',\n",
    "title='Total Amount of Conflict Events Amongst<br>Nations Across All Categories 2015-2020',labels={'country':'Nation','count':'Counts'})\n",
    "acled_conflict_countries.show()"
   ]
  },
  {
   "cell_type": "code",
   "execution_count": 199,
   "metadata": {},
   "outputs": [
    {
     "output_type": "display_data",
     "data": {
      "application/vnd.plotly.v1+json": {
       "config": {
        "plotlyServerURL": "https://plot.ly"
       },
       "data": [
        {
         "alignmentgroup": "True",
         "hovertemplate": "Conflict Type=Peaceful protest<br>Nation=%{x}<br>Counts=%{y}<extra></extra>",
         "legendgroup": "Peaceful protest",
         "marker": {
          "color": "#636efa"
         },
         "name": "Peaceful protest",
         "offsetgroup": "Peaceful protest",
         "orientation": "v",
         "showlegend": true,
         "textposition": "auto",
         "type": "bar",
         "x": [
          "India",
          "Ukraine",
          "Yemen",
          "Syria",
          "Afghanistan"
         ],
         "xaxis": "x",
         "y": [
          60693,
          4282,
          1772,
          1482,
          555
         ],
         "yaxis": "y"
        },
        {
         "alignmentgroup": "True",
         "hovertemplate": "Conflict Type=Armed clash<br>Nation=%{x}<br>Counts=%{y}<extra></extra>",
         "legendgroup": "Armed clash",
         "marker": {
          "color": "#EF553B"
         },
         "name": "Armed clash",
         "offsetgroup": "Armed clash",
         "orientation": "v",
         "showlegend": true,
         "textposition": "auto",
         "type": "bar",
         "x": [
          "Afghanistan",
          "Ukraine",
          "Syria",
          "Yemen",
          "India"
         ],
         "xaxis": "x",
         "y": [
          32138,
          19531,
          15147,
          13118,
          4789
         ],
         "yaxis": "y"
        },
        {
         "alignmentgroup": "True",
         "hovertemplate": "Conflict Type=Shelling/artillery/missile attack<br>Nation=%{x}<br>Counts=%{y}<extra></extra>",
         "legendgroup": "Shelling/artillery/missile attack",
         "marker": {
          "color": "#00cc96"
         },
         "name": "Shelling/artillery/missile attack",
         "offsetgroup": "Shelling/artillery/missile attack",
         "orientation": "v",
         "showlegend": true,
         "textposition": "auto",
         "type": "bar",
         "x": [
          "Syria",
          "Ukraine",
          "Yemen",
          "Afghanistan",
          "India"
         ],
         "xaxis": "x",
         "y": [
          28727,
          16858,
          12888,
          1966,
          62
         ],
         "yaxis": "y"
        },
        {
         "alignmentgroup": "True",
         "hovertemplate": "Conflict Type=Air/drone strike<br>Nation=%{x}<br>Counts=%{y}<extra></extra>",
         "legendgroup": "Air/drone strike",
         "marker": {
          "color": "#ab63fa"
         },
         "name": "Air/drone strike",
         "offsetgroup": "Air/drone strike",
         "orientation": "v",
         "showlegend": true,
         "textposition": "auto",
         "type": "bar",
         "x": [
          "Syria",
          "Yemen",
          "Afghanistan",
          "Ukraine",
          "India"
         ],
         "xaxis": "x",
         "y": [
          20113,
          16438,
          5030,
          28,
          2
         ],
         "yaxis": "y"
        },
        {
         "alignmentgroup": "True",
         "hovertemplate": "Conflict Type=Mob violence<br>Nation=%{x}<br>Counts=%{y}<extra></extra>",
         "legendgroup": "Mob violence",
         "marker": {
          "color": "#FFA15A"
         },
         "name": "Mob violence",
         "offsetgroup": "Mob violence",
         "orientation": "v",
         "showlegend": true,
         "textposition": "auto",
         "type": "bar",
         "x": [
          "India",
          "Ukraine",
          "Syria",
          "Yemen",
          "Afghanistan"
         ],
         "xaxis": "x",
         "y": [
          8630,
          155,
          37,
          19,
          9
         ],
         "yaxis": "y"
        },
        {
         "alignmentgroup": "True",
         "hovertemplate": "Conflict Type=Remote explosive/landmine/IED<br>Nation=%{x}<br>Counts=%{y}<extra></extra>",
         "legendgroup": "Remote explosive/landmine/IED",
         "marker": {
          "color": "#19d3f3"
         },
         "name": "Remote explosive/landmine/IED",
         "offsetgroup": "Remote explosive/landmine/IED",
         "orientation": "v",
         "showlegend": true,
         "textposition": "auto",
         "type": "bar",
         "x": [
          "Afghanistan",
          "Syria",
          "Yemen",
          "India",
          "Ukraine"
         ],
         "xaxis": "x",
         "y": [
          6855,
          5406,
          2004,
          692,
          262
         ],
         "yaxis": "y"
        },
        {
         "alignmentgroup": "True",
         "hovertemplate": "Conflict Type=Violent demonstration<br>Nation=%{x}<br>Counts=%{y}<extra></extra>",
         "legendgroup": "Violent demonstration",
         "marker": {
          "color": "#FF6692"
         },
         "name": "Violent demonstration",
         "offsetgroup": "Violent demonstration",
         "orientation": "v",
         "showlegend": true,
         "textposition": "auto",
         "type": "bar",
         "x": [
          "India",
          "Ukraine",
          "Yemen",
          "Syria",
          "Afghanistan"
         ],
         "xaxis": "x",
         "y": [
          4933,
          224,
          193,
          75,
          18
         ],
         "yaxis": "y"
        },
        {
         "alignmentgroup": "True",
         "hovertemplate": "Conflict Type=Protest with intervention<br>Nation=%{x}<br>Counts=%{y}<extra></extra>",
         "legendgroup": "Protest with intervention",
         "marker": {
          "color": "#B6E880"
         },
         "name": "Protest with intervention",
         "offsetgroup": "Protest with intervention",
         "orientation": "v",
         "showlegend": true,
         "textposition": "auto",
         "type": "bar",
         "x": [
          "India",
          "Ukraine",
          "Yemen",
          "Syria",
          "Afghanistan"
         ],
         "xaxis": "x",
         "y": [
          4474,
          94,
          41,
          38,
          4
         ],
         "yaxis": "y"
        },
        {
         "alignmentgroup": "True",
         "hovertemplate": "Conflict Type=Attack<br>Nation=%{x}<br>Counts=%{y}<extra></extra>",
         "legendgroup": "Attack",
         "marker": {
          "color": "#FF97FF"
         },
         "name": "Attack",
         "offsetgroup": "Attack",
         "orientation": "v",
         "showlegend": true,
         "textposition": "auto",
         "type": "bar",
         "x": [
          "Syria",
          "India",
          "Yemen",
          "Afghanistan",
          "Ukraine"
         ],
         "xaxis": "x",
         "y": [
          4159,
          3601,
          1723,
          1469,
          307
         ],
         "yaxis": "y"
        },
        {
         "alignmentgroup": "True",
         "hovertemplate": "Conflict Type=Change to group/activity<br>Nation=%{x}<br>Counts=%{y}<extra></extra>",
         "legendgroup": "Change to group/activity",
         "marker": {
          "color": "#FECB52"
         },
         "name": "Change to group/activity",
         "offsetgroup": "Change to group/activity",
         "orientation": "v",
         "showlegend": true,
         "textposition": "auto",
         "type": "bar",
         "x": [
          "Syria",
          "Yemen",
          "Ukraine",
          "Afghanistan",
          "India"
         ],
         "xaxis": "x",
         "y": [
          2528,
          1226,
          312,
          122,
          47
         ],
         "yaxis": "y"
        },
        {
         "alignmentgroup": "True",
         "hovertemplate": "Conflict Type=Government regains territory<br>Nation=%{x}<br>Counts=%{y}<extra></extra>",
         "legendgroup": "Government regains territory",
         "marker": {
          "color": "#636efa"
         },
         "name": "Government regains territory",
         "offsetgroup": "Government regains territory",
         "orientation": "v",
         "showlegend": true,
         "textposition": "auto",
         "type": "bar",
         "x": [
          "Yemen",
          "Syria",
          "Afghanistan",
          "Ukraine",
          "India"
         ],
         "xaxis": "x",
         "y": [
          2344,
          1786,
          384,
          4,
          2
         ],
         "yaxis": "y"
        },
        {
         "alignmentgroup": "True",
         "hovertemplate": "Conflict Type=Non-state actor overtakes territory<br>Nation=%{x}<br>Counts=%{y}<extra></extra>",
         "legendgroup": "Non-state actor overtakes territory",
         "marker": {
          "color": "#EF553B"
         },
         "name": "Non-state actor overtakes territory",
         "offsetgroup": "Non-state actor overtakes territory",
         "orientation": "v",
         "showlegend": true,
         "textposition": "auto",
         "type": "bar",
         "x": [
          "Syria",
          "Afghanistan",
          "Yemen"
         ],
         "xaxis": "x",
         "y": [
          1769,
          512,
          256
         ],
         "yaxis": "y"
        },
        {
         "alignmentgroup": "True",
         "hovertemplate": "Conflict Type=Abduction/forced disappearance<br>Nation=%{x}<br>Counts=%{y}<extra></extra>",
         "legendgroup": "Abduction/forced disappearance",
         "marker": {
          "color": "#00cc96"
         },
         "name": "Abduction/forced disappearance",
         "offsetgroup": "Abduction/forced disappearance",
         "orientation": "v",
         "showlegend": true,
         "textposition": "auto",
         "type": "bar",
         "x": [
          "Syria",
          "Yemen",
          "India",
          "Afghanistan",
          "Ukraine"
         ],
         "xaxis": "x",
         "y": [
          1209,
          365,
          146,
          87,
          8
         ],
         "yaxis": "y"
        },
        {
         "alignmentgroup": "True",
         "hovertemplate": "Conflict Type=Other<br>Nation=%{x}<br>Counts=%{y}<extra></extra>",
         "legendgroup": "Other",
         "marker": {
          "color": "#ab63fa"
         },
         "name": "Other",
         "offsetgroup": "Other",
         "orientation": "v",
         "showlegend": true,
         "textposition": "auto",
         "type": "bar",
         "x": [
          "Syria",
          "Yemen",
          "Afghanistan",
          "India",
          "Ukraine"
         ],
         "xaxis": "x",
         "y": [
          694,
          189,
          54,
          38,
          28
         ],
         "yaxis": "y"
        },
        {
         "alignmentgroup": "True",
         "hovertemplate": "Conflict Type=Disrupted weapons use<br>Nation=%{x}<br>Counts=%{y}<extra></extra>",
         "legendgroup": "Disrupted weapons use",
         "marker": {
          "color": "#FFA15A"
         },
         "name": "Disrupted weapons use",
         "offsetgroup": "Disrupted weapons use",
         "orientation": "v",
         "showlegend": true,
         "textposition": "auto",
         "type": "bar",
         "x": [
          "Afghanistan",
          "Yemen",
          "India",
          "Syria",
          "Ukraine"
         ],
         "xaxis": "x",
         "y": [
          585,
          551,
          431,
          332,
          204
         ],
         "yaxis": "y"
        },
        {
         "alignmentgroup": "True",
         "hovertemplate": "Conflict Type=Looting/property destruction<br>Nation=%{x}<br>Counts=%{y}<extra></extra>",
         "legendgroup": "Looting/property destruction",
         "marker": {
          "color": "#19d3f3"
         },
         "name": "Looting/property destruction",
         "offsetgroup": "Looting/property destruction",
         "orientation": "v",
         "showlegend": true,
         "textposition": "auto",
         "type": "bar",
         "x": [
          "Syria",
          "Yemen",
          "India",
          "Afghanistan",
          "Ukraine"
         ],
         "xaxis": "x",
         "y": [
          541,
          394,
          302,
          200,
          195
         ],
         "yaxis": "y"
        },
        {
         "alignmentgroup": "True",
         "hovertemplate": "Conflict Type=Non-violent transfer of territory<br>Nation=%{x}<br>Counts=%{y}<extra></extra>",
         "legendgroup": "Non-violent transfer of territory",
         "marker": {
          "color": "#FF6692"
         },
         "name": "Non-violent transfer of territory",
         "offsetgroup": "Non-violent transfer of territory",
         "orientation": "v",
         "showlegend": true,
         "textposition": "auto",
         "type": "bar",
         "x": [
          "Syria",
          "Yemen",
          "Afghanistan",
          "Ukraine",
          "India"
         ],
         "xaxis": "x",
         "y": [
          439,
          136,
          72,
          4,
          1
         ],
         "yaxis": "y"
        },
        {
         "alignmentgroup": "True",
         "hovertemplate": "Conflict Type=Arrests<br>Nation=%{x}<br>Counts=%{y}<extra></extra>",
         "legendgroup": "Arrests",
         "marker": {
          "color": "#B6E880"
         },
         "name": "Arrests",
         "offsetgroup": "Arrests",
         "orientation": "v",
         "showlegend": true,
         "textposition": "auto",
         "type": "bar",
         "x": [
          "Syria",
          "Yemen",
          "India",
          "Ukraine",
          "Afghanistan"
         ],
         "xaxis": "x",
         "y": [
          438,
          166,
          159,
          34,
          29
         ],
         "yaxis": "y"
        },
        {
         "alignmentgroup": "True",
         "hovertemplate": "Conflict Type=Grenade<br>Nation=%{x}<br>Counts=%{y}<extra></extra>",
         "legendgroup": "Grenade",
         "marker": {
          "color": "#FF97FF"
         },
         "name": "Grenade",
         "offsetgroup": "Grenade",
         "orientation": "v",
         "showlegend": true,
         "textposition": "auto",
         "type": "bar",
         "x": [
          "India",
          "Syria",
          "Yemen",
          "Afghanistan",
          "Ukraine"
         ],
         "xaxis": "x",
         "y": [
          346,
          163,
          118,
          81,
          77
         ],
         "yaxis": "y"
        },
        {
         "alignmentgroup": "True",
         "hovertemplate": "Conflict Type=Suicide bomb<br>Nation=%{x}<br>Counts=%{y}<extra></extra>",
         "legendgroup": "Suicide bomb",
         "marker": {
          "color": "#FECB52"
         },
         "name": "Suicide bomb",
         "offsetgroup": "Suicide bomb",
         "orientation": "v",
         "showlegend": true,
         "textposition": "auto",
         "type": "bar",
         "x": [
          "Afghanistan",
          "Syria",
          "Yemen",
          "India",
          "Ukraine"
         ],
         "xaxis": "x",
         "y": [
          246,
          153,
          51,
          3,
          3
         ],
         "yaxis": "y"
        },
        {
         "alignmentgroup": "True",
         "hovertemplate": "Conflict Type=Agreement<br>Nation=%{x}<br>Counts=%{y}<extra></extra>",
         "legendgroup": "Agreement",
         "marker": {
          "color": "#636efa"
         },
         "name": "Agreement",
         "offsetgroup": "Agreement",
         "orientation": "v",
         "showlegend": true,
         "textposition": "auto",
         "type": "bar",
         "x": [
          "Syria",
          "Afghanistan",
          "Yemen",
          "India",
          "Ukraine"
         ],
         "xaxis": "x",
         "y": [
          239,
          121,
          111,
          33,
          14
         ],
         "yaxis": "y"
        },
        {
         "alignmentgroup": "True",
         "hovertemplate": "Conflict Type=Headquarters or base established<br>Nation=%{x}<br>Counts=%{y}<extra></extra>",
         "legendgroup": "Headquarters or base established",
         "marker": {
          "color": "#EF553B"
         },
         "name": "Headquarters or base established",
         "offsetgroup": "Headquarters or base established",
         "orientation": "v",
         "showlegend": true,
         "textposition": "auto",
         "type": "bar",
         "x": [
          "Syria",
          "Yemen",
          "Afghanistan",
          "Ukraine",
          "India"
         ],
         "xaxis": "x",
         "y": [
          212,
          53,
          3,
          2,
          1
         ],
         "yaxis": "y"
        },
        {
         "alignmentgroup": "True",
         "hovertemplate": "Conflict Type=Excessive force against protesters<br>Nation=%{x}<br>Counts=%{y}<extra></extra>",
         "legendgroup": "Excessive force against protesters",
         "marker": {
          "color": "#00cc96"
         },
         "name": "Excessive force against protesters",
         "offsetgroup": "Excessive force against protesters",
         "orientation": "v",
         "showlegend": true,
         "textposition": "auto",
         "type": "bar",
         "x": [
          "India",
          "Syria",
          "Yemen",
          "Afghanistan",
          "Ukraine"
         ],
         "xaxis": "x",
         "y": [
          194,
          62,
          49,
          12,
          2
         ],
         "yaxis": "y"
        },
        {
         "alignmentgroup": "True",
         "hovertemplate": "Conflict Type=Sexual violence<br>Nation=%{x}<br>Counts=%{y}<extra></extra>",
         "legendgroup": "Sexual violence",
         "marker": {
          "color": "#ab63fa"
         },
         "name": "Sexual violence",
         "offsetgroup": "Sexual violence",
         "orientation": "v",
         "showlegend": true,
         "textposition": "auto",
         "type": "bar",
         "x": [
          "India",
          "Yemen",
          "Ukraine",
          "Afghanistan",
          "Syria"
         ],
         "xaxis": "x",
         "y": [
          89,
          19,
          12,
          10,
          8
         ],
         "yaxis": "y"
        },
        {
         "alignmentgroup": "True",
         "hovertemplate": "Conflict Type=Chemical weapon<br>Nation=%{x}<br>Counts=%{y}<extra></extra>",
         "legendgroup": "Chemical weapon",
         "marker": {
          "color": "#FFA15A"
         },
         "name": "Chemical weapon",
         "offsetgroup": "Chemical weapon",
         "orientation": "v",
         "showlegend": true,
         "textposition": "auto",
         "type": "bar",
         "x": [
          "Syria",
          "Yemen"
         ],
         "xaxis": "x",
         "y": [
          58,
          1
         ],
         "yaxis": "y"
        }
       ],
       "layout": {
        "barmode": "relative",
        "legend": {
         "title": {
          "text": "Conflict Type"
         },
         "tracegroupgap": 0
        },
        "template": {
         "data": {
          "bar": [
           {
            "error_x": {
             "color": "#2a3f5f"
            },
            "error_y": {
             "color": "#2a3f5f"
            },
            "marker": {
             "line": {
              "color": "#E5ECF6",
              "width": 0.5
             }
            },
            "type": "bar"
           }
          ],
          "barpolar": [
           {
            "marker": {
             "line": {
              "color": "#E5ECF6",
              "width": 0.5
             }
            },
            "type": "barpolar"
           }
          ],
          "carpet": [
           {
            "aaxis": {
             "endlinecolor": "#2a3f5f",
             "gridcolor": "white",
             "linecolor": "white",
             "minorgridcolor": "white",
             "startlinecolor": "#2a3f5f"
            },
            "baxis": {
             "endlinecolor": "#2a3f5f",
             "gridcolor": "white",
             "linecolor": "white",
             "minorgridcolor": "white",
             "startlinecolor": "#2a3f5f"
            },
            "type": "carpet"
           }
          ],
          "choropleth": [
           {
            "colorbar": {
             "outlinewidth": 0,
             "ticks": ""
            },
            "type": "choropleth"
           }
          ],
          "contour": [
           {
            "colorbar": {
             "outlinewidth": 0,
             "ticks": ""
            },
            "colorscale": [
             [
              0,
              "#0d0887"
             ],
             [
              0.1111111111111111,
              "#46039f"
             ],
             [
              0.2222222222222222,
              "#7201a8"
             ],
             [
              0.3333333333333333,
              "#9c179e"
             ],
             [
              0.4444444444444444,
              "#bd3786"
             ],
             [
              0.5555555555555556,
              "#d8576b"
             ],
             [
              0.6666666666666666,
              "#ed7953"
             ],
             [
              0.7777777777777778,
              "#fb9f3a"
             ],
             [
              0.8888888888888888,
              "#fdca26"
             ],
             [
              1,
              "#f0f921"
             ]
            ],
            "type": "contour"
           }
          ],
          "contourcarpet": [
           {
            "colorbar": {
             "outlinewidth": 0,
             "ticks": ""
            },
            "type": "contourcarpet"
           }
          ],
          "heatmap": [
           {
            "colorbar": {
             "outlinewidth": 0,
             "ticks": ""
            },
            "colorscale": [
             [
              0,
              "#0d0887"
             ],
             [
              0.1111111111111111,
              "#46039f"
             ],
             [
              0.2222222222222222,
              "#7201a8"
             ],
             [
              0.3333333333333333,
              "#9c179e"
             ],
             [
              0.4444444444444444,
              "#bd3786"
             ],
             [
              0.5555555555555556,
              "#d8576b"
             ],
             [
              0.6666666666666666,
              "#ed7953"
             ],
             [
              0.7777777777777778,
              "#fb9f3a"
             ],
             [
              0.8888888888888888,
              "#fdca26"
             ],
             [
              1,
              "#f0f921"
             ]
            ],
            "type": "heatmap"
           }
          ],
          "heatmapgl": [
           {
            "colorbar": {
             "outlinewidth": 0,
             "ticks": ""
            },
            "colorscale": [
             [
              0,
              "#0d0887"
             ],
             [
              0.1111111111111111,
              "#46039f"
             ],
             [
              0.2222222222222222,
              "#7201a8"
             ],
             [
              0.3333333333333333,
              "#9c179e"
             ],
             [
              0.4444444444444444,
              "#bd3786"
             ],
             [
              0.5555555555555556,
              "#d8576b"
             ],
             [
              0.6666666666666666,
              "#ed7953"
             ],
             [
              0.7777777777777778,
              "#fb9f3a"
             ],
             [
              0.8888888888888888,
              "#fdca26"
             ],
             [
              1,
              "#f0f921"
             ]
            ],
            "type": "heatmapgl"
           }
          ],
          "histogram": [
           {
            "marker": {
             "colorbar": {
              "outlinewidth": 0,
              "ticks": ""
             }
            },
            "type": "histogram"
           }
          ],
          "histogram2d": [
           {
            "colorbar": {
             "outlinewidth": 0,
             "ticks": ""
            },
            "colorscale": [
             [
              0,
              "#0d0887"
             ],
             [
              0.1111111111111111,
              "#46039f"
             ],
             [
              0.2222222222222222,
              "#7201a8"
             ],
             [
              0.3333333333333333,
              "#9c179e"
             ],
             [
              0.4444444444444444,
              "#bd3786"
             ],
             [
              0.5555555555555556,
              "#d8576b"
             ],
             [
              0.6666666666666666,
              "#ed7953"
             ],
             [
              0.7777777777777778,
              "#fb9f3a"
             ],
             [
              0.8888888888888888,
              "#fdca26"
             ],
             [
              1,
              "#f0f921"
             ]
            ],
            "type": "histogram2d"
           }
          ],
          "histogram2dcontour": [
           {
            "colorbar": {
             "outlinewidth": 0,
             "ticks": ""
            },
            "colorscale": [
             [
              0,
              "#0d0887"
             ],
             [
              0.1111111111111111,
              "#46039f"
             ],
             [
              0.2222222222222222,
              "#7201a8"
             ],
             [
              0.3333333333333333,
              "#9c179e"
             ],
             [
              0.4444444444444444,
              "#bd3786"
             ],
             [
              0.5555555555555556,
              "#d8576b"
             ],
             [
              0.6666666666666666,
              "#ed7953"
             ],
             [
              0.7777777777777778,
              "#fb9f3a"
             ],
             [
              0.8888888888888888,
              "#fdca26"
             ],
             [
              1,
              "#f0f921"
             ]
            ],
            "type": "histogram2dcontour"
           }
          ],
          "mesh3d": [
           {
            "colorbar": {
             "outlinewidth": 0,
             "ticks": ""
            },
            "type": "mesh3d"
           }
          ],
          "parcoords": [
           {
            "line": {
             "colorbar": {
              "outlinewidth": 0,
              "ticks": ""
             }
            },
            "type": "parcoords"
           }
          ],
          "pie": [
           {
            "automargin": true,
            "type": "pie"
           }
          ],
          "scatter": [
           {
            "marker": {
             "colorbar": {
              "outlinewidth": 0,
              "ticks": ""
             }
            },
            "type": "scatter"
           }
          ],
          "scatter3d": [
           {
            "line": {
             "colorbar": {
              "outlinewidth": 0,
              "ticks": ""
             }
            },
            "marker": {
             "colorbar": {
              "outlinewidth": 0,
              "ticks": ""
             }
            },
            "type": "scatter3d"
           }
          ],
          "scattercarpet": [
           {
            "marker": {
             "colorbar": {
              "outlinewidth": 0,
              "ticks": ""
             }
            },
            "type": "scattercarpet"
           }
          ],
          "scattergeo": [
           {
            "marker": {
             "colorbar": {
              "outlinewidth": 0,
              "ticks": ""
             }
            },
            "type": "scattergeo"
           }
          ],
          "scattergl": [
           {
            "marker": {
             "colorbar": {
              "outlinewidth": 0,
              "ticks": ""
             }
            },
            "type": "scattergl"
           }
          ],
          "scattermapbox": [
           {
            "marker": {
             "colorbar": {
              "outlinewidth": 0,
              "ticks": ""
             }
            },
            "type": "scattermapbox"
           }
          ],
          "scatterpolar": [
           {
            "marker": {
             "colorbar": {
              "outlinewidth": 0,
              "ticks": ""
             }
            },
            "type": "scatterpolar"
           }
          ],
          "scatterpolargl": [
           {
            "marker": {
             "colorbar": {
              "outlinewidth": 0,
              "ticks": ""
             }
            },
            "type": "scatterpolargl"
           }
          ],
          "scatterternary": [
           {
            "marker": {
             "colorbar": {
              "outlinewidth": 0,
              "ticks": ""
             }
            },
            "type": "scatterternary"
           }
          ],
          "surface": [
           {
            "colorbar": {
             "outlinewidth": 0,
             "ticks": ""
            },
            "colorscale": [
             [
              0,
              "#0d0887"
             ],
             [
              0.1111111111111111,
              "#46039f"
             ],
             [
              0.2222222222222222,
              "#7201a8"
             ],
             [
              0.3333333333333333,
              "#9c179e"
             ],
             [
              0.4444444444444444,
              "#bd3786"
             ],
             [
              0.5555555555555556,
              "#d8576b"
             ],
             [
              0.6666666666666666,
              "#ed7953"
             ],
             [
              0.7777777777777778,
              "#fb9f3a"
             ],
             [
              0.8888888888888888,
              "#fdca26"
             ],
             [
              1,
              "#f0f921"
             ]
            ],
            "type": "surface"
           }
          ],
          "table": [
           {
            "cells": {
             "fill": {
              "color": "#EBF0F8"
             },
             "line": {
              "color": "white"
             }
            },
            "header": {
             "fill": {
              "color": "#C8D4E3"
             },
             "line": {
              "color": "white"
             }
            },
            "type": "table"
           }
          ]
         },
         "layout": {
          "annotationdefaults": {
           "arrowcolor": "#2a3f5f",
           "arrowhead": 0,
           "arrowwidth": 1
          },
          "autotypenumbers": "strict",
          "coloraxis": {
           "colorbar": {
            "outlinewidth": 0,
            "ticks": ""
           }
          },
          "colorscale": {
           "diverging": [
            [
             0,
             "#8e0152"
            ],
            [
             0.1,
             "#c51b7d"
            ],
            [
             0.2,
             "#de77ae"
            ],
            [
             0.3,
             "#f1b6da"
            ],
            [
             0.4,
             "#fde0ef"
            ],
            [
             0.5,
             "#f7f7f7"
            ],
            [
             0.6,
             "#e6f5d0"
            ],
            [
             0.7,
             "#b8e186"
            ],
            [
             0.8,
             "#7fbc41"
            ],
            [
             0.9,
             "#4d9221"
            ],
            [
             1,
             "#276419"
            ]
           ],
           "sequential": [
            [
             0,
             "#0d0887"
            ],
            [
             0.1111111111111111,
             "#46039f"
            ],
            [
             0.2222222222222222,
             "#7201a8"
            ],
            [
             0.3333333333333333,
             "#9c179e"
            ],
            [
             0.4444444444444444,
             "#bd3786"
            ],
            [
             0.5555555555555556,
             "#d8576b"
            ],
            [
             0.6666666666666666,
             "#ed7953"
            ],
            [
             0.7777777777777778,
             "#fb9f3a"
            ],
            [
             0.8888888888888888,
             "#fdca26"
            ],
            [
             1,
             "#f0f921"
            ]
           ],
           "sequentialminus": [
            [
             0,
             "#0d0887"
            ],
            [
             0.1111111111111111,
             "#46039f"
            ],
            [
             0.2222222222222222,
             "#7201a8"
            ],
            [
             0.3333333333333333,
             "#9c179e"
            ],
            [
             0.4444444444444444,
             "#bd3786"
            ],
            [
             0.5555555555555556,
             "#d8576b"
            ],
            [
             0.6666666666666666,
             "#ed7953"
            ],
            [
             0.7777777777777778,
             "#fb9f3a"
            ],
            [
             0.8888888888888888,
             "#fdca26"
            ],
            [
             1,
             "#f0f921"
            ]
           ]
          },
          "colorway": [
           "#636efa",
           "#EF553B",
           "#00cc96",
           "#ab63fa",
           "#FFA15A",
           "#19d3f3",
           "#FF6692",
           "#B6E880",
           "#FF97FF",
           "#FECB52"
          ],
          "font": {
           "color": "#2a3f5f"
          },
          "geo": {
           "bgcolor": "white",
           "lakecolor": "white",
           "landcolor": "#E5ECF6",
           "showlakes": true,
           "showland": true,
           "subunitcolor": "white"
          },
          "hoverlabel": {
           "align": "left"
          },
          "hovermode": "closest",
          "mapbox": {
           "style": "light"
          },
          "paper_bgcolor": "white",
          "plot_bgcolor": "#E5ECF6",
          "polar": {
           "angularaxis": {
            "gridcolor": "white",
            "linecolor": "white",
            "ticks": ""
           },
           "bgcolor": "#E5ECF6",
           "radialaxis": {
            "gridcolor": "white",
            "linecolor": "white",
            "ticks": ""
           }
          },
          "scene": {
           "xaxis": {
            "backgroundcolor": "#E5ECF6",
            "gridcolor": "white",
            "gridwidth": 2,
            "linecolor": "white",
            "showbackground": true,
            "ticks": "",
            "zerolinecolor": "white"
           },
           "yaxis": {
            "backgroundcolor": "#E5ECF6",
            "gridcolor": "white",
            "gridwidth": 2,
            "linecolor": "white",
            "showbackground": true,
            "ticks": "",
            "zerolinecolor": "white"
           },
           "zaxis": {
            "backgroundcolor": "#E5ECF6",
            "gridcolor": "white",
            "gridwidth": 2,
            "linecolor": "white",
            "showbackground": true,
            "ticks": "",
            "zerolinecolor": "white"
           }
          },
          "shapedefaults": {
           "line": {
            "color": "#2a3f5f"
           }
          },
          "ternary": {
           "aaxis": {
            "gridcolor": "white",
            "linecolor": "white",
            "ticks": ""
           },
           "baxis": {
            "gridcolor": "white",
            "linecolor": "white",
            "ticks": ""
           },
           "bgcolor": "#E5ECF6",
           "caxis": {
            "gridcolor": "white",
            "linecolor": "white",
            "ticks": ""
           }
          },
          "title": {
           "x": 0.05
          },
          "xaxis": {
           "automargin": true,
           "gridcolor": "white",
           "linecolor": "white",
           "ticks": "",
           "title": {
            "standoff": 15
           },
           "zerolinecolor": "white",
           "zerolinewidth": 2
          },
          "yaxis": {
           "automargin": true,
           "gridcolor": "white",
           "linecolor": "white",
           "ticks": "",
           "title": {
            "standoff": 15
           },
           "zerolinecolor": "white",
           "zerolinewidth": 2
          }
         }
        },
        "title": {
         "text": "Type of Conflict For Top 5 Nations With Most Conflict 2015-2020"
        },
        "xaxis": {
         "anchor": "y",
         "categoryarray": [
          "India",
          "Syria",
          "Yemen",
          "Afghanistan",
          "Ukraine"
         ],
         "categoryorder": "array",
         "domain": [
          0,
          1
         ],
         "title": {
          "text": "Nation"
         }
        },
        "yaxis": {
         "anchor": "x",
         "domain": [
          0,
          1
         ],
         "title": {
          "text": "Counts"
         }
        }
       }
      }
     },
     "metadata": {}
    }
   ],
   "source": [
    "acled_conflict_countries = px.bar(acled_countries.query('country==\"India\"|country==\"Syria\"|country==\"Ukraine\"|country==\"Yemen\"|country==\"Afghanistan\"'),x='country',y='count',color='sub_event_type',\n",
    "title='Type of Conflict For Top 5 Nations With Most Conflict 2015-2020',\n",
    "labels={'country':'Nation','count':'Counts', 'sub_event_type':'Conflict Type'},\n",
    "category_orders={'country':['India','Syria','Yemen','Afghanistan','Ukraine']})\n",
    "acled_conflict_countries.show()"
   ]
  },
  {
   "cell_type": "code",
   "execution_count": 227,
   "metadata": {},
   "outputs": [
    {
     "output_type": "display_data",
     "data": {
      "application/vnd.plotly.v1+json": {
       "config": {
        "plotlyServerURL": "https://plot.ly"
       },
       "data": [
        {
         "alignmentgroup": "True",
         "hovertemplate": "Nation or Non-State Actor=%{x}<br>Amount of Purchases=%{y}<extra></extra>",
         "legendgroup": "",
         "marker": {
          "color": "#636efa"
         },
         "name": "",
         "offsetgroup": "",
         "orientation": "v",
         "showlegend": false,
         "textposition": "auto",
         "type": "bar",
         "x": [
          "Saudi Arabia",
          "United Arab Emirates",
          "Afghanistan",
          "United Arab Emirates",
          "Qatar",
          "Israel",
          "United States",
          "Switzerland",
          "Lebanon",
          "Netherlands",
          "India",
          "South Korea",
          "Morocco",
          "Algeria",
          "United Kingdom",
          "Israel",
          "Turkey",
          "Qatar",
          "Azerbaijan",
          "Jordan",
          "Turkey",
          "India",
          "Belgium",
          "Jordan",
          "Lebanon",
          "Malaysia",
          "Qatar",
          "Australia",
          "South Korea",
          "Singapore",
          "Finland",
          "Morocco",
          "Bahrain",
          "Taiwan",
          "NATO**",
          "Georgia",
          "Turkey",
          "United Arab Emirates",
          "Netherlands",
          "Ukraine",
          "Australia",
          "Azerbaijan",
          "India",
          "Qatar",
          "Egypt",
          "Jordan",
          "Qatar",
          "Egypt",
          "Azerbaijan",
          "Kuwait",
          "Poland",
          "India",
          "Bahrain",
          "Japan",
          "Afghanistan",
          "Unknown recipient(s)",
          "Singapore",
          "Taiwan",
          "India",
          "United States",
          "Lithuania",
          "Finland",
          "United Arab Emirates",
          "Germany",
          "Syria",
          "Armenia",
          "Lithuania",
          "Oman",
          "Indonesia",
          "Denmark",
          "Romania",
          "Armenia",
          "Lithuania",
          "Netherlands",
          "Mali",
          "Saudi Arabia",
          "Qatar",
          "Philippines",
          "Serbia",
          "Lebanon",
          "Thailand",
          "Denmark",
          "Iraq",
          "Jordan",
          "Botswana",
          "United Arab Emirates",
          "Philippines",
          "Saudi Arabia",
          "Egypt",
          "Estonia",
          "Portugal",
          "China",
          "Turkey",
          "Algeria",
          "Mali",
          "Afghanistan",
          "Oman",
          "Albania",
          "Indonesia",
          "Saudi Arabia",
          "Saudi Arabia",
          "India",
          "United Arab Emirates",
          "Saudi Arabia",
          "Ethiopia",
          "India",
          "India",
          "Croatia",
          "Latvia",
          "Belarus",
          "Azerbaijan",
          "Philippines",
          "Armenia",
          "Syria",
          "Netherlands",
          "Ukraine",
          "Kazakhstan",
          "Saudi Arabia",
          "Tunisia",
          "Chad",
          "Thailand",
          "Austria",
          "South Korea",
          "Saudi Arabia",
          "Tunisia",
          "Saudi Arabia",
          "United States",
          "Iraq",
          "Czech Republic",
          "Jordan",
          "Australia",
          "Angola",
          "Laos",
          "Thailand",
          "Indonesia",
          "Iraq",
          "Yemen",
          "Senegal",
          "Pakistan",
          "Jordan",
          "United States",
          "Somalia",
          "Bangladesh",
          "South Korea",
          "Vietnam",
          "Saudi Arabia",
          "Egypt",
          "Uzbekistan",
          "Singapore",
          "Burkina Faso",
          "Singapore",
          "Greece",
          "Poland",
          "Ukraine",
          "Morocco",
          "Djibouti",
          "Ukraine",
          "Indonesia",
          "Uganda",
          "Afghanistan",
          "Indonesia",
          "United States",
          "Kuwait",
          "Italy",
          "Government of Libya (2014-) House of Representatives",
          "Rwanda",
          "Latvia",
          "Azerbaijan",
          "Laos",
          "Serbia",
          "Botswana",
          "United Arab Emirates",
          "Yemen",
          "Azerbaijan",
          "Namibia",
          "Thailand",
          "Poland",
          "United Arab Emirates",
          "Bangladesh",
          "Turkmenistan",
          "Brazil",
          "Czech Republic",
          "Israel",
          "Saudi Arabia",
          "Chile",
          "Singapore",
          "Qatar",
          "Thailand",
          "Turkey",
          "Latvia",
          "Rwanda",
          "Egypt",
          "Senegal",
          "Chile",
          "Lithuania",
          "Government of Libya (2014-) House of Representatives",
          "Pakistan",
          "Kazakhstan",
          "United Arab Emirates",
          "Belarus",
          "Brazil",
          "Albania",
          "Cameroon",
          "Taiwan",
          "Azerbaijan",
          "Saudi Arabia",
          "Belarus",
          "Lebanon",
          "Pakistan",
          "United Kingdom",
          "Mali",
          "Ukraine",
          "Iraq",
          "Unknown recipient(s)",
          "Afghanistan",
          "Nigeria",
          "Brazil",
          "Denmark",
          "Syria",
          "Angola",
          "Niger",
          "Nigeria",
          "Saudi Arabia",
          "Uzbekistan",
          "Austria",
          "Thailand",
          "Mali",
          "Austria",
          "Iraq",
          "Lebanon",
          "Mexico",
          "Bangladesh",
          "Romania",
          "Bangladesh",
          "Ghana",
          "Serbia",
          "Bangladesh",
          "Norway",
          "Romania",
          "South Korea",
          "Burkina Faso",
          "Laos",
          "Estonia",
          "Brazil",
          "Uganda",
          "Angola",
          "India",
          "Jordan",
          "Japan",
          "Finland",
          "Indonesia",
          "Philippines",
          "Azerbaijan",
          "Lebanon",
          "Syria",
          "Egypt",
          "Senegal",
          "Ireland",
          "Italy",
          "Kazakhstan",
          "Indonesia",
          "Kenya",
          "Pakistan",
          "Pakistan",
          "El Salvador",
          "Norway",
          "Qatar",
          "Saudi Arabia",
          "Qatar",
          "Azerbaijan",
          "Uzbekistan",
          "Tunisia",
          "Saudi Arabia",
          "Japan",
          "Cyprus",
          "Botswana",
          "Saudi Arabia",
          "Botswana",
          "Egypt",
          "Thailand",
          "Unidentified Armed Group (Syria)",
          "Lithuania",
          "Burundi",
          "Myanmar",
          "Greece",
          "Saudi Arabia",
          "Bosnia and Herzegovina",
          "Central African Republic",
          "Niger",
          "Tajikistan",
          "Czech Republic",
          "Australia",
          "Cambodia",
          "Philippines",
          "Czech Republic",
          "Romania",
          "Czech Republic",
          "Egypt",
          "Laos",
          "Gabon",
          "Malaysia",
          "Romania",
          "Colombia",
          "Algeria",
          "Hungary",
          "Morocco",
          "Bangladesh",
          "Algeria",
          "Finland",
          "France",
          "Indonesia",
          "France",
          "Denmark",
          "Qatar",
          "Laos",
          "India",
          "Croatia",
          "Romania",
          "Tajikistan",
          "Nigeria",
          "United Arab Emirates",
          "Finland",
          "Greece",
          "Uganda",
          "Senegal",
          "Argentina",
          "Lithuania",
          "Kenya",
          "United Kingdom",
          "Myanmar",
          "Netherlands",
          "Kuwait",
          "Thailand",
          "Egypt",
          "Niger",
          "Colombia",
          "Ivory Coast",
          "Niger",
          "Government of Libya (2014-) General National Congress",
          "India",
          "Government of Libya (2014-) General National Congress",
          "Turkmenistan",
          "Government of Libya (2014-) General National Congress",
          "Somalia",
          "Kenya",
          "Hungary",
          "Turkey",
          "Jordan",
          "Azerbaijan",
          "Philippines",
          "Argentina",
          "United States",
          "Taiwan",
          "India",
          "Kenya",
          "Somalia",
          "Philippines",
          "Argentina",
          "Angola",
          "India",
          "Tunisia",
          "Tanzania",
          "Jordan",
          "Romania",
          "Central African Republic",
          "Laos",
          "Jordan",
          "Greece",
          "Indonesia",
          "Serbia",
          "Thailand",
          "Thailand",
          "Belarus",
          "Canada",
          "Azerbaijan",
          "Chile",
          "Unknown recipient(s)",
          "Nigeria",
          "Bolivia",
          "Kenya",
          "Denmark",
          "Japan",
          "Australia",
          "African Union**",
          "India",
          "Palestine",
          "Azerbaijan",
          "Cyprus",
          "Romania",
          "Azerbaijan",
          "Fiji",
          "Myanmar",
          "United Arab Emirates",
          "Algeria",
          "Algeria",
          "Algeria",
          "Chile",
          "Brazil",
          "Algeria",
          "Hungary",
          "Australia",
          "Kuwait",
          "Syria",
          "Vietnam",
          "Egypt",
          "Uganda",
          "Indonesia",
          "African Union**",
          "Saudi Arabia",
          "Bahrain",
          "Finland",
          "Serbia",
          "Israel",
          "Kyrgyzstan",
          "Belgium",
          "Saudi Arabia",
          "Bolivia",
          "Tajikistan",
          "Malaysia",
          "France",
          "Serbia",
          "Jordan",
          "Nigeria",
          "South Korea",
          "Philippines",
          "Argentina",
          "Australia",
          "South Korea",
          "Ivory Coast",
          "Namibia",
          "Poland",
          "Taiwan",
          "Finland",
          "Ecuador",
          "Thailand",
          "Thailand",
          "India",
          "Kazakhstan",
          "Qatar",
          "Cyprus",
          "Egypt",
          "Thailand",
          "Indonesia",
          "Netherlands",
          "Canada",
          "Qatar",
          "Argentina",
          "India",
          "Afghanistan",
          "Philippines",
          "Malaysia",
          "Kazakhstan",
          "Kuwait",
          "Croatia",
          "Uzbekistan",
          "Netherlands",
          "Uganda",
          "Ivory Coast",
          "Ecuador",
          "China",
          "Peru",
          "Peru",
          "Thailand",
          "Chile",
          "Chad",
          "Philippines",
          "Bangladesh",
          "Mauritania",
          "Mauritania",
          "Bangladesh",
          "Jamaica",
          "Chad",
          "Madagascar",
          "Mexico",
          "Armenia",
          "Syria",
          "Afghanistan",
          "Laos",
          "Senegal",
          "Taiwan",
          "United Arab Emirates",
          "Saudi Arabia",
          "Turkey",
          "Philippines",
          "Serbia",
          "Burkina Faso",
          "Norway",
          "Singapore",
          "Sudan",
          "Kosovo",
          "New Zealand",
          "Bangladesh",
          "Philippines",
          "Bahrain",
          "Denmark",
          "Lebanon",
          "Zambia",
          "Egypt",
          "Malaysia",
          "Nigeria",
          "Qatar",
          "Bahrain",
          "Ethiopia",
          "Spain",
          "Afghanistan",
          "Ukraine",
          "Kenya",
          "Djibouti",
          "Morocco",
          "Serbia",
          "Sudan",
          "Kyrgyzstan",
          "Senegal",
          "Mexico",
          "Nigeria",
          "Myanmar",
          "Sri Lanka",
          "Darfur rebels (Sudan)*",
          "Senegal",
          "Germany",
          "Poland",
          "Democratic Republic of Congo",
          "Nigeria",
          "Pakistan",
          "Angola",
          "Singapore",
          "Myanmar",
          "Guatemala",
          "Bolivia",
          "Tunisia",
          "Argentina",
          "Darfur rebels (Sudan)*",
          "United Kingdom",
          "Portugal",
          "Montenegro",
          "Ivory Coast",
          "Government of Libya (2014-) House of Representatives",
          "United Arab Emirates",
          "Azerbaijan",
          "Thailand",
          "United Kingdom",
          "Togo",
          "Bangladesh",
          "Egypt",
          "Uganda",
          "United Arab Emirates",
          "Yemen",
          "Nigeria",
          "United Arab Emirates",
          "France",
          "Darfur rebels (Sudan)*",
          "Nigeria",
          "Belarus",
          "Greece",
          "Poland",
          "New Zealand",
          "Cyprus",
          "Czech Republic",
          "Tunisia",
          "Brazil",
          "Pakistan",
          "Guyana",
          "Unknown recipient(s)",
          "Spain",
          "Papua New Guinea",
          "Laos",
          "Unknown recipient(s)",
          "Jamaica",
          "Pakistan",
          "France",
          "Czech Republic",
          "Kazakhstan",
          "Netherlands",
          "Denmark",
          "Myanmar",
          "Pakistan",
          "Ethiopia",
          "Spain",
          "Algeria",
          "South Korea",
          "Tunisia",
          "Belarus",
          "Qatar",
          "Tanzania",
          "Thailand",
          "Kyrgyzstan",
          "Thailand",
          "Afghanistan",
          "Nigeria",
          "Tajikistan",
          "Bangladesh",
          "Angola",
          "Ireland",
          "Jordan",
          "Pakistan",
          "Romania",
          "Argentina",
          "Jordan",
          "Philippines",
          "Poland",
          "Sudan",
          "Armenia",
          "Senegal",
          "France",
          "Uruguay",
          "Ethiopia",
          "Indonesia",
          "Chile",
          "Serbia",
          "Japan",
          "France",
          "Australia",
          "Unknown recipient(s)",
          "Kazakhstan",
          "Tajikistan",
          "Liberia",
          "Ivory Coast",
          "Australia",
          "Canada",
          "Estonia",
          "Senegal",
          "Angola",
          "Canada",
          "Kenya",
          "Uzbekistan",
          "Brazil",
          "United Kingdom",
          "Germany",
          "Tajikistan",
          "Syria",
          "Lesotho",
          "Kazakhstan",
          "Mali",
          "United Arab Emirates",
          "Tanzania",
          "Mali",
          "Kenya",
          "Madagascar",
          "Ukraine",
          "Uruguay",
          "Rwanda",
          "NATO**",
          "Argentina",
          "Tunisia",
          "Serbia",
          "Indonesia",
          "Iraq",
          "Laos",
          "Kenya",
          "Philippines",
          "Montenegro",
          "Thailand",
          "African Union**",
          "Western Sahara",
          "Tajikistan",
          "Italy",
          "India",
          "Democratic Republic of Congo",
          "Benin",
          "Mali",
          "Tajikistan",
          "Botswana",
          "Lebanon",
          "Panama",
          "Bahrain",
          "Government of Libya (2014-) House of Representatives",
          "Hungary",
          "Cameroon",
          "Uruguay",
          "Ireland",
          "Bangladesh",
          "France",
          "Estonia",
          "Jordan",
          "Uganda",
          "Nepal",
          "Saudi Arabia",
          "Unidentified Armed Group (Syria)",
          "Guatemala",
          "Egypt",
          "Ukraine",
          "Cambodia",
          "Burkina Faso",
          "eSwatini",
          "Chad",
          "Morocco",
          "Sweden",
          "Jamaica",
          "Australia",
          "Qatar",
          "Mali",
          "Mauritania",
          "Vietnam",
          "Nicaragua",
          "Bangladesh",
          "Ivory Coast",
          "Pakistan",
          "Paraguay",
          "Thailand",
          "Myanmar",
          "Morocco",
          "Nigeria",
          "Indonesia",
          "Bulgaria",
          "Zambia",
          "Uganda",
          "Colombia",
          "Bangladesh",
          "France",
          "Azerbaijan",
          "Nicaragua",
          "Turkmenistan",
          "Pakistan",
          "Peru",
          "Brazil",
          "Philippines",
          "France",
          "Nepal",
          "Mexico",
          "Nepal",
          "Germany",
          "Panama",
          "Chile",
          "Saudi Arabia",
          "Burkina Faso",
          "Kuwait",
          "Thailand",
          "Peru",
          "Thailand",
          "Estonia",
          "Thailand",
          "United Kingdom",
          "Australia",
          "United Arab Emirates",
          "Pakistan",
          "Denmark",
          "Nepal",
          "Colombia",
          "Angola",
          "Myanmar",
          "Colombia",
          "Cameroon",
          "Cameroon",
          "Turkmenistan",
          "Mozambique",
          "Bangladesh",
          "Thailand",
          "Uruguay",
          "Indonesia",
          "Kyrgyzstan",
          "Bangladesh",
          "Malaysia",
          "Algeria",
          "Brazil",
          "Qatar",
          "Kyrgyzstan",
          "Bahamas",
          "Lebanon",
          "Hungary",
          "Hungary",
          "Cabo Verde",
          "Morocco",
          "Ecuador",
          "Rwanda",
          "Burkina Faso",
          "Mongolia",
          "Senegal",
          "Laos",
          "Philippines",
          "Thailand",
          "Romania",
          "Indonesia",
          "Turkey",
          "Egypt",
          "United States",
          "North Macedonia",
          "Thailand",
          "Norway",
          "Myanmar",
          "Slovakia",
          "Myanmar",
          "Brazil",
          "Honduras",
          "Sri Lanka",
          "Mexico",
          "Argentina",
          "Nigeria",
          "Seychelles",
          "Mali",
          "Bahrain",
          "Bulgaria",
          "Lithuania",
          "Jamaica",
          "Montenegro",
          "Jamaica",
          "Brazil",
          "Philippines",
          "Ireland",
          "Botswana",
          "Ireland",
          "Azerbaijan",
          "Indonesia",
          "Honduras",
          "Philippines",
          "Indonesia",
          "United States",
          "Colombia",
          "Indonesia",
          "Indonesia",
          "New Zealand",
          "Sri Lanka",
          "Mozambique",
          "Mexico",
          "Mexico",
          "Chile",
          "Ethiopia",
          "Indonesia",
          "Government of Libya (2014-) House of Representatives",
          "Pakistan",
          "Indonesia",
          "Austria",
          "Thailand",
          "Mauritania",
          "Brazil",
          "Nepal",
          "Egypt",
          "Ecuador",
          "Botswana",
          "Romania",
          "Australia",
          "Pakistan",
          "Indonesia",
          "Philippines",
          "Mexico",
          "Kenya",
          "Tajikistan",
          "Mexico",
          "Argentina",
          "Japan",
          "Nigeria",
          "India",
          "Honduras",
          "Egypt",
          "Sudan",
          "Serbia",
          "Uzbekistan",
          "United States",
          "Jamaica",
          "Philippines",
          "Guatemala",
          "Lebanon",
          "Uganda",
          "Bangladesh",
          "Guinea",
          "Equatorial Guinea",
          "Mexico",
          "Vietnam",
          "United States",
          "Panama",
          "Ireland",
          "Lithuania",
          "Israel",
          "Egypt",
          "India",
          "India",
          "Malaysia",
          "India",
          "Turkey",
          "Uruguay",
          "Chile",
          "Philippines",
          "Indonesia",
          "Philippines",
          "Ivory Coast",
          "Guatemala",
          "Kazakhstan",
          "Indonesia",
          "United Kingdom",
          "Colombia",
          "Madagascar",
          "Colombia",
          "Philippines",
          "Maldives"
         ],
         "xaxis": "x",
         "y": [
          23495,
          14004,
          7652,
          6831,
          5000,
          3774,
          3141,
          3000,
          3000,
          3000,
          2210,
          1964,
          1800,
          1350,
          1000,
          1000,
          980,
          850,
          800,
          650,
          636,
          600,
          513,
          500,
          500,
          500,
          500,
          500,
          500,
          500,
          500,
          489,
          485,
          438,
          420,
          410,
          400,
          396,
          390,
          360,
          350,
          350,
          346,
          337,
          330,
          322,
          307,
          300,
          300,
          300,
          298,
          275,
          264,
          250,
          250,
          250,
          250,
          250,
          242,
          240,
          236,
          228,
          200,
          200,
          200,
          200,
          200,
          200,
          190,
          184,
          180,
          170,
          170,
          164,
          157,
          153,
          150,
          150,
          150,
          150,
          150,
          150,
          144,
          144,
          140,
          140,
          130,
          130,
          129,
          128,
          125,
          125,
          125,
          120,
          113,
          110,
          108,
          103,
          102,
          100,
          100,
          100,
          100,
          100,
          100,
          100,
          100,
          100,
          100,
          100,
          100,
          100,
          100,
          100,
          100,
          100,
          100,
          100,
          99,
          98,
          92,
          90,
          90,
          89,
          88,
          84,
          83,
          80,
          80,
          80,
          79,
          75,
          75,
          74,
          74,
          73,
          70,
          70,
          70,
          70,
          69,
          68,
          67,
          64,
          64,
          62,
          62,
          60,
          60,
          60,
          60,
          60,
          56,
          56,
          55,
          54,
          54,
          54,
          53,
          53,
          53,
          52,
          51,
          50,
          50,
          50,
          50,
          50,
          50,
          50,
          50,
          50,
          50,
          50,
          50,
          50,
          50,
          50,
          50,
          50,
          50,
          50,
          50,
          50,
          50,
          50,
          48,
          48,
          48,
          47,
          46,
          46,
          45,
          44,
          44,
          43,
          43,
          41,
          40,
          40,
          40,
          40,
          40,
          40,
          40,
          39,
          39,
          38,
          38,
          37,
          37,
          37,
          36,
          36,
          36,
          36,
          36,
          36,
          36,
          36,
          35,
          35,
          35,
          34,
          34,
          34,
          33,
          32,
          32,
          32,
          31,
          31,
          30,
          30,
          30,
          30,
          30,
          30,
          30,
          30,
          30,
          30,
          30,
          30,
          30,
          29,
          29,
          28,
          28,
          28,
          27,
          26,
          26,
          25,
          25,
          25,
          25,
          25,
          25,
          25,
          25,
          25,
          25,
          24,
          24,
          24,
          24,
          24,
          24,
          24,
          24,
          24,
          24,
          24,
          24,
          23,
          23,
          23,
          23,
          22,
          22,
          21,
          21,
          20,
          20,
          20,
          20,
          20,
          20,
          20,
          20,
          20,
          20,
          20,
          20,
          20,
          20,
          20,
          20,
          19,
          18,
          18,
          18,
          18,
          18,
          18,
          18,
          18,
          17,
          17,
          17,
          17,
          16,
          16,
          16,
          16,
          16,
          16,
          15,
          15,
          15,
          15,
          15,
          15,
          15,
          15,
          15,
          14,
          14,
          14,
          14,
          14,
          13,
          13,
          13,
          13,
          13,
          13,
          13,
          13,
          13,
          12,
          12,
          12,
          12,
          12,
          12,
          12,
          12,
          12,
          12,
          12,
          12,
          12,
          12,
          12,
          12,
          12,
          12,
          12,
          12,
          12,
          12,
          12,
          12,
          12,
          12,
          12,
          11,
          11,
          11,
          11,
          10,
          10,
          10,
          10,
          10,
          10,
          10,
          10,
          10,
          10,
          10,
          10,
          10,
          10,
          10,
          10,
          10,
          10,
          10,
          10,
          10,
          10,
          10,
          10,
          10,
          10,
          10,
          10,
          10,
          10,
          10,
          10,
          10,
          10,
          10,
          10,
          10,
          9,
          9,
          9,
          9,
          9,
          9,
          9,
          9,
          9,
          9,
          9,
          9,
          9,
          9,
          9,
          8,
          8,
          8,
          8,
          8,
          8,
          8,
          8,
          8,
          8,
          8,
          8,
          8,
          8,
          8,
          8,
          8,
          8,
          8,
          8,
          8,
          8,
          8,
          8,
          8,
          8,
          8,
          8,
          8,
          8,
          8,
          8,
          8,
          8,
          8,
          7,
          7,
          7,
          7,
          7,
          7,
          7,
          7,
          7,
          7,
          7,
          7,
          7,
          6,
          6,
          6,
          6,
          6,
          6,
          6,
          6,
          6,
          6,
          6,
          6,
          6,
          6,
          6,
          6,
          6,
          6,
          6,
          6,
          6,
          6,
          6,
          6,
          6,
          6,
          6,
          6,
          6,
          6,
          6,
          6,
          6,
          6,
          6,
          6,
          6,
          6,
          6,
          6,
          6,
          6,
          6,
          6,
          6,
          5,
          5,
          5,
          5,
          5,
          5,
          5,
          5,
          5,
          5,
          5,
          5,
          5,
          5,
          5,
          5,
          5,
          5,
          5,
          5,
          5,
          5,
          5,
          5,
          5,
          5,
          5,
          5,
          5,
          5,
          5,
          5,
          5,
          5,
          4,
          4,
          4,
          4,
          4,
          4,
          4,
          4,
          4,
          4,
          4,
          4,
          4,
          4,
          4,
          4,
          4,
          4,
          4,
          4,
          4,
          4,
          4,
          4,
          4,
          4,
          4,
          4,
          4,
          4,
          4,
          4,
          4,
          4,
          4,
          4,
          4,
          4,
          4,
          4,
          4,
          4,
          4,
          4,
          4,
          4,
          4,
          4,
          4,
          4,
          4,
          4,
          4,
          4,
          4,
          4,
          4,
          4,
          4,
          4,
          3,
          3,
          3,
          3,
          3,
          3,
          3,
          3,
          3,
          3,
          3,
          3,
          3,
          3,
          3,
          3,
          3,
          3,
          3,
          3,
          3,
          3,
          3,
          3,
          3,
          3,
          3,
          3,
          3,
          3,
          3,
          3,
          3,
          3,
          3,
          3,
          3,
          3,
          3,
          3,
          3,
          3,
          3,
          2,
          2,
          2,
          2,
          2,
          2,
          2,
          2,
          2,
          2,
          2,
          2,
          2,
          2,
          2,
          2,
          2,
          2,
          2,
          2,
          2,
          2,
          2,
          2,
          2,
          2,
          2,
          2,
          2,
          2,
          2,
          2,
          2,
          2,
          2,
          2,
          2,
          2,
          2,
          2,
          2,
          2,
          2,
          2,
          2,
          2,
          2,
          2,
          2,
          2,
          2,
          2,
          2,
          2,
          2,
          2,
          2,
          2,
          2,
          2,
          2,
          2,
          2,
          2,
          2,
          2,
          2,
          2,
          2,
          2,
          2,
          2,
          2,
          2,
          2,
          2,
          2,
          2,
          2,
          2,
          2,
          2,
          2,
          2,
          2,
          2,
          2,
          2,
          2,
          2,
          2,
          2,
          2,
          2,
          2,
          2,
          2,
          2,
          2,
          2,
          2,
          2,
          2,
          2,
          2,
          2,
          2,
          2,
          2,
          2,
          2,
          2,
          2,
          2,
          2,
          2,
          2,
          2,
          2,
          1,
          1,
          1,
          1,
          1,
          1,
          1,
          1,
          1,
          1,
          1,
          1,
          1,
          1,
          1,
          1,
          1,
          1,
          1,
          1,
          1,
          1,
          1,
          1,
          1,
          1,
          1,
          1,
          1,
          1,
          1,
          1,
          1,
          1,
          1,
          1,
          1,
          1,
          1,
          1,
          1,
          1,
          1,
          1,
          1,
          1,
          1,
          1,
          1,
          1,
          1,
          1,
          1,
          1,
          1,
          1,
          1,
          1,
          1,
          1,
          1,
          1,
          1,
          1,
          1,
          1,
          1,
          1,
          1,
          1,
          1,
          1,
          1,
          1,
          1,
          1,
          1,
          1,
          1,
          1,
          1,
          1,
          1,
          1,
          1,
          1,
          1,
          1,
          1,
          1,
          1,
          1,
          1,
          1,
          1,
          1,
          1,
          1,
          1,
          1,
          1,
          1,
          1,
          1,
          1,
          1,
          1,
          1,
          1,
          1
         ],
         "yaxis": "y"
        }
       ],
       "layout": {
        "barmode": "relative",
        "legend": {
         "tracegroupgap": 0
        },
        "template": {
         "data": {
          "bar": [
           {
            "error_x": {
             "color": "#2a3f5f"
            },
            "error_y": {
             "color": "#2a3f5f"
            },
            "marker": {
             "line": {
              "color": "#E5ECF6",
              "width": 0.5
             }
            },
            "type": "bar"
           }
          ],
          "barpolar": [
           {
            "marker": {
             "line": {
              "color": "#E5ECF6",
              "width": 0.5
             }
            },
            "type": "barpolar"
           }
          ],
          "carpet": [
           {
            "aaxis": {
             "endlinecolor": "#2a3f5f",
             "gridcolor": "white",
             "linecolor": "white",
             "minorgridcolor": "white",
             "startlinecolor": "#2a3f5f"
            },
            "baxis": {
             "endlinecolor": "#2a3f5f",
             "gridcolor": "white",
             "linecolor": "white",
             "minorgridcolor": "white",
             "startlinecolor": "#2a3f5f"
            },
            "type": "carpet"
           }
          ],
          "choropleth": [
           {
            "colorbar": {
             "outlinewidth": 0,
             "ticks": ""
            },
            "type": "choropleth"
           }
          ],
          "contour": [
           {
            "colorbar": {
             "outlinewidth": 0,
             "ticks": ""
            },
            "colorscale": [
             [
              0,
              "#0d0887"
             ],
             [
              0.1111111111111111,
              "#46039f"
             ],
             [
              0.2222222222222222,
              "#7201a8"
             ],
             [
              0.3333333333333333,
              "#9c179e"
             ],
             [
              0.4444444444444444,
              "#bd3786"
             ],
             [
              0.5555555555555556,
              "#d8576b"
             ],
             [
              0.6666666666666666,
              "#ed7953"
             ],
             [
              0.7777777777777778,
              "#fb9f3a"
             ],
             [
              0.8888888888888888,
              "#fdca26"
             ],
             [
              1,
              "#f0f921"
             ]
            ],
            "type": "contour"
           }
          ],
          "contourcarpet": [
           {
            "colorbar": {
             "outlinewidth": 0,
             "ticks": ""
            },
            "type": "contourcarpet"
           }
          ],
          "heatmap": [
           {
            "colorbar": {
             "outlinewidth": 0,
             "ticks": ""
            },
            "colorscale": [
             [
              0,
              "#0d0887"
             ],
             [
              0.1111111111111111,
              "#46039f"
             ],
             [
              0.2222222222222222,
              "#7201a8"
             ],
             [
              0.3333333333333333,
              "#9c179e"
             ],
             [
              0.4444444444444444,
              "#bd3786"
             ],
             [
              0.5555555555555556,
              "#d8576b"
             ],
             [
              0.6666666666666666,
              "#ed7953"
             ],
             [
              0.7777777777777778,
              "#fb9f3a"
             ],
             [
              0.8888888888888888,
              "#fdca26"
             ],
             [
              1,
              "#f0f921"
             ]
            ],
            "type": "heatmap"
           }
          ],
          "heatmapgl": [
           {
            "colorbar": {
             "outlinewidth": 0,
             "ticks": ""
            },
            "colorscale": [
             [
              0,
              "#0d0887"
             ],
             [
              0.1111111111111111,
              "#46039f"
             ],
             [
              0.2222222222222222,
              "#7201a8"
             ],
             [
              0.3333333333333333,
              "#9c179e"
             ],
             [
              0.4444444444444444,
              "#bd3786"
             ],
             [
              0.5555555555555556,
              "#d8576b"
             ],
             [
              0.6666666666666666,
              "#ed7953"
             ],
             [
              0.7777777777777778,
              "#fb9f3a"
             ],
             [
              0.8888888888888888,
              "#fdca26"
             ],
             [
              1,
              "#f0f921"
             ]
            ],
            "type": "heatmapgl"
           }
          ],
          "histogram": [
           {
            "marker": {
             "colorbar": {
              "outlinewidth": 0,
              "ticks": ""
             }
            },
            "type": "histogram"
           }
          ],
          "histogram2d": [
           {
            "colorbar": {
             "outlinewidth": 0,
             "ticks": ""
            },
            "colorscale": [
             [
              0,
              "#0d0887"
             ],
             [
              0.1111111111111111,
              "#46039f"
             ],
             [
              0.2222222222222222,
              "#7201a8"
             ],
             [
              0.3333333333333333,
              "#9c179e"
             ],
             [
              0.4444444444444444,
              "#bd3786"
             ],
             [
              0.5555555555555556,
              "#d8576b"
             ],
             [
              0.6666666666666666,
              "#ed7953"
             ],
             [
              0.7777777777777778,
              "#fb9f3a"
             ],
             [
              0.8888888888888888,
              "#fdca26"
             ],
             [
              1,
              "#f0f921"
             ]
            ],
            "type": "histogram2d"
           }
          ],
          "histogram2dcontour": [
           {
            "colorbar": {
             "outlinewidth": 0,
             "ticks": ""
            },
            "colorscale": [
             [
              0,
              "#0d0887"
             ],
             [
              0.1111111111111111,
              "#46039f"
             ],
             [
              0.2222222222222222,
              "#7201a8"
             ],
             [
              0.3333333333333333,
              "#9c179e"
             ],
             [
              0.4444444444444444,
              "#bd3786"
             ],
             [
              0.5555555555555556,
              "#d8576b"
             ],
             [
              0.6666666666666666,
              "#ed7953"
             ],
             [
              0.7777777777777778,
              "#fb9f3a"
             ],
             [
              0.8888888888888888,
              "#fdca26"
             ],
             [
              1,
              "#f0f921"
             ]
            ],
            "type": "histogram2dcontour"
           }
          ],
          "mesh3d": [
           {
            "colorbar": {
             "outlinewidth": 0,
             "ticks": ""
            },
            "type": "mesh3d"
           }
          ],
          "parcoords": [
           {
            "line": {
             "colorbar": {
              "outlinewidth": 0,
              "ticks": ""
             }
            },
            "type": "parcoords"
           }
          ],
          "pie": [
           {
            "automargin": true,
            "type": "pie"
           }
          ],
          "scatter": [
           {
            "marker": {
             "colorbar": {
              "outlinewidth": 0,
              "ticks": ""
             }
            },
            "type": "scatter"
           }
          ],
          "scatter3d": [
           {
            "line": {
             "colorbar": {
              "outlinewidth": 0,
              "ticks": ""
             }
            },
            "marker": {
             "colorbar": {
              "outlinewidth": 0,
              "ticks": ""
             }
            },
            "type": "scatter3d"
           }
          ],
          "scattercarpet": [
           {
            "marker": {
             "colorbar": {
              "outlinewidth": 0,
              "ticks": ""
             }
            },
            "type": "scattercarpet"
           }
          ],
          "scattergeo": [
           {
            "marker": {
             "colorbar": {
              "outlinewidth": 0,
              "ticks": ""
             }
            },
            "type": "scattergeo"
           }
          ],
          "scattergl": [
           {
            "marker": {
             "colorbar": {
              "outlinewidth": 0,
              "ticks": ""
             }
            },
            "type": "scattergl"
           }
          ],
          "scattermapbox": [
           {
            "marker": {
             "colorbar": {
              "outlinewidth": 0,
              "ticks": ""
             }
            },
            "type": "scattermapbox"
           }
          ],
          "scatterpolar": [
           {
            "marker": {
             "colorbar": {
              "outlinewidth": 0,
              "ticks": ""
             }
            },
            "type": "scatterpolar"
           }
          ],
          "scatterpolargl": [
           {
            "marker": {
             "colorbar": {
              "outlinewidth": 0,
              "ticks": ""
             }
            },
            "type": "scatterpolargl"
           }
          ],
          "scatterternary": [
           {
            "marker": {
             "colorbar": {
              "outlinewidth": 0,
              "ticks": ""
             }
            },
            "type": "scatterternary"
           }
          ],
          "surface": [
           {
            "colorbar": {
             "outlinewidth": 0,
             "ticks": ""
            },
            "colorscale": [
             [
              0,
              "#0d0887"
             ],
             [
              0.1111111111111111,
              "#46039f"
             ],
             [
              0.2222222222222222,
              "#7201a8"
             ],
             [
              0.3333333333333333,
              "#9c179e"
             ],
             [
              0.4444444444444444,
              "#bd3786"
             ],
             [
              0.5555555555555556,
              "#d8576b"
             ],
             [
              0.6666666666666666,
              "#ed7953"
             ],
             [
              0.7777777777777778,
              "#fb9f3a"
             ],
             [
              0.8888888888888888,
              "#fdca26"
             ],
             [
              1,
              "#f0f921"
             ]
            ],
            "type": "surface"
           }
          ],
          "table": [
           {
            "cells": {
             "fill": {
              "color": "#EBF0F8"
             },
             "line": {
              "color": "white"
             }
            },
            "header": {
             "fill": {
              "color": "#C8D4E3"
             },
             "line": {
              "color": "white"
             }
            },
            "type": "table"
           }
          ]
         },
         "layout": {
          "annotationdefaults": {
           "arrowcolor": "#2a3f5f",
           "arrowhead": 0,
           "arrowwidth": 1
          },
          "autotypenumbers": "strict",
          "coloraxis": {
           "colorbar": {
            "outlinewidth": 0,
            "ticks": ""
           }
          },
          "colorscale": {
           "diverging": [
            [
             0,
             "#8e0152"
            ],
            [
             0.1,
             "#c51b7d"
            ],
            [
             0.2,
             "#de77ae"
            ],
            [
             0.3,
             "#f1b6da"
            ],
            [
             0.4,
             "#fde0ef"
            ],
            [
             0.5,
             "#f7f7f7"
            ],
            [
             0.6,
             "#e6f5d0"
            ],
            [
             0.7,
             "#b8e186"
            ],
            [
             0.8,
             "#7fbc41"
            ],
            [
             0.9,
             "#4d9221"
            ],
            [
             1,
             "#276419"
            ]
           ],
           "sequential": [
            [
             0,
             "#0d0887"
            ],
            [
             0.1111111111111111,
             "#46039f"
            ],
            [
             0.2222222222222222,
             "#7201a8"
            ],
            [
             0.3333333333333333,
             "#9c179e"
            ],
            [
             0.4444444444444444,
             "#bd3786"
            ],
            [
             0.5555555555555556,
             "#d8576b"
            ],
            [
             0.6666666666666666,
             "#ed7953"
            ],
            [
             0.7777777777777778,
             "#fb9f3a"
            ],
            [
             0.8888888888888888,
             "#fdca26"
            ],
            [
             1,
             "#f0f921"
            ]
           ],
           "sequentialminus": [
            [
             0,
             "#0d0887"
            ],
            [
             0.1111111111111111,
             "#46039f"
            ],
            [
             0.2222222222222222,
             "#7201a8"
            ],
            [
             0.3333333333333333,
             "#9c179e"
            ],
            [
             0.4444444444444444,
             "#bd3786"
            ],
            [
             0.5555555555555556,
             "#d8576b"
            ],
            [
             0.6666666666666666,
             "#ed7953"
            ],
            [
             0.7777777777777778,
             "#fb9f3a"
            ],
            [
             0.8888888888888888,
             "#fdca26"
            ],
            [
             1,
             "#f0f921"
            ]
           ]
          },
          "colorway": [
           "#636efa",
           "#EF553B",
           "#00cc96",
           "#ab63fa",
           "#FFA15A",
           "#19d3f3",
           "#FF6692",
           "#B6E880",
           "#FF97FF",
           "#FECB52"
          ],
          "font": {
           "color": "#2a3f5f"
          },
          "geo": {
           "bgcolor": "white",
           "lakecolor": "white",
           "landcolor": "#E5ECF6",
           "showlakes": true,
           "showland": true,
           "subunitcolor": "white"
          },
          "hoverlabel": {
           "align": "left"
          },
          "hovermode": "closest",
          "mapbox": {
           "style": "light"
          },
          "paper_bgcolor": "white",
          "plot_bgcolor": "#E5ECF6",
          "polar": {
           "angularaxis": {
            "gridcolor": "white",
            "linecolor": "white",
            "ticks": ""
           },
           "bgcolor": "#E5ECF6",
           "radialaxis": {
            "gridcolor": "white",
            "linecolor": "white",
            "ticks": ""
           }
          },
          "scene": {
           "xaxis": {
            "backgroundcolor": "#E5ECF6",
            "gridcolor": "white",
            "gridwidth": 2,
            "linecolor": "white",
            "showbackground": true,
            "ticks": "",
            "zerolinecolor": "white"
           },
           "yaxis": {
            "backgroundcolor": "#E5ECF6",
            "gridcolor": "white",
            "gridwidth": 2,
            "linecolor": "white",
            "showbackground": true,
            "ticks": "",
            "zerolinecolor": "white"
           },
           "zaxis": {
            "backgroundcolor": "#E5ECF6",
            "gridcolor": "white",
            "gridwidth": 2,
            "linecolor": "white",
            "showbackground": true,
            "ticks": "",
            "zerolinecolor": "white"
           }
          },
          "shapedefaults": {
           "line": {
            "color": "#2a3f5f"
           }
          },
          "ternary": {
           "aaxis": {
            "gridcolor": "white",
            "linecolor": "white",
            "ticks": ""
           },
           "baxis": {
            "gridcolor": "white",
            "linecolor": "white",
            "ticks": ""
           },
           "bgcolor": "#E5ECF6",
           "caxis": {
            "gridcolor": "white",
            "linecolor": "white",
            "ticks": ""
           }
          },
          "title": {
           "x": 0.05
          },
          "xaxis": {
           "automargin": true,
           "gridcolor": "white",
           "linecolor": "white",
           "ticks": "",
           "title": {
            "standoff": 15
           },
           "zerolinecolor": "white",
           "zerolinewidth": 2
          },
          "yaxis": {
           "automargin": true,
           "gridcolor": "white",
           "linecolor": "white",
           "ticks": "",
           "title": {
            "standoff": 15
           },
           "zerolinecolor": "white",
           "zerolinewidth": 2
          }
         }
        },
        "title": {
         "text": "Total Amount of Weapon Purchases by Nation 2015-2020"
        },
        "xaxis": {
         "anchor": "y",
         "domain": [
          0,
          1
         ],
         "title": {
          "text": "Nation or Non-State Actor"
         }
        },
        "yaxis": {
         "anchor": "x",
         "domain": [
          0,
          1
         ],
         "title": {
          "text": "Amount of Purchases"
         }
        }
       }
      }
     },
     "metadata": {}
    }
   ],
   "source": [
    "sipri_most_purchases = px.bar(sipri_countries,x='buyer',y='total',\n",
    "title=\"Total Amount of Weapon Purchases by Nation 2015-2020\",\n",
    "labels={'buyer':'Nation or Non-State Actor','total':'Amount of Purchases'})\n",
    "sipri_most_purchases.show()"
   ]
  },
  {
   "cell_type": "code",
   "execution_count": 226,
   "metadata": {},
   "outputs": [
    {
     "output_type": "display_data",
     "data": {
      "application/vnd.plotly.v1+json": {
       "config": {
        "plotlyServerURL": "https://plot.ly"
       },
       "data": [
        {
         "alignmentgroup": "True",
         "hovertemplate": "weapon_description=Guided bomb<br>Nation or Non-State Actor=%{x}<br>Amount of Purchases=%{y}<extra></extra>",
         "legendgroup": "Guided bomb",
         "marker": {
          "color": "#636efa"
         },
         "name": "Guided bomb",
         "offsetgroup": "Guided bomb",
         "orientation": "v",
         "showlegend": true,
         "textposition": "auto",
         "type": "bar",
         "x": [
          "Saudi Arabia",
          "United Arab Emirates",
          "Afghanistan",
          "India"
         ],
         "xaxis": "x",
         "y": [
          23495,
          14004,
          250,
          100
         ],
         "yaxis": "y"
        },
        {
         "alignmentgroup": "True",
         "hovertemplate": "weapon_description=APV<br>Nation or Non-State Actor=%{x}<br>Amount of Purchases=%{y}<extra></extra>",
         "legendgroup": "APV",
         "marker": {
          "color": "#EF553B"
         },
         "name": "APV",
         "offsetgroup": "APV",
         "orientation": "v",
         "showlegend": true,
         "textposition": "auto",
         "type": "bar",
         "x": [
          "Afghanistan",
          "Qatar",
          "Saudi Arabia"
         ],
         "xaxis": "x",
         "y": [
          7652,
          150,
          89
         ],
         "yaxis": "y"
        },
        {
         "alignmentgroup": "True",
         "hovertemplate": "weapon_description=Anti-tank missile<br>Nation or Non-State Actor=%{x}<br>Amount of Purchases=%{y}<extra></extra>",
         "legendgroup": "Anti-tank missile",
         "marker": {
          "color": "#00cc96"
         },
         "name": "Anti-tank missile",
         "offsetgroup": "Anti-tank missile",
         "orientation": "v",
         "showlegend": true,
         "textposition": "auto",
         "type": "bar",
         "x": [
          "United Arab Emirates",
          "India",
          "Qatar",
          "Saudi Arabia"
         ],
         "xaxis": "x",
         "y": [
          6831,
          2210,
          850,
          100
         ],
         "yaxis": "y"
        },
        {
         "alignmentgroup": "True",
         "hovertemplate": "weapon_description=ASM/anti-tank missile<br>Nation or Non-State Actor=%{x}<br>Amount of Purchases=%{y}<extra></extra>",
         "legendgroup": "ASM/anti-tank missile",
         "marker": {
          "color": "#ab63fa"
         },
         "name": "ASM/anti-tank missile",
         "offsetgroup": "ASM/anti-tank missile",
         "orientation": "v",
         "showlegend": true,
         "textposition": "auto",
         "type": "bar",
         "x": [
          "Qatar"
         ],
         "xaxis": "x",
         "y": [
          5000
         ],
         "yaxis": "y"
        },
        {
         "alignmentgroup": "True",
         "hovertemplate": "weapon_description=Guided shell<br>Nation or Non-State Actor=%{x}<br>Amount of Purchases=%{y}<extra></extra>",
         "legendgroup": "Guided shell",
         "marker": {
          "color": "#FFA15A"
         },
         "name": "Guided shell",
         "offsetgroup": "Guided shell",
         "orientation": "v",
         "showlegend": true,
         "textposition": "auto",
         "type": "bar",
         "x": [
          "India"
         ],
         "xaxis": "x",
         "y": [
          600
         ],
         "yaxis": "y"
        },
        {
         "alignmentgroup": "True",
         "hovertemplate": "weapon_description=Portable SAM<br>Nation or Non-State Actor=%{x}<br>Amount of Purchases=%{y}<extra></extra>",
         "legendgroup": "Portable SAM",
         "marker": {
          "color": "#19d3f3"
         },
         "name": "Portable SAM",
         "offsetgroup": "Portable SAM",
         "orientation": "v",
         "showlegend": true,
         "textposition": "auto",
         "type": "bar",
         "x": [
          "Qatar"
         ],
         "xaxis": "x",
         "y": [
          500
         ],
         "yaxis": "y"
        },
        {
         "alignmentgroup": "True",
         "hovertemplate": "weapon_description=SAM<br>Nation or Non-State Actor=%{x}<br>Amount of Purchases=%{y}<extra></extra>",
         "legendgroup": "SAM",
         "marker": {
          "color": "#FF6692"
         },
         "name": "SAM",
         "offsetgroup": "SAM",
         "orientation": "v",
         "showlegend": true,
         "textposition": "auto",
         "type": "bar",
         "x": [
          "United Arab Emirates"
         ],
         "xaxis": "x",
         "y": [
          396
         ],
         "yaxis": "y"
        },
        {
         "alignmentgroup": "True",
         "hovertemplate": "weapon_description=Diesel engine<br>Nation or Non-State Actor=%{x}<br>Amount of Purchases=%{y}<extra></extra>",
         "legendgroup": "Diesel engine",
         "marker": {
          "color": "#B6E880"
         },
         "name": "Diesel engine",
         "offsetgroup": "Diesel engine",
         "orientation": "v",
         "showlegend": true,
         "textposition": "auto",
         "type": "bar",
         "x": [
          "India",
          "Qatar",
          "United Arab Emirates",
          "Saudi Arabia"
         ],
         "xaxis": "x",
         "y": [
          346,
          307,
          140,
          24
         ],
         "yaxis": "y"
        },
        {
         "alignmentgroup": "True",
         "hovertemplate": "weapon_description=APC<br>Nation or Non-State Actor=%{x}<br>Amount of Purchases=%{y}<extra></extra>",
         "legendgroup": "APC",
         "marker": {
          "color": "#FF97FF"
         },
         "name": "APC",
         "offsetgroup": "APC",
         "orientation": "v",
         "showlegend": true,
         "textposition": "auto",
         "type": "bar",
         "x": [
          "Qatar",
          "India",
          "Afghanistan",
          "Saudi Arabia",
          "United Arab Emirates"
         ],
         "xaxis": "x",
         "y": [
          337,
          242,
          110,
          84,
          40
         ],
         "yaxis": "y"
        },
        {
         "alignmentgroup": "True",
         "hovertemplate": "weapon_description=BVRAAM<br>Nation or Non-State Actor=%{x}<br>Amount of Purchases=%{y}<extra></extra>",
         "legendgroup": "BVRAAM",
         "marker": {
          "color": "#FECB52"
         },
         "name": "BVRAAM",
         "offsetgroup": "BVRAAM",
         "orientation": "v",
         "showlegend": true,
         "textposition": "auto",
         "type": "bar",
         "x": [
          "India",
          "United Arab Emirates"
         ],
         "xaxis": "x",
         "y": [
          275,
          200
         ],
         "yaxis": "y"
        },
        {
         "alignmentgroup": "True",
         "hovertemplate": "weapon_description=Tank<br>Nation or Non-State Actor=%{x}<br>Amount of Purchases=%{y}<extra></extra>",
         "legendgroup": "Tank",
         "marker": {
          "color": "#636efa"
         },
         "name": "Tank",
         "offsetgroup": "Tank",
         "orientation": "v",
         "showlegend": true,
         "textposition": "auto",
         "type": "bar",
         "x": [
          "Saudi Arabia"
         ],
         "xaxis": "x",
         "y": [
          153
         ],
         "yaxis": "y"
        },
        {
         "alignmentgroup": "True",
         "hovertemplate": "weapon_description=ABM<br>Nation or Non-State Actor=%{x}<br>Amount of Purchases=%{y}<extra></extra>",
         "legendgroup": "ABM",
         "marker": {
          "color": "#EF553B"
         },
         "name": "ABM",
         "offsetgroup": "ABM",
         "orientation": "v",
         "showlegend": true,
         "textposition": "auto",
         "type": "bar",
         "x": [
          "Saudi Arabia",
          "United Arab Emirates",
          "Qatar"
         ],
         "xaxis": "x",
         "y": [
          130,
          50,
          24
         ],
         "yaxis": "y"
        },
        {
         "alignmentgroup": "True",
         "hovertemplate": "weapon_description=Self-propelled mortar<br>Nation or Non-State Actor=%{x}<br>Amount of Purchases=%{y}<extra></extra>",
         "legendgroup": "Self-propelled mortar",
         "marker": {
          "color": "#00cc96"
         },
         "name": "Self-propelled mortar",
         "offsetgroup": "Self-propelled mortar",
         "orientation": "v",
         "showlegend": true,
         "textposition": "auto",
         "type": "bar",
         "x": [
          "Saudi Arabia"
         ],
         "xaxis": "x",
         "y": [
          100
         ],
         "yaxis": "y"
        },
        {
         "alignmentgroup": "True",
         "hovertemplate": "weapon_description=IFV<br>Nation or Non-State Actor=%{x}<br>Amount of Purchases=%{y}<extra></extra>",
         "legendgroup": "IFV",
         "marker": {
          "color": "#ab63fa"
         },
         "name": "IFV",
         "offsetgroup": "IFV",
         "orientation": "v",
         "showlegend": true,
         "textposition": "auto",
         "type": "bar",
         "x": [
          "United Arab Emirates",
          "Saudi Arabia"
         ],
         "xaxis": "x",
         "y": [
          100,
          100
         ],
         "yaxis": "y"
        },
        {
         "alignmentgroup": "True",
         "hovertemplate": "weapon_description=APC/APV<br>Nation or Non-State Actor=%{x}<br>Amount of Purchases=%{y}<extra></extra>",
         "legendgroup": "APC/APV",
         "marker": {
          "color": "#FFA15A"
         },
         "name": "APC/APV",
         "offsetgroup": "APC/APV",
         "orientation": "v",
         "showlegend": true,
         "textposition": "auto",
         "type": "bar",
         "x": [
          "Saudi Arabia"
         ],
         "xaxis": "x",
         "y": [
          100
         ],
         "yaxis": "y"
        },
        {
         "alignmentgroup": "True",
         "hovertemplate": "weapon_description=Self-propelled gun<br>Nation or Non-State Actor=%{x}<br>Amount of Purchases=%{y}<extra></extra>",
         "legendgroup": "Self-propelled gun",
         "marker": {
          "color": "#19d3f3"
         },
         "name": "Self-propelled gun",
         "offsetgroup": "Self-propelled gun",
         "orientation": "v",
         "showlegend": true,
         "textposition": "auto",
         "type": "bar",
         "x": [
          "India",
          "Saudi Arabia"
         ],
         "xaxis": "x",
         "y": [
          100,
          24
         ],
         "yaxis": "y"
        },
        {
         "alignmentgroup": "True",
         "hovertemplate": "weapon_description=ASM<br>Nation or Non-State Actor=%{x}<br>Amount of Purchases=%{y}<extra></extra>",
         "legendgroup": "ASM",
         "marker": {
          "color": "#FF6692"
         },
         "name": "ASM",
         "offsetgroup": "ASM",
         "orientation": "v",
         "showlegend": true,
         "textposition": "auto",
         "type": "bar",
         "x": [
          "India"
         ],
         "xaxis": "x",
         "y": [
          100
         ],
         "yaxis": "y"
        },
        {
         "alignmentgroup": "True",
         "hovertemplate": "weapon_description=Towed gun<br>Nation or Non-State Actor=%{x}<br>Amount of Purchases=%{y}<extra></extra>",
         "legendgroup": "Towed gun",
         "marker": {
          "color": "#B6E880"
         },
         "name": "Towed gun",
         "offsetgroup": "Towed gun",
         "orientation": "v",
         "showlegend": true,
         "textposition": "auto",
         "type": "bar",
         "x": [
          "Saudi Arabia",
          "India",
          "United Arab Emirates"
         ],
         "xaxis": "x",
         "y": [
          62,
          29,
          6
         ],
         "yaxis": "y"
        },
        {
         "alignmentgroup": "True",
         "hovertemplate": "weapon_description=Helicopter<br>Nation or Non-State Actor=%{x}<br>Amount of Purchases=%{y}<extra></extra>",
         "legendgroup": "Helicopter",
         "marker": {
          "color": "#FF97FF"
         },
         "name": "Helicopter",
         "offsetgroup": "Helicopter",
         "orientation": "v",
         "showlegend": true,
         "textposition": "auto",
         "type": "bar",
         "x": [
          "Afghanistan",
          "Saudi Arabia",
          "Qatar"
         ],
         "xaxis": "x",
         "y": [
          53,
          39,
          4
         ],
         "yaxis": "y"
        },
        {
         "alignmentgroup": "True",
         "hovertemplate": "weapon_description=Anti-ship missile<br>Nation or Non-State Actor=%{x}<br>Amount of Purchases=%{y}<extra></extra>",
         "legendgroup": "Anti-ship missile",
         "marker": {
          "color": "#FECB52"
         },
         "name": "Anti-ship missile",
         "offsetgroup": "Anti-ship missile",
         "orientation": "v",
         "showlegend": true,
         "textposition": "auto",
         "type": "bar",
         "x": [
          "United Arab Emirates"
         ],
         "xaxis": "x",
         "y": [
          50
         ],
         "yaxis": "y"
        },
        {
         "alignmentgroup": "True",
         "hovertemplate": "weapon_description=Anti-ship missile/SSM<br>Nation or Non-State Actor=%{x}<br>Amount of Purchases=%{y}<extra></extra>",
         "legendgroup": "Anti-ship missile/SSM",
         "marker": {
          "color": "#636efa"
         },
         "name": "Anti-ship missile/SSM",
         "offsetgroup": "Anti-ship missile/SSM",
         "orientation": "v",
         "showlegend": true,
         "textposition": "auto",
         "type": "bar",
         "x": [
          "Saudi Arabia",
          "India"
         ],
         "xaxis": "x",
         "y": [
          50,
          12
         ],
         "yaxis": "y"
        },
        {
         "alignmentgroup": "True",
         "hovertemplate": "weapon_description=SSM<br>Nation or Non-State Actor=%{x}<br>Amount of Purchases=%{y}<extra></extra>",
         "legendgroup": "SSM",
         "marker": {
          "color": "#EF553B"
         },
         "name": "SSM",
         "offsetgroup": "SSM",
         "orientation": "v",
         "showlegend": true,
         "textposition": "auto",
         "type": "bar",
         "x": [
          "Qatar"
         ],
         "xaxis": "x",
         "y": [
          48
         ],
         "yaxis": "y"
        },
        {
         "alignmentgroup": "True",
         "hovertemplate": "weapon_description=Light helicopter<br>Nation or Non-State Actor=%{x}<br>Amount of Purchases=%{y}<extra></extra>",
         "legendgroup": "Light helicopter",
         "marker": {
          "color": "#00cc96"
         },
         "name": "Light helicopter",
         "offsetgroup": "Light helicopter",
         "orientation": "v",
         "showlegend": true,
         "textposition": "auto",
         "type": "bar",
         "x": [
          "Afghanistan",
          "Saudi Arabia",
          "Qatar",
          "India"
         ],
         "xaxis": "x",
         "y": [
          36,
          23,
          16,
          8
         ],
         "yaxis": "y"
        },
        {
         "alignmentgroup": "True",
         "hovertemplate": "weapon_description=Armed UAV<br>Nation or Non-State Actor=%{x}<br>Amount of Purchases=%{y}<extra></extra>",
         "legendgroup": "Armed UAV",
         "marker": {
          "color": "#ab63fa"
         },
         "name": "Armed UAV",
         "offsetgroup": "Armed UAV",
         "orientation": "v",
         "showlegend": true,
         "textposition": "auto",
         "type": "bar",
         "x": [
          "Saudi Arabia",
          "United Arab Emirates",
          "Qatar"
         ],
         "xaxis": "x",
         "y": [
          35,
          15,
          6
         ],
         "yaxis": "y"
        },
        {
         "alignmentgroup": "True",
         "hovertemplate": "weapon_description=Aircraft EO system<br>Nation or Non-State Actor=%{x}<br>Amount of Purchases=%{y}<extra></extra>",
         "legendgroup": "Aircraft EO system",
         "marker": {
          "color": "#FFA15A"
         },
         "name": "Aircraft EO system",
         "offsetgroup": "Aircraft EO system",
         "orientation": "v",
         "showlegend": true,
         "textposition": "auto",
         "type": "bar",
         "x": [
          "Qatar"
         ],
         "xaxis": "x",
         "y": [
          24
         ],
         "yaxis": "y"
        },
        {
         "alignmentgroup": "True",
         "hovertemplate": "weapon_description=ARV<br>Nation or Non-State Actor=%{x}<br>Amount of Purchases=%{y}<extra></extra>",
         "legendgroup": "ARV",
         "marker": {
          "color": "#19d3f3"
         },
         "name": "ARV",
         "offsetgroup": "ARV",
         "orientation": "v",
         "showlegend": true,
         "textposition": "auto",
         "type": "bar",
         "x": [
          "Saudi Arabia"
         ],
         "xaxis": "x",
         "y": [
          20
         ],
         "yaxis": "y"
        },
        {
         "alignmentgroup": "True",
         "hovertemplate": "weapon_description=Turboprop<br>Nation or Non-State Actor=%{x}<br>Amount of Purchases=%{y}<extra></extra>",
         "legendgroup": "Turboprop",
         "marker": {
          "color": "#FF6692"
         },
         "name": "Turboprop",
         "offsetgroup": "Turboprop",
         "orientation": "v",
         "showlegend": true,
         "textposition": "auto",
         "type": "bar",
         "x": [
          "India"
         ],
         "xaxis": "x",
         "y": [
          16
         ],
         "yaxis": "y"
        },
        {
         "alignmentgroup": "True",
         "hovertemplate": "weapon_description=FGA aircraft<br>Nation or Non-State Actor=%{x}<br>Amount of Purchases=%{y}<extra></extra>",
         "legendgroup": "FGA aircraft",
         "marker": {
          "color": "#B6E880"
         },
         "name": "FGA aircraft",
         "offsetgroup": "FGA aircraft",
         "orientation": "v",
         "showlegend": true,
         "textposition": "auto",
         "type": "bar",
         "x": [
          "India"
         ],
         "xaxis": "x",
         "y": [
          13
         ],
         "yaxis": "y"
        },
        {
         "alignmentgroup": "True",
         "hovertemplate": "weapon_description=Combat heli radar<br>Nation or Non-State Actor=%{x}<br>Amount of Purchases=%{y}<extra></extra>",
         "legendgroup": "Combat heli radar",
         "marker": {
          "color": "#FF97FF"
         },
         "name": "Combat heli radar",
         "offsetgroup": "Combat heli radar",
         "orientation": "v",
         "showlegend": true,
         "textposition": "auto",
         "type": "bar",
         "x": [
          "India"
         ],
         "xaxis": "x",
         "y": [
          12
         ],
         "yaxis": "y"
        },
        {
         "alignmentgroup": "True",
         "hovertemplate": "weapon_description=AGS radar<br>Nation or Non-State Actor=%{x}<br>Amount of Purchases=%{y}<extra></extra>",
         "legendgroup": "AGS radar",
         "marker": {
          "color": "#FECB52"
         },
         "name": "AGS radar",
         "offsetgroup": "AGS radar",
         "orientation": "v",
         "showlegend": true,
         "textposition": "auto",
         "type": "bar",
         "x": [
          "India"
         ],
         "xaxis": "x",
         "y": [
          10
         ],
         "yaxis": "y"
        },
        {
         "alignmentgroup": "True",
         "hovertemplate": "weapon_description=Turboprop/turboshaft<br>Nation or Non-State Actor=%{x}<br>Amount of Purchases=%{y}<extra></extra>",
         "legendgroup": "Turboprop/turboshaft",
         "marker": {
          "color": "#636efa"
         },
         "name": "Turboprop/turboshaft",
         "offsetgroup": "Turboprop/turboshaft",
         "orientation": "v",
         "showlegend": true,
         "textposition": "auto",
         "type": "bar",
         "x": [
          "United Arab Emirates",
          "Afghanistan"
         ],
         "xaxis": "x",
         "y": [
          10,
          6
         ],
         "yaxis": "y"
        },
        {
         "alignmentgroup": "True",
         "hovertemplate": "weapon_description=Self-propelled MRL<br>Nation or Non-State Actor=%{x}<br>Amount of Purchases=%{y}<extra></extra>",
         "legendgroup": "Self-propelled MRL",
         "marker": {
          "color": "#EF553B"
         },
         "name": "Self-propelled MRL",
         "offsetgroup": "Self-propelled MRL",
         "orientation": "v",
         "showlegend": true,
         "textposition": "auto",
         "type": "bar",
         "x": [
          "Saudi Arabia",
          "United Arab Emirates"
         ],
         "xaxis": "x",
         "y": [
          10,
          5
         ],
         "yaxis": "y"
        },
        {
         "alignmentgroup": "True",
         "hovertemplate": "weapon_description=Patrol craft<br>Nation or Non-State Actor=%{x}<br>Amount of Purchases=%{y}<extra></extra>",
         "legendgroup": "Patrol craft",
         "marker": {
          "color": "#00cc96"
         },
         "name": "Patrol craft",
         "offsetgroup": "Patrol craft",
         "orientation": "v",
         "showlegend": true,
         "textposition": "auto",
         "type": "bar",
         "x": [
          "Saudi Arabia"
         ],
         "xaxis": "x",
         "y": [
          9
         ],
         "yaxis": "y"
        },
        {
         "alignmentgroup": "True",
         "hovertemplate": "weapon_description=MP aircraft<br>Nation or Non-State Actor=%{x}<br>Amount of Purchases=%{y}<extra></extra>",
         "legendgroup": "MP aircraft",
         "marker": {
          "color": "#ab63fa"
         },
         "name": "MP aircraft",
         "offsetgroup": "MP aircraft",
         "orientation": "v",
         "showlegend": true,
         "textposition": "auto",
         "type": "bar",
         "x": [
          "India"
         ],
         "xaxis": "x",
         "y": [
          8
         ],
         "yaxis": "y"
        },
        {
         "alignmentgroup": "True",
         "hovertemplate": "weapon_description=Trainer aircraft<br>Nation or Non-State Actor=%{x}<br>Amount of Purchases=%{y}<extra></extra>",
         "legendgroup": "Trainer aircraft",
         "marker": {
          "color": "#FFA15A"
         },
         "name": "Trainer aircraft",
         "offsetgroup": "Trainer aircraft",
         "orientation": "v",
         "showlegend": true,
         "textposition": "auto",
         "type": "bar",
         "x": [
          "Qatar"
         ],
         "xaxis": "x",
         "y": [
          8
         ],
         "yaxis": "y"
        },
        {
         "alignmentgroup": "True",
         "hovertemplate": "weapon_description=Self-propelled MRL/SSM TEL<br>Nation or Non-State Actor=%{x}<br>Amount of Purchases=%{y}<extra></extra>",
         "legendgroup": "Self-propelled MRL/SSM TEL",
         "marker": {
          "color": "#19d3f3"
         },
         "name": "Self-propelled MRL/SSM TEL",
         "offsetgroup": "Self-propelled MRL/SSM TEL",
         "orientation": "v",
         "showlegend": true,
         "textposition": "auto",
         "type": "bar",
         "x": [
          "Qatar"
         ],
         "xaxis": "x",
         "y": [
          8
         ],
         "yaxis": "y"
        },
        {
         "alignmentgroup": "True",
         "hovertemplate": "weapon_description=Light transport ac<br>Nation or Non-State Actor=%{x}<br>Amount of Purchases=%{y}<extra></extra>",
         "legendgroup": "Light transport ac",
         "marker": {
          "color": "#FF6692"
         },
         "name": "Light transport ac",
         "offsetgroup": "Light transport ac",
         "orientation": "v",
         "showlegend": true,
         "textposition": "auto",
         "type": "bar",
         "x": [
          "Afghanistan"
         ],
         "xaxis": "x",
         "y": [
          8
         ],
         "yaxis": "y"
        },
        {
         "alignmentgroup": "True",
         "hovertemplate": "weapon_description=Trainer/combat ac<br>Nation or Non-State Actor=%{x}<br>Amount of Purchases=%{y}<extra></extra>",
         "legendgroup": "Trainer/combat ac",
         "marker": {
          "color": "#B6E880"
         },
         "name": "Trainer/combat ac",
         "offsetgroup": "Trainer/combat ac",
         "orientation": "v",
         "showlegend": true,
         "textposition": "auto",
         "type": "bar",
         "x": [
          "Afghanistan"
         ],
         "xaxis": "x",
         "y": [
          6
         ],
         "yaxis": "y"
        },
        {
         "alignmentgroup": "True",
         "hovertemplate": "weapon_description=Air search radar<br>Nation or Non-State Actor=%{x}<br>Amount of Purchases=%{y}<extra></extra>",
         "legendgroup": "Air search radar",
         "marker": {
          "color": "#FF97FF"
         },
         "name": "Air search radar",
         "offsetgroup": "Air search radar",
         "orientation": "v",
         "showlegend": true,
         "textposition": "auto",
         "type": "bar",
         "x": [
          "Saudi Arabia",
          "India"
         ],
         "xaxis": "x",
         "y": [
          6,
          1
         ],
         "yaxis": "y"
        },
        {
         "alignmentgroup": "True",
         "hovertemplate": "weapon_description=UAV<br>Nation or Non-State Actor=%{x}<br>Amount of Purchases=%{y}<extra></extra>",
         "legendgroup": "UAV",
         "marker": {
          "color": "#FECB52"
         },
         "name": "UAV",
         "offsetgroup": "UAV",
         "orientation": "v",
         "showlegend": true,
         "textposition": "auto",
         "type": "bar",
         "x": [
          "United Arab Emirates",
          "India"
         ],
         "xaxis": "x",
         "y": [
          5,
          2
         ],
         "yaxis": "y"
        },
        {
         "alignmentgroup": "True",
         "hovertemplate": "weapon_description=Transport aircraft<br>Nation or Non-State Actor=%{x}<br>Amount of Purchases=%{y}<extra></extra>",
         "legendgroup": "Transport aircraft",
         "marker": {
          "color": "#636efa"
         },
         "name": "Transport aircraft",
         "offsetgroup": "Transport aircraft",
         "orientation": "v",
         "showlegend": true,
         "textposition": "auto",
         "type": "bar",
         "x": [
          "United Arab Emirates",
          "Qatar",
          "India"
         ],
         "xaxis": "x",
         "y": [
          5,
          2,
          1
         ],
         "yaxis": "y"
        },
        {
         "alignmentgroup": "True",
         "hovertemplate": "weapon_description=Combat helicopter<br>Nation or Non-State Actor=%{x}<br>Amount of Purchases=%{y}<extra></extra>",
         "legendgroup": "Combat helicopter",
         "marker": {
          "color": "#EF553B"
         },
         "name": "Combat helicopter",
         "offsetgroup": "Combat helicopter",
         "orientation": "v",
         "showlegend": true,
         "textposition": "auto",
         "type": "bar",
         "x": [
          "Afghanistan"
         ],
         "xaxis": "x",
         "y": [
          4
         ],
         "yaxis": "y"
        },
        {
         "alignmentgroup": "True",
         "hovertemplate": "weapon_description=Arty locating radar<br>Nation or Non-State Actor=%{x}<br>Amount of Purchases=%{y}<extra></extra>",
         "legendgroup": "Arty locating radar",
         "marker": {
          "color": "#00cc96"
         },
         "name": "Arty locating radar",
         "offsetgroup": "Arty locating radar",
         "orientation": "v",
         "showlegend": true,
         "textposition": "auto",
         "type": "bar",
         "x": [
          "United Arab Emirates",
          "Qatar"
         ],
         "xaxis": "x",
         "y": [
          3,
          2
         ],
         "yaxis": "y"
        },
        {
         "alignmentgroup": "True",
         "hovertemplate": "weapon_description=AGS aircraft<br>Nation or Non-State Actor=%{x}<br>Amount of Purchases=%{y}<extra></extra>",
         "legendgroup": "AGS aircraft",
         "marker": {
          "color": "#ab63fa"
         },
         "name": "AGS aircraft",
         "offsetgroup": "AGS aircraft",
         "orientation": "v",
         "showlegend": true,
         "textposition": "auto",
         "type": "bar",
         "x": [
          "Saudi Arabia"
         ],
         "xaxis": "x",
         "y": [
          2
         ],
         "yaxis": "y"
        },
        {
         "alignmentgroup": "True",
         "hovertemplate": "weapon_description=Fire control radar<br>Nation or Non-State Actor=%{x}<br>Amount of Purchases=%{y}<extra></extra>",
         "legendgroup": "Fire control radar",
         "marker": {
          "color": "#FFA15A"
         },
         "name": "Fire control radar",
         "offsetgroup": "Fire control radar",
         "orientation": "v",
         "showlegend": true,
         "textposition": "auto",
         "type": "bar",
         "x": [
          "Saudi Arabia"
         ],
         "xaxis": "x",
         "y": [
          2
         ],
         "yaxis": "y"
        },
        {
         "alignmentgroup": "True",
         "hovertemplate": "weapon_description=Aircraft recce system<br>Nation or Non-State Actor=%{x}<br>Amount of Purchases=%{y}<extra></extra>",
         "legendgroup": "Aircraft recce system",
         "marker": {
          "color": "#19d3f3"
         },
         "name": "Aircraft recce system",
         "offsetgroup": "Aircraft recce system",
         "orientation": "v",
         "showlegend": true,
         "textposition": "auto",
         "type": "bar",
         "x": [
          "United Arab Emirates"
         ],
         "xaxis": "x",
         "y": [
          2
         ],
         "yaxis": "y"
        },
        {
         "alignmentgroup": "True",
         "hovertemplate": "weapon_description=Heavy transport ac<br>Nation or Non-State Actor=%{x}<br>Amount of Purchases=%{y}<extra></extra>",
         "legendgroup": "Heavy transport ac",
         "marker": {
          "color": "#FF6692"
         },
         "name": "Heavy transport ac",
         "offsetgroup": "Heavy transport ac",
         "orientation": "v",
         "showlegend": true,
         "textposition": "auto",
         "type": "bar",
         "x": [
          "India"
         ],
         "xaxis": "x",
         "y": [
          1
         ],
         "yaxis": "y"
        },
        {
         "alignmentgroup": "True",
         "hovertemplate": "weapon_description=ASW aircraft<br>Nation or Non-State Actor=%{x}<br>Amount of Purchases=%{y}<extra></extra>",
         "legendgroup": "ASW aircraft",
         "marker": {
          "color": "#B6E880"
         },
         "name": "ASW aircraft",
         "offsetgroup": "ASW aircraft",
         "orientation": "v",
         "showlegend": true,
         "textposition": "auto",
         "type": "bar",
         "x": [
          "India"
         ],
         "xaxis": "x",
         "y": [
          1
         ],
         "yaxis": "y"
        }
       ],
       "layout": {
        "barmode": "relative",
        "legend": {
         "title": {
          "text": "weapon_description"
         },
         "tracegroupgap": 0
        },
        "template": {
         "data": {
          "bar": [
           {
            "error_x": {
             "color": "#2a3f5f"
            },
            "error_y": {
             "color": "#2a3f5f"
            },
            "marker": {
             "line": {
              "color": "#E5ECF6",
              "width": 0.5
             }
            },
            "type": "bar"
           }
          ],
          "barpolar": [
           {
            "marker": {
             "line": {
              "color": "#E5ECF6",
              "width": 0.5
             }
            },
            "type": "barpolar"
           }
          ],
          "carpet": [
           {
            "aaxis": {
             "endlinecolor": "#2a3f5f",
             "gridcolor": "white",
             "linecolor": "white",
             "minorgridcolor": "white",
             "startlinecolor": "#2a3f5f"
            },
            "baxis": {
             "endlinecolor": "#2a3f5f",
             "gridcolor": "white",
             "linecolor": "white",
             "minorgridcolor": "white",
             "startlinecolor": "#2a3f5f"
            },
            "type": "carpet"
           }
          ],
          "choropleth": [
           {
            "colorbar": {
             "outlinewidth": 0,
             "ticks": ""
            },
            "type": "choropleth"
           }
          ],
          "contour": [
           {
            "colorbar": {
             "outlinewidth": 0,
             "ticks": ""
            },
            "colorscale": [
             [
              0,
              "#0d0887"
             ],
             [
              0.1111111111111111,
              "#46039f"
             ],
             [
              0.2222222222222222,
              "#7201a8"
             ],
             [
              0.3333333333333333,
              "#9c179e"
             ],
             [
              0.4444444444444444,
              "#bd3786"
             ],
             [
              0.5555555555555556,
              "#d8576b"
             ],
             [
              0.6666666666666666,
              "#ed7953"
             ],
             [
              0.7777777777777778,
              "#fb9f3a"
             ],
             [
              0.8888888888888888,
              "#fdca26"
             ],
             [
              1,
              "#f0f921"
             ]
            ],
            "type": "contour"
           }
          ],
          "contourcarpet": [
           {
            "colorbar": {
             "outlinewidth": 0,
             "ticks": ""
            },
            "type": "contourcarpet"
           }
          ],
          "heatmap": [
           {
            "colorbar": {
             "outlinewidth": 0,
             "ticks": ""
            },
            "colorscale": [
             [
              0,
              "#0d0887"
             ],
             [
              0.1111111111111111,
              "#46039f"
             ],
             [
              0.2222222222222222,
              "#7201a8"
             ],
             [
              0.3333333333333333,
              "#9c179e"
             ],
             [
              0.4444444444444444,
              "#bd3786"
             ],
             [
              0.5555555555555556,
              "#d8576b"
             ],
             [
              0.6666666666666666,
              "#ed7953"
             ],
             [
              0.7777777777777778,
              "#fb9f3a"
             ],
             [
              0.8888888888888888,
              "#fdca26"
             ],
             [
              1,
              "#f0f921"
             ]
            ],
            "type": "heatmap"
           }
          ],
          "heatmapgl": [
           {
            "colorbar": {
             "outlinewidth": 0,
             "ticks": ""
            },
            "colorscale": [
             [
              0,
              "#0d0887"
             ],
             [
              0.1111111111111111,
              "#46039f"
             ],
             [
              0.2222222222222222,
              "#7201a8"
             ],
             [
              0.3333333333333333,
              "#9c179e"
             ],
             [
              0.4444444444444444,
              "#bd3786"
             ],
             [
              0.5555555555555556,
              "#d8576b"
             ],
             [
              0.6666666666666666,
              "#ed7953"
             ],
             [
              0.7777777777777778,
              "#fb9f3a"
             ],
             [
              0.8888888888888888,
              "#fdca26"
             ],
             [
              1,
              "#f0f921"
             ]
            ],
            "type": "heatmapgl"
           }
          ],
          "histogram": [
           {
            "marker": {
             "colorbar": {
              "outlinewidth": 0,
              "ticks": ""
             }
            },
            "type": "histogram"
           }
          ],
          "histogram2d": [
           {
            "colorbar": {
             "outlinewidth": 0,
             "ticks": ""
            },
            "colorscale": [
             [
              0,
              "#0d0887"
             ],
             [
              0.1111111111111111,
              "#46039f"
             ],
             [
              0.2222222222222222,
              "#7201a8"
             ],
             [
              0.3333333333333333,
              "#9c179e"
             ],
             [
              0.4444444444444444,
              "#bd3786"
             ],
             [
              0.5555555555555556,
              "#d8576b"
             ],
             [
              0.6666666666666666,
              "#ed7953"
             ],
             [
              0.7777777777777778,
              "#fb9f3a"
             ],
             [
              0.8888888888888888,
              "#fdca26"
             ],
             [
              1,
              "#f0f921"
             ]
            ],
            "type": "histogram2d"
           }
          ],
          "histogram2dcontour": [
           {
            "colorbar": {
             "outlinewidth": 0,
             "ticks": ""
            },
            "colorscale": [
             [
              0,
              "#0d0887"
             ],
             [
              0.1111111111111111,
              "#46039f"
             ],
             [
              0.2222222222222222,
              "#7201a8"
             ],
             [
              0.3333333333333333,
              "#9c179e"
             ],
             [
              0.4444444444444444,
              "#bd3786"
             ],
             [
              0.5555555555555556,
              "#d8576b"
             ],
             [
              0.6666666666666666,
              "#ed7953"
             ],
             [
              0.7777777777777778,
              "#fb9f3a"
             ],
             [
              0.8888888888888888,
              "#fdca26"
             ],
             [
              1,
              "#f0f921"
             ]
            ],
            "type": "histogram2dcontour"
           }
          ],
          "mesh3d": [
           {
            "colorbar": {
             "outlinewidth": 0,
             "ticks": ""
            },
            "type": "mesh3d"
           }
          ],
          "parcoords": [
           {
            "line": {
             "colorbar": {
              "outlinewidth": 0,
              "ticks": ""
             }
            },
            "type": "parcoords"
           }
          ],
          "pie": [
           {
            "automargin": true,
            "type": "pie"
           }
          ],
          "scatter": [
           {
            "marker": {
             "colorbar": {
              "outlinewidth": 0,
              "ticks": ""
             }
            },
            "type": "scatter"
           }
          ],
          "scatter3d": [
           {
            "line": {
             "colorbar": {
              "outlinewidth": 0,
              "ticks": ""
             }
            },
            "marker": {
             "colorbar": {
              "outlinewidth": 0,
              "ticks": ""
             }
            },
            "type": "scatter3d"
           }
          ],
          "scattercarpet": [
           {
            "marker": {
             "colorbar": {
              "outlinewidth": 0,
              "ticks": ""
             }
            },
            "type": "scattercarpet"
           }
          ],
          "scattergeo": [
           {
            "marker": {
             "colorbar": {
              "outlinewidth": 0,
              "ticks": ""
             }
            },
            "type": "scattergeo"
           }
          ],
          "scattergl": [
           {
            "marker": {
             "colorbar": {
              "outlinewidth": 0,
              "ticks": ""
             }
            },
            "type": "scattergl"
           }
          ],
          "scattermapbox": [
           {
            "marker": {
             "colorbar": {
              "outlinewidth": 0,
              "ticks": ""
             }
            },
            "type": "scattermapbox"
           }
          ],
          "scatterpolar": [
           {
            "marker": {
             "colorbar": {
              "outlinewidth": 0,
              "ticks": ""
             }
            },
            "type": "scatterpolar"
           }
          ],
          "scatterpolargl": [
           {
            "marker": {
             "colorbar": {
              "outlinewidth": 0,
              "ticks": ""
             }
            },
            "type": "scatterpolargl"
           }
          ],
          "scatterternary": [
           {
            "marker": {
             "colorbar": {
              "outlinewidth": 0,
              "ticks": ""
             }
            },
            "type": "scatterternary"
           }
          ],
          "surface": [
           {
            "colorbar": {
             "outlinewidth": 0,
             "ticks": ""
            },
            "colorscale": [
             [
              0,
              "#0d0887"
             ],
             [
              0.1111111111111111,
              "#46039f"
             ],
             [
              0.2222222222222222,
              "#7201a8"
             ],
             [
              0.3333333333333333,
              "#9c179e"
             ],
             [
              0.4444444444444444,
              "#bd3786"
             ],
             [
              0.5555555555555556,
              "#d8576b"
             ],
             [
              0.6666666666666666,
              "#ed7953"
             ],
             [
              0.7777777777777778,
              "#fb9f3a"
             ],
             [
              0.8888888888888888,
              "#fdca26"
             ],
             [
              1,
              "#f0f921"
             ]
            ],
            "type": "surface"
           }
          ],
          "table": [
           {
            "cells": {
             "fill": {
              "color": "#EBF0F8"
             },
             "line": {
              "color": "white"
             }
            },
            "header": {
             "fill": {
              "color": "#C8D4E3"
             },
             "line": {
              "color": "white"
             }
            },
            "type": "table"
           }
          ]
         },
         "layout": {
          "annotationdefaults": {
           "arrowcolor": "#2a3f5f",
           "arrowhead": 0,
           "arrowwidth": 1
          },
          "autotypenumbers": "strict",
          "coloraxis": {
           "colorbar": {
            "outlinewidth": 0,
            "ticks": ""
           }
          },
          "colorscale": {
           "diverging": [
            [
             0,
             "#8e0152"
            ],
            [
             0.1,
             "#c51b7d"
            ],
            [
             0.2,
             "#de77ae"
            ],
            [
             0.3,
             "#f1b6da"
            ],
            [
             0.4,
             "#fde0ef"
            ],
            [
             0.5,
             "#f7f7f7"
            ],
            [
             0.6,
             "#e6f5d0"
            ],
            [
             0.7,
             "#b8e186"
            ],
            [
             0.8,
             "#7fbc41"
            ],
            [
             0.9,
             "#4d9221"
            ],
            [
             1,
             "#276419"
            ]
           ],
           "sequential": [
            [
             0,
             "#0d0887"
            ],
            [
             0.1111111111111111,
             "#46039f"
            ],
            [
             0.2222222222222222,
             "#7201a8"
            ],
            [
             0.3333333333333333,
             "#9c179e"
            ],
            [
             0.4444444444444444,
             "#bd3786"
            ],
            [
             0.5555555555555556,
             "#d8576b"
            ],
            [
             0.6666666666666666,
             "#ed7953"
            ],
            [
             0.7777777777777778,
             "#fb9f3a"
            ],
            [
             0.8888888888888888,
             "#fdca26"
            ],
            [
             1,
             "#f0f921"
            ]
           ],
           "sequentialminus": [
            [
             0,
             "#0d0887"
            ],
            [
             0.1111111111111111,
             "#46039f"
            ],
            [
             0.2222222222222222,
             "#7201a8"
            ],
            [
             0.3333333333333333,
             "#9c179e"
            ],
            [
             0.4444444444444444,
             "#bd3786"
            ],
            [
             0.5555555555555556,
             "#d8576b"
            ],
            [
             0.6666666666666666,
             "#ed7953"
            ],
            [
             0.7777777777777778,
             "#fb9f3a"
            ],
            [
             0.8888888888888888,
             "#fdca26"
            ],
            [
             1,
             "#f0f921"
            ]
           ]
          },
          "colorway": [
           "#636efa",
           "#EF553B",
           "#00cc96",
           "#ab63fa",
           "#FFA15A",
           "#19d3f3",
           "#FF6692",
           "#B6E880",
           "#FF97FF",
           "#FECB52"
          ],
          "font": {
           "color": "#2a3f5f"
          },
          "geo": {
           "bgcolor": "white",
           "lakecolor": "white",
           "landcolor": "#E5ECF6",
           "showlakes": true,
           "showland": true,
           "subunitcolor": "white"
          },
          "hoverlabel": {
           "align": "left"
          },
          "hovermode": "closest",
          "mapbox": {
           "style": "light"
          },
          "paper_bgcolor": "white",
          "plot_bgcolor": "#E5ECF6",
          "polar": {
           "angularaxis": {
            "gridcolor": "white",
            "linecolor": "white",
            "ticks": ""
           },
           "bgcolor": "#E5ECF6",
           "radialaxis": {
            "gridcolor": "white",
            "linecolor": "white",
            "ticks": ""
           }
          },
          "scene": {
           "xaxis": {
            "backgroundcolor": "#E5ECF6",
            "gridcolor": "white",
            "gridwidth": 2,
            "linecolor": "white",
            "showbackground": true,
            "ticks": "",
            "zerolinecolor": "white"
           },
           "yaxis": {
            "backgroundcolor": "#E5ECF6",
            "gridcolor": "white",
            "gridwidth": 2,
            "linecolor": "white",
            "showbackground": true,
            "ticks": "",
            "zerolinecolor": "white"
           },
           "zaxis": {
            "backgroundcolor": "#E5ECF6",
            "gridcolor": "white",
            "gridwidth": 2,
            "linecolor": "white",
            "showbackground": true,
            "ticks": "",
            "zerolinecolor": "white"
           }
          },
          "shapedefaults": {
           "line": {
            "color": "#2a3f5f"
           }
          },
          "ternary": {
           "aaxis": {
            "gridcolor": "white",
            "linecolor": "white",
            "ticks": ""
           },
           "baxis": {
            "gridcolor": "white",
            "linecolor": "white",
            "ticks": ""
           },
           "bgcolor": "#E5ECF6",
           "caxis": {
            "gridcolor": "white",
            "linecolor": "white",
            "ticks": ""
           }
          },
          "title": {
           "x": 0.05
          },
          "xaxis": {
           "automargin": true,
           "gridcolor": "white",
           "linecolor": "white",
           "ticks": "",
           "title": {
            "standoff": 15
           },
           "zerolinecolor": "white",
           "zerolinewidth": 2
          },
          "yaxis": {
           "automargin": true,
           "gridcolor": "white",
           "linecolor": "white",
           "ticks": "",
           "title": {
            "standoff": 15
           },
           "zerolinecolor": "white",
           "zerolinewidth": 2
          }
         }
        },
        "title": {
         "text": "Total Amount of Weapon Purchases by Top 5 Nations 2015-2020"
        },
        "xaxis": {
         "anchor": "y",
         "categoryarray": [
          "Saudi Arabia",
          "United Arab Emirates",
          "India",
          "Afghanistan",
          "Qatar"
         ],
         "categoryorder": "array",
         "domain": [
          0,
          1
         ],
         "title": {
          "text": "Nation or Non-State Actor"
         }
        },
        "yaxis": {
         "anchor": "x",
         "domain": [
          0,
          1
         ],
         "title": {
          "text": "Amount of Purchases"
         }
        }
       }
      }
     },
     "metadata": {}
    }
   ],
   "source": [
    "sipri_most_purchases = px.bar(sipri_countries.query('buyer==\"India\"|buyer==\"Saudi Arabia\"|buyer==\"United Arab Emirates\"|buyer==\"Afghanistan\"|buyer==\"Qatar\"'),x='buyer',y='total', color='weapon_description',\n",
    "title=\"Total Amount of Weapon Purchases by Top 5 Nations 2015-2020\",\n",
    "labels={'buyer':'Nation or Non-State Actor','total':'Amount of Purchases'},\n",
    "category_orders={'buyer':['Saudi Arabia','United Arab Emirates','India','Afghanistan','Qatar']}\n",
    ")\n",
    "sipri_most_purchases.show()"
   ]
  },
  {
   "cell_type": "code",
   "execution_count": 304,
   "metadata": {},
   "outputs": [],
   "source": [
    "#acled_countries = pd.read_sql_query('SELECT country,sub_event_type, COUNT(*) FROM acled GROUP BY country,sub_event_type ORDER BY COUNT(*) DESC',db)\n",
    "#acled_countries = pd.read_sql_query(\"\"\"SELECT country,sub_event_type, COUNT(*) FROM acled WHERE sub_event_type <>'Peaceful protest' AND sub_event_type <> 'Change to group/activity' GROUP BY country,sub_event_type ORDER BY COUNT(*) DESC\"\"\",db)\n",
    "acled_countries = pd.read_sql_query(\"\"\"SELECT country, COALESCE(sub_event_type,'Total') AS event, total FROM (SELECT \n",
    "\tcountry,sub_event_type,COUNT(sub_event_type) as total\n",
    "FROM\n",
    "\tacled\n",
    "GROUP BY\n",
    "\tROLLUP(country,sub_event_type)\n",
    "ORDER BY\n",
    "\tcountry,total) AS rolledup\"\"\",db)"
   ]
  },
  {
   "cell_type": "code",
   "execution_count": 305,
   "metadata": {},
   "outputs": [],
   "source": [
    "#acled_countries.describe(include='all')\n",
    "#df_test = pd.DataFrame(index=pd.MultiIndex.from_frame(acled_countries))\n",
    "newdf = acled_countries.set_index(['country','event']).sort_index()"
   ]
  },
  {
   "cell_type": "code",
   "execution_count": 309,
   "metadata": {},
   "outputs": [
    {
     "output_type": "execute_result",
     "data": {
      "text/plain": [
       "                                            total\n",
       "country event                                    \n",
       "India   Headquarters or base established        1\n",
       "        Non-violent transfer of territory       1\n",
       "        Air/drone strike                        2\n",
       "        Government regains territory            2\n",
       "        Suicide bomb                            3\n",
       "        Agreement                              33\n",
       "        Other                                  38\n",
       "        Change to group/activity               47\n",
       "        Shelling/artillery/missile attack      62\n",
       "        Sexual violence                        89\n",
       "        Abduction/forced disappearance        146\n",
       "        Arrests                               159\n",
       "        Excessive force against protesters    194\n",
       "        Looting/property destruction          302\n",
       "        Grenade                               346\n",
       "        Disrupted weapons use                 431\n",
       "        Remote explosive/landmine/IED         692\n",
       "        Attack                               3601\n",
       "        Protest with intervention            4474\n",
       "        Armed clash                          4789\n",
       "        Violent demonstration                4933\n",
       "        Mob violence                         8630\n",
       "        Peaceful protest                    60693\n",
       "        Total                               89668"
      ],
      "text/html": "<div>\n<style scoped>\n    .dataframe tbody tr th:only-of-type {\n        vertical-align: middle;\n    }\n\n    .dataframe tbody tr th {\n        vertical-align: top;\n    }\n\n    .dataframe thead th {\n        text-align: right;\n    }\n</style>\n<table border=\"1\" class=\"dataframe\">\n  <thead>\n    <tr style=\"text-align: right;\">\n      <th></th>\n      <th></th>\n      <th>total</th>\n    </tr>\n    <tr>\n      <th>country</th>\n      <th>event</th>\n      <th></th>\n    </tr>\n  </thead>\n  <tbody>\n    <tr>\n      <th rowspan=\"24\" valign=\"top\">India</th>\n      <th>Headquarters or base established</th>\n      <td>1</td>\n    </tr>\n    <tr>\n      <th>Non-violent transfer of territory</th>\n      <td>1</td>\n    </tr>\n    <tr>\n      <th>Air/drone strike</th>\n      <td>2</td>\n    </tr>\n    <tr>\n      <th>Government regains territory</th>\n      <td>2</td>\n    </tr>\n    <tr>\n      <th>Suicide bomb</th>\n      <td>3</td>\n    </tr>\n    <tr>\n      <th>Agreement</th>\n      <td>33</td>\n    </tr>\n    <tr>\n      <th>Other</th>\n      <td>38</td>\n    </tr>\n    <tr>\n      <th>Change to group/activity</th>\n      <td>47</td>\n    </tr>\n    <tr>\n      <th>Shelling/artillery/missile attack</th>\n      <td>62</td>\n    </tr>\n    <tr>\n      <th>Sexual violence</th>\n      <td>89</td>\n    </tr>\n    <tr>\n      <th>Abduction/forced disappearance</th>\n      <td>146</td>\n    </tr>\n    <tr>\n      <th>Arrests</th>\n      <td>159</td>\n    </tr>\n    <tr>\n      <th>Excessive force against protesters</th>\n      <td>194</td>\n    </tr>\n    <tr>\n      <th>Looting/property destruction</th>\n      <td>302</td>\n    </tr>\n    <tr>\n      <th>Grenade</th>\n      <td>346</td>\n    </tr>\n    <tr>\n      <th>Disrupted weapons use</th>\n      <td>431</td>\n    </tr>\n    <tr>\n      <th>Remote explosive/landmine/IED</th>\n      <td>692</td>\n    </tr>\n    <tr>\n      <th>Attack</th>\n      <td>3601</td>\n    </tr>\n    <tr>\n      <th>Protest with intervention</th>\n      <td>4474</td>\n    </tr>\n    <tr>\n      <th>Armed clash</th>\n      <td>4789</td>\n    </tr>\n    <tr>\n      <th>Violent demonstration</th>\n      <td>4933</td>\n    </tr>\n    <tr>\n      <th>Mob violence</th>\n      <td>8630</td>\n    </tr>\n    <tr>\n      <th>Peaceful protest</th>\n      <td>60693</td>\n    </tr>\n    <tr>\n      <th>Total</th>\n      <td>89668</td>\n    </tr>\n  </tbody>\n</table>\n</div>"
     },
     "metadata": {},
     "execution_count": 309
    }
   ],
   "source": [
    "newdf.query('country==\"India\"').sort_values(by=['country','total'])"
   ]
  },
  {
   "cell_type": "code",
   "execution_count": 129,
   "metadata": {},
   "outputs": [],
   "source": [
    "acled_drones = pd.read_sql_query(\"\"\"SELECT country,\n",
    "COALESCE(\"2000\",0)\"2000\",\n",
    "COALESCE(\"2001\",0) \"2001\",\n",
    "COALESCE(\"2002\",0)\"2002\",\n",
    "COALESCE(\"2003\",0)\"2003\",\n",
    "COALESCE(\"2004\",0)\"2004\",\n",
    "COALESCE(\"2005\",0)\"2005\",\n",
    "COALESCE(\"2006\",0)\"2006\",\n",
    "COALESCE(\"2007\",0)\"2007\",\n",
    "COALESCE(\"2008\",0)\"2008\",\n",
    "COALESCE(\"2009\",0)\"2009\",\n",
    "COALESCE(\"2010\",0)\"2010\",\n",
    "COALESCE(\"2011\",0)\"2011\",\n",
    "COALESCE(\"2012\",0)\"2012\",\n",
    "COALESCE(\"2013\",0)\"2013\",\n",
    "COALESCE(\"2014\",0)\"2014\",\n",
    "COALESCE(\"2015\",0)\"2015\",\n",
    "COALESCE(\"2016\",0)\"2016\",\n",
    "COALESCE(\"2017\",0)\"2017\",\n",
    "COALESCE(\"2018\",0)\"2018\",\n",
    "COALESCE(\"2019\",0)\"2019\",\n",
    "COALESCE(\"2020\",0)\"2020\"\n",
    "FROM crosstab($$\n",
    "\tSELECT country,year,COUNT(*) AS ct\n",
    "\tFROM acled\n",
    "\tWHERE\n",
    "\tnotes ILIKE '%drone%'\n",
    "\t\t\t  AND\n",
    "\t\t\t  sub_event_type IN ('Shelling/artillery/missile attack',\n",
    "\t\t\t\t   'Armed clash',\n",
    "\t\t\t\t   'Disrupted weapons use',\n",
    "\t\t\t\t   'Air/drone strike'\n",
    "\t\t\t\t  )\n",
    "\tGROUP BY 1,2\n",
    "\tORDER BY 1$$,\n",
    "\t$$ SELECT y FROM generate_series(2000,2020) y$$) \n",
    "AS ct(country text,\n",
    "\t  \"2000\" bigint,\n",
    "\t \"2001\" bigint,\n",
    "\t \"2002\" bigint,\n",
    "\t \"2003\" bigint,\n",
    "\t \"2004\" bigint,\n",
    "\t \"2005\" bigint,\n",
    "\t \"2006\" bigint,\n",
    "\t \"2007\" bigint,\n",
    "\t \"2008\" bigint,\n",
    "\t \"2009\" bigint,\n",
    "\t \"2010\" bigint,\n",
    "\t \"2011\" bigint,\n",
    "\t \"2012\" bigint,\n",
    "\t \"2013\" bigint,\n",
    "\t \"2014\" bigint,\n",
    "\t \"2015\" bigint,\n",
    "\t \"2016\" bigint,\n",
    "\t \"2017\" bigint,\n",
    "\t \"2018\" bigint,\n",
    "\t \"2019\" bigint,\n",
    "\t \"2020\" bigint)\"\"\",db)"
   ]
  },
  {
   "cell_type": "code",
   "execution_count": 144,
   "metadata": {},
   "outputs": [],
   "source": [
    "df5 = acled_drones.set_index('country').T"
   ]
  },
  {
   "cell_type": "code",
   "execution_count": 139,
   "metadata": {},
   "outputs": [
    {
     "output_type": "execute_result",
     "data": {
      "text/plain": [
       "2000      0\n",
       "2001      0\n",
       "2002      0\n",
       "2003      0\n",
       "2004      0\n",
       "2005      0\n",
       "2006      0\n",
       "2007      0\n",
       "2008      0\n",
       "2009      0\n",
       "2010      0\n",
       "2011      0\n",
       "2012      0\n",
       "2013      0\n",
       "2014      0\n",
       "2015      0\n",
       "2016      0\n",
       "2017    190\n",
       "2018    125\n",
       "2019    128\n",
       "2020     42\n",
       "Name: 0, dtype: object"
      ]
     },
     "metadata": {},
     "execution_count": 139
    }
   ],
   "source": [
    "acled_drones.iloc[0][1:22]"
   ]
  },
  {
   "cell_type": "code",
   "execution_count": 154,
   "metadata": {},
   "outputs": [
    {
     "output_type": "display_data",
     "data": {
      "application/vnd.plotly.v1+json": {
       "config": {
        "plotlyServerURL": "https://plot.ly"
       },
       "data": [
        {
         "hovertemplate": "variable=2000<br>country=%{x}<br>value=%{y}<extra></extra>",
         "legendgroup": "2000",
         "marker": {
          "color": "#636efa",
          "symbol": "circle"
         },
         "mode": "markers",
         "name": "2000",
         "orientation": "v",
         "showlegend": true,
         "type": "scatter",
         "x": [
          "Afghanistan",
          "Armenia",
          "Azerbaijan",
          "Burkina Faso",
          "Central African Republic",
          "Colombia",
          "Egypt",
          "Georgia",
          "India",
          "Iran",
          "Iraq",
          "Israel",
          "Jordan",
          "Lebanon",
          "Libya",
          "Mali",
          "Mexico",
          "Myanmar",
          "Niger",
          "Nigeria",
          "Pakistan",
          "Palestine",
          "Saudi Arabia",
          "Somalia",
          "South Sudan",
          "Sri Lanka",
          "Sudan",
          "Syria",
          "Turkey",
          "Ukraine",
          "United Arab Emirates",
          "Venezuela",
          "Yemen"
         ],
         "xaxis": "x",
         "y": [
          0,
          0,
          0,
          0,
          0,
          0,
          0,
          0,
          0,
          0,
          0,
          0,
          0,
          0,
          0,
          0,
          0,
          0,
          0,
          0,
          0,
          0,
          0,
          0,
          0,
          0,
          0,
          0,
          0,
          0,
          0,
          0,
          0
         ],
         "yaxis": "y"
        },
        {
         "hovertemplate": "variable=2001<br>country=%{x}<br>value=%{y}<extra></extra>",
         "legendgroup": "2001",
         "marker": {
          "color": "#EF553B",
          "symbol": "circle"
         },
         "mode": "markers",
         "name": "2001",
         "orientation": "v",
         "showlegend": true,
         "type": "scatter",
         "x": [
          "Afghanistan",
          "Armenia",
          "Azerbaijan",
          "Burkina Faso",
          "Central African Republic",
          "Colombia",
          "Egypt",
          "Georgia",
          "India",
          "Iran",
          "Iraq",
          "Israel",
          "Jordan",
          "Lebanon",
          "Libya",
          "Mali",
          "Mexico",
          "Myanmar",
          "Niger",
          "Nigeria",
          "Pakistan",
          "Palestine",
          "Saudi Arabia",
          "Somalia",
          "South Sudan",
          "Sri Lanka",
          "Sudan",
          "Syria",
          "Turkey",
          "Ukraine",
          "United Arab Emirates",
          "Venezuela",
          "Yemen"
         ],
         "xaxis": "x",
         "y": [
          0,
          0,
          0,
          0,
          0,
          0,
          0,
          0,
          0,
          0,
          0,
          0,
          0,
          0,
          0,
          0,
          0,
          0,
          0,
          0,
          0,
          0,
          0,
          0,
          0,
          0,
          0,
          0,
          0,
          0,
          0,
          0,
          0
         ],
         "yaxis": "y"
        },
        {
         "hovertemplate": "variable=2002<br>country=%{x}<br>value=%{y}<extra></extra>",
         "legendgroup": "2002",
         "marker": {
          "color": "#00cc96",
          "symbol": "circle"
         },
         "mode": "markers",
         "name": "2002",
         "orientation": "v",
         "showlegend": true,
         "type": "scatter",
         "x": [
          "Afghanistan",
          "Armenia",
          "Azerbaijan",
          "Burkina Faso",
          "Central African Republic",
          "Colombia",
          "Egypt",
          "Georgia",
          "India",
          "Iran",
          "Iraq",
          "Israel",
          "Jordan",
          "Lebanon",
          "Libya",
          "Mali",
          "Mexico",
          "Myanmar",
          "Niger",
          "Nigeria",
          "Pakistan",
          "Palestine",
          "Saudi Arabia",
          "Somalia",
          "South Sudan",
          "Sri Lanka",
          "Sudan",
          "Syria",
          "Turkey",
          "Ukraine",
          "United Arab Emirates",
          "Venezuela",
          "Yemen"
         ],
         "xaxis": "x",
         "y": [
          0,
          0,
          0,
          0,
          0,
          0,
          0,
          0,
          0,
          0,
          0,
          0,
          0,
          0,
          0,
          0,
          0,
          0,
          0,
          0,
          0,
          0,
          0,
          0,
          0,
          0,
          0,
          0,
          0,
          0,
          0,
          0,
          0
         ],
         "yaxis": "y"
        },
        {
         "hovertemplate": "variable=2003<br>country=%{x}<br>value=%{y}<extra></extra>",
         "legendgroup": "2003",
         "marker": {
          "color": "#ab63fa",
          "symbol": "circle"
         },
         "mode": "markers",
         "name": "2003",
         "orientation": "v",
         "showlegend": true,
         "type": "scatter",
         "x": [
          "Afghanistan",
          "Armenia",
          "Azerbaijan",
          "Burkina Faso",
          "Central African Republic",
          "Colombia",
          "Egypt",
          "Georgia",
          "India",
          "Iran",
          "Iraq",
          "Israel",
          "Jordan",
          "Lebanon",
          "Libya",
          "Mali",
          "Mexico",
          "Myanmar",
          "Niger",
          "Nigeria",
          "Pakistan",
          "Palestine",
          "Saudi Arabia",
          "Somalia",
          "South Sudan",
          "Sri Lanka",
          "Sudan",
          "Syria",
          "Turkey",
          "Ukraine",
          "United Arab Emirates",
          "Venezuela",
          "Yemen"
         ],
         "xaxis": "x",
         "y": [
          0,
          0,
          0,
          0,
          0,
          0,
          0,
          0,
          0,
          0,
          0,
          0,
          0,
          0,
          0,
          0,
          0,
          0,
          0,
          0,
          0,
          0,
          0,
          0,
          0,
          0,
          0,
          0,
          0,
          0,
          0,
          0,
          0
         ],
         "yaxis": "y"
        },
        {
         "hovertemplate": "variable=2004<br>country=%{x}<br>value=%{y}<extra></extra>",
         "legendgroup": "2004",
         "marker": {
          "color": "#FFA15A",
          "symbol": "circle"
         },
         "mode": "markers",
         "name": "2004",
         "orientation": "v",
         "showlegend": true,
         "type": "scatter",
         "x": [
          "Afghanistan",
          "Armenia",
          "Azerbaijan",
          "Burkina Faso",
          "Central African Republic",
          "Colombia",
          "Egypt",
          "Georgia",
          "India",
          "Iran",
          "Iraq",
          "Israel",
          "Jordan",
          "Lebanon",
          "Libya",
          "Mali",
          "Mexico",
          "Myanmar",
          "Niger",
          "Nigeria",
          "Pakistan",
          "Palestine",
          "Saudi Arabia",
          "Somalia",
          "South Sudan",
          "Sri Lanka",
          "Sudan",
          "Syria",
          "Turkey",
          "Ukraine",
          "United Arab Emirates",
          "Venezuela",
          "Yemen"
         ],
         "xaxis": "x",
         "y": [
          0,
          0,
          0,
          0,
          0,
          0,
          0,
          0,
          0,
          0,
          0,
          0,
          0,
          0,
          0,
          0,
          0,
          0,
          0,
          0,
          0,
          0,
          0,
          0,
          0,
          0,
          0,
          0,
          0,
          0,
          0,
          0,
          0
         ],
         "yaxis": "y"
        },
        {
         "hovertemplate": "variable=2005<br>country=%{x}<br>value=%{y}<extra></extra>",
         "legendgroup": "2005",
         "marker": {
          "color": "#19d3f3",
          "symbol": "circle"
         },
         "mode": "markers",
         "name": "2005",
         "orientation": "v",
         "showlegend": true,
         "type": "scatter",
         "x": [
          "Afghanistan",
          "Armenia",
          "Azerbaijan",
          "Burkina Faso",
          "Central African Republic",
          "Colombia",
          "Egypt",
          "Georgia",
          "India",
          "Iran",
          "Iraq",
          "Israel",
          "Jordan",
          "Lebanon",
          "Libya",
          "Mali",
          "Mexico",
          "Myanmar",
          "Niger",
          "Nigeria",
          "Pakistan",
          "Palestine",
          "Saudi Arabia",
          "Somalia",
          "South Sudan",
          "Sri Lanka",
          "Sudan",
          "Syria",
          "Turkey",
          "Ukraine",
          "United Arab Emirates",
          "Venezuela",
          "Yemen"
         ],
         "xaxis": "x",
         "y": [
          0,
          0,
          0,
          0,
          0,
          0,
          0,
          0,
          0,
          0,
          0,
          0,
          0,
          0,
          0,
          0,
          0,
          0,
          0,
          0,
          0,
          0,
          0,
          0,
          0,
          0,
          0,
          0,
          0,
          0,
          0,
          0,
          0
         ],
         "yaxis": "y"
        },
        {
         "hovertemplate": "variable=2006<br>country=%{x}<br>value=%{y}<extra></extra>",
         "legendgroup": "2006",
         "marker": {
          "color": "#FF6692",
          "symbol": "circle"
         },
         "mode": "markers",
         "name": "2006",
         "orientation": "v",
         "showlegend": true,
         "type": "scatter",
         "x": [
          "Afghanistan",
          "Armenia",
          "Azerbaijan",
          "Burkina Faso",
          "Central African Republic",
          "Colombia",
          "Egypt",
          "Georgia",
          "India",
          "Iran",
          "Iraq",
          "Israel",
          "Jordan",
          "Lebanon",
          "Libya",
          "Mali",
          "Mexico",
          "Myanmar",
          "Niger",
          "Nigeria",
          "Pakistan",
          "Palestine",
          "Saudi Arabia",
          "Somalia",
          "South Sudan",
          "Sri Lanka",
          "Sudan",
          "Syria",
          "Turkey",
          "Ukraine",
          "United Arab Emirates",
          "Venezuela",
          "Yemen"
         ],
         "xaxis": "x",
         "y": [
          0,
          0,
          0,
          0,
          0,
          0,
          0,
          0,
          0,
          0,
          0,
          0,
          0,
          0,
          0,
          0,
          0,
          0,
          0,
          0,
          0,
          0,
          0,
          0,
          0,
          0,
          0,
          0,
          0,
          0,
          0,
          0,
          0
         ],
         "yaxis": "y"
        },
        {
         "hovertemplate": "variable=2007<br>country=%{x}<br>value=%{y}<extra></extra>",
         "legendgroup": "2007",
         "marker": {
          "color": "#B6E880",
          "symbol": "circle"
         },
         "mode": "markers",
         "name": "2007",
         "orientation": "v",
         "showlegend": true,
         "type": "scatter",
         "x": [
          "Afghanistan",
          "Armenia",
          "Azerbaijan",
          "Burkina Faso",
          "Central African Republic",
          "Colombia",
          "Egypt",
          "Georgia",
          "India",
          "Iran",
          "Iraq",
          "Israel",
          "Jordan",
          "Lebanon",
          "Libya",
          "Mali",
          "Mexico",
          "Myanmar",
          "Niger",
          "Nigeria",
          "Pakistan",
          "Palestine",
          "Saudi Arabia",
          "Somalia",
          "South Sudan",
          "Sri Lanka",
          "Sudan",
          "Syria",
          "Turkey",
          "Ukraine",
          "United Arab Emirates",
          "Venezuela",
          "Yemen"
         ],
         "xaxis": "x",
         "y": [
          0,
          0,
          0,
          0,
          0,
          0,
          0,
          0,
          0,
          0,
          0,
          0,
          0,
          0,
          0,
          0,
          0,
          0,
          0,
          0,
          0,
          0,
          0,
          1,
          0,
          0,
          0,
          0,
          0,
          0,
          0,
          0,
          0
         ],
         "yaxis": "y"
        },
        {
         "hovertemplate": "variable=2008<br>country=%{x}<br>value=%{y}<extra></extra>",
         "legendgroup": "2008",
         "marker": {
          "color": "#FF97FF",
          "symbol": "circle"
         },
         "mode": "markers",
         "name": "2008",
         "orientation": "v",
         "showlegend": true,
         "type": "scatter",
         "x": [
          "Afghanistan",
          "Armenia",
          "Azerbaijan",
          "Burkina Faso",
          "Central African Republic",
          "Colombia",
          "Egypt",
          "Georgia",
          "India",
          "Iran",
          "Iraq",
          "Israel",
          "Jordan",
          "Lebanon",
          "Libya",
          "Mali",
          "Mexico",
          "Myanmar",
          "Niger",
          "Nigeria",
          "Pakistan",
          "Palestine",
          "Saudi Arabia",
          "Somalia",
          "South Sudan",
          "Sri Lanka",
          "Sudan",
          "Syria",
          "Turkey",
          "Ukraine",
          "United Arab Emirates",
          "Venezuela",
          "Yemen"
         ],
         "xaxis": "x",
         "y": [
          0,
          0,
          0,
          0,
          0,
          0,
          0,
          0,
          0,
          0,
          0,
          0,
          0,
          0,
          0,
          0,
          0,
          0,
          0,
          0,
          0,
          0,
          0,
          0,
          0,
          0,
          2,
          0,
          0,
          0,
          0,
          0,
          0
         ],
         "yaxis": "y"
        },
        {
         "hovertemplate": "variable=2009<br>country=%{x}<br>value=%{y}<extra></extra>",
         "legendgroup": "2009",
         "marker": {
          "color": "#FECB52",
          "symbol": "circle"
         },
         "mode": "markers",
         "name": "2009",
         "orientation": "v",
         "showlegend": true,
         "type": "scatter",
         "x": [
          "Afghanistan",
          "Armenia",
          "Azerbaijan",
          "Burkina Faso",
          "Central African Republic",
          "Colombia",
          "Egypt",
          "Georgia",
          "India",
          "Iran",
          "Iraq",
          "Israel",
          "Jordan",
          "Lebanon",
          "Libya",
          "Mali",
          "Mexico",
          "Myanmar",
          "Niger",
          "Nigeria",
          "Pakistan",
          "Palestine",
          "Saudi Arabia",
          "Somalia",
          "South Sudan",
          "Sri Lanka",
          "Sudan",
          "Syria",
          "Turkey",
          "Ukraine",
          "United Arab Emirates",
          "Venezuela",
          "Yemen"
         ],
         "xaxis": "x",
         "y": [
          0,
          0,
          0,
          0,
          0,
          0,
          0,
          0,
          0,
          0,
          0,
          0,
          0,
          0,
          0,
          0,
          0,
          0,
          0,
          0,
          0,
          0,
          0,
          1,
          0,
          0,
          0,
          0,
          0,
          0,
          0,
          0,
          0
         ],
         "yaxis": "y"
        },
        {
         "hovertemplate": "variable=2010<br>country=%{x}<br>value=%{y}<extra></extra>",
         "legendgroup": "2010",
         "marker": {
          "color": "#636efa",
          "symbol": "circle"
         },
         "mode": "markers",
         "name": "2010",
         "orientation": "v",
         "showlegend": true,
         "type": "scatter",
         "x": [
          "Afghanistan",
          "Armenia",
          "Azerbaijan",
          "Burkina Faso",
          "Central African Republic",
          "Colombia",
          "Egypt",
          "Georgia",
          "India",
          "Iran",
          "Iraq",
          "Israel",
          "Jordan",
          "Lebanon",
          "Libya",
          "Mali",
          "Mexico",
          "Myanmar",
          "Niger",
          "Nigeria",
          "Pakistan",
          "Palestine",
          "Saudi Arabia",
          "Somalia",
          "South Sudan",
          "Sri Lanka",
          "Sudan",
          "Syria",
          "Turkey",
          "Ukraine",
          "United Arab Emirates",
          "Venezuela",
          "Yemen"
         ],
         "xaxis": "x",
         "y": [
          0,
          0,
          0,
          0,
          0,
          0,
          0,
          0,
          0,
          0,
          0,
          0,
          0,
          0,
          0,
          0,
          0,
          0,
          0,
          0,
          129,
          0,
          0,
          0,
          0,
          0,
          0,
          0,
          0,
          0,
          0,
          0,
          0
         ],
         "yaxis": "y"
        },
        {
         "hovertemplate": "variable=2011<br>country=%{x}<br>value=%{y}<extra></extra>",
         "legendgroup": "2011",
         "marker": {
          "color": "#EF553B",
          "symbol": "circle"
         },
         "mode": "markers",
         "name": "2011",
         "orientation": "v",
         "showlegend": true,
         "type": "scatter",
         "x": [
          "Afghanistan",
          "Armenia",
          "Azerbaijan",
          "Burkina Faso",
          "Central African Republic",
          "Colombia",
          "Egypt",
          "Georgia",
          "India",
          "Iran",
          "Iraq",
          "Israel",
          "Jordan",
          "Lebanon",
          "Libya",
          "Mali",
          "Mexico",
          "Myanmar",
          "Niger",
          "Nigeria",
          "Pakistan",
          "Palestine",
          "Saudi Arabia",
          "Somalia",
          "South Sudan",
          "Sri Lanka",
          "Sudan",
          "Syria",
          "Turkey",
          "Ukraine",
          "United Arab Emirates",
          "Venezuela",
          "Yemen"
         ],
         "xaxis": "x",
         "y": [
          0,
          0,
          0,
          0,
          0,
          0,
          0,
          0,
          0,
          0,
          0,
          0,
          0,
          0,
          1,
          0,
          0,
          0,
          0,
          0,
          79,
          0,
          0,
          7,
          0,
          0,
          0,
          0,
          0,
          0,
          0,
          0,
          0
         ],
         "yaxis": "y"
        },
        {
         "hovertemplate": "variable=2012<br>country=%{x}<br>value=%{y}<extra></extra>",
         "legendgroup": "2012",
         "marker": {
          "color": "#00cc96",
          "symbol": "circle"
         },
         "mode": "markers",
         "name": "2012",
         "orientation": "v",
         "showlegend": true,
         "type": "scatter",
         "x": [
          "Afghanistan",
          "Armenia",
          "Azerbaijan",
          "Burkina Faso",
          "Central African Republic",
          "Colombia",
          "Egypt",
          "Georgia",
          "India",
          "Iran",
          "Iraq",
          "Israel",
          "Jordan",
          "Lebanon",
          "Libya",
          "Mali",
          "Mexico",
          "Myanmar",
          "Niger",
          "Nigeria",
          "Pakistan",
          "Palestine",
          "Saudi Arabia",
          "Somalia",
          "South Sudan",
          "Sri Lanka",
          "Sudan",
          "Syria",
          "Turkey",
          "Ukraine",
          "United Arab Emirates",
          "Venezuela",
          "Yemen"
         ],
         "xaxis": "x",
         "y": [
          0,
          0,
          0,
          0,
          0,
          0,
          0,
          0,
          0,
          0,
          0,
          0,
          0,
          0,
          0,
          1,
          0,
          0,
          0,
          0,
          71,
          0,
          0,
          5,
          1,
          0,
          0,
          0,
          0,
          0,
          0,
          0,
          0
         ],
         "yaxis": "y"
        },
        {
         "hovertemplate": "variable=2013<br>country=%{x}<br>value=%{y}<extra></extra>",
         "legendgroup": "2013",
         "marker": {
          "color": "#ab63fa",
          "symbol": "circle"
         },
         "mode": "markers",
         "name": "2013",
         "orientation": "v",
         "showlegend": true,
         "type": "scatter",
         "x": [
          "Afghanistan",
          "Armenia",
          "Azerbaijan",
          "Burkina Faso",
          "Central African Republic",
          "Colombia",
          "Egypt",
          "Georgia",
          "India",
          "Iran",
          "Iraq",
          "Israel",
          "Jordan",
          "Lebanon",
          "Libya",
          "Mali",
          "Mexico",
          "Myanmar",
          "Niger",
          "Nigeria",
          "Pakistan",
          "Palestine",
          "Saudi Arabia",
          "Somalia",
          "South Sudan",
          "Sri Lanka",
          "Sudan",
          "Syria",
          "Turkey",
          "Ukraine",
          "United Arab Emirates",
          "Venezuela",
          "Yemen"
         ],
         "xaxis": "x",
         "y": [
          0,
          0,
          0,
          0,
          0,
          0,
          1,
          0,
          0,
          0,
          0,
          0,
          0,
          0,
          1,
          0,
          0,
          0,
          0,
          0,
          28,
          0,
          0,
          2,
          0,
          0,
          1,
          0,
          0,
          0,
          0,
          0,
          0
         ],
         "yaxis": "y"
        },
        {
         "hovertemplate": "variable=2014<br>country=%{x}<br>value=%{y}<extra></extra>",
         "legendgroup": "2014",
         "marker": {
          "color": "#FFA15A",
          "symbol": "circle"
         },
         "mode": "markers",
         "name": "2014",
         "orientation": "v",
         "showlegend": true,
         "type": "scatter",
         "x": [
          "Afghanistan",
          "Armenia",
          "Azerbaijan",
          "Burkina Faso",
          "Central African Republic",
          "Colombia",
          "Egypt",
          "Georgia",
          "India",
          "Iran",
          "Iraq",
          "Israel",
          "Jordan",
          "Lebanon",
          "Libya",
          "Mali",
          "Mexico",
          "Myanmar",
          "Niger",
          "Nigeria",
          "Pakistan",
          "Palestine",
          "Saudi Arabia",
          "Somalia",
          "South Sudan",
          "Sri Lanka",
          "Sudan",
          "Syria",
          "Turkey",
          "Ukraine",
          "United Arab Emirates",
          "Venezuela",
          "Yemen"
         ],
         "xaxis": "x",
         "y": [
          0,
          0,
          0,
          0,
          0,
          0,
          0,
          0,
          0,
          0,
          0,
          0,
          0,
          0,
          0,
          0,
          0,
          0,
          0,
          0,
          37,
          0,
          0,
          5,
          0,
          0,
          1,
          0,
          0,
          0,
          0,
          0,
          0
         ],
         "yaxis": "y"
        },
        {
         "hovertemplate": "variable=2015<br>country=%{x}<br>value=%{y}<extra></extra>",
         "legendgroup": "2015",
         "marker": {
          "color": "#19d3f3",
          "symbol": "circle"
         },
         "mode": "markers",
         "name": "2015",
         "orientation": "v",
         "showlegend": true,
         "type": "scatter",
         "x": [
          "Afghanistan",
          "Armenia",
          "Azerbaijan",
          "Burkina Faso",
          "Central African Republic",
          "Colombia",
          "Egypt",
          "Georgia",
          "India",
          "Iran",
          "Iraq",
          "Israel",
          "Jordan",
          "Lebanon",
          "Libya",
          "Mali",
          "Mexico",
          "Myanmar",
          "Niger",
          "Nigeria",
          "Pakistan",
          "Palestine",
          "Saudi Arabia",
          "Somalia",
          "South Sudan",
          "Sri Lanka",
          "Sudan",
          "Syria",
          "Turkey",
          "Ukraine",
          "United Arab Emirates",
          "Venezuela",
          "Yemen"
         ],
         "xaxis": "x",
         "y": [
          0,
          0,
          0,
          0,
          0,
          0,
          0,
          0,
          0,
          0,
          0,
          0,
          0,
          0,
          1,
          0,
          0,
          0,
          0,
          0,
          22,
          0,
          1,
          14,
          0,
          0,
          2,
          0,
          0,
          0,
          0,
          0,
          46
         ],
         "yaxis": "y"
        },
        {
         "hovertemplate": "variable=2016<br>country=%{x}<br>value=%{y}<extra></extra>",
         "legendgroup": "2016",
         "marker": {
          "color": "#FF6692",
          "symbol": "circle"
         },
         "mode": "markers",
         "name": "2016",
         "orientation": "v",
         "showlegend": true,
         "type": "scatter",
         "x": [
          "Afghanistan",
          "Armenia",
          "Azerbaijan",
          "Burkina Faso",
          "Central African Republic",
          "Colombia",
          "Egypt",
          "Georgia",
          "India",
          "Iran",
          "Iraq",
          "Israel",
          "Jordan",
          "Lebanon",
          "Libya",
          "Mali",
          "Mexico",
          "Myanmar",
          "Niger",
          "Nigeria",
          "Pakistan",
          "Palestine",
          "Saudi Arabia",
          "Somalia",
          "South Sudan",
          "Sri Lanka",
          "Sudan",
          "Syria",
          "Turkey",
          "Ukraine",
          "United Arab Emirates",
          "Venezuela",
          "Yemen"
         ],
         "xaxis": "x",
         "y": [
          0,
          0,
          0,
          0,
          0,
          0,
          0,
          0,
          0,
          0,
          79,
          0,
          1,
          0,
          6,
          0,
          0,
          0,
          0,
          0,
          4,
          1,
          0,
          19,
          0,
          0,
          0,
          0,
          7,
          0,
          0,
          0,
          47
         ],
         "yaxis": "y"
        },
        {
         "hovertemplate": "variable=2017<br>country=%{x}<br>value=%{y}<extra></extra>",
         "legendgroup": "2017",
         "marker": {
          "color": "#B6E880",
          "symbol": "circle"
         },
         "mode": "markers",
         "name": "2017",
         "orientation": "v",
         "showlegend": true,
         "type": "scatter",
         "x": [
          "Afghanistan",
          "Armenia",
          "Azerbaijan",
          "Burkina Faso",
          "Central African Republic",
          "Colombia",
          "Egypt",
          "Georgia",
          "India",
          "Iran",
          "Iraq",
          "Israel",
          "Jordan",
          "Lebanon",
          "Libya",
          "Mali",
          "Mexico",
          "Myanmar",
          "Niger",
          "Nigeria",
          "Pakistan",
          "Palestine",
          "Saudi Arabia",
          "Somalia",
          "South Sudan",
          "Sri Lanka",
          "Sudan",
          "Syria",
          "Turkey",
          "Ukraine",
          "United Arab Emirates",
          "Venezuela",
          "Yemen"
         ],
         "xaxis": "x",
         "y": [
          190,
          0,
          0,
          0,
          0,
          0,
          6,
          0,
          0,
          0,
          71,
          0,
          1,
          0,
          3,
          0,
          0,
          0,
          0,
          0,
          10,
          2,
          1,
          17,
          0,
          0,
          0,
          128,
          1,
          0,
          0,
          0,
          78
         ],
         "yaxis": "y"
        },
        {
         "hovertemplate": "variable=2018<br>country=%{x}<br>value=%{y}<extra></extra>",
         "legendgroup": "2018",
         "marker": {
          "color": "#FF97FF",
          "symbol": "circle"
         },
         "mode": "markers",
         "name": "2018",
         "orientation": "v",
         "showlegend": true,
         "type": "scatter",
         "x": [
          "Afghanistan",
          "Armenia",
          "Azerbaijan",
          "Burkina Faso",
          "Central African Republic",
          "Colombia",
          "Egypt",
          "Georgia",
          "India",
          "Iran",
          "Iraq",
          "Israel",
          "Jordan",
          "Lebanon",
          "Libya",
          "Mali",
          "Mexico",
          "Myanmar",
          "Niger",
          "Nigeria",
          "Pakistan",
          "Palestine",
          "Saudi Arabia",
          "Somalia",
          "South Sudan",
          "Sri Lanka",
          "Sudan",
          "Syria",
          "Turkey",
          "Ukraine",
          "United Arab Emirates",
          "Venezuela",
          "Yemen"
         ],
         "xaxis": "x",
         "y": [
          125,
          1,
          1,
          0,
          0,
          2,
          0,
          0,
          0,
          0,
          12,
          2,
          0,
          2,
          10,
          1,
          2,
          0,
          0,
          1,
          5,
          20,
          12,
          17,
          0,
          0,
          0,
          77,
          7,
          15,
          1,
          1,
          138
         ],
         "yaxis": "y"
        },
        {
         "hovertemplate": "variable=2019<br>country=%{x}<br>value=%{y}<extra></extra>",
         "legendgroup": "2019",
         "marker": {
          "color": "#FECB52",
          "symbol": "circle"
         },
         "mode": "markers",
         "name": "2019",
         "orientation": "v",
         "showlegend": true,
         "type": "scatter",
         "x": [
          "Afghanistan",
          "Armenia",
          "Azerbaijan",
          "Burkina Faso",
          "Central African Republic",
          "Colombia",
          "Egypt",
          "Georgia",
          "India",
          "Iran",
          "Iraq",
          "Israel",
          "Jordan",
          "Lebanon",
          "Libya",
          "Mali",
          "Mexico",
          "Myanmar",
          "Niger",
          "Nigeria",
          "Pakistan",
          "Palestine",
          "Saudi Arabia",
          "Somalia",
          "South Sudan",
          "Sri Lanka",
          "Sudan",
          "Syria",
          "Turkey",
          "Ukraine",
          "United Arab Emirates",
          "Venezuela",
          "Yemen"
         ],
         "xaxis": "x",
         "y": [
          128,
          0,
          0,
          0,
          0,
          0,
          11,
          1,
          4,
          0,
          17,
          5,
          0,
          6,
          29,
          0,
          0,
          0,
          0,
          0,
          1,
          14,
          84,
          5,
          0,
          3,
          0,
          108,
          17,
          36,
          0,
          0,
          108
         ],
         "yaxis": "y"
        },
        {
         "hovertemplate": "variable=2020<br>country=%{x}<br>value=%{y}<extra></extra>",
         "legendgroup": "2020",
         "marker": {
          "color": "#636efa",
          "symbol": "circle"
         },
         "mode": "markers",
         "name": "2020",
         "orientation": "v",
         "showlegend": true,
         "type": "scatter",
         "x": [
          "Afghanistan",
          "Armenia",
          "Azerbaijan",
          "Burkina Faso",
          "Central African Republic",
          "Colombia",
          "Egypt",
          "Georgia",
          "India",
          "Iran",
          "Iraq",
          "Israel",
          "Jordan",
          "Lebanon",
          "Libya",
          "Mali",
          "Mexico",
          "Myanmar",
          "Niger",
          "Nigeria",
          "Pakistan",
          "Palestine",
          "Saudi Arabia",
          "Somalia",
          "South Sudan",
          "Sri Lanka",
          "Sudan",
          "Syria",
          "Turkey",
          "Ukraine",
          "United Arab Emirates",
          "Venezuela",
          "Yemen"
         ],
         "xaxis": "x",
         "y": [
          42,
          4,
          21,
          2,
          0,
          0,
          2,
          0,
          10,
          1,
          41,
          2,
          0,
          3,
          83,
          8,
          0,
          2,
          2,
          2,
          1,
          6,
          52,
          0,
          0,
          0,
          0,
          179,
          11,
          43,
          0,
          0,
          184
         ],
         "yaxis": "y"
        }
       ],
       "layout": {
        "legend": {
         "title": {
          "text": "variable"
         },
         "tracegroupgap": 0
        },
        "template": {
         "data": {
          "bar": [
           {
            "error_x": {
             "color": "#2a3f5f"
            },
            "error_y": {
             "color": "#2a3f5f"
            },
            "marker": {
             "line": {
              "color": "#E5ECF6",
              "width": 0.5
             }
            },
            "type": "bar"
           }
          ],
          "barpolar": [
           {
            "marker": {
             "line": {
              "color": "#E5ECF6",
              "width": 0.5
             }
            },
            "type": "barpolar"
           }
          ],
          "carpet": [
           {
            "aaxis": {
             "endlinecolor": "#2a3f5f",
             "gridcolor": "white",
             "linecolor": "white",
             "minorgridcolor": "white",
             "startlinecolor": "#2a3f5f"
            },
            "baxis": {
             "endlinecolor": "#2a3f5f",
             "gridcolor": "white",
             "linecolor": "white",
             "minorgridcolor": "white",
             "startlinecolor": "#2a3f5f"
            },
            "type": "carpet"
           }
          ],
          "choropleth": [
           {
            "colorbar": {
             "outlinewidth": 0,
             "ticks": ""
            },
            "type": "choropleth"
           }
          ],
          "contour": [
           {
            "colorbar": {
             "outlinewidth": 0,
             "ticks": ""
            },
            "colorscale": [
             [
              0,
              "#0d0887"
             ],
             [
              0.1111111111111111,
              "#46039f"
             ],
             [
              0.2222222222222222,
              "#7201a8"
             ],
             [
              0.3333333333333333,
              "#9c179e"
             ],
             [
              0.4444444444444444,
              "#bd3786"
             ],
             [
              0.5555555555555556,
              "#d8576b"
             ],
             [
              0.6666666666666666,
              "#ed7953"
             ],
             [
              0.7777777777777778,
              "#fb9f3a"
             ],
             [
              0.8888888888888888,
              "#fdca26"
             ],
             [
              1,
              "#f0f921"
             ]
            ],
            "type": "contour"
           }
          ],
          "contourcarpet": [
           {
            "colorbar": {
             "outlinewidth": 0,
             "ticks": ""
            },
            "type": "contourcarpet"
           }
          ],
          "heatmap": [
           {
            "colorbar": {
             "outlinewidth": 0,
             "ticks": ""
            },
            "colorscale": [
             [
              0,
              "#0d0887"
             ],
             [
              0.1111111111111111,
              "#46039f"
             ],
             [
              0.2222222222222222,
              "#7201a8"
             ],
             [
              0.3333333333333333,
              "#9c179e"
             ],
             [
              0.4444444444444444,
              "#bd3786"
             ],
             [
              0.5555555555555556,
              "#d8576b"
             ],
             [
              0.6666666666666666,
              "#ed7953"
             ],
             [
              0.7777777777777778,
              "#fb9f3a"
             ],
             [
              0.8888888888888888,
              "#fdca26"
             ],
             [
              1,
              "#f0f921"
             ]
            ],
            "type": "heatmap"
           }
          ],
          "heatmapgl": [
           {
            "colorbar": {
             "outlinewidth": 0,
             "ticks": ""
            },
            "colorscale": [
             [
              0,
              "#0d0887"
             ],
             [
              0.1111111111111111,
              "#46039f"
             ],
             [
              0.2222222222222222,
              "#7201a8"
             ],
             [
              0.3333333333333333,
              "#9c179e"
             ],
             [
              0.4444444444444444,
              "#bd3786"
             ],
             [
              0.5555555555555556,
              "#d8576b"
             ],
             [
              0.6666666666666666,
              "#ed7953"
             ],
             [
              0.7777777777777778,
              "#fb9f3a"
             ],
             [
              0.8888888888888888,
              "#fdca26"
             ],
             [
              1,
              "#f0f921"
             ]
            ],
            "type": "heatmapgl"
           }
          ],
          "histogram": [
           {
            "marker": {
             "colorbar": {
              "outlinewidth": 0,
              "ticks": ""
             }
            },
            "type": "histogram"
           }
          ],
          "histogram2d": [
           {
            "colorbar": {
             "outlinewidth": 0,
             "ticks": ""
            },
            "colorscale": [
             [
              0,
              "#0d0887"
             ],
             [
              0.1111111111111111,
              "#46039f"
             ],
             [
              0.2222222222222222,
              "#7201a8"
             ],
             [
              0.3333333333333333,
              "#9c179e"
             ],
             [
              0.4444444444444444,
              "#bd3786"
             ],
             [
              0.5555555555555556,
              "#d8576b"
             ],
             [
              0.6666666666666666,
              "#ed7953"
             ],
             [
              0.7777777777777778,
              "#fb9f3a"
             ],
             [
              0.8888888888888888,
              "#fdca26"
             ],
             [
              1,
              "#f0f921"
             ]
            ],
            "type": "histogram2d"
           }
          ],
          "histogram2dcontour": [
           {
            "colorbar": {
             "outlinewidth": 0,
             "ticks": ""
            },
            "colorscale": [
             [
              0,
              "#0d0887"
             ],
             [
              0.1111111111111111,
              "#46039f"
             ],
             [
              0.2222222222222222,
              "#7201a8"
             ],
             [
              0.3333333333333333,
              "#9c179e"
             ],
             [
              0.4444444444444444,
              "#bd3786"
             ],
             [
              0.5555555555555556,
              "#d8576b"
             ],
             [
              0.6666666666666666,
              "#ed7953"
             ],
             [
              0.7777777777777778,
              "#fb9f3a"
             ],
             [
              0.8888888888888888,
              "#fdca26"
             ],
             [
              1,
              "#f0f921"
             ]
            ],
            "type": "histogram2dcontour"
           }
          ],
          "mesh3d": [
           {
            "colorbar": {
             "outlinewidth": 0,
             "ticks": ""
            },
            "type": "mesh3d"
           }
          ],
          "parcoords": [
           {
            "line": {
             "colorbar": {
              "outlinewidth": 0,
              "ticks": ""
             }
            },
            "type": "parcoords"
           }
          ],
          "pie": [
           {
            "automargin": true,
            "type": "pie"
           }
          ],
          "scatter": [
           {
            "marker": {
             "colorbar": {
              "outlinewidth": 0,
              "ticks": ""
             }
            },
            "type": "scatter"
           }
          ],
          "scatter3d": [
           {
            "line": {
             "colorbar": {
              "outlinewidth": 0,
              "ticks": ""
             }
            },
            "marker": {
             "colorbar": {
              "outlinewidth": 0,
              "ticks": ""
             }
            },
            "type": "scatter3d"
           }
          ],
          "scattercarpet": [
           {
            "marker": {
             "colorbar": {
              "outlinewidth": 0,
              "ticks": ""
             }
            },
            "type": "scattercarpet"
           }
          ],
          "scattergeo": [
           {
            "marker": {
             "colorbar": {
              "outlinewidth": 0,
              "ticks": ""
             }
            },
            "type": "scattergeo"
           }
          ],
          "scattergl": [
           {
            "marker": {
             "colorbar": {
              "outlinewidth": 0,
              "ticks": ""
             }
            },
            "type": "scattergl"
           }
          ],
          "scattermapbox": [
           {
            "marker": {
             "colorbar": {
              "outlinewidth": 0,
              "ticks": ""
             }
            },
            "type": "scattermapbox"
           }
          ],
          "scatterpolar": [
           {
            "marker": {
             "colorbar": {
              "outlinewidth": 0,
              "ticks": ""
             }
            },
            "type": "scatterpolar"
           }
          ],
          "scatterpolargl": [
           {
            "marker": {
             "colorbar": {
              "outlinewidth": 0,
              "ticks": ""
             }
            },
            "type": "scatterpolargl"
           }
          ],
          "scatterternary": [
           {
            "marker": {
             "colorbar": {
              "outlinewidth": 0,
              "ticks": ""
             }
            },
            "type": "scatterternary"
           }
          ],
          "surface": [
           {
            "colorbar": {
             "outlinewidth": 0,
             "ticks": ""
            },
            "colorscale": [
             [
              0,
              "#0d0887"
             ],
             [
              0.1111111111111111,
              "#46039f"
             ],
             [
              0.2222222222222222,
              "#7201a8"
             ],
             [
              0.3333333333333333,
              "#9c179e"
             ],
             [
              0.4444444444444444,
              "#bd3786"
             ],
             [
              0.5555555555555556,
              "#d8576b"
             ],
             [
              0.6666666666666666,
              "#ed7953"
             ],
             [
              0.7777777777777778,
              "#fb9f3a"
             ],
             [
              0.8888888888888888,
              "#fdca26"
             ],
             [
              1,
              "#f0f921"
             ]
            ],
            "type": "surface"
           }
          ],
          "table": [
           {
            "cells": {
             "fill": {
              "color": "#EBF0F8"
             },
             "line": {
              "color": "white"
             }
            },
            "header": {
             "fill": {
              "color": "#C8D4E3"
             },
             "line": {
              "color": "white"
             }
            },
            "type": "table"
           }
          ]
         },
         "layout": {
          "annotationdefaults": {
           "arrowcolor": "#2a3f5f",
           "arrowhead": 0,
           "arrowwidth": 1
          },
          "autotypenumbers": "strict",
          "coloraxis": {
           "colorbar": {
            "outlinewidth": 0,
            "ticks": ""
           }
          },
          "colorscale": {
           "diverging": [
            [
             0,
             "#8e0152"
            ],
            [
             0.1,
             "#c51b7d"
            ],
            [
             0.2,
             "#de77ae"
            ],
            [
             0.3,
             "#f1b6da"
            ],
            [
             0.4,
             "#fde0ef"
            ],
            [
             0.5,
             "#f7f7f7"
            ],
            [
             0.6,
             "#e6f5d0"
            ],
            [
             0.7,
             "#b8e186"
            ],
            [
             0.8,
             "#7fbc41"
            ],
            [
             0.9,
             "#4d9221"
            ],
            [
             1,
             "#276419"
            ]
           ],
           "sequential": [
            [
             0,
             "#0d0887"
            ],
            [
             0.1111111111111111,
             "#46039f"
            ],
            [
             0.2222222222222222,
             "#7201a8"
            ],
            [
             0.3333333333333333,
             "#9c179e"
            ],
            [
             0.4444444444444444,
             "#bd3786"
            ],
            [
             0.5555555555555556,
             "#d8576b"
            ],
            [
             0.6666666666666666,
             "#ed7953"
            ],
            [
             0.7777777777777778,
             "#fb9f3a"
            ],
            [
             0.8888888888888888,
             "#fdca26"
            ],
            [
             1,
             "#f0f921"
            ]
           ],
           "sequentialminus": [
            [
             0,
             "#0d0887"
            ],
            [
             0.1111111111111111,
             "#46039f"
            ],
            [
             0.2222222222222222,
             "#7201a8"
            ],
            [
             0.3333333333333333,
             "#9c179e"
            ],
            [
             0.4444444444444444,
             "#bd3786"
            ],
            [
             0.5555555555555556,
             "#d8576b"
            ],
            [
             0.6666666666666666,
             "#ed7953"
            ],
            [
             0.7777777777777778,
             "#fb9f3a"
            ],
            [
             0.8888888888888888,
             "#fdca26"
            ],
            [
             1,
             "#f0f921"
            ]
           ]
          },
          "colorway": [
           "#636efa",
           "#EF553B",
           "#00cc96",
           "#ab63fa",
           "#FFA15A",
           "#19d3f3",
           "#FF6692",
           "#B6E880",
           "#FF97FF",
           "#FECB52"
          ],
          "font": {
           "color": "#2a3f5f"
          },
          "geo": {
           "bgcolor": "white",
           "lakecolor": "white",
           "landcolor": "#E5ECF6",
           "showlakes": true,
           "showland": true,
           "subunitcolor": "white"
          },
          "hoverlabel": {
           "align": "left"
          },
          "hovermode": "closest",
          "mapbox": {
           "style": "light"
          },
          "paper_bgcolor": "white",
          "plot_bgcolor": "#E5ECF6",
          "polar": {
           "angularaxis": {
            "gridcolor": "white",
            "linecolor": "white",
            "ticks": ""
           },
           "bgcolor": "#E5ECF6",
           "radialaxis": {
            "gridcolor": "white",
            "linecolor": "white",
            "ticks": ""
           }
          },
          "scene": {
           "xaxis": {
            "backgroundcolor": "#E5ECF6",
            "gridcolor": "white",
            "gridwidth": 2,
            "linecolor": "white",
            "showbackground": true,
            "ticks": "",
            "zerolinecolor": "white"
           },
           "yaxis": {
            "backgroundcolor": "#E5ECF6",
            "gridcolor": "white",
            "gridwidth": 2,
            "linecolor": "white",
            "showbackground": true,
            "ticks": "",
            "zerolinecolor": "white"
           },
           "zaxis": {
            "backgroundcolor": "#E5ECF6",
            "gridcolor": "white",
            "gridwidth": 2,
            "linecolor": "white",
            "showbackground": true,
            "ticks": "",
            "zerolinecolor": "white"
           }
          },
          "shapedefaults": {
           "line": {
            "color": "#2a3f5f"
           }
          },
          "ternary": {
           "aaxis": {
            "gridcolor": "white",
            "linecolor": "white",
            "ticks": ""
           },
           "baxis": {
            "gridcolor": "white",
            "linecolor": "white",
            "ticks": ""
           },
           "bgcolor": "#E5ECF6",
           "caxis": {
            "gridcolor": "white",
            "linecolor": "white",
            "ticks": ""
           }
          },
          "title": {
           "x": 0.05
          },
          "xaxis": {
           "automargin": true,
           "gridcolor": "white",
           "linecolor": "white",
           "ticks": "",
           "title": {
            "standoff": 15
           },
           "zerolinecolor": "white",
           "zerolinewidth": 2
          },
          "yaxis": {
           "automargin": true,
           "gridcolor": "white",
           "linecolor": "white",
           "ticks": "",
           "title": {
            "standoff": 15
           },
           "zerolinecolor": "white",
           "zerolinewidth": 2
          }
         }
        },
        "title": {
         "text": "Total Amount of Weapon Purchases by Top 5 Nations 2015-2020"
        },
        "xaxis": {
         "anchor": "y",
         "domain": [
          0,
          1
         ],
         "title": {
          "text": "country"
         }
        },
        "yaxis": {
         "anchor": "x",
         "domain": [
          0,
          1
         ],
         "title": {
          "text": "value"
         }
        }
       }
      }
     },
     "metadata": {}
    }
   ],
   "source": [
    "acled_drones_graph = px.scatter(acled_drones,x=acled_drones['country'],y=acled_drones.columns[1:],\n",
    "title=\"Total Amount of Weapon Purchases by Top 5 Nations 2015-2020\",\n",
    "labels={'buyer':'Nation or Non-State Actor','total':'Amount of Purchases'}\n",
    ")\n",
    "acled_drones_graph.show()"
   ]
  },
  {
   "cell_type": "code",
   "execution_count": 93,
   "metadata": {},
   "outputs": [],
   "source": [
    "#acled_countries = list(acled['actor1'])\n",
    "#sipri_countries = list(sipri['buyer'])"
   ]
  },
  {
   "cell_type": "code",
   "execution_count": 94,
   "metadata": {
    "tags": []
   },
   "outputs": [],
   "source": [
    "#res = [x for x in acled_countries + sipri_countries if x not in sipri_countries]\n",
    "#print(sorted(res, key=str.lower))"
   ]
  },
  {
   "cell_type": "code",
   "execution_count": 95,
   "metadata": {},
   "outputs": [],
   "source": [
    "#res = [x for x in acled_countries + sipri_countries if x not in acled_countries]\n",
    "#print(sorted(res, key=str.lower))"
   ]
  },
  {
   "cell_type": "code",
   "execution_count": null,
   "metadata": {},
   "outputs": [],
   "source": []
  }
 ]
}