{
 "metadata": {
  "language_info": {
   "codemirror_mode": {
    "name": "ipython",
    "version": 3
   },
   "file_extension": ".py",
   "mimetype": "text/x-python",
   "name": "python",
   "nbconvert_exporter": "python",
   "pygments_lexer": "ipython3",
   "version": "3.8.5"
  },
  "orig_nbformat": 2,
  "kernelspec": {
   "name": "python385jvsc74a57bd0e134e05457d34029b6460cd73bbf1ed73f339b5b6d98c95be70b69eba114fe95",
   "display_name": "Python 3.8.5 64-bit ('base': conda)"
  }
 },
 "nbformat": 4,
 "nbformat_minor": 2,
 "cells": [
  {
   "cell_type": "code",
   "execution_count": 1,
   "metadata": {},
   "outputs": [],
   "source": [
    "import os\n",
    "\n",
    "try:\n",
    "    from dotenv import load_dotenv\n",
    "except ImportError:\n",
    "    from pip._internal import main as pip\n",
    "    pip(['install', 'python-dotenv'])\n",
    "    from dotenv import load_dotenv\n",
    "\n",
    "try:\n",
    "    import psycopg2\n",
    "except ImportError:\n",
    "    from pip._internal import main as pip\n",
    "    pip(['install', 'psycopg2'])\n",
    "    import psycopg2\n",
    "\n",
    "import pandas as pd\n",
    "import numpy as np\n",
    "import plotly.graph_objects as go\n",
    "import plotly.express as px"
   ]
  },
  {
   "cell_type": "code",
   "execution_count": 2,
   "metadata": {},
   "outputs": [],
   "source": [
    "load_dotenv(dotenv_path='//.env')\n",
    "db = os.getenv('DB')"
   ]
  },
  {
   "cell_type": "code",
   "execution_count": 3,
   "metadata": {},
   "outputs": [],
   "source": [
    "acled = pd.read_sql_query('SELECT sub_event_type, COUNT(*) FROM acled GROUP BY sub_event_type ORDER BY COUNT(*) desc',db)\n",
    "sipri = pd.read_sql_query('SELECT weapon_description, SUM(number_ordered) as total FROM sipri GROUP BY weapon_description HAVING SUM(number_ordered) IS NOT NULL ORDER BY total desc',db)\n",
    "#acled = pd.read_sql_query('SELECT DISTINCT actor1 FROM acled', db)\n",
    "#sipri = pd.read_sql_query('SELECT DISTINCT buyer FROM sipri', db)"
   ]
  },
  {
   "cell_type": "code",
   "execution_count": 4,
   "metadata": {},
   "outputs": [
    {
     "output_type": "display_data",
     "data": {
      "application/vnd.plotly.v1+json": {
       "config": {
        "plotlyServerURL": "https://plot.ly"
       },
       "data": [
        {
         "alignmentgroup": "True",
         "hovertemplate": "sub_event_type=%{x}<br>count=%{y}<extra></extra>",
         "legendgroup": "",
         "marker": {
          "color": "#636efa"
         },
         "name": "",
         "offsetgroup": "",
         "orientation": "v",
         "showlegend": false,
         "textposition": "auto",
         "type": "bar",
         "x": [
          "Peaceful protest",
          "Armed clash",
          "Attack",
          "Shelling/artillery/missile attack",
          "Air/drone strike",
          "Violent demonstration",
          "Remote explosive/landmine/IED",
          "Mob violence",
          "Protest with intervention",
          "Looting/property destruction",
          "Abduction/forced disappearance",
          "Change to group/activity",
          "Government regains territory",
          "Disrupted weapons use",
          "Arrests",
          "Other",
          "Non-state actor overtakes territory",
          "Grenade",
          "Excessive force against protesters",
          "Sexual violence",
          "Non-violent transfer of territory",
          "Suicide bomb",
          "Agreement",
          "Headquarters or base established",
          "Chemical weapon"
         ],
         "xaxis": "x",
         "y": [
          381908,
          207104,
          115266,
          70804,
          60718,
          44906,
          35560,
          34985,
          21897,
          14106,
          10509,
          10210,
          8558,
          6294,
          5911,
          5060,
          4620,
          4584,
          3498,
          2597,
          2380,
          1905,
          1694,
          865,
          110
         ],
         "yaxis": "y"
        }
       ],
       "layout": {
        "barmode": "relative",
        "legend": {
         "tracegroupgap": 0
        },
        "margin": {
         "t": 60
        },
        "template": {
         "data": {
          "bar": [
           {
            "error_x": {
             "color": "#2a3f5f"
            },
            "error_y": {
             "color": "#2a3f5f"
            },
            "marker": {
             "line": {
              "color": "#E5ECF6",
              "width": 0.5
             }
            },
            "type": "bar"
           }
          ],
          "barpolar": [
           {
            "marker": {
             "line": {
              "color": "#E5ECF6",
              "width": 0.5
             }
            },
            "type": "barpolar"
           }
          ],
          "carpet": [
           {
            "aaxis": {
             "endlinecolor": "#2a3f5f",
             "gridcolor": "white",
             "linecolor": "white",
             "minorgridcolor": "white",
             "startlinecolor": "#2a3f5f"
            },
            "baxis": {
             "endlinecolor": "#2a3f5f",
             "gridcolor": "white",
             "linecolor": "white",
             "minorgridcolor": "white",
             "startlinecolor": "#2a3f5f"
            },
            "type": "carpet"
           }
          ],
          "choropleth": [
           {
            "colorbar": {
             "outlinewidth": 0,
             "ticks": ""
            },
            "type": "choropleth"
           }
          ],
          "contour": [
           {
            "colorbar": {
             "outlinewidth": 0,
             "ticks": ""
            },
            "colorscale": [
             [
              0,
              "#0d0887"
             ],
             [
              0.1111111111111111,
              "#46039f"
             ],
             [
              0.2222222222222222,
              "#7201a8"
             ],
             [
              0.3333333333333333,
              "#9c179e"
             ],
             [
              0.4444444444444444,
              "#bd3786"
             ],
             [
              0.5555555555555556,
              "#d8576b"
             ],
             [
              0.6666666666666666,
              "#ed7953"
             ],
             [
              0.7777777777777778,
              "#fb9f3a"
             ],
             [
              0.8888888888888888,
              "#fdca26"
             ],
             [
              1,
              "#f0f921"
             ]
            ],
            "type": "contour"
           }
          ],
          "contourcarpet": [
           {
            "colorbar": {
             "outlinewidth": 0,
             "ticks": ""
            },
            "type": "contourcarpet"
           }
          ],
          "heatmap": [
           {
            "colorbar": {
             "outlinewidth": 0,
             "ticks": ""
            },
            "colorscale": [
             [
              0,
              "#0d0887"
             ],
             [
              0.1111111111111111,
              "#46039f"
             ],
             [
              0.2222222222222222,
              "#7201a8"
             ],
             [
              0.3333333333333333,
              "#9c179e"
             ],
             [
              0.4444444444444444,
              "#bd3786"
             ],
             [
              0.5555555555555556,
              "#d8576b"
             ],
             [
              0.6666666666666666,
              "#ed7953"
             ],
             [
              0.7777777777777778,
              "#fb9f3a"
             ],
             [
              0.8888888888888888,
              "#fdca26"
             ],
             [
              1,
              "#f0f921"
             ]
            ],
            "type": "heatmap"
           }
          ],
          "heatmapgl": [
           {
            "colorbar": {
             "outlinewidth": 0,
             "ticks": ""
            },
            "colorscale": [
             [
              0,
              "#0d0887"
             ],
             [
              0.1111111111111111,
              "#46039f"
             ],
             [
              0.2222222222222222,
              "#7201a8"
             ],
             [
              0.3333333333333333,
              "#9c179e"
             ],
             [
              0.4444444444444444,
              "#bd3786"
             ],
             [
              0.5555555555555556,
              "#d8576b"
             ],
             [
              0.6666666666666666,
              "#ed7953"
             ],
             [
              0.7777777777777778,
              "#fb9f3a"
             ],
             [
              0.8888888888888888,
              "#fdca26"
             ],
             [
              1,
              "#f0f921"
             ]
            ],
            "type": "heatmapgl"
           }
          ],
          "histogram": [
           {
            "marker": {
             "colorbar": {
              "outlinewidth": 0,
              "ticks": ""
             }
            },
            "type": "histogram"
           }
          ],
          "histogram2d": [
           {
            "colorbar": {
             "outlinewidth": 0,
             "ticks": ""
            },
            "colorscale": [
             [
              0,
              "#0d0887"
             ],
             [
              0.1111111111111111,
              "#46039f"
             ],
             [
              0.2222222222222222,
              "#7201a8"
             ],
             [
              0.3333333333333333,
              "#9c179e"
             ],
             [
              0.4444444444444444,
              "#bd3786"
             ],
             [
              0.5555555555555556,
              "#d8576b"
             ],
             [
              0.6666666666666666,
              "#ed7953"
             ],
             [
              0.7777777777777778,
              "#fb9f3a"
             ],
             [
              0.8888888888888888,
              "#fdca26"
             ],
             [
              1,
              "#f0f921"
             ]
            ],
            "type": "histogram2d"
           }
          ],
          "histogram2dcontour": [
           {
            "colorbar": {
             "outlinewidth": 0,
             "ticks": ""
            },
            "colorscale": [
             [
              0,
              "#0d0887"
             ],
             [
              0.1111111111111111,
              "#46039f"
             ],
             [
              0.2222222222222222,
              "#7201a8"
             ],
             [
              0.3333333333333333,
              "#9c179e"
             ],
             [
              0.4444444444444444,
              "#bd3786"
             ],
             [
              0.5555555555555556,
              "#d8576b"
             ],
             [
              0.6666666666666666,
              "#ed7953"
             ],
             [
              0.7777777777777778,
              "#fb9f3a"
             ],
             [
              0.8888888888888888,
              "#fdca26"
             ],
             [
              1,
              "#f0f921"
             ]
            ],
            "type": "histogram2dcontour"
           }
          ],
          "mesh3d": [
           {
            "colorbar": {
             "outlinewidth": 0,
             "ticks": ""
            },
            "type": "mesh3d"
           }
          ],
          "parcoords": [
           {
            "line": {
             "colorbar": {
              "outlinewidth": 0,
              "ticks": ""
             }
            },
            "type": "parcoords"
           }
          ],
          "pie": [
           {
            "automargin": true,
            "type": "pie"
           }
          ],
          "scatter": [
           {
            "marker": {
             "colorbar": {
              "outlinewidth": 0,
              "ticks": ""
             }
            },
            "type": "scatter"
           }
          ],
          "scatter3d": [
           {
            "line": {
             "colorbar": {
              "outlinewidth": 0,
              "ticks": ""
             }
            },
            "marker": {
             "colorbar": {
              "outlinewidth": 0,
              "ticks": ""
             }
            },
            "type": "scatter3d"
           }
          ],
          "scattercarpet": [
           {
            "marker": {
             "colorbar": {
              "outlinewidth": 0,
              "ticks": ""
             }
            },
            "type": "scattercarpet"
           }
          ],
          "scattergeo": [
           {
            "marker": {
             "colorbar": {
              "outlinewidth": 0,
              "ticks": ""
             }
            },
            "type": "scattergeo"
           }
          ],
          "scattergl": [
           {
            "marker": {
             "colorbar": {
              "outlinewidth": 0,
              "ticks": ""
             }
            },
            "type": "scattergl"
           }
          ],
          "scattermapbox": [
           {
            "marker": {
             "colorbar": {
              "outlinewidth": 0,
              "ticks": ""
             }
            },
            "type": "scattermapbox"
           }
          ],
          "scatterpolar": [
           {
            "marker": {
             "colorbar": {
              "outlinewidth": 0,
              "ticks": ""
             }
            },
            "type": "scatterpolar"
           }
          ],
          "scatterpolargl": [
           {
            "marker": {
             "colorbar": {
              "outlinewidth": 0,
              "ticks": ""
             }
            },
            "type": "scatterpolargl"
           }
          ],
          "scatterternary": [
           {
            "marker": {
             "colorbar": {
              "outlinewidth": 0,
              "ticks": ""
             }
            },
            "type": "scatterternary"
           }
          ],
          "surface": [
           {
            "colorbar": {
             "outlinewidth": 0,
             "ticks": ""
            },
            "colorscale": [
             [
              0,
              "#0d0887"
             ],
             [
              0.1111111111111111,
              "#46039f"
             ],
             [
              0.2222222222222222,
              "#7201a8"
             ],
             [
              0.3333333333333333,
              "#9c179e"
             ],
             [
              0.4444444444444444,
              "#bd3786"
             ],
             [
              0.5555555555555556,
              "#d8576b"
             ],
             [
              0.6666666666666666,
              "#ed7953"
             ],
             [
              0.7777777777777778,
              "#fb9f3a"
             ],
             [
              0.8888888888888888,
              "#fdca26"
             ],
             [
              1,
              "#f0f921"
             ]
            ],
            "type": "surface"
           }
          ],
          "table": [
           {
            "cells": {
             "fill": {
              "color": "#EBF0F8"
             },
             "line": {
              "color": "white"
             }
            },
            "header": {
             "fill": {
              "color": "#C8D4E3"
             },
             "line": {
              "color": "white"
             }
            },
            "type": "table"
           }
          ]
         },
         "layout": {
          "annotationdefaults": {
           "arrowcolor": "#2a3f5f",
           "arrowhead": 0,
           "arrowwidth": 1
          },
          "autotypenumbers": "strict",
          "coloraxis": {
           "colorbar": {
            "outlinewidth": 0,
            "ticks": ""
           }
          },
          "colorscale": {
           "diverging": [
            [
             0,
             "#8e0152"
            ],
            [
             0.1,
             "#c51b7d"
            ],
            [
             0.2,
             "#de77ae"
            ],
            [
             0.3,
             "#f1b6da"
            ],
            [
             0.4,
             "#fde0ef"
            ],
            [
             0.5,
             "#f7f7f7"
            ],
            [
             0.6,
             "#e6f5d0"
            ],
            [
             0.7,
             "#b8e186"
            ],
            [
             0.8,
             "#7fbc41"
            ],
            [
             0.9,
             "#4d9221"
            ],
            [
             1,
             "#276419"
            ]
           ],
           "sequential": [
            [
             0,
             "#0d0887"
            ],
            [
             0.1111111111111111,
             "#46039f"
            ],
            [
             0.2222222222222222,
             "#7201a8"
            ],
            [
             0.3333333333333333,
             "#9c179e"
            ],
            [
             0.4444444444444444,
             "#bd3786"
            ],
            [
             0.5555555555555556,
             "#d8576b"
            ],
            [
             0.6666666666666666,
             "#ed7953"
            ],
            [
             0.7777777777777778,
             "#fb9f3a"
            ],
            [
             0.8888888888888888,
             "#fdca26"
            ],
            [
             1,
             "#f0f921"
            ]
           ],
           "sequentialminus": [
            [
             0,
             "#0d0887"
            ],
            [
             0.1111111111111111,
             "#46039f"
            ],
            [
             0.2222222222222222,
             "#7201a8"
            ],
            [
             0.3333333333333333,
             "#9c179e"
            ],
            [
             0.4444444444444444,
             "#bd3786"
            ],
            [
             0.5555555555555556,
             "#d8576b"
            ],
            [
             0.6666666666666666,
             "#ed7953"
            ],
            [
             0.7777777777777778,
             "#fb9f3a"
            ],
            [
             0.8888888888888888,
             "#fdca26"
            ],
            [
             1,
             "#f0f921"
            ]
           ]
          },
          "colorway": [
           "#636efa",
           "#EF553B",
           "#00cc96",
           "#ab63fa",
           "#FFA15A",
           "#19d3f3",
           "#FF6692",
           "#B6E880",
           "#FF97FF",
           "#FECB52"
          ],
          "font": {
           "color": "#2a3f5f"
          },
          "geo": {
           "bgcolor": "white",
           "lakecolor": "white",
           "landcolor": "#E5ECF6",
           "showlakes": true,
           "showland": true,
           "subunitcolor": "white"
          },
          "hoverlabel": {
           "align": "left"
          },
          "hovermode": "closest",
          "mapbox": {
           "style": "light"
          },
          "paper_bgcolor": "white",
          "plot_bgcolor": "#E5ECF6",
          "polar": {
           "angularaxis": {
            "gridcolor": "white",
            "linecolor": "white",
            "ticks": ""
           },
           "bgcolor": "#E5ECF6",
           "radialaxis": {
            "gridcolor": "white",
            "linecolor": "white",
            "ticks": ""
           }
          },
          "scene": {
           "xaxis": {
            "backgroundcolor": "#E5ECF6",
            "gridcolor": "white",
            "gridwidth": 2,
            "linecolor": "white",
            "showbackground": true,
            "ticks": "",
            "zerolinecolor": "white"
           },
           "yaxis": {
            "backgroundcolor": "#E5ECF6",
            "gridcolor": "white",
            "gridwidth": 2,
            "linecolor": "white",
            "showbackground": true,
            "ticks": "",
            "zerolinecolor": "white"
           },
           "zaxis": {
            "backgroundcolor": "#E5ECF6",
            "gridcolor": "white",
            "gridwidth": 2,
            "linecolor": "white",
            "showbackground": true,
            "ticks": "",
            "zerolinecolor": "white"
           }
          },
          "shapedefaults": {
           "line": {
            "color": "#2a3f5f"
           }
          },
          "ternary": {
           "aaxis": {
            "gridcolor": "white",
            "linecolor": "white",
            "ticks": ""
           },
           "baxis": {
            "gridcolor": "white",
            "linecolor": "white",
            "ticks": ""
           },
           "bgcolor": "#E5ECF6",
           "caxis": {
            "gridcolor": "white",
            "linecolor": "white",
            "ticks": ""
           }
          },
          "title": {
           "x": 0.05
          },
          "xaxis": {
           "automargin": true,
           "gridcolor": "white",
           "linecolor": "white",
           "ticks": "",
           "title": {
            "standoff": 15
           },
           "zerolinecolor": "white",
           "zerolinewidth": 2
          },
          "yaxis": {
           "automargin": true,
           "gridcolor": "white",
           "linecolor": "white",
           "ticks": "",
           "title": {
            "standoff": 15
           },
           "zerolinecolor": "white",
           "zerolinewidth": 2
          }
         }
        },
        "xaxis": {
         "anchor": "y",
         "domain": [
          0,
          1
         ],
         "title": {
          "text": "sub_event_type"
         }
        },
        "yaxis": {
         "anchor": "x",
         "domain": [
          0,
          1
         ],
         "title": {
          "text": "count"
         }
        }
       }
      }
     },
     "metadata": {}
    }
   ],
   "source": [
    "acled_counts = px.bar(acled,x='sub_event_type',y='count')\n",
    "acled_counts.show()"
   ]
  },
  {
   "cell_type": "code",
   "execution_count": 5,
   "metadata": {},
   "outputs": [
    {
     "output_type": "display_data",
     "data": {
      "application/vnd.plotly.v1+json": {
       "config": {
        "plotlyServerURL": "https://plot.ly"
       },
       "data": [
        {
         "alignmentgroup": "True",
         "hovertemplate": "weapon_description=%{x}<br>total=%{y}<extra></extra>",
         "legendgroup": "",
         "marker": {
          "color": "#636efa"
         },
         "name": "",
         "offsetgroup": "",
         "orientation": "v",
         "showlegend": false,
         "textposition": "auto",
         "type": "bar",
         "x": [
          "Anti-tank missile",
          "Guided bomb",
          "Portable SAM",
          "APC",
          "APV",
          "Diesel engine",
          "BVRAAM",
          "SAM",
          "Guided shell",
          "APC turret",
          "Tank",
          "Guided rocket",
          "ASM",
          "ASM/anti-tank missile",
          "IFV",
          "SRAAM",
          "Anti-ship missile",
          "Turbofan",
          "Towed gun",
          "FGA aircraft",
          "APC/APV",
          "Mortar",
          "IFV turret",
          "AIM-9S",
          "ASW torpedo",
          "Self-propelled gun",
          "SSM",
          "ABM",
          "Light helicopter",
          "Combat ac radar",
          "Trainer aircraft",
          "Helicopter",
          "Transport helicopter",
          "Turboprop/turboshaft",
          "Aircraft EO system",
          "ARM",
          "AS/ASW torpedo",
          "Combat helicopter",
          "Guided Bomb",
          "Self-propelled MRL",
          "Anti-ship missile/ARM",
          "Anti-ship missile/SSM",
          "UAV",
          "Anti-ship MI/SSM",
          "Turboshaft",
          "Trainer/combat ac",
          "Air search radar",
          "Fire control radar",
          "ARV",
          "SSM/ASM",
          "Loitering munition",
          "Ground surv radar",
          "Turboprop",
          "Transport aircraft",
          "APV/APC",
          "AA gun",
          "Gas turbine",
          "AFSV",
          "Naval gun",
          "BVRAAM/SAM",
          "Self-propelled mortar",
          "ASW sonar",
          "AS torpedo",
          "Patrol craft",
          "Light transport ac",
          "Light aircraft",
          "SAM system",
          "Tank turret",
          "Towed MRL",
          "ABM missile",
          "Reconnaissance AV",
          "ASW helicopter",
          "Tank destroyer",
          "MP aircraft radar",
          "Armed UAV",
          "Mobile AD system",
          "Fighter aircraft",
          "APC/IFV",
          "Mobile SAM system",
          "Air/sea search radar",
          "Air refuel system",
          "Tank chassis",
          "Armoured car",
          "Light tank",
          "Turbojet",
          "Combat heli radar",
          "Ground attack ac",
          "Frigate",
          "SPAAG",
          "ALV",
          "MP aircraft",
          "Sea search radar",
          "Guided rocket/SSM",
          "CIWS",
          "Anti-tank AV turret",
          "FAC",
          "Submarine",
          "Naval SAM system",
          "Arty locating radar",
          "SPG turret",
          "ASW aircraft",
          "SAM/ABM",
          "OPV",
          "Aircraft recce system",
          "SPG chassis",
          "APC/Command Post",
          "Mortar turret",
          "ABL",
          "SAM/ABM system",
          "AEV",
          "Naval mine/torpedo",
          "Tanker/transport ac",
          "Aircraft IRST",
          "MCM sonar",
          "EO search/fire control",
          "AEW&C aircraft",
          "Towed mortar",
          "SLBM",
          "Trainer/light ac",
          "Air search system",
          "Gun chassis",
          "MCM ship",
          "Heavy transport ac",
          "Corvette",
          "Landing craft",
          "AEW radar",
          "IFV/AFSV",
          "AIP engine",
          "AGS aircraft",
          "AGS radar",
          "Reconnaissance ac",
          "Trainer/combat aircraft",
          "AEV/ARV",
          "Bomber aircraft",
          "AALS",
          "AEW helicopter",
          "SSM launcher",
          "Minehunter",
          "FGA/EW aircraft",
          "Transport ship",
          "ASW MRL",
          "MRL",
          "Transport ac/helicopter",
          "SIGINT system",
          "Air/ground surv radar",
          "AD system",
          "ASW Helicopter",
          "Coastal defence system",
          "Cargo ship",
          "EO system",
          "Submarine sonar",
          "ACV/landing craft",
          "SIGINT aircraft",
          "SSM TEL",
          "Replenishment ship",
          "Landing ship",
          "Recce satellite",
          "Combat aircraft",
          "Multi-function radar",
          "AA gun system",
          "Destroyer",
          "Minesweeper",
          "AGS aerostat",
          "Helicopter turret",
          "Multifuntion radar",
          "Mobile SSM launcher",
          "ABM system",
          "Self-propelled MRL/SSM TEL",
          "MP UAV",
          "Naval MRL",
          "Support ship",
          "Multifunction radar",
          "ALCM",
          "Protector",
          "multi-function radar",
          "Replenishment tanker",
          "Anti-ship helicopter",
          "AGS/SIGINT system",
          "Height-finding radar",
          "Naval EO system",
          "Training ship",
          "Supply ship",
          "AMV",
          "OPV/frigate",
          "Tug",
          "AEW&C system",
          "UAV/light aircraft",
          "AGS/MP radar",
          "patrol craft",
          "Aircraft carrier",
          "Salvage ship",
          "ISR aircraft",
          "Transport aicraft",
          "Nuclear submarine",
          "FAC/MCM ship",
          "Minelayer",
          "OPV/Training ship",
          "Naval gun/CIWS",
          "Support craft",
          "ABM/SAM system",
          "Training tank",
          "Recce/SIGINT ac",
          "Airship",
          "Light aircraft/UAV",
          "OPV/tug",
          "Tanker",
          "Cargo Ship",
          "Survey ship",
          "AEW/AGS aircraft",
          "OPV/transport ship",
          "Transport craft",
          "SAM system radar"
         ],
         "xaxis": "x",
         "y": [
          415216,
          193502,
          59826,
          59197,
          52355,
          48935,
          48084,
          46923,
          21137,
          19568,
          17395,
          16062,
          15288,
          14338,
          13576,
          12502,
          6213,
          6094,
          5838,
          5635,
          4997,
          4950,
          4658,
          4277,
          4094,
          4011,
          3350,
          3344,
          3232,
          3023,
          2748,
          2691,
          2601,
          2485,
          2380,
          2297,
          2268,
          1915,
          1790,
          1776,
          1682,
          1588,
          1531,
          1416,
          1317,
          1317,
          1297,
          1252,
          1240,
          1207,
          1154,
          1112,
          1103,
          1080,
          858,
          857,
          840,
          811,
          809,
          780,
          765,
          762,
          720,
          705,
          686,
          650,
          622,
          607,
          554,
          552,
          524,
          487,
          468,
          457,
          449,
          425,
          396,
          386,
          357,
          289,
          286,
          274,
          272,
          266,
          266,
          261,
          250,
          238,
          230,
          220,
          206,
          205,
          200,
          186,
          183,
          172,
          154,
          150,
          147,
          142,
          140,
          126,
          122,
          122,
          120,
          118,
          115,
          114,
          102,
          102,
          100,
          96,
          96,
          92,
          87,
          84,
          78,
          72,
          57,
          56,
          54,
          53,
          53,
          50,
          49,
          48,
          47,
          46,
          44,
          44,
          43,
          40,
          39,
          34,
          31,
          29,
          28,
          27,
          27,
          26,
          26,
          26,
          25,
          23,
          23,
          23,
          20,
          20,
          19,
          19,
          18,
          17,
          17,
          16,
          14,
          13,
          13,
          12,
          12,
          12,
          11,
          10,
          10,
          10,
          9,
          9,
          9,
          8,
          8,
          8,
          8,
          7,
          6,
          6,
          6,
          5,
          5,
          5,
          4,
          4,
          4,
          4,
          4,
          3,
          3,
          3,
          3,
          3,
          3,
          3,
          3,
          3,
          3,
          3,
          3,
          2,
          2,
          2,
          2,
          2,
          1,
          1,
          1,
          1,
          1,
          1,
          1,
          1,
          1,
          1,
          1,
          1
         ],
         "yaxis": "y"
        }
       ],
       "layout": {
        "barmode": "relative",
        "legend": {
         "tracegroupgap": 0
        },
        "margin": {
         "t": 60
        },
        "template": {
         "data": {
          "bar": [
           {
            "error_x": {
             "color": "#2a3f5f"
            },
            "error_y": {
             "color": "#2a3f5f"
            },
            "marker": {
             "line": {
              "color": "#E5ECF6",
              "width": 0.5
             }
            },
            "type": "bar"
           }
          ],
          "barpolar": [
           {
            "marker": {
             "line": {
              "color": "#E5ECF6",
              "width": 0.5
             }
            },
            "type": "barpolar"
           }
          ],
          "carpet": [
           {
            "aaxis": {
             "endlinecolor": "#2a3f5f",
             "gridcolor": "white",
             "linecolor": "white",
             "minorgridcolor": "white",
             "startlinecolor": "#2a3f5f"
            },
            "baxis": {
             "endlinecolor": "#2a3f5f",
             "gridcolor": "white",
             "linecolor": "white",
             "minorgridcolor": "white",
             "startlinecolor": "#2a3f5f"
            },
            "type": "carpet"
           }
          ],
          "choropleth": [
           {
            "colorbar": {
             "outlinewidth": 0,
             "ticks": ""
            },
            "type": "choropleth"
           }
          ],
          "contour": [
           {
            "colorbar": {
             "outlinewidth": 0,
             "ticks": ""
            },
            "colorscale": [
             [
              0,
              "#0d0887"
             ],
             [
              0.1111111111111111,
              "#46039f"
             ],
             [
              0.2222222222222222,
              "#7201a8"
             ],
             [
              0.3333333333333333,
              "#9c179e"
             ],
             [
              0.4444444444444444,
              "#bd3786"
             ],
             [
              0.5555555555555556,
              "#d8576b"
             ],
             [
              0.6666666666666666,
              "#ed7953"
             ],
             [
              0.7777777777777778,
              "#fb9f3a"
             ],
             [
              0.8888888888888888,
              "#fdca26"
             ],
             [
              1,
              "#f0f921"
             ]
            ],
            "type": "contour"
           }
          ],
          "contourcarpet": [
           {
            "colorbar": {
             "outlinewidth": 0,
             "ticks": ""
            },
            "type": "contourcarpet"
           }
          ],
          "heatmap": [
           {
            "colorbar": {
             "outlinewidth": 0,
             "ticks": ""
            },
            "colorscale": [
             [
              0,
              "#0d0887"
             ],
             [
              0.1111111111111111,
              "#46039f"
             ],
             [
              0.2222222222222222,
              "#7201a8"
             ],
             [
              0.3333333333333333,
              "#9c179e"
             ],
             [
              0.4444444444444444,
              "#bd3786"
             ],
             [
              0.5555555555555556,
              "#d8576b"
             ],
             [
              0.6666666666666666,
              "#ed7953"
             ],
             [
              0.7777777777777778,
              "#fb9f3a"
             ],
             [
              0.8888888888888888,
              "#fdca26"
             ],
             [
              1,
              "#f0f921"
             ]
            ],
            "type": "heatmap"
           }
          ],
          "heatmapgl": [
           {
            "colorbar": {
             "outlinewidth": 0,
             "ticks": ""
            },
            "colorscale": [
             [
              0,
              "#0d0887"
             ],
             [
              0.1111111111111111,
              "#46039f"
             ],
             [
              0.2222222222222222,
              "#7201a8"
             ],
             [
              0.3333333333333333,
              "#9c179e"
             ],
             [
              0.4444444444444444,
              "#bd3786"
             ],
             [
              0.5555555555555556,
              "#d8576b"
             ],
             [
              0.6666666666666666,
              "#ed7953"
             ],
             [
              0.7777777777777778,
              "#fb9f3a"
             ],
             [
              0.8888888888888888,
              "#fdca26"
             ],
             [
              1,
              "#f0f921"
             ]
            ],
            "type": "heatmapgl"
           }
          ],
          "histogram": [
           {
            "marker": {
             "colorbar": {
              "outlinewidth": 0,
              "ticks": ""
             }
            },
            "type": "histogram"
           }
          ],
          "histogram2d": [
           {
            "colorbar": {
             "outlinewidth": 0,
             "ticks": ""
            },
            "colorscale": [
             [
              0,
              "#0d0887"
             ],
             [
              0.1111111111111111,
              "#46039f"
             ],
             [
              0.2222222222222222,
              "#7201a8"
             ],
             [
              0.3333333333333333,
              "#9c179e"
             ],
             [
              0.4444444444444444,
              "#bd3786"
             ],
             [
              0.5555555555555556,
              "#d8576b"
             ],
             [
              0.6666666666666666,
              "#ed7953"
             ],
             [
              0.7777777777777778,
              "#fb9f3a"
             ],
             [
              0.8888888888888888,
              "#fdca26"
             ],
             [
              1,
              "#f0f921"
             ]
            ],
            "type": "histogram2d"
           }
          ],
          "histogram2dcontour": [
           {
            "colorbar": {
             "outlinewidth": 0,
             "ticks": ""
            },
            "colorscale": [
             [
              0,
              "#0d0887"
             ],
             [
              0.1111111111111111,
              "#46039f"
             ],
             [
              0.2222222222222222,
              "#7201a8"
             ],
             [
              0.3333333333333333,
              "#9c179e"
             ],
             [
              0.4444444444444444,
              "#bd3786"
             ],
             [
              0.5555555555555556,
              "#d8576b"
             ],
             [
              0.6666666666666666,
              "#ed7953"
             ],
             [
              0.7777777777777778,
              "#fb9f3a"
             ],
             [
              0.8888888888888888,
              "#fdca26"
             ],
             [
              1,
              "#f0f921"
             ]
            ],
            "type": "histogram2dcontour"
           }
          ],
          "mesh3d": [
           {
            "colorbar": {
             "outlinewidth": 0,
             "ticks": ""
            },
            "type": "mesh3d"
           }
          ],
          "parcoords": [
           {
            "line": {
             "colorbar": {
              "outlinewidth": 0,
              "ticks": ""
             }
            },
            "type": "parcoords"
           }
          ],
          "pie": [
           {
            "automargin": true,
            "type": "pie"
           }
          ],
          "scatter": [
           {
            "marker": {
             "colorbar": {
              "outlinewidth": 0,
              "ticks": ""
             }
            },
            "type": "scatter"
           }
          ],
          "scatter3d": [
           {
            "line": {
             "colorbar": {
              "outlinewidth": 0,
              "ticks": ""
             }
            },
            "marker": {
             "colorbar": {
              "outlinewidth": 0,
              "ticks": ""
             }
            },
            "type": "scatter3d"
           }
          ],
          "scattercarpet": [
           {
            "marker": {
             "colorbar": {
              "outlinewidth": 0,
              "ticks": ""
             }
            },
            "type": "scattercarpet"
           }
          ],
          "scattergeo": [
           {
            "marker": {
             "colorbar": {
              "outlinewidth": 0,
              "ticks": ""
             }
            },
            "type": "scattergeo"
           }
          ],
          "scattergl": [
           {
            "marker": {
             "colorbar": {
              "outlinewidth": 0,
              "ticks": ""
             }
            },
            "type": "scattergl"
           }
          ],
          "scattermapbox": [
           {
            "marker": {
             "colorbar": {
              "outlinewidth": 0,
              "ticks": ""
             }
            },
            "type": "scattermapbox"
           }
          ],
          "scatterpolar": [
           {
            "marker": {
             "colorbar": {
              "outlinewidth": 0,
              "ticks": ""
             }
            },
            "type": "scatterpolar"
           }
          ],
          "scatterpolargl": [
           {
            "marker": {
             "colorbar": {
              "outlinewidth": 0,
              "ticks": ""
             }
            },
            "type": "scatterpolargl"
           }
          ],
          "scatterternary": [
           {
            "marker": {
             "colorbar": {
              "outlinewidth": 0,
              "ticks": ""
             }
            },
            "type": "scatterternary"
           }
          ],
          "surface": [
           {
            "colorbar": {
             "outlinewidth": 0,
             "ticks": ""
            },
            "colorscale": [
             [
              0,
              "#0d0887"
             ],
             [
              0.1111111111111111,
              "#46039f"
             ],
             [
              0.2222222222222222,
              "#7201a8"
             ],
             [
              0.3333333333333333,
              "#9c179e"
             ],
             [
              0.4444444444444444,
              "#bd3786"
             ],
             [
              0.5555555555555556,
              "#d8576b"
             ],
             [
              0.6666666666666666,
              "#ed7953"
             ],
             [
              0.7777777777777778,
              "#fb9f3a"
             ],
             [
              0.8888888888888888,
              "#fdca26"
             ],
             [
              1,
              "#f0f921"
             ]
            ],
            "type": "surface"
           }
          ],
          "table": [
           {
            "cells": {
             "fill": {
              "color": "#EBF0F8"
             },
             "line": {
              "color": "white"
             }
            },
            "header": {
             "fill": {
              "color": "#C8D4E3"
             },
             "line": {
              "color": "white"
             }
            },
            "type": "table"
           }
          ]
         },
         "layout": {
          "annotationdefaults": {
           "arrowcolor": "#2a3f5f",
           "arrowhead": 0,
           "arrowwidth": 1
          },
          "autotypenumbers": "strict",
          "coloraxis": {
           "colorbar": {
            "outlinewidth": 0,
            "ticks": ""
           }
          },
          "colorscale": {
           "diverging": [
            [
             0,
             "#8e0152"
            ],
            [
             0.1,
             "#c51b7d"
            ],
            [
             0.2,
             "#de77ae"
            ],
            [
             0.3,
             "#f1b6da"
            ],
            [
             0.4,
             "#fde0ef"
            ],
            [
             0.5,
             "#f7f7f7"
            ],
            [
             0.6,
             "#e6f5d0"
            ],
            [
             0.7,
             "#b8e186"
            ],
            [
             0.8,
             "#7fbc41"
            ],
            [
             0.9,
             "#4d9221"
            ],
            [
             1,
             "#276419"
            ]
           ],
           "sequential": [
            [
             0,
             "#0d0887"
            ],
            [
             0.1111111111111111,
             "#46039f"
            ],
            [
             0.2222222222222222,
             "#7201a8"
            ],
            [
             0.3333333333333333,
             "#9c179e"
            ],
            [
             0.4444444444444444,
             "#bd3786"
            ],
            [
             0.5555555555555556,
             "#d8576b"
            ],
            [
             0.6666666666666666,
             "#ed7953"
            ],
            [
             0.7777777777777778,
             "#fb9f3a"
            ],
            [
             0.8888888888888888,
             "#fdca26"
            ],
            [
             1,
             "#f0f921"
            ]
           ],
           "sequentialminus": [
            [
             0,
             "#0d0887"
            ],
            [
             0.1111111111111111,
             "#46039f"
            ],
            [
             0.2222222222222222,
             "#7201a8"
            ],
            [
             0.3333333333333333,
             "#9c179e"
            ],
            [
             0.4444444444444444,
             "#bd3786"
            ],
            [
             0.5555555555555556,
             "#d8576b"
            ],
            [
             0.6666666666666666,
             "#ed7953"
            ],
            [
             0.7777777777777778,
             "#fb9f3a"
            ],
            [
             0.8888888888888888,
             "#fdca26"
            ],
            [
             1,
             "#f0f921"
            ]
           ]
          },
          "colorway": [
           "#636efa",
           "#EF553B",
           "#00cc96",
           "#ab63fa",
           "#FFA15A",
           "#19d3f3",
           "#FF6692",
           "#B6E880",
           "#FF97FF",
           "#FECB52"
          ],
          "font": {
           "color": "#2a3f5f"
          },
          "geo": {
           "bgcolor": "white",
           "lakecolor": "white",
           "landcolor": "#E5ECF6",
           "showlakes": true,
           "showland": true,
           "subunitcolor": "white"
          },
          "hoverlabel": {
           "align": "left"
          },
          "hovermode": "closest",
          "mapbox": {
           "style": "light"
          },
          "paper_bgcolor": "white",
          "plot_bgcolor": "#E5ECF6",
          "polar": {
           "angularaxis": {
            "gridcolor": "white",
            "linecolor": "white",
            "ticks": ""
           },
           "bgcolor": "#E5ECF6",
           "radialaxis": {
            "gridcolor": "white",
            "linecolor": "white",
            "ticks": ""
           }
          },
          "scene": {
           "xaxis": {
            "backgroundcolor": "#E5ECF6",
            "gridcolor": "white",
            "gridwidth": 2,
            "linecolor": "white",
            "showbackground": true,
            "ticks": "",
            "zerolinecolor": "white"
           },
           "yaxis": {
            "backgroundcolor": "#E5ECF6",
            "gridcolor": "white",
            "gridwidth": 2,
            "linecolor": "white",
            "showbackground": true,
            "ticks": "",
            "zerolinecolor": "white"
           },
           "zaxis": {
            "backgroundcolor": "#E5ECF6",
            "gridcolor": "white",
            "gridwidth": 2,
            "linecolor": "white",
            "showbackground": true,
            "ticks": "",
            "zerolinecolor": "white"
           }
          },
          "shapedefaults": {
           "line": {
            "color": "#2a3f5f"
           }
          },
          "ternary": {
           "aaxis": {
            "gridcolor": "white",
            "linecolor": "white",
            "ticks": ""
           },
           "baxis": {
            "gridcolor": "white",
            "linecolor": "white",
            "ticks": ""
           },
           "bgcolor": "#E5ECF6",
           "caxis": {
            "gridcolor": "white",
            "linecolor": "white",
            "ticks": ""
           }
          },
          "title": {
           "x": 0.05
          },
          "xaxis": {
           "automargin": true,
           "gridcolor": "white",
           "linecolor": "white",
           "ticks": "",
           "title": {
            "standoff": 15
           },
           "zerolinecolor": "white",
           "zerolinewidth": 2
          },
          "yaxis": {
           "automargin": true,
           "gridcolor": "white",
           "linecolor": "white",
           "ticks": "",
           "title": {
            "standoff": 15
           },
           "zerolinecolor": "white",
           "zerolinewidth": 2
          }
         }
        },
        "xaxis": {
         "anchor": "y",
         "domain": [
          0,
          1
         ],
         "title": {
          "text": "weapon_description"
         }
        },
        "yaxis": {
         "anchor": "x",
         "domain": [
          0,
          1
         ],
         "title": {
          "text": "total"
         }
        }
       }
      }
     },
     "metadata": {}
    }
   ],
   "source": [
    "#sipri_filter = sipri.query('total > 440')\n",
    "sipri_counts = px.bar(sipri,x='weapon_description',y='total')\n",
    "sipri_counts.show()"
   ]
  },
  {
   "cell_type": "code",
   "execution_count": 6,
   "metadata": {},
   "outputs": [],
   "source": [
    "#acled_countries = pd.read_sql_query('SELECT country,sub_event_type, COUNT(*) FROM acled WHERE year > 2015 GROUP BY country,sub_event_type ORDER BY COUNT(*) DESC',db)\n",
    "acled_countries = pd.read_sql_query('SELECT country, COUNT(*) FROM acled WHERE year > 2015 GROUP BY country ORDER BY COUNT(*) DESC',db)\n",
    "#sipri_countries = pd.read_sql_query('SELECT buyer, SUM(number_ordered) as total FROM sipri WHERE CAST(order_year as integer) > 2015 GROUP BY buyer HAVING SUM(number_ordered) IS NOT NULL ORDER BY total desc',db)\n",
    "sipri_countries = pd.read_sql_query('SELECT buyer, weapon_description, SUM(number_delivered) as total FROM sipri WHERE CAST(order_year as integer) > 2015 GROUP BY buyer, weapon_description HAVING SUM(number_delivered) IS NOT NULL ORDER BY total desc',db)"
   ]
  },
  {
   "cell_type": "code",
   "execution_count": 7,
   "metadata": {},
   "outputs": [
    {
     "output_type": "display_data",
     "data": {
      "application/vnd.plotly.v1+json": {
       "config": {
        "plotlyServerURL": "https://plot.ly"
       },
       "data": [
        {
         "alignmentgroup": "True",
         "hovertemplate": "Nation=%{x}<br>Counts=%{y}<extra></extra>",
         "legendgroup": "",
         "marker": {
          "color": "#636efa"
         },
         "name": "",
         "offsetgroup": "",
         "orientation": "v",
         "showlegend": false,
         "textposition": "auto",
         "type": "bar",
         "x": [
          "India",
          "Syria",
          "Yemen",
          "Afghanistan",
          "Ukraine",
          "Mexico",
          "Brazil",
          "Pakistan",
          "Iraq",
          "United States",
          "Azerbaijan",
          "Turkey",
          "South Korea",
          "Somalia",
          "Philippines",
          "Nigeria",
          "Democratic Republic of Congo",
          "China",
          "Bahrain",
          "Venezuela",
          "Israel",
          "Iran",
          "Palestine",
          "Myanmar",
          "Lebanon",
          "South Africa",
          "Chile",
          "Argentina",
          "Italy",
          "France",
          "Algeria",
          "Bangladesh",
          "Russia",
          "Tunisia",
          "Sudan",
          "Libya",
          "Colombia",
          "Germany",
          "Armenia",
          "Indonesia",
          "South Sudan",
          "Japan",
          "Burundi",
          "Spain",
          "Nepal",
          "Cameroon",
          "Mali",
          "Ethiopia",
          "Guatemala",
          "Honduras",
          "Egypt",
          "Thailand",
          "Sri Lanka",
          "Morocco",
          "Saudi Arabia",
          "Georgia",
          "Belarus",
          "Peru",
          "Kenya",
          "Burkina Faso",
          "El Salvador",
          "United Kingdom",
          "Central African Republic",
          "Greece",
          "Taiwan",
          "Poland",
          "Uganda",
          "Bolivia",
          "Paraguay",
          "Kazakhstan",
          "Bulgaria",
          "Serbia",
          "Romania",
          "Mozambique",
          "Panama",
          "Haiti",
          "Niger",
          "Zimbabwe",
          "Guinea",
          "Ecuador",
          "Trinidad and Tobago",
          "Madagascar",
          "Sweden",
          "Costa Rica",
          "Ivory Coast",
          "Belgium",
          "Kyrgyzstan",
          "Netherlands",
          "Albania",
          "Ghana",
          "Moldova",
          "Mauritania",
          "Puerto Rico",
          "Denmark",
          "Nicaragua",
          "Cambodia",
          "Bosnia and Herzegovina",
          "Jordan",
          "Cyprus",
          "Montenegro",
          "Croatia",
          "Malawi",
          "North Macedonia",
          "Chad",
          "Austria",
          "Malaysia",
          "Jamaica",
          "Angola",
          "Portugal",
          "Kosovo",
          "Uzbekistan",
          "Sierra Leone",
          "Liberia",
          "Zambia",
          "Senegal",
          "Norway",
          "Ireland",
          "Guyana",
          "Namibia",
          "Finland",
          "Belize",
          "Czech Republic",
          "Vietnam",
          "Mongolia",
          "Tanzania",
          "Benin",
          "Togo",
          "Hungary",
          "Dominican Republic",
          "Cuba",
          "Switzerland",
          "Slovenia",
          "Gabon",
          "Estonia",
          "Slovakia",
          "North Korea",
          "Uruguay",
          "Gambia",
          "Martinique",
          "Republic of Congo",
          "Guadeloupe",
          "Tajikistan",
          "Suriname",
          "eSwatini",
          "Djibouti",
          "Rwanda",
          "Latvia",
          "Lithuania",
          "French Guiana",
          "Guinea-Bissau",
          "Kuwait",
          "Malta",
          "Antigua and Barbuda",
          "Bahamas",
          "Lesotho",
          "Luxembourg",
          "Botswana",
          "Turkmenistan",
          "Iceland",
          "Curacao",
          "Dominica",
          "Equatorial Guinea",
          "Eritrea",
          "Laos",
          "Oman",
          "Turks and Caicos Islands",
          "Sint Maarten",
          "Grenada",
          "Saint Lucia",
          "Barbados",
          "Saint-Martin",
          "Aruba",
          "Andorra",
          "United Arab Emirates",
          "Qatar",
          "Caribbean Netherlands",
          "Isle of Man",
          "Bailiwick of Guernsey",
          "Saint Kitts and Nevis",
          "Bailiwick of Jersey",
          "San Marino",
          "Greenland",
          "Cayman Islands",
          "Monaco",
          "Anguilla",
          "Vatican City",
          "Faroe Islands",
          "Liechtenstein",
          "Gibraltar",
          "Saint Vincent and the Grenadines",
          "Virgin Islands, U.S.",
          "Montserrat",
          "Falkland Islands"
         ],
         "xaxis": "x",
         "y": [
          89668,
          85815,
          54225,
          50562,
          42640,
          42409,
          39076,
          33479,
          29338,
          25029,
          17146,
          15513,
          14982,
          14106,
          11619,
          11247,
          10439,
          9533,
          9191,
          9116,
          8814,
          8632,
          8198,
          7487,
          7314,
          7120,
          6798,
          6793,
          6667,
          6467,
          6357,
          6117,
          5957,
          5814,
          5811,
          5707,
          5632,
          5260,
          5095,
          4921,
          4702,
          4644,
          4467,
          4152,
          4116,
          3855,
          3639,
          3493,
          3424,
          3376,
          3304,
          3087,
          3040,
          3033,
          2751,
          2750,
          2659,
          2596,
          2583,
          2574,
          2461,
          2450,
          2335,
          2315,
          2158,
          2129,
          2017,
          1882,
          1791,
          1766,
          1745,
          1737,
          1457,
          1435,
          1377,
          1372,
          1269,
          1215,
          1170,
          1124,
          1063,
          1063,
          1057,
          1003,
          949,
          924,
          907,
          859,
          833,
          820,
          793,
          673,
          669,
          655,
          653,
          651,
          633,
          622,
          621,
          612,
          566,
          551,
          544,
          541,
          514,
          487,
          482,
          429,
          413,
          409,
          394,
          381,
          364,
          362,
          360,
          338,
          318,
          287,
          273,
          268,
          266,
          259,
          259,
          257,
          241,
          230,
          223,
          213,
          209,
          189,
          176,
          169,
          165,
          165,
          155,
          126,
          121,
          115,
          110,
          106,
          103,
          97,
          89,
          88,
          78,
          77,
          76,
          68,
          67,
          66,
          64,
          58,
          44,
          44,
          44,
          42,
          41,
          40,
          40,
          37,
          37,
          35,
          33,
          27,
          17,
          16,
          15,
          15,
          14,
          13,
          12,
          10,
          9,
          9,
          9,
          9,
          7,
          6,
          6,
          5,
          5,
          4,
          4,
          4,
          3,
          3,
          2,
          2,
          1,
          1,
          1,
          1,
          1
         ],
         "yaxis": "y"
        }
       ],
       "layout": {
        "barmode": "relative",
        "legend": {
         "tracegroupgap": 0
        },
        "template": {
         "data": {
          "bar": [
           {
            "error_x": {
             "color": "#2a3f5f"
            },
            "error_y": {
             "color": "#2a3f5f"
            },
            "marker": {
             "line": {
              "color": "#E5ECF6",
              "width": 0.5
             }
            },
            "type": "bar"
           }
          ],
          "barpolar": [
           {
            "marker": {
             "line": {
              "color": "#E5ECF6",
              "width": 0.5
             }
            },
            "type": "barpolar"
           }
          ],
          "carpet": [
           {
            "aaxis": {
             "endlinecolor": "#2a3f5f",
             "gridcolor": "white",
             "linecolor": "white",
             "minorgridcolor": "white",
             "startlinecolor": "#2a3f5f"
            },
            "baxis": {
             "endlinecolor": "#2a3f5f",
             "gridcolor": "white",
             "linecolor": "white",
             "minorgridcolor": "white",
             "startlinecolor": "#2a3f5f"
            },
            "type": "carpet"
           }
          ],
          "choropleth": [
           {
            "colorbar": {
             "outlinewidth": 0,
             "ticks": ""
            },
            "type": "choropleth"
           }
          ],
          "contour": [
           {
            "colorbar": {
             "outlinewidth": 0,
             "ticks": ""
            },
            "colorscale": [
             [
              0,
              "#0d0887"
             ],
             [
              0.1111111111111111,
              "#46039f"
             ],
             [
              0.2222222222222222,
              "#7201a8"
             ],
             [
              0.3333333333333333,
              "#9c179e"
             ],
             [
              0.4444444444444444,
              "#bd3786"
             ],
             [
              0.5555555555555556,
              "#d8576b"
             ],
             [
              0.6666666666666666,
              "#ed7953"
             ],
             [
              0.7777777777777778,
              "#fb9f3a"
             ],
             [
              0.8888888888888888,
              "#fdca26"
             ],
             [
              1,
              "#f0f921"
             ]
            ],
            "type": "contour"
           }
          ],
          "contourcarpet": [
           {
            "colorbar": {
             "outlinewidth": 0,
             "ticks": ""
            },
            "type": "contourcarpet"
           }
          ],
          "heatmap": [
           {
            "colorbar": {
             "outlinewidth": 0,
             "ticks": ""
            },
            "colorscale": [
             [
              0,
              "#0d0887"
             ],
             [
              0.1111111111111111,
              "#46039f"
             ],
             [
              0.2222222222222222,
              "#7201a8"
             ],
             [
              0.3333333333333333,
              "#9c179e"
             ],
             [
              0.4444444444444444,
              "#bd3786"
             ],
             [
              0.5555555555555556,
              "#d8576b"
             ],
             [
              0.6666666666666666,
              "#ed7953"
             ],
             [
              0.7777777777777778,
              "#fb9f3a"
             ],
             [
              0.8888888888888888,
              "#fdca26"
             ],
             [
              1,
              "#f0f921"
             ]
            ],
            "type": "heatmap"
           }
          ],
          "heatmapgl": [
           {
            "colorbar": {
             "outlinewidth": 0,
             "ticks": ""
            },
            "colorscale": [
             [
              0,
              "#0d0887"
             ],
             [
              0.1111111111111111,
              "#46039f"
             ],
             [
              0.2222222222222222,
              "#7201a8"
             ],
             [
              0.3333333333333333,
              "#9c179e"
             ],
             [
              0.4444444444444444,
              "#bd3786"
             ],
             [
              0.5555555555555556,
              "#d8576b"
             ],
             [
              0.6666666666666666,
              "#ed7953"
             ],
             [
              0.7777777777777778,
              "#fb9f3a"
             ],
             [
              0.8888888888888888,
              "#fdca26"
             ],
             [
              1,
              "#f0f921"
             ]
            ],
            "type": "heatmapgl"
           }
          ],
          "histogram": [
           {
            "marker": {
             "colorbar": {
              "outlinewidth": 0,
              "ticks": ""
             }
            },
            "type": "histogram"
           }
          ],
          "histogram2d": [
           {
            "colorbar": {
             "outlinewidth": 0,
             "ticks": ""
            },
            "colorscale": [
             [
              0,
              "#0d0887"
             ],
             [
              0.1111111111111111,
              "#46039f"
             ],
             [
              0.2222222222222222,
              "#7201a8"
             ],
             [
              0.3333333333333333,
              "#9c179e"
             ],
             [
              0.4444444444444444,
              "#bd3786"
             ],
             [
              0.5555555555555556,
              "#d8576b"
             ],
             [
              0.6666666666666666,
              "#ed7953"
             ],
             [
              0.7777777777777778,
              "#fb9f3a"
             ],
             [
              0.8888888888888888,
              "#fdca26"
             ],
             [
              1,
              "#f0f921"
             ]
            ],
            "type": "histogram2d"
           }
          ],
          "histogram2dcontour": [
           {
            "colorbar": {
             "outlinewidth": 0,
             "ticks": ""
            },
            "colorscale": [
             [
              0,
              "#0d0887"
             ],
             [
              0.1111111111111111,
              "#46039f"
             ],
             [
              0.2222222222222222,
              "#7201a8"
             ],
             [
              0.3333333333333333,
              "#9c179e"
             ],
             [
              0.4444444444444444,
              "#bd3786"
             ],
             [
              0.5555555555555556,
              "#d8576b"
             ],
             [
              0.6666666666666666,
              "#ed7953"
             ],
             [
              0.7777777777777778,
              "#fb9f3a"
             ],
             [
              0.8888888888888888,
              "#fdca26"
             ],
             [
              1,
              "#f0f921"
             ]
            ],
            "type": "histogram2dcontour"
           }
          ],
          "mesh3d": [
           {
            "colorbar": {
             "outlinewidth": 0,
             "ticks": ""
            },
            "type": "mesh3d"
           }
          ],
          "parcoords": [
           {
            "line": {
             "colorbar": {
              "outlinewidth": 0,
              "ticks": ""
             }
            },
            "type": "parcoords"
           }
          ],
          "pie": [
           {
            "automargin": true,
            "type": "pie"
           }
          ],
          "scatter": [
           {
            "marker": {
             "colorbar": {
              "outlinewidth": 0,
              "ticks": ""
             }
            },
            "type": "scatter"
           }
          ],
          "scatter3d": [
           {
            "line": {
             "colorbar": {
              "outlinewidth": 0,
              "ticks": ""
             }
            },
            "marker": {
             "colorbar": {
              "outlinewidth": 0,
              "ticks": ""
             }
            },
            "type": "scatter3d"
           }
          ],
          "scattercarpet": [
           {
            "marker": {
             "colorbar": {
              "outlinewidth": 0,
              "ticks": ""
             }
            },
            "type": "scattercarpet"
           }
          ],
          "scattergeo": [
           {
            "marker": {
             "colorbar": {
              "outlinewidth": 0,
              "ticks": ""
             }
            },
            "type": "scattergeo"
           }
          ],
          "scattergl": [
           {
            "marker": {
             "colorbar": {
              "outlinewidth": 0,
              "ticks": ""
             }
            },
            "type": "scattergl"
           }
          ],
          "scattermapbox": [
           {
            "marker": {
             "colorbar": {
              "outlinewidth": 0,
              "ticks": ""
             }
            },
            "type": "scattermapbox"
           }
          ],
          "scatterpolar": [
           {
            "marker": {
             "colorbar": {
              "outlinewidth": 0,
              "ticks": ""
             }
            },
            "type": "scatterpolar"
           }
          ],
          "scatterpolargl": [
           {
            "marker": {
             "colorbar": {
              "outlinewidth": 0,
              "ticks": ""
             }
            },
            "type": "scatterpolargl"
           }
          ],
          "scatterternary": [
           {
            "marker": {
             "colorbar": {
              "outlinewidth": 0,
              "ticks": ""
             }
            },
            "type": "scatterternary"
           }
          ],
          "surface": [
           {
            "colorbar": {
             "outlinewidth": 0,
             "ticks": ""
            },
            "colorscale": [
             [
              0,
              "#0d0887"
             ],
             [
              0.1111111111111111,
              "#46039f"
             ],
             [
              0.2222222222222222,
              "#7201a8"
             ],
             [
              0.3333333333333333,
              "#9c179e"
             ],
             [
              0.4444444444444444,
              "#bd3786"
             ],
             [
              0.5555555555555556,
              "#d8576b"
             ],
             [
              0.6666666666666666,
              "#ed7953"
             ],
             [
              0.7777777777777778,
              "#fb9f3a"
             ],
             [
              0.8888888888888888,
              "#fdca26"
             ],
             [
              1,
              "#f0f921"
             ]
            ],
            "type": "surface"
           }
          ],
          "table": [
           {
            "cells": {
             "fill": {
              "color": "#EBF0F8"
             },
             "line": {
              "color": "white"
             }
            },
            "header": {
             "fill": {
              "color": "#C8D4E3"
             },
             "line": {
              "color": "white"
             }
            },
            "type": "table"
           }
          ]
         },
         "layout": {
          "annotationdefaults": {
           "arrowcolor": "#2a3f5f",
           "arrowhead": 0,
           "arrowwidth": 1
          },
          "autotypenumbers": "strict",
          "coloraxis": {
           "colorbar": {
            "outlinewidth": 0,
            "ticks": ""
           }
          },
          "colorscale": {
           "diverging": [
            [
             0,
             "#8e0152"
            ],
            [
             0.1,
             "#c51b7d"
            ],
            [
             0.2,
             "#de77ae"
            ],
            [
             0.3,
             "#f1b6da"
            ],
            [
             0.4,
             "#fde0ef"
            ],
            [
             0.5,
             "#f7f7f7"
            ],
            [
             0.6,
             "#e6f5d0"
            ],
            [
             0.7,
             "#b8e186"
            ],
            [
             0.8,
             "#7fbc41"
            ],
            [
             0.9,
             "#4d9221"
            ],
            [
             1,
             "#276419"
            ]
           ],
           "sequential": [
            [
             0,
             "#0d0887"
            ],
            [
             0.1111111111111111,
             "#46039f"
            ],
            [
             0.2222222222222222,
             "#7201a8"
            ],
            [
             0.3333333333333333,
             "#9c179e"
            ],
            [
             0.4444444444444444,
             "#bd3786"
            ],
            [
             0.5555555555555556,
             "#d8576b"
            ],
            [
             0.6666666666666666,
             "#ed7953"
            ],
            [
             0.7777777777777778,
             "#fb9f3a"
            ],
            [
             0.8888888888888888,
             "#fdca26"
            ],
            [
             1,
             "#f0f921"
            ]
           ],
           "sequentialminus": [
            [
             0,
             "#0d0887"
            ],
            [
             0.1111111111111111,
             "#46039f"
            ],
            [
             0.2222222222222222,
             "#7201a8"
            ],
            [
             0.3333333333333333,
             "#9c179e"
            ],
            [
             0.4444444444444444,
             "#bd3786"
            ],
            [
             0.5555555555555556,
             "#d8576b"
            ],
            [
             0.6666666666666666,
             "#ed7953"
            ],
            [
             0.7777777777777778,
             "#fb9f3a"
            ],
            [
             0.8888888888888888,
             "#fdca26"
            ],
            [
             1,
             "#f0f921"
            ]
           ]
          },
          "colorway": [
           "#636efa",
           "#EF553B",
           "#00cc96",
           "#ab63fa",
           "#FFA15A",
           "#19d3f3",
           "#FF6692",
           "#B6E880",
           "#FF97FF",
           "#FECB52"
          ],
          "font": {
           "color": "#2a3f5f"
          },
          "geo": {
           "bgcolor": "white",
           "lakecolor": "white",
           "landcolor": "#E5ECF6",
           "showlakes": true,
           "showland": true,
           "subunitcolor": "white"
          },
          "hoverlabel": {
           "align": "left"
          },
          "hovermode": "closest",
          "mapbox": {
           "style": "light"
          },
          "paper_bgcolor": "white",
          "plot_bgcolor": "#E5ECF6",
          "polar": {
           "angularaxis": {
            "gridcolor": "white",
            "linecolor": "white",
            "ticks": ""
           },
           "bgcolor": "#E5ECF6",
           "radialaxis": {
            "gridcolor": "white",
            "linecolor": "white",
            "ticks": ""
           }
          },
          "scene": {
           "xaxis": {
            "backgroundcolor": "#E5ECF6",
            "gridcolor": "white",
            "gridwidth": 2,
            "linecolor": "white",
            "showbackground": true,
            "ticks": "",
            "zerolinecolor": "white"
           },
           "yaxis": {
            "backgroundcolor": "#E5ECF6",
            "gridcolor": "white",
            "gridwidth": 2,
            "linecolor": "white",
            "showbackground": true,
            "ticks": "",
            "zerolinecolor": "white"
           },
           "zaxis": {
            "backgroundcolor": "#E5ECF6",
            "gridcolor": "white",
            "gridwidth": 2,
            "linecolor": "white",
            "showbackground": true,
            "ticks": "",
            "zerolinecolor": "white"
           }
          },
          "shapedefaults": {
           "line": {
            "color": "#2a3f5f"
           }
          },
          "ternary": {
           "aaxis": {
            "gridcolor": "white",
            "linecolor": "white",
            "ticks": ""
           },
           "baxis": {
            "gridcolor": "white",
            "linecolor": "white",
            "ticks": ""
           },
           "bgcolor": "#E5ECF6",
           "caxis": {
            "gridcolor": "white",
            "linecolor": "white",
            "ticks": ""
           }
          },
          "title": {
           "x": 0.05
          },
          "xaxis": {
           "automargin": true,
           "gridcolor": "white",
           "linecolor": "white",
           "ticks": "",
           "title": {
            "standoff": 15
           },
           "zerolinecolor": "white",
           "zerolinewidth": 2
          },
          "yaxis": {
           "automargin": true,
           "gridcolor": "white",
           "linecolor": "white",
           "ticks": "",
           "title": {
            "standoff": 15
           },
           "zerolinecolor": "white",
           "zerolinewidth": 2
          }
         }
        },
        "title": {
         "text": "Total Amount of Conflict Events Amongst<br>Nations Across All Categories 2015-2020"
        },
        "xaxis": {
         "anchor": "y",
         "domain": [
          0,
          1
         ],
         "title": {
          "text": "Nation"
         }
        },
        "yaxis": {
         "anchor": "x",
         "domain": [
          0,
          1
         ],
         "title": {
          "text": "Counts"
         }
        }
       }
      }
     },
     "metadata": {}
    }
   ],
   "source": [
    "acled_conflict_countries = px.bar(acled_countries,x='country',y='count',\n",
    "title='Total Amount of Conflict Events Amongst<br>Nations Across All Categories 2015-2020',labels={'country':'Nation','count':'Counts'})\n",
    "acled_conflict_countries.show()"
   ]
  },
  {
   "cell_type": "code",
   "execution_count": 8,
   "metadata": {},
   "outputs": [
    {
     "output_type": "error",
     "ename": "ValueError",
     "evalue": "Value of 'color' is not the name of a column in 'data_frame'. Expected one of ['country', 'count'] but received: sub_event_type",
     "traceback": [
      "\u001b[0;31m---------------------------------------------------------------------------\u001b[0m",
      "\u001b[0;31mValueError\u001b[0m                                Traceback (most recent call last)",
      "\u001b[0;32m<ipython-input-8-59d398f98c47>\u001b[0m in \u001b[0;36m<module>\u001b[0;34m\u001b[0m\n\u001b[0;32m----> 1\u001b[0;31m acled_conflict_countries = px.bar(acled_countries.query('country==\"India\"|country==\"Syria\"|country==\"Ukraine\"|country==\"Yemen\"|country==\"Afghanistan\"'),x='country',y='count',color='sub_event_type',\n\u001b[0m\u001b[1;32m      2\u001b[0m \u001b[0mtitle\u001b[0m\u001b[0;34m=\u001b[0m\u001b[0;34m'Type of Conflict For Top 5 Nations With Most Conflict 2015-2020'\u001b[0m\u001b[0;34m,\u001b[0m\u001b[0;34m\u001b[0m\u001b[0;34m\u001b[0m\u001b[0m\n\u001b[1;32m      3\u001b[0m \u001b[0mlabels\u001b[0m\u001b[0;34m=\u001b[0m\u001b[0;34m{\u001b[0m\u001b[0;34m'country'\u001b[0m\u001b[0;34m:\u001b[0m\u001b[0;34m'Nation'\u001b[0m\u001b[0;34m,\u001b[0m\u001b[0;34m'count'\u001b[0m\u001b[0;34m:\u001b[0m\u001b[0;34m'Counts'\u001b[0m\u001b[0;34m,\u001b[0m \u001b[0;34m'sub_event_type'\u001b[0m\u001b[0;34m:\u001b[0m\u001b[0;34m'Conflict Type'\u001b[0m\u001b[0;34m}\u001b[0m\u001b[0;34m,\u001b[0m\u001b[0;34m\u001b[0m\u001b[0;34m\u001b[0m\u001b[0m\n\u001b[1;32m      4\u001b[0m category_orders={'country':['India','Syria','Yemen','Afghanistan','Ukraine']})\n\u001b[1;32m      5\u001b[0m \u001b[0macled_conflict_countries\u001b[0m\u001b[0;34m.\u001b[0m\u001b[0mshow\u001b[0m\u001b[0;34m(\u001b[0m\u001b[0;34m)\u001b[0m\u001b[0;34m\u001b[0m\u001b[0;34m\u001b[0m\u001b[0m\n",
      "\u001b[0;32m~/.local/lib/python3.8/site-packages/plotly/express/_chart_types.py\u001b[0m in \u001b[0;36mbar\u001b[0;34m(data_frame, x, y, color, facet_row, facet_col, facet_col_wrap, facet_row_spacing, facet_col_spacing, hover_name, hover_data, custom_data, text, base, error_x, error_x_minus, error_y, error_y_minus, animation_frame, animation_group, category_orders, labels, color_discrete_sequence, color_discrete_map, color_continuous_scale, range_color, color_continuous_midpoint, opacity, orientation, barmode, log_x, log_y, range_x, range_y, title, template, width, height)\u001b[0m\n\u001b[1;32m    348\u001b[0m     \u001b[0mmark\u001b[0m\u001b[0;34m.\u001b[0m\u001b[0;34m\u001b[0m\u001b[0;34m\u001b[0m\u001b[0m\n\u001b[1;32m    349\u001b[0m     \"\"\"\n\u001b[0;32m--> 350\u001b[0;31m     return make_figure(\n\u001b[0m\u001b[1;32m    351\u001b[0m         \u001b[0margs\u001b[0m\u001b[0;34m=\u001b[0m\u001b[0mlocals\u001b[0m\u001b[0;34m(\u001b[0m\u001b[0;34m)\u001b[0m\u001b[0;34m,\u001b[0m\u001b[0;34m\u001b[0m\u001b[0;34m\u001b[0m\u001b[0m\n\u001b[1;32m    352\u001b[0m         \u001b[0mconstructor\u001b[0m\u001b[0;34m=\u001b[0m\u001b[0mgo\u001b[0m\u001b[0;34m.\u001b[0m\u001b[0mBar\u001b[0m\u001b[0;34m,\u001b[0m\u001b[0;34m\u001b[0m\u001b[0;34m\u001b[0m\u001b[0m\n",
      "\u001b[0;32m~/.local/lib/python3.8/site-packages/plotly/express/_core.py\u001b[0m in \u001b[0;36mmake_figure\u001b[0;34m(args, constructor, trace_patch, layout_patch)\u001b[0m\n\u001b[1;32m   1859\u001b[0m     \u001b[0mapply_default_cascade\u001b[0m\u001b[0;34m(\u001b[0m\u001b[0margs\u001b[0m\u001b[0;34m)\u001b[0m\u001b[0;34m\u001b[0m\u001b[0;34m\u001b[0m\u001b[0m\n\u001b[1;32m   1860\u001b[0m \u001b[0;34m\u001b[0m\u001b[0m\n\u001b[0;32m-> 1861\u001b[0;31m     \u001b[0margs\u001b[0m \u001b[0;34m=\u001b[0m \u001b[0mbuild_dataframe\u001b[0m\u001b[0;34m(\u001b[0m\u001b[0margs\u001b[0m\u001b[0;34m,\u001b[0m \u001b[0mconstructor\u001b[0m\u001b[0;34m)\u001b[0m\u001b[0;34m\u001b[0m\u001b[0;34m\u001b[0m\u001b[0m\n\u001b[0m\u001b[1;32m   1862\u001b[0m     \u001b[0;32mif\u001b[0m \u001b[0mconstructor\u001b[0m \u001b[0;32min\u001b[0m \u001b[0;34m[\u001b[0m\u001b[0mgo\u001b[0m\u001b[0;34m.\u001b[0m\u001b[0mTreemap\u001b[0m\u001b[0;34m,\u001b[0m \u001b[0mgo\u001b[0m\u001b[0;34m.\u001b[0m\u001b[0mSunburst\u001b[0m\u001b[0;34m]\u001b[0m \u001b[0;32mand\u001b[0m \u001b[0margs\u001b[0m\u001b[0;34m[\u001b[0m\u001b[0;34m\"path\"\u001b[0m\u001b[0;34m]\u001b[0m \u001b[0;32mis\u001b[0m \u001b[0;32mnot\u001b[0m \u001b[0;32mNone\u001b[0m\u001b[0;34m:\u001b[0m\u001b[0;34m\u001b[0m\u001b[0;34m\u001b[0m\u001b[0m\n\u001b[1;32m   1863\u001b[0m         \u001b[0margs\u001b[0m \u001b[0;34m=\u001b[0m \u001b[0mprocess_dataframe_hierarchy\u001b[0m\u001b[0;34m(\u001b[0m\u001b[0margs\u001b[0m\u001b[0;34m)\u001b[0m\u001b[0;34m\u001b[0m\u001b[0;34m\u001b[0m\u001b[0m\n",
      "\u001b[0;32m~/.local/lib/python3.8/site-packages/plotly/express/_core.py\u001b[0m in \u001b[0;36mbuild_dataframe\u001b[0;34m(args, constructor)\u001b[0m\n\u001b[1;32m   1375\u001b[0m     \u001b[0;31m# now that things have been prepped, we do the systematic rewriting of `args`\u001b[0m\u001b[0;34m\u001b[0m\u001b[0;34m\u001b[0m\u001b[0;34m\u001b[0m\u001b[0m\n\u001b[1;32m   1376\u001b[0m \u001b[0;34m\u001b[0m\u001b[0m\n\u001b[0;32m-> 1377\u001b[0;31m     df_output, wide_id_vars = process_args_into_dataframe(\n\u001b[0m\u001b[1;32m   1378\u001b[0m         \u001b[0margs\u001b[0m\u001b[0;34m,\u001b[0m \u001b[0mwide_mode\u001b[0m\u001b[0;34m,\u001b[0m \u001b[0mvar_name\u001b[0m\u001b[0;34m,\u001b[0m \u001b[0mvalue_name\u001b[0m\u001b[0;34m\u001b[0m\u001b[0;34m\u001b[0m\u001b[0m\n\u001b[1;32m   1379\u001b[0m     )\n",
      "\u001b[0;32m~/.local/lib/python3.8/site-packages/plotly/express/_core.py\u001b[0m in \u001b[0;36mprocess_args_into_dataframe\u001b[0;34m(args, wide_mode, var_name, value_name)\u001b[0m\n\u001b[1;32m   1181\u001b[0m                         \u001b[0;32mif\u001b[0m \u001b[0margument\u001b[0m \u001b[0;34m==\u001b[0m \u001b[0;34m\"index\"\u001b[0m\u001b[0;34m:\u001b[0m\u001b[0;34m\u001b[0m\u001b[0;34m\u001b[0m\u001b[0m\n\u001b[1;32m   1182\u001b[0m                             \u001b[0merr_msg\u001b[0m \u001b[0;34m+=\u001b[0m \u001b[0;34m\"\\n To use the index, pass it in directly as `df.index`.\"\u001b[0m\u001b[0;34m\u001b[0m\u001b[0;34m\u001b[0m\u001b[0m\n\u001b[0;32m-> 1183\u001b[0;31m                         \u001b[0;32mraise\u001b[0m \u001b[0mValueError\u001b[0m\u001b[0;34m(\u001b[0m\u001b[0merr_msg\u001b[0m\u001b[0;34m)\u001b[0m\u001b[0;34m\u001b[0m\u001b[0;34m\u001b[0m\u001b[0m\n\u001b[0m\u001b[1;32m   1184\u001b[0m                 \u001b[0;32melif\u001b[0m \u001b[0mlength\u001b[0m \u001b[0;32mand\u001b[0m \u001b[0mlen\u001b[0m\u001b[0;34m(\u001b[0m\u001b[0mdf_input\u001b[0m\u001b[0;34m[\u001b[0m\u001b[0margument\u001b[0m\u001b[0;34m]\u001b[0m\u001b[0;34m)\u001b[0m \u001b[0;34m!=\u001b[0m \u001b[0mlength\u001b[0m\u001b[0;34m:\u001b[0m\u001b[0;34m\u001b[0m\u001b[0;34m\u001b[0m\u001b[0m\n\u001b[1;32m   1185\u001b[0m                     raise ValueError(\n",
      "\u001b[0;31mValueError\u001b[0m: Value of 'color' is not the name of a column in 'data_frame'. Expected one of ['country', 'count'] but received: sub_event_type"
     ]
    }
   ],
   "source": [
    "acled_conflict_countries = px.bar(acled_countries.query('country==\"India\"|country==\"Syria\"|country==\"Ukraine\"|country==\"Yemen\"|country==\"Afghanistan\"'),x='country',y='count',color='sub_event_type',\n",
    "title='Type of Conflict For Top 5 Nations With Most Conflict 2015-2020',\n",
    "labels={'country':'Nation','count':'Counts', 'sub_event_type':'Conflict Type'},\n",
    "category_orders={'country':['India','Syria','Yemen','Afghanistan','Ukraine']})\n",
    "acled_conflict_countries.show()"
   ]
  },
  {
   "cell_type": "code",
   "execution_count": 18,
   "metadata": {},
   "outputs": [
    {
     "output_type": "display_data",
     "data": {
      "application/vnd.plotly.v1+json": {
       "config": {
        "plotlyServerURL": "https://plot.ly"
       },
       "data": [
        {
         "alignmentgroup": "True",
         "hovertemplate": "Nation or Non-State Actor=%{x}<br>Amount of Purchases=%{y}<extra></extra>",
         "legendgroup": "",
         "marker": {
          "color": "#636efa"
         },
         "name": "",
         "offsetgroup": "",
         "orientation": "v",
         "showlegend": false,
         "textposition": "auto",
         "type": "bar",
         "x": [
          "Saudi Arabia",
          "United Arab Emirates",
          "Afghanistan",
          "United Arab Emirates",
          "Qatar",
          "Israel",
          "United States",
          "Switzerland",
          "Lebanon",
          "Netherlands",
          "India",
          "South Korea",
          "Morocco",
          "Algeria",
          "United Kingdom",
          "Israel",
          "Turkey",
          "Qatar",
          "Azerbaijan",
          "Jordan",
          "Turkey",
          "India",
          "Belgium",
          "Jordan",
          "Lebanon",
          "Malaysia",
          "Qatar",
          "Australia",
          "South Korea",
          "Singapore",
          "Finland",
          "Morocco",
          "Bahrain",
          "Taiwan",
          "NATO**",
          "Georgia",
          "Turkey",
          "United Arab Emirates",
          "Netherlands",
          "Ukraine",
          "Australia",
          "Azerbaijan",
          "India",
          "Qatar",
          "Egypt",
          "Jordan",
          "Qatar",
          "Egypt",
          "Azerbaijan",
          "Kuwait",
          "Poland",
          "India",
          "Bahrain",
          "Japan",
          "Afghanistan",
          "Unknown recipient(s)",
          "Singapore",
          "Taiwan",
          "India",
          "United States",
          "Lithuania",
          "Finland",
          "United Arab Emirates",
          "Germany",
          "Syria",
          "Armenia",
          "Lithuania",
          "Oman",
          "Indonesia",
          "Denmark",
          "Romania",
          "Armenia",
          "Lithuania",
          "Netherlands",
          "Mali",
          "Saudi Arabia",
          "Qatar",
          "Philippines",
          "Serbia",
          "Lebanon",
          "Thailand",
          "Denmark",
          "Iraq",
          "Jordan",
          "Botswana",
          "United Arab Emirates",
          "Philippines",
          "Saudi Arabia",
          "Egypt",
          "Estonia",
          "Portugal",
          "China",
          "Turkey",
          "Algeria",
          "Mali",
          "Afghanistan",
          "Oman",
          "Albania",
          "Indonesia",
          "Saudi Arabia",
          "Saudi Arabia",
          "India",
          "United Arab Emirates",
          "Saudi Arabia",
          "Ethiopia",
          "India",
          "India",
          "Croatia",
          "Latvia",
          "Belarus",
          "Azerbaijan",
          "Philippines",
          "Armenia",
          "Syria",
          "Netherlands",
          "Ukraine",
          "Kazakhstan",
          "Saudi Arabia",
          "Tunisia",
          "Chad",
          "Thailand",
          "Austria",
          "South Korea",
          "Saudi Arabia",
          "Tunisia",
          "Saudi Arabia",
          "United States",
          "Iraq",
          "Czech Republic",
          "Jordan",
          "Australia",
          "Angola",
          "Laos",
          "Thailand",
          "Indonesia",
          "Iraq",
          "Yemen",
          "Senegal",
          "Pakistan",
          "Jordan",
          "United States",
          "Somalia",
          "Bangladesh",
          "South Korea",
          "Vietnam",
          "Saudi Arabia",
          "Egypt",
          "Uzbekistan",
          "Singapore",
          "Burkina Faso",
          "Singapore",
          "Greece",
          "Poland",
          "Ukraine",
          "Morocco",
          "Djibouti",
          "Ukraine",
          "Indonesia",
          "Uganda",
          "Afghanistan",
          "Indonesia",
          "United States",
          "Kuwait",
          "Italy",
          "Government of Libya (2014-) House of Representatives",
          "Rwanda",
          "Latvia",
          "Azerbaijan",
          "Laos",
          "Serbia",
          "Botswana",
          "United Arab Emirates",
          "Yemen",
          "Azerbaijan",
          "Namibia",
          "Thailand",
          "Poland",
          "United Arab Emirates",
          "Bangladesh",
          "Turkmenistan",
          "Brazil",
          "Czech Republic",
          "Israel",
          "Saudi Arabia",
          "Chile",
          "Singapore",
          "Qatar",
          "Thailand",
          "Turkey",
          "Latvia",
          "Rwanda",
          "Egypt",
          "Senegal",
          "Chile",
          "Lithuania",
          "Government of Libya (2014-) House of Representatives",
          "Pakistan",
          "Kazakhstan",
          "United Arab Emirates",
          "Belarus",
          "Brazil",
          "Albania",
          "Cameroon",
          "Taiwan",
          "Azerbaijan",
          "Saudi Arabia",
          "Belarus",
          "Lebanon",
          "Pakistan",
          "United Kingdom",
          "Mali",
          "Ukraine",
          "Iraq",
          "Unknown recipient(s)",
          "Afghanistan",
          "Nigeria",
          "Brazil",
          "Denmark",
          "Syria",
          "Angola",
          "Niger",
          "Nigeria",
          "Saudi Arabia",
          "Uzbekistan",
          "Austria",
          "Thailand",
          "Mali",
          "Austria",
          "Iraq",
          "Lebanon",
          "Mexico",
          "Bangladesh",
          "Romania",
          "Bangladesh",
          "Ghana",
          "Serbia",
          "Bangladesh",
          "Norway",
          "Romania",
          "South Korea",
          "Burkina Faso",
          "Laos",
          "Estonia",
          "Brazil",
          "Uganda",
          "Angola",
          "India",
          "Jordan",
          "Japan",
          "Finland",
          "Indonesia",
          "Philippines",
          "Azerbaijan",
          "Lebanon",
          "Syria",
          "Egypt",
          "Senegal",
          "Ireland",
          "Italy",
          "Kazakhstan",
          "Indonesia",
          "Kenya",
          "Pakistan",
          "Pakistan",
          "El Salvador",
          "Norway",
          "Qatar",
          "Saudi Arabia",
          "Qatar",
          "Azerbaijan",
          "Uzbekistan",
          "Tunisia",
          "Saudi Arabia",
          "Japan",
          "Cyprus",
          "Botswana",
          "Saudi Arabia",
          "Botswana",
          "Egypt",
          "Thailand",
          "Unidentified Armed Group (Syria)",
          "Lithuania",
          "Burundi",
          "Myanmar",
          "Greece",
          "Saudi Arabia",
          "Bosnia and Herzegovina",
          "Central African Republic",
          "Niger",
          "Tajikistan",
          "Czech Republic",
          "Australia",
          "Cambodia",
          "Philippines",
          "Czech Republic",
          "Romania",
          "Czech Republic",
          "Egypt",
          "Laos",
          "Gabon",
          "Malaysia",
          "Romania",
          "Colombia",
          "Algeria",
          "Hungary",
          "Morocco",
          "Bangladesh",
          "Algeria",
          "Finland",
          "France",
          "Indonesia",
          "France",
          "Denmark",
          "Qatar",
          "Laos",
          "India",
          "Croatia",
          "Romania",
          "Tajikistan",
          "Nigeria",
          "United Arab Emirates",
          "Finland",
          "Greece",
          "Uganda",
          "Senegal",
          "Argentina",
          "Lithuania",
          "Kenya",
          "United Kingdom",
          "Myanmar",
          "Netherlands",
          "Kuwait",
          "Thailand",
          "Egypt",
          "Niger",
          "Colombia",
          "Ivory Coast",
          "Niger",
          "Government of Libya (2014-) General National Congress",
          "India",
          "Government of Libya (2014-) General National Congress",
          "Turkmenistan",
          "Government of Libya (2014-) General National Congress",
          "Somalia",
          "Kenya",
          "Hungary",
          "Turkey",
          "Jordan",
          "Azerbaijan",
          "Philippines",
          "Argentina",
          "United States",
          "Taiwan",
          "India",
          "Kenya",
          "Somalia",
          "Philippines",
          "Argentina",
          "Angola",
          "India",
          "Tunisia",
          "Tanzania",
          "Jordan",
          "Romania",
          "Central African Republic",
          "Laos",
          "Jordan",
          "Greece",
          "Indonesia",
          "Serbia",
          "Thailand",
          "Thailand",
          "Belarus",
          "Canada",
          "Azerbaijan",
          "Chile",
          "Unknown recipient(s)",
          "Nigeria",
          "Bolivia",
          "Kenya",
          "Denmark",
          "Japan",
          "Australia",
          "African Union**",
          "India",
          "Palestine",
          "Azerbaijan",
          "Cyprus",
          "Romania",
          "Azerbaijan",
          "Fiji",
          "Myanmar",
          "United Arab Emirates",
          "Algeria",
          "Algeria",
          "Algeria",
          "Chile",
          "Brazil",
          "Algeria",
          "Hungary",
          "Australia",
          "Kuwait",
          "Syria",
          "Vietnam",
          "Egypt",
          "Uganda",
          "Indonesia",
          "African Union**",
          "Saudi Arabia",
          "Bahrain",
          "Finland",
          "Serbia",
          "Israel",
          "Kyrgyzstan",
          "Belgium",
          "Saudi Arabia",
          "Bolivia",
          "Tajikistan",
          "Malaysia",
          "France",
          "Serbia",
          "Jordan",
          "Nigeria",
          "South Korea",
          "Philippines",
          "Argentina",
          "Australia",
          "South Korea",
          "Ivory Coast",
          "Namibia",
          "Poland",
          "Taiwan",
          "Finland",
          "Ecuador",
          "Thailand",
          "Thailand",
          "India",
          "Kazakhstan",
          "Qatar",
          "Cyprus",
          "Egypt",
          "Thailand",
          "Indonesia",
          "Netherlands",
          "Canada",
          "Qatar",
          "Argentina",
          "India",
          "Afghanistan",
          "Philippines",
          "Malaysia",
          "Kazakhstan",
          "Kuwait",
          "Croatia",
          "Uzbekistan",
          "Netherlands",
          "Uganda",
          "Ivory Coast",
          "Ecuador",
          "China",
          "Peru",
          "Peru",
          "Thailand",
          "Chile",
          "Chad",
          "Philippines",
          "Bangladesh",
          "Mauritania",
          "Mauritania",
          "Bangladesh",
          "Jamaica",
          "Chad",
          "Madagascar",
          "Mexico",
          "Armenia",
          "Syria",
          "Afghanistan",
          "Laos",
          "Senegal",
          "Taiwan",
          "United Arab Emirates",
          "Saudi Arabia",
          "Turkey",
          "Philippines",
          "Serbia",
          "Burkina Faso",
          "Norway",
          "Singapore",
          "Sudan",
          "Kosovo",
          "New Zealand",
          "Bangladesh",
          "Philippines",
          "Bahrain",
          "Denmark",
          "Lebanon",
          "Zambia",
          "Egypt",
          "Malaysia",
          "Nigeria",
          "Qatar",
          "Bahrain",
          "Ethiopia",
          "Spain",
          "Afghanistan",
          "Ukraine",
          "Kenya",
          "Djibouti",
          "Morocco",
          "Serbia",
          "Sudan",
          "Kyrgyzstan",
          "Senegal",
          "Mexico",
          "Nigeria",
          "Myanmar",
          "Sri Lanka",
          "Darfur rebels (Sudan)*",
          "Senegal",
          "Germany",
          "Poland",
          "Democratic Republic of Congo",
          "Nigeria",
          "Pakistan",
          "Angola",
          "Singapore",
          "Myanmar",
          "Guatemala",
          "Bolivia",
          "Tunisia",
          "Argentina",
          "Darfur rebels (Sudan)*",
          "United Kingdom",
          "Portugal",
          "Montenegro",
          "Ivory Coast",
          "Government of Libya (2014-) House of Representatives",
          "United Arab Emirates",
          "Azerbaijan",
          "Thailand",
          "United Kingdom",
          "Togo",
          "Bangladesh",
          "Egypt",
          "Uganda",
          "United Arab Emirates",
          "Yemen",
          "Nigeria",
          "United Arab Emirates",
          "France",
          "Darfur rebels (Sudan)*",
          "Nigeria",
          "Belarus",
          "Greece",
          "Poland",
          "New Zealand",
          "Cyprus",
          "Czech Republic",
          "Tunisia",
          "Brazil",
          "Pakistan",
          "Guyana",
          "Unknown recipient(s)",
          "Spain",
          "Papua New Guinea",
          "Laos",
          "Unknown recipient(s)",
          "Jamaica",
          "Pakistan",
          "France",
          "Czech Republic",
          "Kazakhstan",
          "Netherlands",
          "Denmark",
          "Myanmar",
          "Pakistan",
          "Ethiopia",
          "Spain",
          "Algeria",
          "South Korea",
          "Tunisia",
          "Belarus",
          "Qatar",
          "Tanzania",
          "Thailand",
          "Kyrgyzstan",
          "Thailand",
          "Afghanistan",
          "Nigeria",
          "Tajikistan",
          "Bangladesh",
          "Angola",
          "Ireland",
          "Jordan",
          "Pakistan",
          "Romania",
          "Argentina",
          "Jordan",
          "Philippines",
          "Poland",
          "Sudan",
          "Armenia",
          "Senegal",
          "France",
          "Uruguay",
          "Ethiopia",
          "Indonesia",
          "Chile",
          "Serbia",
          "Japan",
          "France",
          "Australia",
          "Unknown recipient(s)",
          "Kazakhstan",
          "Tajikistan",
          "Liberia",
          "Ivory Coast",
          "Australia",
          "Canada",
          "Estonia",
          "Senegal",
          "Angola",
          "Canada",
          "Kenya",
          "Uzbekistan",
          "Brazil",
          "United Kingdom",
          "Germany",
          "Tajikistan",
          "Syria",
          "Lesotho",
          "Kazakhstan",
          "Mali",
          "United Arab Emirates",
          "Tanzania",
          "Mali",
          "Kenya",
          "Madagascar",
          "Ukraine",
          "Uruguay",
          "Rwanda",
          "NATO**",
          "Argentina",
          "Tunisia",
          "Serbia",
          "Indonesia",
          "Iraq",
          "Laos",
          "Kenya",
          "Philippines",
          "Montenegro",
          "Thailand",
          "African Union**",
          "Western Sahara",
          "Tajikistan",
          "Italy",
          "India",
          "Democratic Republic of Congo",
          "Benin",
          "Mali",
          "Tajikistan",
          "Botswana",
          "Lebanon",
          "Panama",
          "Bahrain",
          "Government of Libya (2014-) House of Representatives",
          "Hungary",
          "Cameroon",
          "Uruguay",
          "Ireland",
          "Bangladesh",
          "France",
          "Estonia",
          "Jordan",
          "Uganda",
          "Nepal",
          "Saudi Arabia",
          "Unidentified Armed Group (Syria)",
          "Guatemala",
          "Egypt",
          "Ukraine",
          "Cambodia",
          "Burkina Faso",
          "eSwatini",
          "Chad",
          "Morocco",
          "Sweden",
          "Jamaica",
          "Australia",
          "Qatar",
          "Mali",
          "Mauritania",
          "Vietnam",
          "Nicaragua",
          "Bangladesh",
          "Ivory Coast",
          "Pakistan",
          "Paraguay",
          "Thailand",
          "Myanmar",
          "Morocco",
          "Nigeria",
          "Indonesia",
          "Bulgaria",
          "Zambia",
          "Uganda",
          "Colombia",
          "Bangladesh",
          "France",
          "Azerbaijan",
          "Nicaragua",
          "Turkmenistan",
          "Pakistan",
          "Peru",
          "Brazil",
          "Philippines",
          "France",
          "Nepal",
          "Mexico",
          "Nepal",
          "Germany",
          "Panama",
          "Chile",
          "Saudi Arabia",
          "Burkina Faso",
          "Kuwait",
          "Thailand",
          "Peru",
          "Thailand",
          "Estonia",
          "Thailand",
          "United Kingdom",
          "Australia",
          "United Arab Emirates",
          "Pakistan",
          "Denmark",
          "Nepal",
          "Colombia",
          "Angola",
          "Myanmar",
          "Colombia",
          "Cameroon",
          "Cameroon",
          "Turkmenistan",
          "Mozambique",
          "Bangladesh",
          "Thailand",
          "Uruguay",
          "Indonesia",
          "Kyrgyzstan",
          "Bangladesh",
          "Malaysia",
          "Algeria",
          "Brazil",
          "Qatar",
          "Kyrgyzstan",
          "Bahamas",
          "Lebanon",
          "Hungary",
          "Hungary",
          "Cabo Verde",
          "Morocco",
          "Ecuador",
          "Rwanda",
          "Burkina Faso",
          "Mongolia",
          "Senegal",
          "Laos",
          "Philippines",
          "Thailand",
          "Romania",
          "Indonesia",
          "Turkey",
          "Egypt",
          "United States",
          "North Macedonia",
          "Thailand",
          "Norway",
          "Myanmar",
          "Slovakia",
          "Myanmar",
          "Brazil",
          "Honduras",
          "Sri Lanka",
          "Mexico",
          "Argentina",
          "Nigeria",
          "Seychelles",
          "Mali",
          "Bahrain",
          "Bulgaria",
          "Lithuania",
          "Jamaica",
          "Montenegro",
          "Jamaica",
          "Brazil",
          "Philippines",
          "Ireland",
          "Botswana",
          "Ireland",
          "Azerbaijan",
          "Indonesia",
          "Honduras",
          "Philippines",
          "Indonesia",
          "United States",
          "Colombia",
          "Indonesia",
          "Indonesia",
          "New Zealand",
          "Sri Lanka",
          "Mozambique",
          "Mexico",
          "Mexico",
          "Chile",
          "Ethiopia",
          "Indonesia",
          "Government of Libya (2014-) House of Representatives",
          "Pakistan",
          "Indonesia",
          "Austria",
          "Thailand",
          "Mauritania",
          "Brazil",
          "Nepal",
          "Egypt",
          "Ecuador",
          "Botswana",
          "Romania",
          "Australia",
          "Pakistan",
          "Indonesia",
          "Philippines",
          "Mexico",
          "Kenya",
          "Tajikistan",
          "Mexico",
          "Argentina",
          "Japan",
          "Nigeria",
          "India",
          "Honduras",
          "Egypt",
          "Sudan",
          "Serbia",
          "Uzbekistan",
          "United States",
          "Jamaica",
          "Philippines",
          "Guatemala",
          "Lebanon",
          "Uganda",
          "Bangladesh",
          "Guinea",
          "Equatorial Guinea",
          "Mexico",
          "Vietnam",
          "United States",
          "Panama",
          "Ireland",
          "Lithuania",
          "Israel",
          "Egypt",
          "India",
          "India",
          "Malaysia",
          "India",
          "Turkey",
          "Uruguay",
          "Chile",
          "Philippines",
          "Indonesia",
          "Philippines",
          "Ivory Coast",
          "Guatemala",
          "Kazakhstan",
          "Indonesia",
          "United Kingdom",
          "Colombia",
          "Madagascar",
          "Colombia",
          "Philippines",
          "Maldives"
         ],
         "xaxis": "x",
         "y": [
          23495,
          14004,
          7652,
          6831,
          5000,
          3774,
          3141,
          3000,
          3000,
          3000,
          2210,
          1964,
          1800,
          1350,
          1000,
          1000,
          980,
          850,
          800,
          650,
          636,
          600,
          513,
          500,
          500,
          500,
          500,
          500,
          500,
          500,
          500,
          489,
          485,
          438,
          420,
          410,
          400,
          396,
          390,
          360,
          350,
          350,
          346,
          337,
          330,
          322,
          307,
          300,
          300,
          300,
          298,
          275,
          264,
          250,
          250,
          250,
          250,
          250,
          242,
          240,
          236,
          228,
          200,
          200,
          200,
          200,
          200,
          200,
          190,
          184,
          180,
          170,
          170,
          164,
          157,
          153,
          150,
          150,
          150,
          150,
          150,
          150,
          144,
          144,
          140,
          140,
          130,
          130,
          129,
          128,
          125,
          125,
          125,
          120,
          113,
          110,
          108,
          103,
          102,
          100,
          100,
          100,
          100,
          100,
          100,
          100,
          100,
          100,
          100,
          100,
          100,
          100,
          100,
          100,
          100,
          100,
          100,
          100,
          99,
          98,
          92,
          90,
          90,
          89,
          88,
          84,
          83,
          80,
          80,
          80,
          79,
          75,
          75,
          74,
          74,
          73,
          70,
          70,
          70,
          70,
          69,
          68,
          67,
          64,
          64,
          62,
          62,
          60,
          60,
          60,
          60,
          60,
          56,
          56,
          55,
          54,
          54,
          54,
          53,
          53,
          53,
          52,
          51,
          50,
          50,
          50,
          50,
          50,
          50,
          50,
          50,
          50,
          50,
          50,
          50,
          50,
          50,
          50,
          50,
          50,
          50,
          50,
          50,
          50,
          50,
          50,
          48,
          48,
          48,
          47,
          46,
          46,
          45,
          44,
          44,
          43,
          43,
          41,
          40,
          40,
          40,
          40,
          40,
          40,
          40,
          39,
          39,
          38,
          38,
          37,
          37,
          37,
          36,
          36,
          36,
          36,
          36,
          36,
          36,
          36,
          35,
          35,
          35,
          34,
          34,
          34,
          33,
          32,
          32,
          32,
          31,
          31,
          30,
          30,
          30,
          30,
          30,
          30,
          30,
          30,
          30,
          30,
          30,
          30,
          30,
          29,
          29,
          28,
          28,
          28,
          27,
          26,
          26,
          25,
          25,
          25,
          25,
          25,
          25,
          25,
          25,
          25,
          25,
          24,
          24,
          24,
          24,
          24,
          24,
          24,
          24,
          24,
          24,
          24,
          24,
          23,
          23,
          23,
          23,
          22,
          22,
          21,
          21,
          20,
          20,
          20,
          20,
          20,
          20,
          20,
          20,
          20,
          20,
          20,
          20,
          20,
          20,
          20,
          20,
          19,
          18,
          18,
          18,
          18,
          18,
          18,
          18,
          18,
          17,
          17,
          17,
          17,
          16,
          16,
          16,
          16,
          16,
          16,
          15,
          15,
          15,
          15,
          15,
          15,
          15,
          15,
          15,
          14,
          14,
          14,
          14,
          14,
          13,
          13,
          13,
          13,
          13,
          13,
          13,
          13,
          13,
          12,
          12,
          12,
          12,
          12,
          12,
          12,
          12,
          12,
          12,
          12,
          12,
          12,
          12,
          12,
          12,
          12,
          12,
          12,
          12,
          12,
          12,
          12,
          12,
          12,
          12,
          12,
          11,
          11,
          11,
          11,
          10,
          10,
          10,
          10,
          10,
          10,
          10,
          10,
          10,
          10,
          10,
          10,
          10,
          10,
          10,
          10,
          10,
          10,
          10,
          10,
          10,
          10,
          10,
          10,
          10,
          10,
          10,
          10,
          10,
          10,
          10,
          10,
          10,
          10,
          10,
          10,
          10,
          9,
          9,
          9,
          9,
          9,
          9,
          9,
          9,
          9,
          9,
          9,
          9,
          9,
          9,
          9,
          8,
          8,
          8,
          8,
          8,
          8,
          8,
          8,
          8,
          8,
          8,
          8,
          8,
          8,
          8,
          8,
          8,
          8,
          8,
          8,
          8,
          8,
          8,
          8,
          8,
          8,
          8,
          8,
          8,
          8,
          8,
          8,
          8,
          8,
          8,
          7,
          7,
          7,
          7,
          7,
          7,
          7,
          7,
          7,
          7,
          7,
          7,
          7,
          6,
          6,
          6,
          6,
          6,
          6,
          6,
          6,
          6,
          6,
          6,
          6,
          6,
          6,
          6,
          6,
          6,
          6,
          6,
          6,
          6,
          6,
          6,
          6,
          6,
          6,
          6,
          6,
          6,
          6,
          6,
          6,
          6,
          6,
          6,
          6,
          6,
          6,
          6,
          6,
          6,
          6,
          6,
          6,
          6,
          5,
          5,
          5,
          5,
          5,
          5,
          5,
          5,
          5,
          5,
          5,
          5,
          5,
          5,
          5,
          5,
          5,
          5,
          5,
          5,
          5,
          5,
          5,
          5,
          5,
          5,
          5,
          5,
          5,
          5,
          5,
          5,
          5,
          5,
          4,
          4,
          4,
          4,
          4,
          4,
          4,
          4,
          4,
          4,
          4,
          4,
          4,
          4,
          4,
          4,
          4,
          4,
          4,
          4,
          4,
          4,
          4,
          4,
          4,
          4,
          4,
          4,
          4,
          4,
          4,
          4,
          4,
          4,
          4,
          4,
          4,
          4,
          4,
          4,
          4,
          4,
          4,
          4,
          4,
          4,
          4,
          4,
          4,
          4,
          4,
          4,
          4,
          4,
          4,
          4,
          4,
          4,
          4,
          4,
          3,
          3,
          3,
          3,
          3,
          3,
          3,
          3,
          3,
          3,
          3,
          3,
          3,
          3,
          3,
          3,
          3,
          3,
          3,
          3,
          3,
          3,
          3,
          3,
          3,
          3,
          3,
          3,
          3,
          3,
          3,
          3,
          3,
          3,
          3,
          3,
          3,
          3,
          3,
          3,
          3,
          3,
          3,
          2,
          2,
          2,
          2,
          2,
          2,
          2,
          2,
          2,
          2,
          2,
          2,
          2,
          2,
          2,
          2,
          2,
          2,
          2,
          2,
          2,
          2,
          2,
          2,
          2,
          2,
          2,
          2,
          2,
          2,
          2,
          2,
          2,
          2,
          2,
          2,
          2,
          2,
          2,
          2,
          2,
          2,
          2,
          2,
          2,
          2,
          2,
          2,
          2,
          2,
          2,
          2,
          2,
          2,
          2,
          2,
          2,
          2,
          2,
          2,
          2,
          2,
          2,
          2,
          2,
          2,
          2,
          2,
          2,
          2,
          2,
          2,
          2,
          2,
          2,
          2,
          2,
          2,
          2,
          2,
          2,
          2,
          2,
          2,
          2,
          2,
          2,
          2,
          2,
          2,
          2,
          2,
          2,
          2,
          2,
          2,
          2,
          2,
          2,
          2,
          2,
          2,
          2,
          2,
          2,
          2,
          2,
          2,
          2,
          2,
          2,
          2,
          2,
          2,
          2,
          2,
          2,
          2,
          2,
          1,
          1,
          1,
          1,
          1,
          1,
          1,
          1,
          1,
          1,
          1,
          1,
          1,
          1,
          1,
          1,
          1,
          1,
          1,
          1,
          1,
          1,
          1,
          1,
          1,
          1,
          1,
          1,
          1,
          1,
          1,
          1,
          1,
          1,
          1,
          1,
          1,
          1,
          1,
          1,
          1,
          1,
          1,
          1,
          1,
          1,
          1,
          1,
          1,
          1,
          1,
          1,
          1,
          1,
          1,
          1,
          1,
          1,
          1,
          1,
          1,
          1,
          1,
          1,
          1,
          1,
          1,
          1,
          1,
          1,
          1,
          1,
          1,
          1,
          1,
          1,
          1,
          1,
          1,
          1,
          1,
          1,
          1,
          1,
          1,
          1,
          1,
          1,
          1,
          1,
          1,
          1,
          1,
          1,
          1,
          1,
          1,
          1,
          1,
          1,
          1,
          1,
          1,
          1,
          1,
          1,
          1,
          1,
          1,
          1
         ],
         "yaxis": "y"
        }
       ],
       "layout": {
        "barmode": "relative",
        "legend": {
         "tracegroupgap": 0
        },
        "template": {
         "data": {
          "bar": [
           {
            "error_x": {
             "color": "#2a3f5f"
            },
            "error_y": {
             "color": "#2a3f5f"
            },
            "marker": {
             "line": {
              "color": "#E5ECF6",
              "width": 0.5
             }
            },
            "type": "bar"
           }
          ],
          "barpolar": [
           {
            "marker": {
             "line": {
              "color": "#E5ECF6",
              "width": 0.5
             }
            },
            "type": "barpolar"
           }
          ],
          "carpet": [
           {
            "aaxis": {
             "endlinecolor": "#2a3f5f",
             "gridcolor": "white",
             "linecolor": "white",
             "minorgridcolor": "white",
             "startlinecolor": "#2a3f5f"
            },
            "baxis": {
             "endlinecolor": "#2a3f5f",
             "gridcolor": "white",
             "linecolor": "white",
             "minorgridcolor": "white",
             "startlinecolor": "#2a3f5f"
            },
            "type": "carpet"
           }
          ],
          "choropleth": [
           {
            "colorbar": {
             "outlinewidth": 0,
             "ticks": ""
            },
            "type": "choropleth"
           }
          ],
          "contour": [
           {
            "colorbar": {
             "outlinewidth": 0,
             "ticks": ""
            },
            "colorscale": [
             [
              0,
              "#0d0887"
             ],
             [
              0.1111111111111111,
              "#46039f"
             ],
             [
              0.2222222222222222,
              "#7201a8"
             ],
             [
              0.3333333333333333,
              "#9c179e"
             ],
             [
              0.4444444444444444,
              "#bd3786"
             ],
             [
              0.5555555555555556,
              "#d8576b"
             ],
             [
              0.6666666666666666,
              "#ed7953"
             ],
             [
              0.7777777777777778,
              "#fb9f3a"
             ],
             [
              0.8888888888888888,
              "#fdca26"
             ],
             [
              1,
              "#f0f921"
             ]
            ],
            "type": "contour"
           }
          ],
          "contourcarpet": [
           {
            "colorbar": {
             "outlinewidth": 0,
             "ticks": ""
            },
            "type": "contourcarpet"
           }
          ],
          "heatmap": [
           {
            "colorbar": {
             "outlinewidth": 0,
             "ticks": ""
            },
            "colorscale": [
             [
              0,
              "#0d0887"
             ],
             [
              0.1111111111111111,
              "#46039f"
             ],
             [
              0.2222222222222222,
              "#7201a8"
             ],
             [
              0.3333333333333333,
              "#9c179e"
             ],
             [
              0.4444444444444444,
              "#bd3786"
             ],
             [
              0.5555555555555556,
              "#d8576b"
             ],
             [
              0.6666666666666666,
              "#ed7953"
             ],
             [
              0.7777777777777778,
              "#fb9f3a"
             ],
             [
              0.8888888888888888,
              "#fdca26"
             ],
             [
              1,
              "#f0f921"
             ]
            ],
            "type": "heatmap"
           }
          ],
          "heatmapgl": [
           {
            "colorbar": {
             "outlinewidth": 0,
             "ticks": ""
            },
            "colorscale": [
             [
              0,
              "#0d0887"
             ],
             [
              0.1111111111111111,
              "#46039f"
             ],
             [
              0.2222222222222222,
              "#7201a8"
             ],
             [
              0.3333333333333333,
              "#9c179e"
             ],
             [
              0.4444444444444444,
              "#bd3786"
             ],
             [
              0.5555555555555556,
              "#d8576b"
             ],
             [
              0.6666666666666666,
              "#ed7953"
             ],
             [
              0.7777777777777778,
              "#fb9f3a"
             ],
             [
              0.8888888888888888,
              "#fdca26"
             ],
             [
              1,
              "#f0f921"
             ]
            ],
            "type": "heatmapgl"
           }
          ],
          "histogram": [
           {
            "marker": {
             "colorbar": {
              "outlinewidth": 0,
              "ticks": ""
             }
            },
            "type": "histogram"
           }
          ],
          "histogram2d": [
           {
            "colorbar": {
             "outlinewidth": 0,
             "ticks": ""
            },
            "colorscale": [
             [
              0,
              "#0d0887"
             ],
             [
              0.1111111111111111,
              "#46039f"
             ],
             [
              0.2222222222222222,
              "#7201a8"
             ],
             [
              0.3333333333333333,
              "#9c179e"
             ],
             [
              0.4444444444444444,
              "#bd3786"
             ],
             [
              0.5555555555555556,
              "#d8576b"
             ],
             [
              0.6666666666666666,
              "#ed7953"
             ],
             [
              0.7777777777777778,
              "#fb9f3a"
             ],
             [
              0.8888888888888888,
              "#fdca26"
             ],
             [
              1,
              "#f0f921"
             ]
            ],
            "type": "histogram2d"
           }
          ],
          "histogram2dcontour": [
           {
            "colorbar": {
             "outlinewidth": 0,
             "ticks": ""
            },
            "colorscale": [
             [
              0,
              "#0d0887"
             ],
             [
              0.1111111111111111,
              "#46039f"
             ],
             [
              0.2222222222222222,
              "#7201a8"
             ],
             [
              0.3333333333333333,
              "#9c179e"
             ],
             [
              0.4444444444444444,
              "#bd3786"
             ],
             [
              0.5555555555555556,
              "#d8576b"
             ],
             [
              0.6666666666666666,
              "#ed7953"
             ],
             [
              0.7777777777777778,
              "#fb9f3a"
             ],
             [
              0.8888888888888888,
              "#fdca26"
             ],
             [
              1,
              "#f0f921"
             ]
            ],
            "type": "histogram2dcontour"
           }
          ],
          "mesh3d": [
           {
            "colorbar": {
             "outlinewidth": 0,
             "ticks": ""
            },
            "type": "mesh3d"
           }
          ],
          "parcoords": [
           {
            "line": {
             "colorbar": {
              "outlinewidth": 0,
              "ticks": ""
             }
            },
            "type": "parcoords"
           }
          ],
          "pie": [
           {
            "automargin": true,
            "type": "pie"
           }
          ],
          "scatter": [
           {
            "marker": {
             "colorbar": {
              "outlinewidth": 0,
              "ticks": ""
             }
            },
            "type": "scatter"
           }
          ],
          "scatter3d": [
           {
            "line": {
             "colorbar": {
              "outlinewidth": 0,
              "ticks": ""
             }
            },
            "marker": {
             "colorbar": {
              "outlinewidth": 0,
              "ticks": ""
             }
            },
            "type": "scatter3d"
           }
          ],
          "scattercarpet": [
           {
            "marker": {
             "colorbar": {
              "outlinewidth": 0,
              "ticks": ""
             }
            },
            "type": "scattercarpet"
           }
          ],
          "scattergeo": [
           {
            "marker": {
             "colorbar": {
              "outlinewidth": 0,
              "ticks": ""
             }
            },
            "type": "scattergeo"
           }
          ],
          "scattergl": [
           {
            "marker": {
             "colorbar": {
              "outlinewidth": 0,
              "ticks": ""
             }
            },
            "type": "scattergl"
           }
          ],
          "scattermapbox": [
           {
            "marker": {
             "colorbar": {
              "outlinewidth": 0,
              "ticks": ""
             }
            },
            "type": "scattermapbox"
           }
          ],
          "scatterpolar": [
           {
            "marker": {
             "colorbar": {
              "outlinewidth": 0,
              "ticks": ""
             }
            },
            "type": "scatterpolar"
           }
          ],
          "scatterpolargl": [
           {
            "marker": {
             "colorbar": {
              "outlinewidth": 0,
              "ticks": ""
             }
            },
            "type": "scatterpolargl"
           }
          ],
          "scatterternary": [
           {
            "marker": {
             "colorbar": {
              "outlinewidth": 0,
              "ticks": ""
             }
            },
            "type": "scatterternary"
           }
          ],
          "surface": [
           {
            "colorbar": {
             "outlinewidth": 0,
             "ticks": ""
            },
            "colorscale": [
             [
              0,
              "#0d0887"
             ],
             [
              0.1111111111111111,
              "#46039f"
             ],
             [
              0.2222222222222222,
              "#7201a8"
             ],
             [
              0.3333333333333333,
              "#9c179e"
             ],
             [
              0.4444444444444444,
              "#bd3786"
             ],
             [
              0.5555555555555556,
              "#d8576b"
             ],
             [
              0.6666666666666666,
              "#ed7953"
             ],
             [
              0.7777777777777778,
              "#fb9f3a"
             ],
             [
              0.8888888888888888,
              "#fdca26"
             ],
             [
              1,
              "#f0f921"
             ]
            ],
            "type": "surface"
           }
          ],
          "table": [
           {
            "cells": {
             "fill": {
              "color": "#EBF0F8"
             },
             "line": {
              "color": "white"
             }
            },
            "header": {
             "fill": {
              "color": "#C8D4E3"
             },
             "line": {
              "color": "white"
             }
            },
            "type": "table"
           }
          ]
         },
         "layout": {
          "annotationdefaults": {
           "arrowcolor": "#2a3f5f",
           "arrowhead": 0,
           "arrowwidth": 1
          },
          "autotypenumbers": "strict",
          "coloraxis": {
           "colorbar": {
            "outlinewidth": 0,
            "ticks": ""
           }
          },
          "colorscale": {
           "diverging": [
            [
             0,
             "#8e0152"
            ],
            [
             0.1,
             "#c51b7d"
            ],
            [
             0.2,
             "#de77ae"
            ],
            [
             0.3,
             "#f1b6da"
            ],
            [
             0.4,
             "#fde0ef"
            ],
            [
             0.5,
             "#f7f7f7"
            ],
            [
             0.6,
             "#e6f5d0"
            ],
            [
             0.7,
             "#b8e186"
            ],
            [
             0.8,
             "#7fbc41"
            ],
            [
             0.9,
             "#4d9221"
            ],
            [
             1,
             "#276419"
            ]
           ],
           "sequential": [
            [
             0,
             "#0d0887"
            ],
            [
             0.1111111111111111,
             "#46039f"
            ],
            [
             0.2222222222222222,
             "#7201a8"
            ],
            [
             0.3333333333333333,
             "#9c179e"
            ],
            [
             0.4444444444444444,
             "#bd3786"
            ],
            [
             0.5555555555555556,
             "#d8576b"
            ],
            [
             0.6666666666666666,
             "#ed7953"
            ],
            [
             0.7777777777777778,
             "#fb9f3a"
            ],
            [
             0.8888888888888888,
             "#fdca26"
            ],
            [
             1,
             "#f0f921"
            ]
           ],
           "sequentialminus": [
            [
             0,
             "#0d0887"
            ],
            [
             0.1111111111111111,
             "#46039f"
            ],
            [
             0.2222222222222222,
             "#7201a8"
            ],
            [
             0.3333333333333333,
             "#9c179e"
            ],
            [
             0.4444444444444444,
             "#bd3786"
            ],
            [
             0.5555555555555556,
             "#d8576b"
            ],
            [
             0.6666666666666666,
             "#ed7953"
            ],
            [
             0.7777777777777778,
             "#fb9f3a"
            ],
            [
             0.8888888888888888,
             "#fdca26"
            ],
            [
             1,
             "#f0f921"
            ]
           ]
          },
          "colorway": [
           "#636efa",
           "#EF553B",
           "#00cc96",
           "#ab63fa",
           "#FFA15A",
           "#19d3f3",
           "#FF6692",
           "#B6E880",
           "#FF97FF",
           "#FECB52"
          ],
          "font": {
           "color": "#2a3f5f"
          },
          "geo": {
           "bgcolor": "white",
           "lakecolor": "white",
           "landcolor": "#E5ECF6",
           "showlakes": true,
           "showland": true,
           "subunitcolor": "white"
          },
          "hoverlabel": {
           "align": "left"
          },
          "hovermode": "closest",
          "mapbox": {
           "style": "light"
          },
          "paper_bgcolor": "white",
          "plot_bgcolor": "#E5ECF6",
          "polar": {
           "angularaxis": {
            "gridcolor": "white",
            "linecolor": "white",
            "ticks": ""
           },
           "bgcolor": "#E5ECF6",
           "radialaxis": {
            "gridcolor": "white",
            "linecolor": "white",
            "ticks": ""
           }
          },
          "scene": {
           "xaxis": {
            "backgroundcolor": "#E5ECF6",
            "gridcolor": "white",
            "gridwidth": 2,
            "linecolor": "white",
            "showbackground": true,
            "ticks": "",
            "zerolinecolor": "white"
           },
           "yaxis": {
            "backgroundcolor": "#E5ECF6",
            "gridcolor": "white",
            "gridwidth": 2,
            "linecolor": "white",
            "showbackground": true,
            "ticks": "",
            "zerolinecolor": "white"
           },
           "zaxis": {
            "backgroundcolor": "#E5ECF6",
            "gridcolor": "white",
            "gridwidth": 2,
            "linecolor": "white",
            "showbackground": true,
            "ticks": "",
            "zerolinecolor": "white"
           }
          },
          "shapedefaults": {
           "line": {
            "color": "#2a3f5f"
           }
          },
          "ternary": {
           "aaxis": {
            "gridcolor": "white",
            "linecolor": "white",
            "ticks": ""
           },
           "baxis": {
            "gridcolor": "white",
            "linecolor": "white",
            "ticks": ""
           },
           "bgcolor": "#E5ECF6",
           "caxis": {
            "gridcolor": "white",
            "linecolor": "white",
            "ticks": ""
           }
          },
          "title": {
           "x": 0.05
          },
          "xaxis": {
           "automargin": true,
           "gridcolor": "white",
           "linecolor": "white",
           "ticks": "",
           "title": {
            "standoff": 15
           },
           "zerolinecolor": "white",
           "zerolinewidth": 2
          },
          "yaxis": {
           "automargin": true,
           "gridcolor": "white",
           "linecolor": "white",
           "ticks": "",
           "title": {
            "standoff": 15
           },
           "zerolinecolor": "white",
           "zerolinewidth": 2
          }
         }
        },
        "title": {
         "text": "Total Amount of Weapon Purchases by Nation 2015-2020"
        },
        "xaxis": {
         "anchor": "y",
         "domain": [
          0,
          1
         ],
         "title": {
          "text": "Nation or Non-State Actor"
         }
        },
        "yaxis": {
         "anchor": "x",
         "domain": [
          0,
          1
         ],
         "title": {
          "text": "Amount of Purchases"
         }
        }
       }
      }
     },
     "metadata": {}
    }
   ],
   "source": [
    "sipri_most_purchases = px.bar(sipri_countries,x='buyer',y='total',\n",
    "title=\"Total Amount of Weapon Purchases by Nation 2015-2020\",\n",
    "labels={'buyer':'Nation or Non-State Actor','total':'Amount of Purchases'})\n",
    "sipri_most_purchases.show()"
   ]
  },
  {
   "cell_type": "code",
   "execution_count": 19,
   "metadata": {},
   "outputs": [
    {
     "output_type": "display_data",
     "data": {
      "application/vnd.plotly.v1+json": {
       "config": {
        "plotlyServerURL": "https://plot.ly"
       },
       "data": [
        {
         "alignmentgroup": "True",
         "hovertemplate": "weapon_description=Guided bomb<br>Nation or Non-State Actor=%{x}<br>Amount of Purchases=%{y}<extra></extra>",
         "legendgroup": "Guided bomb",
         "marker": {
          "color": "#636efa"
         },
         "name": "Guided bomb",
         "offsetgroup": "Guided bomb",
         "orientation": "v",
         "showlegend": true,
         "textposition": "auto",
         "type": "bar",
         "x": [
          "Saudi Arabia",
          "United Arab Emirates",
          "Afghanistan",
          "India"
         ],
         "xaxis": "x",
         "y": [
          23495,
          14004,
          250,
          100
         ],
         "yaxis": "y"
        },
        {
         "alignmentgroup": "True",
         "hovertemplate": "weapon_description=APV<br>Nation or Non-State Actor=%{x}<br>Amount of Purchases=%{y}<extra></extra>",
         "legendgroup": "APV",
         "marker": {
          "color": "#EF553B"
         },
         "name": "APV",
         "offsetgroup": "APV",
         "orientation": "v",
         "showlegend": true,
         "textposition": "auto",
         "type": "bar",
         "x": [
          "Afghanistan",
          "Qatar",
          "Saudi Arabia"
         ],
         "xaxis": "x",
         "y": [
          7652,
          150,
          89
         ],
         "yaxis": "y"
        },
        {
         "alignmentgroup": "True",
         "hovertemplate": "weapon_description=Anti-tank missile<br>Nation or Non-State Actor=%{x}<br>Amount of Purchases=%{y}<extra></extra>",
         "legendgroup": "Anti-tank missile",
         "marker": {
          "color": "#00cc96"
         },
         "name": "Anti-tank missile",
         "offsetgroup": "Anti-tank missile",
         "orientation": "v",
         "showlegend": true,
         "textposition": "auto",
         "type": "bar",
         "x": [
          "United Arab Emirates",
          "India",
          "Qatar",
          "Saudi Arabia"
         ],
         "xaxis": "x",
         "y": [
          6831,
          2210,
          850,
          100
         ],
         "yaxis": "y"
        },
        {
         "alignmentgroup": "True",
         "hovertemplate": "weapon_description=ASM/anti-tank missile<br>Nation or Non-State Actor=%{x}<br>Amount of Purchases=%{y}<extra></extra>",
         "legendgroup": "ASM/anti-tank missile",
         "marker": {
          "color": "#ab63fa"
         },
         "name": "ASM/anti-tank missile",
         "offsetgroup": "ASM/anti-tank missile",
         "orientation": "v",
         "showlegend": true,
         "textposition": "auto",
         "type": "bar",
         "x": [
          "Qatar"
         ],
         "xaxis": "x",
         "y": [
          5000
         ],
         "yaxis": "y"
        },
        {
         "alignmentgroup": "True",
         "hovertemplate": "weapon_description=Guided shell<br>Nation or Non-State Actor=%{x}<br>Amount of Purchases=%{y}<extra></extra>",
         "legendgroup": "Guided shell",
         "marker": {
          "color": "#FFA15A"
         },
         "name": "Guided shell",
         "offsetgroup": "Guided shell",
         "orientation": "v",
         "showlegend": true,
         "textposition": "auto",
         "type": "bar",
         "x": [
          "India"
         ],
         "xaxis": "x",
         "y": [
          600
         ],
         "yaxis": "y"
        },
        {
         "alignmentgroup": "True",
         "hovertemplate": "weapon_description=Portable SAM<br>Nation or Non-State Actor=%{x}<br>Amount of Purchases=%{y}<extra></extra>",
         "legendgroup": "Portable SAM",
         "marker": {
          "color": "#19d3f3"
         },
         "name": "Portable SAM",
         "offsetgroup": "Portable SAM",
         "orientation": "v",
         "showlegend": true,
         "textposition": "auto",
         "type": "bar",
         "x": [
          "Qatar"
         ],
         "xaxis": "x",
         "y": [
          500
         ],
         "yaxis": "y"
        },
        {
         "alignmentgroup": "True",
         "hovertemplate": "weapon_description=SAM<br>Nation or Non-State Actor=%{x}<br>Amount of Purchases=%{y}<extra></extra>",
         "legendgroup": "SAM",
         "marker": {
          "color": "#FF6692"
         },
         "name": "SAM",
         "offsetgroup": "SAM",
         "orientation": "v",
         "showlegend": true,
         "textposition": "auto",
         "type": "bar",
         "x": [
          "United Arab Emirates"
         ],
         "xaxis": "x",
         "y": [
          396
         ],
         "yaxis": "y"
        },
        {
         "alignmentgroup": "True",
         "hovertemplate": "weapon_description=Diesel engine<br>Nation or Non-State Actor=%{x}<br>Amount of Purchases=%{y}<extra></extra>",
         "legendgroup": "Diesel engine",
         "marker": {
          "color": "#B6E880"
         },
         "name": "Diesel engine",
         "offsetgroup": "Diesel engine",
         "orientation": "v",
         "showlegend": true,
         "textposition": "auto",
         "type": "bar",
         "x": [
          "India",
          "Qatar",
          "United Arab Emirates",
          "Saudi Arabia"
         ],
         "xaxis": "x",
         "y": [
          346,
          307,
          140,
          24
         ],
         "yaxis": "y"
        },
        {
         "alignmentgroup": "True",
         "hovertemplate": "weapon_description=APC<br>Nation or Non-State Actor=%{x}<br>Amount of Purchases=%{y}<extra></extra>",
         "legendgroup": "APC",
         "marker": {
          "color": "#FF97FF"
         },
         "name": "APC",
         "offsetgroup": "APC",
         "orientation": "v",
         "showlegend": true,
         "textposition": "auto",
         "type": "bar",
         "x": [
          "Qatar",
          "India",
          "Afghanistan",
          "Saudi Arabia",
          "United Arab Emirates"
         ],
         "xaxis": "x",
         "y": [
          337,
          242,
          110,
          84,
          40
         ],
         "yaxis": "y"
        },
        {
         "alignmentgroup": "True",
         "hovertemplate": "weapon_description=BVRAAM<br>Nation or Non-State Actor=%{x}<br>Amount of Purchases=%{y}<extra></extra>",
         "legendgroup": "BVRAAM",
         "marker": {
          "color": "#FECB52"
         },
         "name": "BVRAAM",
         "offsetgroup": "BVRAAM",
         "orientation": "v",
         "showlegend": true,
         "textposition": "auto",
         "type": "bar",
         "x": [
          "India",
          "United Arab Emirates"
         ],
         "xaxis": "x",
         "y": [
          275,
          200
         ],
         "yaxis": "y"
        },
        {
         "alignmentgroup": "True",
         "hovertemplate": "weapon_description=Tank<br>Nation or Non-State Actor=%{x}<br>Amount of Purchases=%{y}<extra></extra>",
         "legendgroup": "Tank",
         "marker": {
          "color": "#636efa"
         },
         "name": "Tank",
         "offsetgroup": "Tank",
         "orientation": "v",
         "showlegend": true,
         "textposition": "auto",
         "type": "bar",
         "x": [
          "Saudi Arabia"
         ],
         "xaxis": "x",
         "y": [
          153
         ],
         "yaxis": "y"
        },
        {
         "alignmentgroup": "True",
         "hovertemplate": "weapon_description=ABM<br>Nation or Non-State Actor=%{x}<br>Amount of Purchases=%{y}<extra></extra>",
         "legendgroup": "ABM",
         "marker": {
          "color": "#EF553B"
         },
         "name": "ABM",
         "offsetgroup": "ABM",
         "orientation": "v",
         "showlegend": true,
         "textposition": "auto",
         "type": "bar",
         "x": [
          "Saudi Arabia",
          "United Arab Emirates",
          "Qatar"
         ],
         "xaxis": "x",
         "y": [
          130,
          50,
          24
         ],
         "yaxis": "y"
        },
        {
         "alignmentgroup": "True",
         "hovertemplate": "weapon_description=Self-propelled mortar<br>Nation or Non-State Actor=%{x}<br>Amount of Purchases=%{y}<extra></extra>",
         "legendgroup": "Self-propelled mortar",
         "marker": {
          "color": "#00cc96"
         },
         "name": "Self-propelled mortar",
         "offsetgroup": "Self-propelled mortar",
         "orientation": "v",
         "showlegend": true,
         "textposition": "auto",
         "type": "bar",
         "x": [
          "Saudi Arabia"
         ],
         "xaxis": "x",
         "y": [
          100
         ],
         "yaxis": "y"
        },
        {
         "alignmentgroup": "True",
         "hovertemplate": "weapon_description=IFV<br>Nation or Non-State Actor=%{x}<br>Amount of Purchases=%{y}<extra></extra>",
         "legendgroup": "IFV",
         "marker": {
          "color": "#ab63fa"
         },
         "name": "IFV",
         "offsetgroup": "IFV",
         "orientation": "v",
         "showlegend": true,
         "textposition": "auto",
         "type": "bar",
         "x": [
          "United Arab Emirates",
          "Saudi Arabia"
         ],
         "xaxis": "x",
         "y": [
          100,
          100
         ],
         "yaxis": "y"
        },
        {
         "alignmentgroup": "True",
         "hovertemplate": "weapon_description=APC/APV<br>Nation or Non-State Actor=%{x}<br>Amount of Purchases=%{y}<extra></extra>",
         "legendgroup": "APC/APV",
         "marker": {
          "color": "#FFA15A"
         },
         "name": "APC/APV",
         "offsetgroup": "APC/APV",
         "orientation": "v",
         "showlegend": true,
         "textposition": "auto",
         "type": "bar",
         "x": [
          "Saudi Arabia"
         ],
         "xaxis": "x",
         "y": [
          100
         ],
         "yaxis": "y"
        },
        {
         "alignmentgroup": "True",
         "hovertemplate": "weapon_description=Self-propelled gun<br>Nation or Non-State Actor=%{x}<br>Amount of Purchases=%{y}<extra></extra>",
         "legendgroup": "Self-propelled gun",
         "marker": {
          "color": "#19d3f3"
         },
         "name": "Self-propelled gun",
         "offsetgroup": "Self-propelled gun",
         "orientation": "v",
         "showlegend": true,
         "textposition": "auto",
         "type": "bar",
         "x": [
          "India",
          "Saudi Arabia"
         ],
         "xaxis": "x",
         "y": [
          100,
          24
         ],
         "yaxis": "y"
        },
        {
         "alignmentgroup": "True",
         "hovertemplate": "weapon_description=ASM<br>Nation or Non-State Actor=%{x}<br>Amount of Purchases=%{y}<extra></extra>",
         "legendgroup": "ASM",
         "marker": {
          "color": "#FF6692"
         },
         "name": "ASM",
         "offsetgroup": "ASM",
         "orientation": "v",
         "showlegend": true,
         "textposition": "auto",
         "type": "bar",
         "x": [
          "India"
         ],
         "xaxis": "x",
         "y": [
          100
         ],
         "yaxis": "y"
        },
        {
         "alignmentgroup": "True",
         "hovertemplate": "weapon_description=Towed gun<br>Nation or Non-State Actor=%{x}<br>Amount of Purchases=%{y}<extra></extra>",
         "legendgroup": "Towed gun",
         "marker": {
          "color": "#B6E880"
         },
         "name": "Towed gun",
         "offsetgroup": "Towed gun",
         "orientation": "v",
         "showlegend": true,
         "textposition": "auto",
         "type": "bar",
         "x": [
          "Saudi Arabia",
          "India",
          "United Arab Emirates"
         ],
         "xaxis": "x",
         "y": [
          62,
          29,
          6
         ],
         "yaxis": "y"
        },
        {
         "alignmentgroup": "True",
         "hovertemplate": "weapon_description=Helicopter<br>Nation or Non-State Actor=%{x}<br>Amount of Purchases=%{y}<extra></extra>",
         "legendgroup": "Helicopter",
         "marker": {
          "color": "#FF97FF"
         },
         "name": "Helicopter",
         "offsetgroup": "Helicopter",
         "orientation": "v",
         "showlegend": true,
         "textposition": "auto",
         "type": "bar",
         "x": [
          "Afghanistan",
          "Saudi Arabia",
          "Qatar"
         ],
         "xaxis": "x",
         "y": [
          53,
          39,
          4
         ],
         "yaxis": "y"
        },
        {
         "alignmentgroup": "True",
         "hovertemplate": "weapon_description=Anti-ship missile<br>Nation or Non-State Actor=%{x}<br>Amount of Purchases=%{y}<extra></extra>",
         "legendgroup": "Anti-ship missile",
         "marker": {
          "color": "#FECB52"
         },
         "name": "Anti-ship missile",
         "offsetgroup": "Anti-ship missile",
         "orientation": "v",
         "showlegend": true,
         "textposition": "auto",
         "type": "bar",
         "x": [
          "United Arab Emirates"
         ],
         "xaxis": "x",
         "y": [
          50
         ],
         "yaxis": "y"
        },
        {
         "alignmentgroup": "True",
         "hovertemplate": "weapon_description=Anti-ship missile/SSM<br>Nation or Non-State Actor=%{x}<br>Amount of Purchases=%{y}<extra></extra>",
         "legendgroup": "Anti-ship missile/SSM",
         "marker": {
          "color": "#636efa"
         },
         "name": "Anti-ship missile/SSM",
         "offsetgroup": "Anti-ship missile/SSM",
         "orientation": "v",
         "showlegend": true,
         "textposition": "auto",
         "type": "bar",
         "x": [
          "Saudi Arabia",
          "India"
         ],
         "xaxis": "x",
         "y": [
          50,
          12
         ],
         "yaxis": "y"
        },
        {
         "alignmentgroup": "True",
         "hovertemplate": "weapon_description=SSM<br>Nation or Non-State Actor=%{x}<br>Amount of Purchases=%{y}<extra></extra>",
         "legendgroup": "SSM",
         "marker": {
          "color": "#EF553B"
         },
         "name": "SSM",
         "offsetgroup": "SSM",
         "orientation": "v",
         "showlegend": true,
         "textposition": "auto",
         "type": "bar",
         "x": [
          "Qatar"
         ],
         "xaxis": "x",
         "y": [
          48
         ],
         "yaxis": "y"
        },
        {
         "alignmentgroup": "True",
         "hovertemplate": "weapon_description=Light helicopter<br>Nation or Non-State Actor=%{x}<br>Amount of Purchases=%{y}<extra></extra>",
         "legendgroup": "Light helicopter",
         "marker": {
          "color": "#00cc96"
         },
         "name": "Light helicopter",
         "offsetgroup": "Light helicopter",
         "orientation": "v",
         "showlegend": true,
         "textposition": "auto",
         "type": "bar",
         "x": [
          "Afghanistan",
          "Saudi Arabia",
          "Qatar",
          "India"
         ],
         "xaxis": "x",
         "y": [
          36,
          23,
          16,
          8
         ],
         "yaxis": "y"
        },
        {
         "alignmentgroup": "True",
         "hovertemplate": "weapon_description=Armed UAV<br>Nation or Non-State Actor=%{x}<br>Amount of Purchases=%{y}<extra></extra>",
         "legendgroup": "Armed UAV",
         "marker": {
          "color": "#ab63fa"
         },
         "name": "Armed UAV",
         "offsetgroup": "Armed UAV",
         "orientation": "v",
         "showlegend": true,
         "textposition": "auto",
         "type": "bar",
         "x": [
          "Saudi Arabia",
          "United Arab Emirates",
          "Qatar"
         ],
         "xaxis": "x",
         "y": [
          35,
          15,
          6
         ],
         "yaxis": "y"
        },
        {
         "alignmentgroup": "True",
         "hovertemplate": "weapon_description=Aircraft EO system<br>Nation or Non-State Actor=%{x}<br>Amount of Purchases=%{y}<extra></extra>",
         "legendgroup": "Aircraft EO system",
         "marker": {
          "color": "#FFA15A"
         },
         "name": "Aircraft EO system",
         "offsetgroup": "Aircraft EO system",
         "orientation": "v",
         "showlegend": true,
         "textposition": "auto",
         "type": "bar",
         "x": [
          "Qatar"
         ],
         "xaxis": "x",
         "y": [
          24
         ],
         "yaxis": "y"
        },
        {
         "alignmentgroup": "True",
         "hovertemplate": "weapon_description=ARV<br>Nation or Non-State Actor=%{x}<br>Amount of Purchases=%{y}<extra></extra>",
         "legendgroup": "ARV",
         "marker": {
          "color": "#19d3f3"
         },
         "name": "ARV",
         "offsetgroup": "ARV",
         "orientation": "v",
         "showlegend": true,
         "textposition": "auto",
         "type": "bar",
         "x": [
          "Saudi Arabia"
         ],
         "xaxis": "x",
         "y": [
          20
         ],
         "yaxis": "y"
        },
        {
         "alignmentgroup": "True",
         "hovertemplate": "weapon_description=Turboprop<br>Nation or Non-State Actor=%{x}<br>Amount of Purchases=%{y}<extra></extra>",
         "legendgroup": "Turboprop",
         "marker": {
          "color": "#FF6692"
         },
         "name": "Turboprop",
         "offsetgroup": "Turboprop",
         "orientation": "v",
         "showlegend": true,
         "textposition": "auto",
         "type": "bar",
         "x": [
          "India"
         ],
         "xaxis": "x",
         "y": [
          16
         ],
         "yaxis": "y"
        },
        {
         "alignmentgroup": "True",
         "hovertemplate": "weapon_description=FGA aircraft<br>Nation or Non-State Actor=%{x}<br>Amount of Purchases=%{y}<extra></extra>",
         "legendgroup": "FGA aircraft",
         "marker": {
          "color": "#B6E880"
         },
         "name": "FGA aircraft",
         "offsetgroup": "FGA aircraft",
         "orientation": "v",
         "showlegend": true,
         "textposition": "auto",
         "type": "bar",
         "x": [
          "India"
         ],
         "xaxis": "x",
         "y": [
          13
         ],
         "yaxis": "y"
        },
        {
         "alignmentgroup": "True",
         "hovertemplate": "weapon_description=Combat heli radar<br>Nation or Non-State Actor=%{x}<br>Amount of Purchases=%{y}<extra></extra>",
         "legendgroup": "Combat heli radar",
         "marker": {
          "color": "#FF97FF"
         },
         "name": "Combat heli radar",
         "offsetgroup": "Combat heli radar",
         "orientation": "v",
         "showlegend": true,
         "textposition": "auto",
         "type": "bar",
         "x": [
          "India"
         ],
         "xaxis": "x",
         "y": [
          12
         ],
         "yaxis": "y"
        },
        {
         "alignmentgroup": "True",
         "hovertemplate": "weapon_description=AGS radar<br>Nation or Non-State Actor=%{x}<br>Amount of Purchases=%{y}<extra></extra>",
         "legendgroup": "AGS radar",
         "marker": {
          "color": "#FECB52"
         },
         "name": "AGS radar",
         "offsetgroup": "AGS radar",
         "orientation": "v",
         "showlegend": true,
         "textposition": "auto",
         "type": "bar",
         "x": [
          "India"
         ],
         "xaxis": "x",
         "y": [
          10
         ],
         "yaxis": "y"
        },
        {
         "alignmentgroup": "True",
         "hovertemplate": "weapon_description=Turboprop/turboshaft<br>Nation or Non-State Actor=%{x}<br>Amount of Purchases=%{y}<extra></extra>",
         "legendgroup": "Turboprop/turboshaft",
         "marker": {
          "color": "#636efa"
         },
         "name": "Turboprop/turboshaft",
         "offsetgroup": "Turboprop/turboshaft",
         "orientation": "v",
         "showlegend": true,
         "textposition": "auto",
         "type": "bar",
         "x": [
          "United Arab Emirates",
          "Afghanistan"
         ],
         "xaxis": "x",
         "y": [
          10,
          6
         ],
         "yaxis": "y"
        },
        {
         "alignmentgroup": "True",
         "hovertemplate": "weapon_description=Self-propelled MRL<br>Nation or Non-State Actor=%{x}<br>Amount of Purchases=%{y}<extra></extra>",
         "legendgroup": "Self-propelled MRL",
         "marker": {
          "color": "#EF553B"
         },
         "name": "Self-propelled MRL",
         "offsetgroup": "Self-propelled MRL",
         "orientation": "v",
         "showlegend": true,
         "textposition": "auto",
         "type": "bar",
         "x": [
          "Saudi Arabia",
          "United Arab Emirates"
         ],
         "xaxis": "x",
         "y": [
          10,
          5
         ],
         "yaxis": "y"
        },
        {
         "alignmentgroup": "True",
         "hovertemplate": "weapon_description=Patrol craft<br>Nation or Non-State Actor=%{x}<br>Amount of Purchases=%{y}<extra></extra>",
         "legendgroup": "Patrol craft",
         "marker": {
          "color": "#00cc96"
         },
         "name": "Patrol craft",
         "offsetgroup": "Patrol craft",
         "orientation": "v",
         "showlegend": true,
         "textposition": "auto",
         "type": "bar",
         "x": [
          "Saudi Arabia"
         ],
         "xaxis": "x",
         "y": [
          9
         ],
         "yaxis": "y"
        },
        {
         "alignmentgroup": "True",
         "hovertemplate": "weapon_description=MP aircraft<br>Nation or Non-State Actor=%{x}<br>Amount of Purchases=%{y}<extra></extra>",
         "legendgroup": "MP aircraft",
         "marker": {
          "color": "#ab63fa"
         },
         "name": "MP aircraft",
         "offsetgroup": "MP aircraft",
         "orientation": "v",
         "showlegend": true,
         "textposition": "auto",
         "type": "bar",
         "x": [
          "India"
         ],
         "xaxis": "x",
         "y": [
          8
         ],
         "yaxis": "y"
        },
        {
         "alignmentgroup": "True",
         "hovertemplate": "weapon_description=Trainer aircraft<br>Nation or Non-State Actor=%{x}<br>Amount of Purchases=%{y}<extra></extra>",
         "legendgroup": "Trainer aircraft",
         "marker": {
          "color": "#FFA15A"
         },
         "name": "Trainer aircraft",
         "offsetgroup": "Trainer aircraft",
         "orientation": "v",
         "showlegend": true,
         "textposition": "auto",
         "type": "bar",
         "x": [
          "Qatar"
         ],
         "xaxis": "x",
         "y": [
          8
         ],
         "yaxis": "y"
        },
        {
         "alignmentgroup": "True",
         "hovertemplate": "weapon_description=Self-propelled MRL/SSM TEL<br>Nation or Non-State Actor=%{x}<br>Amount of Purchases=%{y}<extra></extra>",
         "legendgroup": "Self-propelled MRL/SSM TEL",
         "marker": {
          "color": "#19d3f3"
         },
         "name": "Self-propelled MRL/SSM TEL",
         "offsetgroup": "Self-propelled MRL/SSM TEL",
         "orientation": "v",
         "showlegend": true,
         "textposition": "auto",
         "type": "bar",
         "x": [
          "Qatar"
         ],
         "xaxis": "x",
         "y": [
          8
         ],
         "yaxis": "y"
        },
        {
         "alignmentgroup": "True",
         "hovertemplate": "weapon_description=Light transport ac<br>Nation or Non-State Actor=%{x}<br>Amount of Purchases=%{y}<extra></extra>",
         "legendgroup": "Light transport ac",
         "marker": {
          "color": "#FF6692"
         },
         "name": "Light transport ac",
         "offsetgroup": "Light transport ac",
         "orientation": "v",
         "showlegend": true,
         "textposition": "auto",
         "type": "bar",
         "x": [
          "Afghanistan"
         ],
         "xaxis": "x",
         "y": [
          8
         ],
         "yaxis": "y"
        },
        {
         "alignmentgroup": "True",
         "hovertemplate": "weapon_description=Trainer/combat ac<br>Nation or Non-State Actor=%{x}<br>Amount of Purchases=%{y}<extra></extra>",
         "legendgroup": "Trainer/combat ac",
         "marker": {
          "color": "#B6E880"
         },
         "name": "Trainer/combat ac",
         "offsetgroup": "Trainer/combat ac",
         "orientation": "v",
         "showlegend": true,
         "textposition": "auto",
         "type": "bar",
         "x": [
          "Afghanistan"
         ],
         "xaxis": "x",
         "y": [
          6
         ],
         "yaxis": "y"
        },
        {
         "alignmentgroup": "True",
         "hovertemplate": "weapon_description=Air search radar<br>Nation or Non-State Actor=%{x}<br>Amount of Purchases=%{y}<extra></extra>",
         "legendgroup": "Air search radar",
         "marker": {
          "color": "#FF97FF"
         },
         "name": "Air search radar",
         "offsetgroup": "Air search radar",
         "orientation": "v",
         "showlegend": true,
         "textposition": "auto",
         "type": "bar",
         "x": [
          "Saudi Arabia",
          "India"
         ],
         "xaxis": "x",
         "y": [
          6,
          1
         ],
         "yaxis": "y"
        },
        {
         "alignmentgroup": "True",
         "hovertemplate": "weapon_description=UAV<br>Nation or Non-State Actor=%{x}<br>Amount of Purchases=%{y}<extra></extra>",
         "legendgroup": "UAV",
         "marker": {
          "color": "#FECB52"
         },
         "name": "UAV",
         "offsetgroup": "UAV",
         "orientation": "v",
         "showlegend": true,
         "textposition": "auto",
         "type": "bar",
         "x": [
          "United Arab Emirates",
          "India"
         ],
         "xaxis": "x",
         "y": [
          5,
          2
         ],
         "yaxis": "y"
        },
        {
         "alignmentgroup": "True",
         "hovertemplate": "weapon_description=Transport aircraft<br>Nation or Non-State Actor=%{x}<br>Amount of Purchases=%{y}<extra></extra>",
         "legendgroup": "Transport aircraft",
         "marker": {
          "color": "#636efa"
         },
         "name": "Transport aircraft",
         "offsetgroup": "Transport aircraft",
         "orientation": "v",
         "showlegend": true,
         "textposition": "auto",
         "type": "bar",
         "x": [
          "United Arab Emirates",
          "Qatar",
          "India"
         ],
         "xaxis": "x",
         "y": [
          5,
          2,
          1
         ],
         "yaxis": "y"
        },
        {
         "alignmentgroup": "True",
         "hovertemplate": "weapon_description=Combat helicopter<br>Nation or Non-State Actor=%{x}<br>Amount of Purchases=%{y}<extra></extra>",
         "legendgroup": "Combat helicopter",
         "marker": {
          "color": "#EF553B"
         },
         "name": "Combat helicopter",
         "offsetgroup": "Combat helicopter",
         "orientation": "v",
         "showlegend": true,
         "textposition": "auto",
         "type": "bar",
         "x": [
          "Afghanistan"
         ],
         "xaxis": "x",
         "y": [
          4
         ],
         "yaxis": "y"
        },
        {
         "alignmentgroup": "True",
         "hovertemplate": "weapon_description=Arty locating radar<br>Nation or Non-State Actor=%{x}<br>Amount of Purchases=%{y}<extra></extra>",
         "legendgroup": "Arty locating radar",
         "marker": {
          "color": "#00cc96"
         },
         "name": "Arty locating radar",
         "offsetgroup": "Arty locating radar",
         "orientation": "v",
         "showlegend": true,
         "textposition": "auto",
         "type": "bar",
         "x": [
          "United Arab Emirates",
          "Qatar"
         ],
         "xaxis": "x",
         "y": [
          3,
          2
         ],
         "yaxis": "y"
        },
        {
         "alignmentgroup": "True",
         "hovertemplate": "weapon_description=AGS aircraft<br>Nation or Non-State Actor=%{x}<br>Amount of Purchases=%{y}<extra></extra>",
         "legendgroup": "AGS aircraft",
         "marker": {
          "color": "#ab63fa"
         },
         "name": "AGS aircraft",
         "offsetgroup": "AGS aircraft",
         "orientation": "v",
         "showlegend": true,
         "textposition": "auto",
         "type": "bar",
         "x": [
          "Saudi Arabia"
         ],
         "xaxis": "x",
         "y": [
          2
         ],
         "yaxis": "y"
        },
        {
         "alignmentgroup": "True",
         "hovertemplate": "weapon_description=Fire control radar<br>Nation or Non-State Actor=%{x}<br>Amount of Purchases=%{y}<extra></extra>",
         "legendgroup": "Fire control radar",
         "marker": {
          "color": "#FFA15A"
         },
         "name": "Fire control radar",
         "offsetgroup": "Fire control radar",
         "orientation": "v",
         "showlegend": true,
         "textposition": "auto",
         "type": "bar",
         "x": [
          "Saudi Arabia"
         ],
         "xaxis": "x",
         "y": [
          2
         ],
         "yaxis": "y"
        },
        {
         "alignmentgroup": "True",
         "hovertemplate": "weapon_description=Aircraft recce system<br>Nation or Non-State Actor=%{x}<br>Amount of Purchases=%{y}<extra></extra>",
         "legendgroup": "Aircraft recce system",
         "marker": {
          "color": "#19d3f3"
         },
         "name": "Aircraft recce system",
         "offsetgroup": "Aircraft recce system",
         "orientation": "v",
         "showlegend": true,
         "textposition": "auto",
         "type": "bar",
         "x": [
          "United Arab Emirates"
         ],
         "xaxis": "x",
         "y": [
          2
         ],
         "yaxis": "y"
        },
        {
         "alignmentgroup": "True",
         "hovertemplate": "weapon_description=Heavy transport ac<br>Nation or Non-State Actor=%{x}<br>Amount of Purchases=%{y}<extra></extra>",
         "legendgroup": "Heavy transport ac",
         "marker": {
          "color": "#FF6692"
         },
         "name": "Heavy transport ac",
         "offsetgroup": "Heavy transport ac",
         "orientation": "v",
         "showlegend": true,
         "textposition": "auto",
         "type": "bar",
         "x": [
          "India"
         ],
         "xaxis": "x",
         "y": [
          1
         ],
         "yaxis": "y"
        },
        {
         "alignmentgroup": "True",
         "hovertemplate": "weapon_description=ASW aircraft<br>Nation or Non-State Actor=%{x}<br>Amount of Purchases=%{y}<extra></extra>",
         "legendgroup": "ASW aircraft",
         "marker": {
          "color": "#B6E880"
         },
         "name": "ASW aircraft",
         "offsetgroup": "ASW aircraft",
         "orientation": "v",
         "showlegend": true,
         "textposition": "auto",
         "type": "bar",
         "x": [
          "India"
         ],
         "xaxis": "x",
         "y": [
          1
         ],
         "yaxis": "y"
        }
       ],
       "layout": {
        "barmode": "relative",
        "legend": {
         "title": {
          "text": "weapon_description"
         },
         "tracegroupgap": 0
        },
        "template": {
         "data": {
          "bar": [
           {
            "error_x": {
             "color": "#2a3f5f"
            },
            "error_y": {
             "color": "#2a3f5f"
            },
            "marker": {
             "line": {
              "color": "#E5ECF6",
              "width": 0.5
             }
            },
            "type": "bar"
           }
          ],
          "barpolar": [
           {
            "marker": {
             "line": {
              "color": "#E5ECF6",
              "width": 0.5
             }
            },
            "type": "barpolar"
           }
          ],
          "carpet": [
           {
            "aaxis": {
             "endlinecolor": "#2a3f5f",
             "gridcolor": "white",
             "linecolor": "white",
             "minorgridcolor": "white",
             "startlinecolor": "#2a3f5f"
            },
            "baxis": {
             "endlinecolor": "#2a3f5f",
             "gridcolor": "white",
             "linecolor": "white",
             "minorgridcolor": "white",
             "startlinecolor": "#2a3f5f"
            },
            "type": "carpet"
           }
          ],
          "choropleth": [
           {
            "colorbar": {
             "outlinewidth": 0,
             "ticks": ""
            },
            "type": "choropleth"
           }
          ],
          "contour": [
           {
            "colorbar": {
             "outlinewidth": 0,
             "ticks": ""
            },
            "colorscale": [
             [
              0,
              "#0d0887"
             ],
             [
              0.1111111111111111,
              "#46039f"
             ],
             [
              0.2222222222222222,
              "#7201a8"
             ],
             [
              0.3333333333333333,
              "#9c179e"
             ],
             [
              0.4444444444444444,
              "#bd3786"
             ],
             [
              0.5555555555555556,
              "#d8576b"
             ],
             [
              0.6666666666666666,
              "#ed7953"
             ],
             [
              0.7777777777777778,
              "#fb9f3a"
             ],
             [
              0.8888888888888888,
              "#fdca26"
             ],
             [
              1,
              "#f0f921"
             ]
            ],
            "type": "contour"
           }
          ],
          "contourcarpet": [
           {
            "colorbar": {
             "outlinewidth": 0,
             "ticks": ""
            },
            "type": "contourcarpet"
           }
          ],
          "heatmap": [
           {
            "colorbar": {
             "outlinewidth": 0,
             "ticks": ""
            },
            "colorscale": [
             [
              0,
              "#0d0887"
             ],
             [
              0.1111111111111111,
              "#46039f"
             ],
             [
              0.2222222222222222,
              "#7201a8"
             ],
             [
              0.3333333333333333,
              "#9c179e"
             ],
             [
              0.4444444444444444,
              "#bd3786"
             ],
             [
              0.5555555555555556,
              "#d8576b"
             ],
             [
              0.6666666666666666,
              "#ed7953"
             ],
             [
              0.7777777777777778,
              "#fb9f3a"
             ],
             [
              0.8888888888888888,
              "#fdca26"
             ],
             [
              1,
              "#f0f921"
             ]
            ],
            "type": "heatmap"
           }
          ],
          "heatmapgl": [
           {
            "colorbar": {
             "outlinewidth": 0,
             "ticks": ""
            },
            "colorscale": [
             [
              0,
              "#0d0887"
             ],
             [
              0.1111111111111111,
              "#46039f"
             ],
             [
              0.2222222222222222,
              "#7201a8"
             ],
             [
              0.3333333333333333,
              "#9c179e"
             ],
             [
              0.4444444444444444,
              "#bd3786"
             ],
             [
              0.5555555555555556,
              "#d8576b"
             ],
             [
              0.6666666666666666,
              "#ed7953"
             ],
             [
              0.7777777777777778,
              "#fb9f3a"
             ],
             [
              0.8888888888888888,
              "#fdca26"
             ],
             [
              1,
              "#f0f921"
             ]
            ],
            "type": "heatmapgl"
           }
          ],
          "histogram": [
           {
            "marker": {
             "colorbar": {
              "outlinewidth": 0,
              "ticks": ""
             }
            },
            "type": "histogram"
           }
          ],
          "histogram2d": [
           {
            "colorbar": {
             "outlinewidth": 0,
             "ticks": ""
            },
            "colorscale": [
             [
              0,
              "#0d0887"
             ],
             [
              0.1111111111111111,
              "#46039f"
             ],
             [
              0.2222222222222222,
              "#7201a8"
             ],
             [
              0.3333333333333333,
              "#9c179e"
             ],
             [
              0.4444444444444444,
              "#bd3786"
             ],
             [
              0.5555555555555556,
              "#d8576b"
             ],
             [
              0.6666666666666666,
              "#ed7953"
             ],
             [
              0.7777777777777778,
              "#fb9f3a"
             ],
             [
              0.8888888888888888,
              "#fdca26"
             ],
             [
              1,
              "#f0f921"
             ]
            ],
            "type": "histogram2d"
           }
          ],
          "histogram2dcontour": [
           {
            "colorbar": {
             "outlinewidth": 0,
             "ticks": ""
            },
            "colorscale": [
             [
              0,
              "#0d0887"
             ],
             [
              0.1111111111111111,
              "#46039f"
             ],
             [
              0.2222222222222222,
              "#7201a8"
             ],
             [
              0.3333333333333333,
              "#9c179e"
             ],
             [
              0.4444444444444444,
              "#bd3786"
             ],
             [
              0.5555555555555556,
              "#d8576b"
             ],
             [
              0.6666666666666666,
              "#ed7953"
             ],
             [
              0.7777777777777778,
              "#fb9f3a"
             ],
             [
              0.8888888888888888,
              "#fdca26"
             ],
             [
              1,
              "#f0f921"
             ]
            ],
            "type": "histogram2dcontour"
           }
          ],
          "mesh3d": [
           {
            "colorbar": {
             "outlinewidth": 0,
             "ticks": ""
            },
            "type": "mesh3d"
           }
          ],
          "parcoords": [
           {
            "line": {
             "colorbar": {
              "outlinewidth": 0,
              "ticks": ""
             }
            },
            "type": "parcoords"
           }
          ],
          "pie": [
           {
            "automargin": true,
            "type": "pie"
           }
          ],
          "scatter": [
           {
            "marker": {
             "colorbar": {
              "outlinewidth": 0,
              "ticks": ""
             }
            },
            "type": "scatter"
           }
          ],
          "scatter3d": [
           {
            "line": {
             "colorbar": {
              "outlinewidth": 0,
              "ticks": ""
             }
            },
            "marker": {
             "colorbar": {
              "outlinewidth": 0,
              "ticks": ""
             }
            },
            "type": "scatter3d"
           }
          ],
          "scattercarpet": [
           {
            "marker": {
             "colorbar": {
              "outlinewidth": 0,
              "ticks": ""
             }
            },
            "type": "scattercarpet"
           }
          ],
          "scattergeo": [
           {
            "marker": {
             "colorbar": {
              "outlinewidth": 0,
              "ticks": ""
             }
            },
            "type": "scattergeo"
           }
          ],
          "scattergl": [
           {
            "marker": {
             "colorbar": {
              "outlinewidth": 0,
              "ticks": ""
             }
            },
            "type": "scattergl"
           }
          ],
          "scattermapbox": [
           {
            "marker": {
             "colorbar": {
              "outlinewidth": 0,
              "ticks": ""
             }
            },
            "type": "scattermapbox"
           }
          ],
          "scatterpolar": [
           {
            "marker": {
             "colorbar": {
              "outlinewidth": 0,
              "ticks": ""
             }
            },
            "type": "scatterpolar"
           }
          ],
          "scatterpolargl": [
           {
            "marker": {
             "colorbar": {
              "outlinewidth": 0,
              "ticks": ""
             }
            },
            "type": "scatterpolargl"
           }
          ],
          "scatterternary": [
           {
            "marker": {
             "colorbar": {
              "outlinewidth": 0,
              "ticks": ""
             }
            },
            "type": "scatterternary"
           }
          ],
          "surface": [
           {
            "colorbar": {
             "outlinewidth": 0,
             "ticks": ""
            },
            "colorscale": [
             [
              0,
              "#0d0887"
             ],
             [
              0.1111111111111111,
              "#46039f"
             ],
             [
              0.2222222222222222,
              "#7201a8"
             ],
             [
              0.3333333333333333,
              "#9c179e"
             ],
             [
              0.4444444444444444,
              "#bd3786"
             ],
             [
              0.5555555555555556,
              "#d8576b"
             ],
             [
              0.6666666666666666,
              "#ed7953"
             ],
             [
              0.7777777777777778,
              "#fb9f3a"
             ],
             [
              0.8888888888888888,
              "#fdca26"
             ],
             [
              1,
              "#f0f921"
             ]
            ],
            "type": "surface"
           }
          ],
          "table": [
           {
            "cells": {
             "fill": {
              "color": "#EBF0F8"
             },
             "line": {
              "color": "white"
             }
            },
            "header": {
             "fill": {
              "color": "#C8D4E3"
             },
             "line": {
              "color": "white"
             }
            },
            "type": "table"
           }
          ]
         },
         "layout": {
          "annotationdefaults": {
           "arrowcolor": "#2a3f5f",
           "arrowhead": 0,
           "arrowwidth": 1
          },
          "autotypenumbers": "strict",
          "coloraxis": {
           "colorbar": {
            "outlinewidth": 0,
            "ticks": ""
           }
          },
          "colorscale": {
           "diverging": [
            [
             0,
             "#8e0152"
            ],
            [
             0.1,
             "#c51b7d"
            ],
            [
             0.2,
             "#de77ae"
            ],
            [
             0.3,
             "#f1b6da"
            ],
            [
             0.4,
             "#fde0ef"
            ],
            [
             0.5,
             "#f7f7f7"
            ],
            [
             0.6,
             "#e6f5d0"
            ],
            [
             0.7,
             "#b8e186"
            ],
            [
             0.8,
             "#7fbc41"
            ],
            [
             0.9,
             "#4d9221"
            ],
            [
             1,
             "#276419"
            ]
           ],
           "sequential": [
            [
             0,
             "#0d0887"
            ],
            [
             0.1111111111111111,
             "#46039f"
            ],
            [
             0.2222222222222222,
             "#7201a8"
            ],
            [
             0.3333333333333333,
             "#9c179e"
            ],
            [
             0.4444444444444444,
             "#bd3786"
            ],
            [
             0.5555555555555556,
             "#d8576b"
            ],
            [
             0.6666666666666666,
             "#ed7953"
            ],
            [
             0.7777777777777778,
             "#fb9f3a"
            ],
            [
             0.8888888888888888,
             "#fdca26"
            ],
            [
             1,
             "#f0f921"
            ]
           ],
           "sequentialminus": [
            [
             0,
             "#0d0887"
            ],
            [
             0.1111111111111111,
             "#46039f"
            ],
            [
             0.2222222222222222,
             "#7201a8"
            ],
            [
             0.3333333333333333,
             "#9c179e"
            ],
            [
             0.4444444444444444,
             "#bd3786"
            ],
            [
             0.5555555555555556,
             "#d8576b"
            ],
            [
             0.6666666666666666,
             "#ed7953"
            ],
            [
             0.7777777777777778,
             "#fb9f3a"
            ],
            [
             0.8888888888888888,
             "#fdca26"
            ],
            [
             1,
             "#f0f921"
            ]
           ]
          },
          "colorway": [
           "#636efa",
           "#EF553B",
           "#00cc96",
           "#ab63fa",
           "#FFA15A",
           "#19d3f3",
           "#FF6692",
           "#B6E880",
           "#FF97FF",
           "#FECB52"
          ],
          "font": {
           "color": "#2a3f5f"
          },
          "geo": {
           "bgcolor": "white",
           "lakecolor": "white",
           "landcolor": "#E5ECF6",
           "showlakes": true,
           "showland": true,
           "subunitcolor": "white"
          },
          "hoverlabel": {
           "align": "left"
          },
          "hovermode": "closest",
          "mapbox": {
           "style": "light"
          },
          "paper_bgcolor": "white",
          "plot_bgcolor": "#E5ECF6",
          "polar": {
           "angularaxis": {
            "gridcolor": "white",
            "linecolor": "white",
            "ticks": ""
           },
           "bgcolor": "#E5ECF6",
           "radialaxis": {
            "gridcolor": "white",
            "linecolor": "white",
            "ticks": ""
           }
          },
          "scene": {
           "xaxis": {
            "backgroundcolor": "#E5ECF6",
            "gridcolor": "white",
            "gridwidth": 2,
            "linecolor": "white",
            "showbackground": true,
            "ticks": "",
            "zerolinecolor": "white"
           },
           "yaxis": {
            "backgroundcolor": "#E5ECF6",
            "gridcolor": "white",
            "gridwidth": 2,
            "linecolor": "white",
            "showbackground": true,
            "ticks": "",
            "zerolinecolor": "white"
           },
           "zaxis": {
            "backgroundcolor": "#E5ECF6",
            "gridcolor": "white",
            "gridwidth": 2,
            "linecolor": "white",
            "showbackground": true,
            "ticks": "",
            "zerolinecolor": "white"
           }
          },
          "shapedefaults": {
           "line": {
            "color": "#2a3f5f"
           }
          },
          "ternary": {
           "aaxis": {
            "gridcolor": "white",
            "linecolor": "white",
            "ticks": ""
           },
           "baxis": {
            "gridcolor": "white",
            "linecolor": "white",
            "ticks": ""
           },
           "bgcolor": "#E5ECF6",
           "caxis": {
            "gridcolor": "white",
            "linecolor": "white",
            "ticks": ""
           }
          },
          "title": {
           "x": 0.05
          },
          "xaxis": {
           "automargin": true,
           "gridcolor": "white",
           "linecolor": "white",
           "ticks": "",
           "title": {
            "standoff": 15
           },
           "zerolinecolor": "white",
           "zerolinewidth": 2
          },
          "yaxis": {
           "automargin": true,
           "gridcolor": "white",
           "linecolor": "white",
           "ticks": "",
           "title": {
            "standoff": 15
           },
           "zerolinecolor": "white",
           "zerolinewidth": 2
          }
         }
        },
        "title": {
         "text": "Total Amount of Weapon Purchases by Top 5 Nations 2015-2020"
        },
        "xaxis": {
         "anchor": "y",
         "categoryarray": [
          "Saudi Arabia",
          "United Arab Emirates",
          "India",
          "Afghanistan",
          "Qatar"
         ],
         "categoryorder": "array",
         "domain": [
          0,
          1
         ],
         "title": {
          "text": "Nation or Non-State Actor"
         }
        },
        "yaxis": {
         "anchor": "x",
         "domain": [
          0,
          1
         ],
         "title": {
          "text": "Amount of Purchases"
         }
        }
       }
      }
     },
     "metadata": {}
    }
   ],
   "source": [
    "sipri_most_purchases = px.bar(sipri_countries.query('buyer==\"India\"|buyer==\"Saudi Arabia\"|buyer==\"United Arab Emirates\"|buyer==\"Afghanistan\"|buyer==\"Qatar\"'),x='buyer',y='total', color='weapon_description',\n",
    "title=\"Total Amount of Weapon Purchases by Top 5 Nations 2015-2020\",\n",
    "labels={'buyer':'Nation or Non-State Actor','total':'Amount of Purchases'},\n",
    "category_orders={'buyer':['Saudi Arabia','United Arab Emirates','India','Afghanistan','Qatar']}\n",
    ")\n",
    "sipri_most_purchases.show()"
   ]
  },
  {
   "cell_type": "code",
   "execution_count": 20,
   "metadata": {},
   "outputs": [],
   "source": [
    "#acled_countries = pd.read_sql_query('SELECT country,sub_event_type, COUNT(*) FROM acled GROUP BY country,sub_event_type ORDER BY COUNT(*) DESC',db)\n",
    "#acled_countries = pd.read_sql_query(\"\"\"SELECT country,sub_event_type, COUNT(*) FROM acled WHERE sub_event_type <>'Peaceful protest' AND sub_event_type <> 'Change to group/activity' GROUP BY country,sub_event_type ORDER BY COUNT(*) DESC\"\"\",db)\n",
    "acled_countries = pd.read_sql_query(\"\"\"SELECT country, COALESCE(sub_event_type,'Total') AS event, total FROM (SELECT \n",
    "\tcountry,sub_event_type,COUNT(sub_event_type) as total\n",
    "FROM\n",
    "\tacled\n",
    "GROUP BY\n",
    "\tROLLUP(country,sub_event_type)\n",
    "ORDER BY\n",
    "\tcountry,total) AS rolledup\"\"\",db)"
   ]
  },
  {
   "cell_type": "code",
   "execution_count": 21,
   "metadata": {},
   "outputs": [],
   "source": [
    "#acled_countries.describe(include='all')\n",
    "#df_test = pd.DataFrame(index=pd.MultiIndex.from_frame(acled_countries))\n",
    "newdf = acled_countries.set_index(['country','event']).sort_index()"
   ]
  },
  {
   "cell_type": "code",
   "execution_count": 22,
   "metadata": {},
   "outputs": [
    {
     "output_type": "execute_result",
     "data": {
      "text/plain": [
       "                                            total\n",
       "country event                                    \n",
       "India   Headquarters or base established        1\n",
       "        Non-violent transfer of territory       1\n",
       "        Air/drone strike                        2\n",
       "        Government regains territory            2\n",
       "        Suicide bomb                            3\n",
       "        Agreement                              33\n",
       "        Other                                  38\n",
       "        Change to group/activity               47\n",
       "        Shelling/artillery/missile attack      62\n",
       "        Sexual violence                        89\n",
       "        Abduction/forced disappearance        146\n",
       "        Arrests                               159\n",
       "        Excessive force against protesters    194\n",
       "        Looting/property destruction          302\n",
       "        Grenade                               346\n",
       "        Disrupted weapons use                 431\n",
       "        Remote explosive/landmine/IED         692\n",
       "        Attack                               3601\n",
       "        Protest with intervention            4474\n",
       "        Armed clash                          4789\n",
       "        Violent demonstration                4933\n",
       "        Mob violence                         8630\n",
       "        Peaceful protest                    60693\n",
       "        Total                               89668"
      ],
      "text/html": "<div>\n<style scoped>\n    .dataframe tbody tr th:only-of-type {\n        vertical-align: middle;\n    }\n\n    .dataframe tbody tr th {\n        vertical-align: top;\n    }\n\n    .dataframe thead th {\n        text-align: right;\n    }\n</style>\n<table border=\"1\" class=\"dataframe\">\n  <thead>\n    <tr style=\"text-align: right;\">\n      <th></th>\n      <th></th>\n      <th>total</th>\n    </tr>\n    <tr>\n      <th>country</th>\n      <th>event</th>\n      <th></th>\n    </tr>\n  </thead>\n  <tbody>\n    <tr>\n      <th rowspan=\"24\" valign=\"top\">India</th>\n      <th>Headquarters or base established</th>\n      <td>1</td>\n    </tr>\n    <tr>\n      <th>Non-violent transfer of territory</th>\n      <td>1</td>\n    </tr>\n    <tr>\n      <th>Air/drone strike</th>\n      <td>2</td>\n    </tr>\n    <tr>\n      <th>Government regains territory</th>\n      <td>2</td>\n    </tr>\n    <tr>\n      <th>Suicide bomb</th>\n      <td>3</td>\n    </tr>\n    <tr>\n      <th>Agreement</th>\n      <td>33</td>\n    </tr>\n    <tr>\n      <th>Other</th>\n      <td>38</td>\n    </tr>\n    <tr>\n      <th>Change to group/activity</th>\n      <td>47</td>\n    </tr>\n    <tr>\n      <th>Shelling/artillery/missile attack</th>\n      <td>62</td>\n    </tr>\n    <tr>\n      <th>Sexual violence</th>\n      <td>89</td>\n    </tr>\n    <tr>\n      <th>Abduction/forced disappearance</th>\n      <td>146</td>\n    </tr>\n    <tr>\n      <th>Arrests</th>\n      <td>159</td>\n    </tr>\n    <tr>\n      <th>Excessive force against protesters</th>\n      <td>194</td>\n    </tr>\n    <tr>\n      <th>Looting/property destruction</th>\n      <td>302</td>\n    </tr>\n    <tr>\n      <th>Grenade</th>\n      <td>346</td>\n    </tr>\n    <tr>\n      <th>Disrupted weapons use</th>\n      <td>431</td>\n    </tr>\n    <tr>\n      <th>Remote explosive/landmine/IED</th>\n      <td>692</td>\n    </tr>\n    <tr>\n      <th>Attack</th>\n      <td>3601</td>\n    </tr>\n    <tr>\n      <th>Protest with intervention</th>\n      <td>4474</td>\n    </tr>\n    <tr>\n      <th>Armed clash</th>\n      <td>4789</td>\n    </tr>\n    <tr>\n      <th>Violent demonstration</th>\n      <td>4933</td>\n    </tr>\n    <tr>\n      <th>Mob violence</th>\n      <td>8630</td>\n    </tr>\n    <tr>\n      <th>Peaceful protest</th>\n      <td>60693</td>\n    </tr>\n    <tr>\n      <th>Total</th>\n      <td>89668</td>\n    </tr>\n  </tbody>\n</table>\n</div>"
     },
     "metadata": {},
     "execution_count": 22
    }
   ],
   "source": [
    "newdf.query('country==\"India\"').sort_values(by=['country','total'])"
   ]
  },
  {
   "cell_type": "code",
   "execution_count": 23,
   "metadata": {},
   "outputs": [],
   "source": [
    "acled_drones = pd.read_sql_query(\"\"\"SELECT country,\n",
    "COALESCE(\"2000\",0)\"2000\",\n",
    "COALESCE(\"2001\",0) \"2001\",\n",
    "COALESCE(\"2002\",0)\"2002\",\n",
    "COALESCE(\"2003\",0)\"2003\",\n",
    "COALESCE(\"2004\",0)\"2004\",\n",
    "COALESCE(\"2005\",0)\"2005\",\n",
    "COALESCE(\"2006\",0)\"2006\",\n",
    "COALESCE(\"2007\",0)\"2007\",\n",
    "COALESCE(\"2008\",0)\"2008\",\n",
    "COALESCE(\"2009\",0)\"2009\",\n",
    "COALESCE(\"2010\",0)\"2010\",\n",
    "COALESCE(\"2011\",0)\"2011\",\n",
    "COALESCE(\"2012\",0)\"2012\",\n",
    "COALESCE(\"2013\",0)\"2013\",\n",
    "COALESCE(\"2014\",0)\"2014\",\n",
    "COALESCE(\"2015\",0)\"2015\",\n",
    "COALESCE(\"2016\",0)\"2016\",\n",
    "COALESCE(\"2017\",0)\"2017\",\n",
    "COALESCE(\"2018\",0)\"2018\",\n",
    "COALESCE(\"2019\",0)\"2019\",\n",
    "COALESCE(\"2020\",0)\"2020\"\n",
    "FROM crosstab($$\n",
    "\tSELECT country,year,COUNT(*) AS ct\n",
    "\tFROM acled\n",
    "\tWHERE\n",
    "\tnotes ILIKE '%drone%'\n",
    "\t\t\t  AND\n",
    "\t\t\t  sub_event_type IN ('Shelling/artillery/missile attack',\n",
    "\t\t\t\t   'Armed clash',\n",
    "\t\t\t\t   'Disrupted weapons use',\n",
    "\t\t\t\t   'Air/drone strike'\n",
    "\t\t\t\t  )\n",
    "\tGROUP BY 1,2\n",
    "\tORDER BY 1$$,\n",
    "\t$$ SELECT y FROM generate_series(2000,2020) y$$) \n",
    "AS ct(country text,\n",
    "\t  \"2000\" bigint,\n",
    "\t \"2001\" bigint,\n",
    "\t \"2002\" bigint,\n",
    "\t \"2003\" bigint,\n",
    "\t \"2004\" bigint,\n",
    "\t \"2005\" bigint,\n",
    "\t \"2006\" bigint,\n",
    "\t \"2007\" bigint,\n",
    "\t \"2008\" bigint,\n",
    "\t \"2009\" bigint,\n",
    "\t \"2010\" bigint,\n",
    "\t \"2011\" bigint,\n",
    "\t \"2012\" bigint,\n",
    "\t \"2013\" bigint,\n",
    "\t \"2014\" bigint,\n",
    "\t \"2015\" bigint,\n",
    "\t \"2016\" bigint,\n",
    "\t \"2017\" bigint,\n",
    "\t \"2018\" bigint,\n",
    "\t \"2019\" bigint,\n",
    "\t \"2020\" bigint)\"\"\",db)"
   ]
  },
  {
   "cell_type": "code",
   "execution_count": 24,
   "metadata": {},
   "outputs": [],
   "source": [
    "df5 = acled_drones.set_index('country').T"
   ]
  },
  {
   "cell_type": "code",
   "execution_count": 25,
   "metadata": {},
   "outputs": [
    {
     "output_type": "execute_result",
     "data": {
      "text/plain": [
       "2000      0\n",
       "2001      0\n",
       "2002      0\n",
       "2003      0\n",
       "2004      0\n",
       "2005      0\n",
       "2006      0\n",
       "2007      0\n",
       "2008      0\n",
       "2009      0\n",
       "2010      0\n",
       "2011      0\n",
       "2012      0\n",
       "2013      0\n",
       "2014      0\n",
       "2015      0\n",
       "2016      0\n",
       "2017    190\n",
       "2018    125\n",
       "2019    128\n",
       "2020     42\n",
       "Name: 0, dtype: object"
      ]
     },
     "metadata": {},
     "execution_count": 25
    }
   ],
   "source": [
    "acled_drones.iloc[0][1:22]"
   ]
  },
  {
   "cell_type": "code",
   "execution_count": 26,
   "metadata": {},
   "outputs": [
    {
     "output_type": "display_data",
     "data": {
      "application/vnd.plotly.v1+json": {
       "config": {
        "plotlyServerURL": "https://plot.ly"
       },
       "data": [
        {
         "hovertemplate": "variable=2000<br>country=%{x}<br>value=%{y}<extra></extra>",
         "legendgroup": "2000",
         "marker": {
          "color": "#636efa",
          "symbol": "circle"
         },
         "mode": "markers",
         "name": "2000",
         "orientation": "v",
         "showlegend": true,
         "type": "scatter",
         "x": [
          "Afghanistan",
          "Armenia",
          "Azerbaijan",
          "Burkina Faso",
          "Central African Republic",
          "Colombia",
          "Egypt",
          "Georgia",
          "India",
          "Iran",
          "Iraq",
          "Israel",
          "Jordan",
          "Lebanon",
          "Libya",
          "Mali",
          "Mexico",
          "Myanmar",
          "Niger",
          "Nigeria",
          "Pakistan",
          "Palestine",
          "Saudi Arabia",
          "Somalia",
          "South Sudan",
          "Sri Lanka",
          "Sudan",
          "Syria",
          "Turkey",
          "Ukraine",
          "United Arab Emirates",
          "Venezuela",
          "Yemen"
         ],
         "xaxis": "x",
         "y": [
          0,
          0,
          0,
          0,
          0,
          0,
          0,
          0,
          0,
          0,
          0,
          0,
          0,
          0,
          0,
          0,
          0,
          0,
          0,
          0,
          0,
          0,
          0,
          0,
          0,
          0,
          0,
          0,
          0,
          0,
          0,
          0,
          0
         ],
         "yaxis": "y"
        },
        {
         "hovertemplate": "variable=2001<br>country=%{x}<br>value=%{y}<extra></extra>",
         "legendgroup": "2001",
         "marker": {
          "color": "#EF553B",
          "symbol": "circle"
         },
         "mode": "markers",
         "name": "2001",
         "orientation": "v",
         "showlegend": true,
         "type": "scatter",
         "x": [
          "Afghanistan",
          "Armenia",
          "Azerbaijan",
          "Burkina Faso",
          "Central African Republic",
          "Colombia",
          "Egypt",
          "Georgia",
          "India",
          "Iran",
          "Iraq",
          "Israel",
          "Jordan",
          "Lebanon",
          "Libya",
          "Mali",
          "Mexico",
          "Myanmar",
          "Niger",
          "Nigeria",
          "Pakistan",
          "Palestine",
          "Saudi Arabia",
          "Somalia",
          "South Sudan",
          "Sri Lanka",
          "Sudan",
          "Syria",
          "Turkey",
          "Ukraine",
          "United Arab Emirates",
          "Venezuela",
          "Yemen"
         ],
         "xaxis": "x",
         "y": [
          0,
          0,
          0,
          0,
          0,
          0,
          0,
          0,
          0,
          0,
          0,
          0,
          0,
          0,
          0,
          0,
          0,
          0,
          0,
          0,
          0,
          0,
          0,
          0,
          0,
          0,
          0,
          0,
          0,
          0,
          0,
          0,
          0
         ],
         "yaxis": "y"
        },
        {
         "hovertemplate": "variable=2002<br>country=%{x}<br>value=%{y}<extra></extra>",
         "legendgroup": "2002",
         "marker": {
          "color": "#00cc96",
          "symbol": "circle"
         },
         "mode": "markers",
         "name": "2002",
         "orientation": "v",
         "showlegend": true,
         "type": "scatter",
         "x": [
          "Afghanistan",
          "Armenia",
          "Azerbaijan",
          "Burkina Faso",
          "Central African Republic",
          "Colombia",
          "Egypt",
          "Georgia",
          "India",
          "Iran",
          "Iraq",
          "Israel",
          "Jordan",
          "Lebanon",
          "Libya",
          "Mali",
          "Mexico",
          "Myanmar",
          "Niger",
          "Nigeria",
          "Pakistan",
          "Palestine",
          "Saudi Arabia",
          "Somalia",
          "South Sudan",
          "Sri Lanka",
          "Sudan",
          "Syria",
          "Turkey",
          "Ukraine",
          "United Arab Emirates",
          "Venezuela",
          "Yemen"
         ],
         "xaxis": "x",
         "y": [
          0,
          0,
          0,
          0,
          0,
          0,
          0,
          0,
          0,
          0,
          0,
          0,
          0,
          0,
          0,
          0,
          0,
          0,
          0,
          0,
          0,
          0,
          0,
          0,
          0,
          0,
          0,
          0,
          0,
          0,
          0,
          0,
          0
         ],
         "yaxis": "y"
        },
        {
         "hovertemplate": "variable=2003<br>country=%{x}<br>value=%{y}<extra></extra>",
         "legendgroup": "2003",
         "marker": {
          "color": "#ab63fa",
          "symbol": "circle"
         },
         "mode": "markers",
         "name": "2003",
         "orientation": "v",
         "showlegend": true,
         "type": "scatter",
         "x": [
          "Afghanistan",
          "Armenia",
          "Azerbaijan",
          "Burkina Faso",
          "Central African Republic",
          "Colombia",
          "Egypt",
          "Georgia",
          "India",
          "Iran",
          "Iraq",
          "Israel",
          "Jordan",
          "Lebanon",
          "Libya",
          "Mali",
          "Mexico",
          "Myanmar",
          "Niger",
          "Nigeria",
          "Pakistan",
          "Palestine",
          "Saudi Arabia",
          "Somalia",
          "South Sudan",
          "Sri Lanka",
          "Sudan",
          "Syria",
          "Turkey",
          "Ukraine",
          "United Arab Emirates",
          "Venezuela",
          "Yemen"
         ],
         "xaxis": "x",
         "y": [
          0,
          0,
          0,
          0,
          0,
          0,
          0,
          0,
          0,
          0,
          0,
          0,
          0,
          0,
          0,
          0,
          0,
          0,
          0,
          0,
          0,
          0,
          0,
          0,
          0,
          0,
          0,
          0,
          0,
          0,
          0,
          0,
          0
         ],
         "yaxis": "y"
        },
        {
         "hovertemplate": "variable=2004<br>country=%{x}<br>value=%{y}<extra></extra>",
         "legendgroup": "2004",
         "marker": {
          "color": "#FFA15A",
          "symbol": "circle"
         },
         "mode": "markers",
         "name": "2004",
         "orientation": "v",
         "showlegend": true,
         "type": "scatter",
         "x": [
          "Afghanistan",
          "Armenia",
          "Azerbaijan",
          "Burkina Faso",
          "Central African Republic",
          "Colombia",
          "Egypt",
          "Georgia",
          "India",
          "Iran",
          "Iraq",
          "Israel",
          "Jordan",
          "Lebanon",
          "Libya",
          "Mali",
          "Mexico",
          "Myanmar",
          "Niger",
          "Nigeria",
          "Pakistan",
          "Palestine",
          "Saudi Arabia",
          "Somalia",
          "South Sudan",
          "Sri Lanka",
          "Sudan",
          "Syria",
          "Turkey",
          "Ukraine",
          "United Arab Emirates",
          "Venezuela",
          "Yemen"
         ],
         "xaxis": "x",
         "y": [
          0,
          0,
          0,
          0,
          0,
          0,
          0,
          0,
          0,
          0,
          0,
          0,
          0,
          0,
          0,
          0,
          0,
          0,
          0,
          0,
          0,
          0,
          0,
          0,
          0,
          0,
          0,
          0,
          0,
          0,
          0,
          0,
          0
         ],
         "yaxis": "y"
        },
        {
         "hovertemplate": "variable=2005<br>country=%{x}<br>value=%{y}<extra></extra>",
         "legendgroup": "2005",
         "marker": {
          "color": "#19d3f3",
          "symbol": "circle"
         },
         "mode": "markers",
         "name": "2005",
         "orientation": "v",
         "showlegend": true,
         "type": "scatter",
         "x": [
          "Afghanistan",
          "Armenia",
          "Azerbaijan",
          "Burkina Faso",
          "Central African Republic",
          "Colombia",
          "Egypt",
          "Georgia",
          "India",
          "Iran",
          "Iraq",
          "Israel",
          "Jordan",
          "Lebanon",
          "Libya",
          "Mali",
          "Mexico",
          "Myanmar",
          "Niger",
          "Nigeria",
          "Pakistan",
          "Palestine",
          "Saudi Arabia",
          "Somalia",
          "South Sudan",
          "Sri Lanka",
          "Sudan",
          "Syria",
          "Turkey",
          "Ukraine",
          "United Arab Emirates",
          "Venezuela",
          "Yemen"
         ],
         "xaxis": "x",
         "y": [
          0,
          0,
          0,
          0,
          0,
          0,
          0,
          0,
          0,
          0,
          0,
          0,
          0,
          0,
          0,
          0,
          0,
          0,
          0,
          0,
          0,
          0,
          0,
          0,
          0,
          0,
          0,
          0,
          0,
          0,
          0,
          0,
          0
         ],
         "yaxis": "y"
        },
        {
         "hovertemplate": "variable=2006<br>country=%{x}<br>value=%{y}<extra></extra>",
         "legendgroup": "2006",
         "marker": {
          "color": "#FF6692",
          "symbol": "circle"
         },
         "mode": "markers",
         "name": "2006",
         "orientation": "v",
         "showlegend": true,
         "type": "scatter",
         "x": [
          "Afghanistan",
          "Armenia",
          "Azerbaijan",
          "Burkina Faso",
          "Central African Republic",
          "Colombia",
          "Egypt",
          "Georgia",
          "India",
          "Iran",
          "Iraq",
          "Israel",
          "Jordan",
          "Lebanon",
          "Libya",
          "Mali",
          "Mexico",
          "Myanmar",
          "Niger",
          "Nigeria",
          "Pakistan",
          "Palestine",
          "Saudi Arabia",
          "Somalia",
          "South Sudan",
          "Sri Lanka",
          "Sudan",
          "Syria",
          "Turkey",
          "Ukraine",
          "United Arab Emirates",
          "Venezuela",
          "Yemen"
         ],
         "xaxis": "x",
         "y": [
          0,
          0,
          0,
          0,
          0,
          0,
          0,
          0,
          0,
          0,
          0,
          0,
          0,
          0,
          0,
          0,
          0,
          0,
          0,
          0,
          0,
          0,
          0,
          0,
          0,
          0,
          0,
          0,
          0,
          0,
          0,
          0,
          0
         ],
         "yaxis": "y"
        },
        {
         "hovertemplate": "variable=2007<br>country=%{x}<br>value=%{y}<extra></extra>",
         "legendgroup": "2007",
         "marker": {
          "color": "#B6E880",
          "symbol": "circle"
         },
         "mode": "markers",
         "name": "2007",
         "orientation": "v",
         "showlegend": true,
         "type": "scatter",
         "x": [
          "Afghanistan",
          "Armenia",
          "Azerbaijan",
          "Burkina Faso",
          "Central African Republic",
          "Colombia",
          "Egypt",
          "Georgia",
          "India",
          "Iran",
          "Iraq",
          "Israel",
          "Jordan",
          "Lebanon",
          "Libya",
          "Mali",
          "Mexico",
          "Myanmar",
          "Niger",
          "Nigeria",
          "Pakistan",
          "Palestine",
          "Saudi Arabia",
          "Somalia",
          "South Sudan",
          "Sri Lanka",
          "Sudan",
          "Syria",
          "Turkey",
          "Ukraine",
          "United Arab Emirates",
          "Venezuela",
          "Yemen"
         ],
         "xaxis": "x",
         "y": [
          0,
          0,
          0,
          0,
          0,
          0,
          0,
          0,
          0,
          0,
          0,
          0,
          0,
          0,
          0,
          0,
          0,
          0,
          0,
          0,
          0,
          0,
          0,
          1,
          0,
          0,
          0,
          0,
          0,
          0,
          0,
          0,
          0
         ],
         "yaxis": "y"
        },
        {
         "hovertemplate": "variable=2008<br>country=%{x}<br>value=%{y}<extra></extra>",
         "legendgroup": "2008",
         "marker": {
          "color": "#FF97FF",
          "symbol": "circle"
         },
         "mode": "markers",
         "name": "2008",
         "orientation": "v",
         "showlegend": true,
         "type": "scatter",
         "x": [
          "Afghanistan",
          "Armenia",
          "Azerbaijan",
          "Burkina Faso",
          "Central African Republic",
          "Colombia",
          "Egypt",
          "Georgia",
          "India",
          "Iran",
          "Iraq",
          "Israel",
          "Jordan",
          "Lebanon",
          "Libya",
          "Mali",
          "Mexico",
          "Myanmar",
          "Niger",
          "Nigeria",
          "Pakistan",
          "Palestine",
          "Saudi Arabia",
          "Somalia",
          "South Sudan",
          "Sri Lanka",
          "Sudan",
          "Syria",
          "Turkey",
          "Ukraine",
          "United Arab Emirates",
          "Venezuela",
          "Yemen"
         ],
         "xaxis": "x",
         "y": [
          0,
          0,
          0,
          0,
          0,
          0,
          0,
          0,
          0,
          0,
          0,
          0,
          0,
          0,
          0,
          0,
          0,
          0,
          0,
          0,
          0,
          0,
          0,
          0,
          0,
          0,
          2,
          0,
          0,
          0,
          0,
          0,
          0
         ],
         "yaxis": "y"
        },
        {
         "hovertemplate": "variable=2009<br>country=%{x}<br>value=%{y}<extra></extra>",
         "legendgroup": "2009",
         "marker": {
          "color": "#FECB52",
          "symbol": "circle"
         },
         "mode": "markers",
         "name": "2009",
         "orientation": "v",
         "showlegend": true,
         "type": "scatter",
         "x": [
          "Afghanistan",
          "Armenia",
          "Azerbaijan",
          "Burkina Faso",
          "Central African Republic",
          "Colombia",
          "Egypt",
          "Georgia",
          "India",
          "Iran",
          "Iraq",
          "Israel",
          "Jordan",
          "Lebanon",
          "Libya",
          "Mali",
          "Mexico",
          "Myanmar",
          "Niger",
          "Nigeria",
          "Pakistan",
          "Palestine",
          "Saudi Arabia",
          "Somalia",
          "South Sudan",
          "Sri Lanka",
          "Sudan",
          "Syria",
          "Turkey",
          "Ukraine",
          "United Arab Emirates",
          "Venezuela",
          "Yemen"
         ],
         "xaxis": "x",
         "y": [
          0,
          0,
          0,
          0,
          0,
          0,
          0,
          0,
          0,
          0,
          0,
          0,
          0,
          0,
          0,
          0,
          0,
          0,
          0,
          0,
          0,
          0,
          0,
          1,
          0,
          0,
          0,
          0,
          0,
          0,
          0,
          0,
          0
         ],
         "yaxis": "y"
        },
        {
         "hovertemplate": "variable=2010<br>country=%{x}<br>value=%{y}<extra></extra>",
         "legendgroup": "2010",
         "marker": {
          "color": "#636efa",
          "symbol": "circle"
         },
         "mode": "markers",
         "name": "2010",
         "orientation": "v",
         "showlegend": true,
         "type": "scatter",
         "x": [
          "Afghanistan",
          "Armenia",
          "Azerbaijan",
          "Burkina Faso",
          "Central African Republic",
          "Colombia",
          "Egypt",
          "Georgia",
          "India",
          "Iran",
          "Iraq",
          "Israel",
          "Jordan",
          "Lebanon",
          "Libya",
          "Mali",
          "Mexico",
          "Myanmar",
          "Niger",
          "Nigeria",
          "Pakistan",
          "Palestine",
          "Saudi Arabia",
          "Somalia",
          "South Sudan",
          "Sri Lanka",
          "Sudan",
          "Syria",
          "Turkey",
          "Ukraine",
          "United Arab Emirates",
          "Venezuela",
          "Yemen"
         ],
         "xaxis": "x",
         "y": [
          0,
          0,
          0,
          0,
          0,
          0,
          0,
          0,
          0,
          0,
          0,
          0,
          0,
          0,
          0,
          0,
          0,
          0,
          0,
          0,
          129,
          0,
          0,
          0,
          0,
          0,
          0,
          0,
          0,
          0,
          0,
          0,
          0
         ],
         "yaxis": "y"
        },
        {
         "hovertemplate": "variable=2011<br>country=%{x}<br>value=%{y}<extra></extra>",
         "legendgroup": "2011",
         "marker": {
          "color": "#EF553B",
          "symbol": "circle"
         },
         "mode": "markers",
         "name": "2011",
         "orientation": "v",
         "showlegend": true,
         "type": "scatter",
         "x": [
          "Afghanistan",
          "Armenia",
          "Azerbaijan",
          "Burkina Faso",
          "Central African Republic",
          "Colombia",
          "Egypt",
          "Georgia",
          "India",
          "Iran",
          "Iraq",
          "Israel",
          "Jordan",
          "Lebanon",
          "Libya",
          "Mali",
          "Mexico",
          "Myanmar",
          "Niger",
          "Nigeria",
          "Pakistan",
          "Palestine",
          "Saudi Arabia",
          "Somalia",
          "South Sudan",
          "Sri Lanka",
          "Sudan",
          "Syria",
          "Turkey",
          "Ukraine",
          "United Arab Emirates",
          "Venezuela",
          "Yemen"
         ],
         "xaxis": "x",
         "y": [
          0,
          0,
          0,
          0,
          0,
          0,
          0,
          0,
          0,
          0,
          0,
          0,
          0,
          0,
          1,
          0,
          0,
          0,
          0,
          0,
          79,
          0,
          0,
          7,
          0,
          0,
          0,
          0,
          0,
          0,
          0,
          0,
          0
         ],
         "yaxis": "y"
        },
        {
         "hovertemplate": "variable=2012<br>country=%{x}<br>value=%{y}<extra></extra>",
         "legendgroup": "2012",
         "marker": {
          "color": "#00cc96",
          "symbol": "circle"
         },
         "mode": "markers",
         "name": "2012",
         "orientation": "v",
         "showlegend": true,
         "type": "scatter",
         "x": [
          "Afghanistan",
          "Armenia",
          "Azerbaijan",
          "Burkina Faso",
          "Central African Republic",
          "Colombia",
          "Egypt",
          "Georgia",
          "India",
          "Iran",
          "Iraq",
          "Israel",
          "Jordan",
          "Lebanon",
          "Libya",
          "Mali",
          "Mexico",
          "Myanmar",
          "Niger",
          "Nigeria",
          "Pakistan",
          "Palestine",
          "Saudi Arabia",
          "Somalia",
          "South Sudan",
          "Sri Lanka",
          "Sudan",
          "Syria",
          "Turkey",
          "Ukraine",
          "United Arab Emirates",
          "Venezuela",
          "Yemen"
         ],
         "xaxis": "x",
         "y": [
          0,
          0,
          0,
          0,
          0,
          0,
          0,
          0,
          0,
          0,
          0,
          0,
          0,
          0,
          0,
          1,
          0,
          0,
          0,
          0,
          71,
          0,
          0,
          5,
          1,
          0,
          0,
          0,
          0,
          0,
          0,
          0,
          0
         ],
         "yaxis": "y"
        },
        {
         "hovertemplate": "variable=2013<br>country=%{x}<br>value=%{y}<extra></extra>",
         "legendgroup": "2013",
         "marker": {
          "color": "#ab63fa",
          "symbol": "circle"
         },
         "mode": "markers",
         "name": "2013",
         "orientation": "v",
         "showlegend": true,
         "type": "scatter",
         "x": [
          "Afghanistan",
          "Armenia",
          "Azerbaijan",
          "Burkina Faso",
          "Central African Republic",
          "Colombia",
          "Egypt",
          "Georgia",
          "India",
          "Iran",
          "Iraq",
          "Israel",
          "Jordan",
          "Lebanon",
          "Libya",
          "Mali",
          "Mexico",
          "Myanmar",
          "Niger",
          "Nigeria",
          "Pakistan",
          "Palestine",
          "Saudi Arabia",
          "Somalia",
          "South Sudan",
          "Sri Lanka",
          "Sudan",
          "Syria",
          "Turkey",
          "Ukraine",
          "United Arab Emirates",
          "Venezuela",
          "Yemen"
         ],
         "xaxis": "x",
         "y": [
          0,
          0,
          0,
          0,
          0,
          0,
          1,
          0,
          0,
          0,
          0,
          0,
          0,
          0,
          1,
          0,
          0,
          0,
          0,
          0,
          28,
          0,
          0,
          2,
          0,
          0,
          1,
          0,
          0,
          0,
          0,
          0,
          0
         ],
         "yaxis": "y"
        },
        {
         "hovertemplate": "variable=2014<br>country=%{x}<br>value=%{y}<extra></extra>",
         "legendgroup": "2014",
         "marker": {
          "color": "#FFA15A",
          "symbol": "circle"
         },
         "mode": "markers",
         "name": "2014",
         "orientation": "v",
         "showlegend": true,
         "type": "scatter",
         "x": [
          "Afghanistan",
          "Armenia",
          "Azerbaijan",
          "Burkina Faso",
          "Central African Republic",
          "Colombia",
          "Egypt",
          "Georgia",
          "India",
          "Iran",
          "Iraq",
          "Israel",
          "Jordan",
          "Lebanon",
          "Libya",
          "Mali",
          "Mexico",
          "Myanmar",
          "Niger",
          "Nigeria",
          "Pakistan",
          "Palestine",
          "Saudi Arabia",
          "Somalia",
          "South Sudan",
          "Sri Lanka",
          "Sudan",
          "Syria",
          "Turkey",
          "Ukraine",
          "United Arab Emirates",
          "Venezuela",
          "Yemen"
         ],
         "xaxis": "x",
         "y": [
          0,
          0,
          0,
          0,
          0,
          0,
          0,
          0,
          0,
          0,
          0,
          0,
          0,
          0,
          0,
          0,
          0,
          0,
          0,
          0,
          37,
          0,
          0,
          5,
          0,
          0,
          1,
          0,
          0,
          0,
          0,
          0,
          0
         ],
         "yaxis": "y"
        },
        {
         "hovertemplate": "variable=2015<br>country=%{x}<br>value=%{y}<extra></extra>",
         "legendgroup": "2015",
         "marker": {
          "color": "#19d3f3",
          "symbol": "circle"
         },
         "mode": "markers",
         "name": "2015",
         "orientation": "v",
         "showlegend": true,
         "type": "scatter",
         "x": [
          "Afghanistan",
          "Armenia",
          "Azerbaijan",
          "Burkina Faso",
          "Central African Republic",
          "Colombia",
          "Egypt",
          "Georgia",
          "India",
          "Iran",
          "Iraq",
          "Israel",
          "Jordan",
          "Lebanon",
          "Libya",
          "Mali",
          "Mexico",
          "Myanmar",
          "Niger",
          "Nigeria",
          "Pakistan",
          "Palestine",
          "Saudi Arabia",
          "Somalia",
          "South Sudan",
          "Sri Lanka",
          "Sudan",
          "Syria",
          "Turkey",
          "Ukraine",
          "United Arab Emirates",
          "Venezuela",
          "Yemen"
         ],
         "xaxis": "x",
         "y": [
          0,
          0,
          0,
          0,
          0,
          0,
          0,
          0,
          0,
          0,
          0,
          0,
          0,
          0,
          1,
          0,
          0,
          0,
          0,
          0,
          22,
          0,
          1,
          14,
          0,
          0,
          2,
          0,
          0,
          0,
          0,
          0,
          46
         ],
         "yaxis": "y"
        },
        {
         "hovertemplate": "variable=2016<br>country=%{x}<br>value=%{y}<extra></extra>",
         "legendgroup": "2016",
         "marker": {
          "color": "#FF6692",
          "symbol": "circle"
         },
         "mode": "markers",
         "name": "2016",
         "orientation": "v",
         "showlegend": true,
         "type": "scatter",
         "x": [
          "Afghanistan",
          "Armenia",
          "Azerbaijan",
          "Burkina Faso",
          "Central African Republic",
          "Colombia",
          "Egypt",
          "Georgia",
          "India",
          "Iran",
          "Iraq",
          "Israel",
          "Jordan",
          "Lebanon",
          "Libya",
          "Mali",
          "Mexico",
          "Myanmar",
          "Niger",
          "Nigeria",
          "Pakistan",
          "Palestine",
          "Saudi Arabia",
          "Somalia",
          "South Sudan",
          "Sri Lanka",
          "Sudan",
          "Syria",
          "Turkey",
          "Ukraine",
          "United Arab Emirates",
          "Venezuela",
          "Yemen"
         ],
         "xaxis": "x",
         "y": [
          0,
          0,
          0,
          0,
          0,
          0,
          0,
          0,
          0,
          0,
          79,
          0,
          1,
          0,
          6,
          0,
          0,
          0,
          0,
          0,
          4,
          1,
          0,
          19,
          0,
          0,
          0,
          0,
          7,
          0,
          0,
          0,
          47
         ],
         "yaxis": "y"
        },
        {
         "hovertemplate": "variable=2017<br>country=%{x}<br>value=%{y}<extra></extra>",
         "legendgroup": "2017",
         "marker": {
          "color": "#B6E880",
          "symbol": "circle"
         },
         "mode": "markers",
         "name": "2017",
         "orientation": "v",
         "showlegend": true,
         "type": "scatter",
         "x": [
          "Afghanistan",
          "Armenia",
          "Azerbaijan",
          "Burkina Faso",
          "Central African Republic",
          "Colombia",
          "Egypt",
          "Georgia",
          "India",
          "Iran",
          "Iraq",
          "Israel",
          "Jordan",
          "Lebanon",
          "Libya",
          "Mali",
          "Mexico",
          "Myanmar",
          "Niger",
          "Nigeria",
          "Pakistan",
          "Palestine",
          "Saudi Arabia",
          "Somalia",
          "South Sudan",
          "Sri Lanka",
          "Sudan",
          "Syria",
          "Turkey",
          "Ukraine",
          "United Arab Emirates",
          "Venezuela",
          "Yemen"
         ],
         "xaxis": "x",
         "y": [
          190,
          0,
          0,
          0,
          0,
          0,
          6,
          0,
          0,
          0,
          71,
          0,
          1,
          0,
          3,
          0,
          0,
          0,
          0,
          0,
          10,
          2,
          1,
          17,
          0,
          0,
          0,
          128,
          1,
          0,
          0,
          0,
          78
         ],
         "yaxis": "y"
        },
        {
         "hovertemplate": "variable=2018<br>country=%{x}<br>value=%{y}<extra></extra>",
         "legendgroup": "2018",
         "marker": {
          "color": "#FF97FF",
          "symbol": "circle"
         },
         "mode": "markers",
         "name": "2018",
         "orientation": "v",
         "showlegend": true,
         "type": "scatter",
         "x": [
          "Afghanistan",
          "Armenia",
          "Azerbaijan",
          "Burkina Faso",
          "Central African Republic",
          "Colombia",
          "Egypt",
          "Georgia",
          "India",
          "Iran",
          "Iraq",
          "Israel",
          "Jordan",
          "Lebanon",
          "Libya",
          "Mali",
          "Mexico",
          "Myanmar",
          "Niger",
          "Nigeria",
          "Pakistan",
          "Palestine",
          "Saudi Arabia",
          "Somalia",
          "South Sudan",
          "Sri Lanka",
          "Sudan",
          "Syria",
          "Turkey",
          "Ukraine",
          "United Arab Emirates",
          "Venezuela",
          "Yemen"
         ],
         "xaxis": "x",
         "y": [
          125,
          1,
          1,
          0,
          0,
          2,
          0,
          0,
          0,
          0,
          12,
          2,
          0,
          2,
          10,
          1,
          2,
          0,
          0,
          1,
          5,
          20,
          12,
          17,
          0,
          0,
          0,
          77,
          7,
          15,
          1,
          1,
          138
         ],
         "yaxis": "y"
        },
        {
         "hovertemplate": "variable=2019<br>country=%{x}<br>value=%{y}<extra></extra>",
         "legendgroup": "2019",
         "marker": {
          "color": "#FECB52",
          "symbol": "circle"
         },
         "mode": "markers",
         "name": "2019",
         "orientation": "v",
         "showlegend": true,
         "type": "scatter",
         "x": [
          "Afghanistan",
          "Armenia",
          "Azerbaijan",
          "Burkina Faso",
          "Central African Republic",
          "Colombia",
          "Egypt",
          "Georgia",
          "India",
          "Iran",
          "Iraq",
          "Israel",
          "Jordan",
          "Lebanon",
          "Libya",
          "Mali",
          "Mexico",
          "Myanmar",
          "Niger",
          "Nigeria",
          "Pakistan",
          "Palestine",
          "Saudi Arabia",
          "Somalia",
          "South Sudan",
          "Sri Lanka",
          "Sudan",
          "Syria",
          "Turkey",
          "Ukraine",
          "United Arab Emirates",
          "Venezuela",
          "Yemen"
         ],
         "xaxis": "x",
         "y": [
          128,
          0,
          0,
          0,
          0,
          0,
          11,
          1,
          4,
          0,
          17,
          5,
          0,
          6,
          29,
          0,
          0,
          0,
          0,
          0,
          1,
          14,
          84,
          5,
          0,
          3,
          0,
          108,
          17,
          36,
          0,
          0,
          108
         ],
         "yaxis": "y"
        },
        {
         "hovertemplate": "variable=2020<br>country=%{x}<br>value=%{y}<extra></extra>",
         "legendgroup": "2020",
         "marker": {
          "color": "#636efa",
          "symbol": "circle"
         },
         "mode": "markers",
         "name": "2020",
         "orientation": "v",
         "showlegend": true,
         "type": "scatter",
         "x": [
          "Afghanistan",
          "Armenia",
          "Azerbaijan",
          "Burkina Faso",
          "Central African Republic",
          "Colombia",
          "Egypt",
          "Georgia",
          "India",
          "Iran",
          "Iraq",
          "Israel",
          "Jordan",
          "Lebanon",
          "Libya",
          "Mali",
          "Mexico",
          "Myanmar",
          "Niger",
          "Nigeria",
          "Pakistan",
          "Palestine",
          "Saudi Arabia",
          "Somalia",
          "South Sudan",
          "Sri Lanka",
          "Sudan",
          "Syria",
          "Turkey",
          "Ukraine",
          "United Arab Emirates",
          "Venezuela",
          "Yemen"
         ],
         "xaxis": "x",
         "y": [
          42,
          4,
          21,
          2,
          0,
          0,
          2,
          0,
          10,
          1,
          41,
          2,
          0,
          3,
          83,
          8,
          0,
          2,
          2,
          2,
          1,
          6,
          52,
          0,
          0,
          0,
          0,
          179,
          11,
          43,
          0,
          0,
          184
         ],
         "yaxis": "y"
        }
       ],
       "layout": {
        "legend": {
         "title": {
          "text": "variable"
         },
         "tracegroupgap": 0
        },
        "template": {
         "data": {
          "bar": [
           {
            "error_x": {
             "color": "#2a3f5f"
            },
            "error_y": {
             "color": "#2a3f5f"
            },
            "marker": {
             "line": {
              "color": "#E5ECF6",
              "width": 0.5
             }
            },
            "type": "bar"
           }
          ],
          "barpolar": [
           {
            "marker": {
             "line": {
              "color": "#E5ECF6",
              "width": 0.5
             }
            },
            "type": "barpolar"
           }
          ],
          "carpet": [
           {
            "aaxis": {
             "endlinecolor": "#2a3f5f",
             "gridcolor": "white",
             "linecolor": "white",
             "minorgridcolor": "white",
             "startlinecolor": "#2a3f5f"
            },
            "baxis": {
             "endlinecolor": "#2a3f5f",
             "gridcolor": "white",
             "linecolor": "white",
             "minorgridcolor": "white",
             "startlinecolor": "#2a3f5f"
            },
            "type": "carpet"
           }
          ],
          "choropleth": [
           {
            "colorbar": {
             "outlinewidth": 0,
             "ticks": ""
            },
            "type": "choropleth"
           }
          ],
          "contour": [
           {
            "colorbar": {
             "outlinewidth": 0,
             "ticks": ""
            },
            "colorscale": [
             [
              0,
              "#0d0887"
             ],
             [
              0.1111111111111111,
              "#46039f"
             ],
             [
              0.2222222222222222,
              "#7201a8"
             ],
             [
              0.3333333333333333,
              "#9c179e"
             ],
             [
              0.4444444444444444,
              "#bd3786"
             ],
             [
              0.5555555555555556,
              "#d8576b"
             ],
             [
              0.6666666666666666,
              "#ed7953"
             ],
             [
              0.7777777777777778,
              "#fb9f3a"
             ],
             [
              0.8888888888888888,
              "#fdca26"
             ],
             [
              1,
              "#f0f921"
             ]
            ],
            "type": "contour"
           }
          ],
          "contourcarpet": [
           {
            "colorbar": {
             "outlinewidth": 0,
             "ticks": ""
            },
            "type": "contourcarpet"
           }
          ],
          "heatmap": [
           {
            "colorbar": {
             "outlinewidth": 0,
             "ticks": ""
            },
            "colorscale": [
             [
              0,
              "#0d0887"
             ],
             [
              0.1111111111111111,
              "#46039f"
             ],
             [
              0.2222222222222222,
              "#7201a8"
             ],
             [
              0.3333333333333333,
              "#9c179e"
             ],
             [
              0.4444444444444444,
              "#bd3786"
             ],
             [
              0.5555555555555556,
              "#d8576b"
             ],
             [
              0.6666666666666666,
              "#ed7953"
             ],
             [
              0.7777777777777778,
              "#fb9f3a"
             ],
             [
              0.8888888888888888,
              "#fdca26"
             ],
             [
              1,
              "#f0f921"
             ]
            ],
            "type": "heatmap"
           }
          ],
          "heatmapgl": [
           {
            "colorbar": {
             "outlinewidth": 0,
             "ticks": ""
            },
            "colorscale": [
             [
              0,
              "#0d0887"
             ],
             [
              0.1111111111111111,
              "#46039f"
             ],
             [
              0.2222222222222222,
              "#7201a8"
             ],
             [
              0.3333333333333333,
              "#9c179e"
             ],
             [
              0.4444444444444444,
              "#bd3786"
             ],
             [
              0.5555555555555556,
              "#d8576b"
             ],
             [
              0.6666666666666666,
              "#ed7953"
             ],
             [
              0.7777777777777778,
              "#fb9f3a"
             ],
             [
              0.8888888888888888,
              "#fdca26"
             ],
             [
              1,
              "#f0f921"
             ]
            ],
            "type": "heatmapgl"
           }
          ],
          "histogram": [
           {
            "marker": {
             "colorbar": {
              "outlinewidth": 0,
              "ticks": ""
             }
            },
            "type": "histogram"
           }
          ],
          "histogram2d": [
           {
            "colorbar": {
             "outlinewidth": 0,
             "ticks": ""
            },
            "colorscale": [
             [
              0,
              "#0d0887"
             ],
             [
              0.1111111111111111,
              "#46039f"
             ],
             [
              0.2222222222222222,
              "#7201a8"
             ],
             [
              0.3333333333333333,
              "#9c179e"
             ],
             [
              0.4444444444444444,
              "#bd3786"
             ],
             [
              0.5555555555555556,
              "#d8576b"
             ],
             [
              0.6666666666666666,
              "#ed7953"
             ],
             [
              0.7777777777777778,
              "#fb9f3a"
             ],
             [
              0.8888888888888888,
              "#fdca26"
             ],
             [
              1,
              "#f0f921"
             ]
            ],
            "type": "histogram2d"
           }
          ],
          "histogram2dcontour": [
           {
            "colorbar": {
             "outlinewidth": 0,
             "ticks": ""
            },
            "colorscale": [
             [
              0,
              "#0d0887"
             ],
             [
              0.1111111111111111,
              "#46039f"
             ],
             [
              0.2222222222222222,
              "#7201a8"
             ],
             [
              0.3333333333333333,
              "#9c179e"
             ],
             [
              0.4444444444444444,
              "#bd3786"
             ],
             [
              0.5555555555555556,
              "#d8576b"
             ],
             [
              0.6666666666666666,
              "#ed7953"
             ],
             [
              0.7777777777777778,
              "#fb9f3a"
             ],
             [
              0.8888888888888888,
              "#fdca26"
             ],
             [
              1,
              "#f0f921"
             ]
            ],
            "type": "histogram2dcontour"
           }
          ],
          "mesh3d": [
           {
            "colorbar": {
             "outlinewidth": 0,
             "ticks": ""
            },
            "type": "mesh3d"
           }
          ],
          "parcoords": [
           {
            "line": {
             "colorbar": {
              "outlinewidth": 0,
              "ticks": ""
             }
            },
            "type": "parcoords"
           }
          ],
          "pie": [
           {
            "automargin": true,
            "type": "pie"
           }
          ],
          "scatter": [
           {
            "marker": {
             "colorbar": {
              "outlinewidth": 0,
              "ticks": ""
             }
            },
            "type": "scatter"
           }
          ],
          "scatter3d": [
           {
            "line": {
             "colorbar": {
              "outlinewidth": 0,
              "ticks": ""
             }
            },
            "marker": {
             "colorbar": {
              "outlinewidth": 0,
              "ticks": ""
             }
            },
            "type": "scatter3d"
           }
          ],
          "scattercarpet": [
           {
            "marker": {
             "colorbar": {
              "outlinewidth": 0,
              "ticks": ""
             }
            },
            "type": "scattercarpet"
           }
          ],
          "scattergeo": [
           {
            "marker": {
             "colorbar": {
              "outlinewidth": 0,
              "ticks": ""
             }
            },
            "type": "scattergeo"
           }
          ],
          "scattergl": [
           {
            "marker": {
             "colorbar": {
              "outlinewidth": 0,
              "ticks": ""
             }
            },
            "type": "scattergl"
           }
          ],
          "scattermapbox": [
           {
            "marker": {
             "colorbar": {
              "outlinewidth": 0,
              "ticks": ""
             }
            },
            "type": "scattermapbox"
           }
          ],
          "scatterpolar": [
           {
            "marker": {
             "colorbar": {
              "outlinewidth": 0,
              "ticks": ""
             }
            },
            "type": "scatterpolar"
           }
          ],
          "scatterpolargl": [
           {
            "marker": {
             "colorbar": {
              "outlinewidth": 0,
              "ticks": ""
             }
            },
            "type": "scatterpolargl"
           }
          ],
          "scatterternary": [
           {
            "marker": {
             "colorbar": {
              "outlinewidth": 0,
              "ticks": ""
             }
            },
            "type": "scatterternary"
           }
          ],
          "surface": [
           {
            "colorbar": {
             "outlinewidth": 0,
             "ticks": ""
            },
            "colorscale": [
             [
              0,
              "#0d0887"
             ],
             [
              0.1111111111111111,
              "#46039f"
             ],
             [
              0.2222222222222222,
              "#7201a8"
             ],
             [
              0.3333333333333333,
              "#9c179e"
             ],
             [
              0.4444444444444444,
              "#bd3786"
             ],
             [
              0.5555555555555556,
              "#d8576b"
             ],
             [
              0.6666666666666666,
              "#ed7953"
             ],
             [
              0.7777777777777778,
              "#fb9f3a"
             ],
             [
              0.8888888888888888,
              "#fdca26"
             ],
             [
              1,
              "#f0f921"
             ]
            ],
            "type": "surface"
           }
          ],
          "table": [
           {
            "cells": {
             "fill": {
              "color": "#EBF0F8"
             },
             "line": {
              "color": "white"
             }
            },
            "header": {
             "fill": {
              "color": "#C8D4E3"
             },
             "line": {
              "color": "white"
             }
            },
            "type": "table"
           }
          ]
         },
         "layout": {
          "annotationdefaults": {
           "arrowcolor": "#2a3f5f",
           "arrowhead": 0,
           "arrowwidth": 1
          },
          "autotypenumbers": "strict",
          "coloraxis": {
           "colorbar": {
            "outlinewidth": 0,
            "ticks": ""
           }
          },
          "colorscale": {
           "diverging": [
            [
             0,
             "#8e0152"
            ],
            [
             0.1,
             "#c51b7d"
            ],
            [
             0.2,
             "#de77ae"
            ],
            [
             0.3,
             "#f1b6da"
            ],
            [
             0.4,
             "#fde0ef"
            ],
            [
             0.5,
             "#f7f7f7"
            ],
            [
             0.6,
             "#e6f5d0"
            ],
            [
             0.7,
             "#b8e186"
            ],
            [
             0.8,
             "#7fbc41"
            ],
            [
             0.9,
             "#4d9221"
            ],
            [
             1,
             "#276419"
            ]
           ],
           "sequential": [
            [
             0,
             "#0d0887"
            ],
            [
             0.1111111111111111,
             "#46039f"
            ],
            [
             0.2222222222222222,
             "#7201a8"
            ],
            [
             0.3333333333333333,
             "#9c179e"
            ],
            [
             0.4444444444444444,
             "#bd3786"
            ],
            [
             0.5555555555555556,
             "#d8576b"
            ],
            [
             0.6666666666666666,
             "#ed7953"
            ],
            [
             0.7777777777777778,
             "#fb9f3a"
            ],
            [
             0.8888888888888888,
             "#fdca26"
            ],
            [
             1,
             "#f0f921"
            ]
           ],
           "sequentialminus": [
            [
             0,
             "#0d0887"
            ],
            [
             0.1111111111111111,
             "#46039f"
            ],
            [
             0.2222222222222222,
             "#7201a8"
            ],
            [
             0.3333333333333333,
             "#9c179e"
            ],
            [
             0.4444444444444444,
             "#bd3786"
            ],
            [
             0.5555555555555556,
             "#d8576b"
            ],
            [
             0.6666666666666666,
             "#ed7953"
            ],
            [
             0.7777777777777778,
             "#fb9f3a"
            ],
            [
             0.8888888888888888,
             "#fdca26"
            ],
            [
             1,
             "#f0f921"
            ]
           ]
          },
          "colorway": [
           "#636efa",
           "#EF553B",
           "#00cc96",
           "#ab63fa",
           "#FFA15A",
           "#19d3f3",
           "#FF6692",
           "#B6E880",
           "#FF97FF",
           "#FECB52"
          ],
          "font": {
           "color": "#2a3f5f"
          },
          "geo": {
           "bgcolor": "white",
           "lakecolor": "white",
           "landcolor": "#E5ECF6",
           "showlakes": true,
           "showland": true,
           "subunitcolor": "white"
          },
          "hoverlabel": {
           "align": "left"
          },
          "hovermode": "closest",
          "mapbox": {
           "style": "light"
          },
          "paper_bgcolor": "white",
          "plot_bgcolor": "#E5ECF6",
          "polar": {
           "angularaxis": {
            "gridcolor": "white",
            "linecolor": "white",
            "ticks": ""
           },
           "bgcolor": "#E5ECF6",
           "radialaxis": {
            "gridcolor": "white",
            "linecolor": "white",
            "ticks": ""
           }
          },
          "scene": {
           "xaxis": {
            "backgroundcolor": "#E5ECF6",
            "gridcolor": "white",
            "gridwidth": 2,
            "linecolor": "white",
            "showbackground": true,
            "ticks": "",
            "zerolinecolor": "white"
           },
           "yaxis": {
            "backgroundcolor": "#E5ECF6",
            "gridcolor": "white",
            "gridwidth": 2,
            "linecolor": "white",
            "showbackground": true,
            "ticks": "",
            "zerolinecolor": "white"
           },
           "zaxis": {
            "backgroundcolor": "#E5ECF6",
            "gridcolor": "white",
            "gridwidth": 2,
            "linecolor": "white",
            "showbackground": true,
            "ticks": "",
            "zerolinecolor": "white"
           }
          },
          "shapedefaults": {
           "line": {
            "color": "#2a3f5f"
           }
          },
          "ternary": {
           "aaxis": {
            "gridcolor": "white",
            "linecolor": "white",
            "ticks": ""
           },
           "baxis": {
            "gridcolor": "white",
            "linecolor": "white",
            "ticks": ""
           },
           "bgcolor": "#E5ECF6",
           "caxis": {
            "gridcolor": "white",
            "linecolor": "white",
            "ticks": ""
           }
          },
          "title": {
           "x": 0.05
          },
          "xaxis": {
           "automargin": true,
           "gridcolor": "white",
           "linecolor": "white",
           "ticks": "",
           "title": {
            "standoff": 15
           },
           "zerolinecolor": "white",
           "zerolinewidth": 2
          },
          "yaxis": {
           "automargin": true,
           "gridcolor": "white",
           "linecolor": "white",
           "ticks": "",
           "title": {
            "standoff": 15
           },
           "zerolinecolor": "white",
           "zerolinewidth": 2
          }
         }
        },
        "title": {
         "text": "Total Number of Drone Strikes"
        },
        "xaxis": {
         "anchor": "y",
         "domain": [
          0,
          1
         ],
         "title": {
          "text": "country"
         }
        },
        "yaxis": {
         "anchor": "x",
         "domain": [
          0,
          1
         ],
         "title": {
          "text": "value"
         }
        }
       }
      }
     },
     "metadata": {}
    }
   ],
   "source": [
    "acled_drones_graph = px.scatter(acled_drones,x=acled_drones['country'],y=acled_drones.columns[1:],\n",
    "title=\"Total Number of Drone Strikes\",\n",
    "labels={'buyer':'Nation or Non-State Actor','total':'Amount of Purchases'}\n",
    ")\n",
    "acled_drones_graph.show()"
   ]
  },
  {
   "cell_type": "code",
   "execution_count": 27,
   "metadata": {},
   "outputs": [],
   "source": [
    "df_libya = pd.read_sql_query(\"\"\"SELECT\n",
    "\tCASE\n",
    "\t\tWHEN sub_event_type = 'Air/drone strike' THEN 'Drone Strike'\n",
    "\tEND type_of_strike,*\n",
    "FROM\n",
    "\tacled\n",
    "WHERE \n",
    "country = 'Libya'\n",
    "AND\n",
    "year > 2011\n",
    "AND\n",
    "year < 2021\n",
    "AND\n",
    "sub_event_type = 'Air/drone strike'\n",
    "AND\n",
    "\tnotes LIKE '%drone%'\n",
    "\n",
    "UNION\n",
    "\n",
    "SELECT\n",
    "\tCASE\n",
    "\t\tWHEN sub_event_type = 'Air/drone strike' THEN 'Air Strike'\n",
    "\tEND type_of_strike, *\n",
    "FROM\n",
    "acled\n",
    "WHERE\n",
    "country = 'Libya'\n",
    "AND\n",
    "year > 2011\n",
    "AND\n",
    "year < 2021\n",
    "AND\n",
    "sub_event_type = 'Air/drone strike'\n",
    "AND\n",
    "\tnotes NOT ILIKE ALL (ARRAY['%drone%']) \n",
    "ORDER BY event_date\"\"\",db)"
   ]
  },
  {
   "cell_type": "code",
   "execution_count": 45,
   "metadata": {},
   "outputs": [
    {
     "output_type": "display_data",
     "data": {
      "application/vnd.plotly.v1+json": {
       "config": {
        "plotlyServerURL": "https://plot.ly"
       },
       "data": [
        {
         "alignmentgroup": "True",
         "hovertemplate": "type_of_strike=%{x}<br>fatalities=%{y}<extra></extra>",
         "legendgroup": "",
         "marker": {
          "color": "#636efa"
         },
         "name": "",
         "notched": false,
         "offsetgroup": "",
         "orientation": "v",
         "showlegend": false,
         "type": "box",
         "x": [
          "Air Strike",
          "Drone Strike",
          "Air Strike",
          "Air Strike",
          "Air Strike",
          "Air Strike",
          "Air Strike",
          "Air Strike",
          "Air Strike",
          "Air Strike",
          "Air Strike",
          "Air Strike",
          "Air Strike",
          "Air Strike",
          "Air Strike",
          "Air Strike",
          "Air Strike",
          "Air Strike",
          "Air Strike",
          "Air Strike",
          "Air Strike",
          "Air Strike",
          "Air Strike",
          "Air Strike",
          "Air Strike",
          "Air Strike",
          "Air Strike",
          "Air Strike",
          "Air Strike",
          "Air Strike",
          "Air Strike",
          "Air Strike",
          "Air Strike",
          "Air Strike",
          "Air Strike",
          "Air Strike",
          "Air Strike",
          "Air Strike",
          "Air Strike",
          "Air Strike",
          "Air Strike",
          "Air Strike",
          "Air Strike",
          "Air Strike",
          "Air Strike",
          "Air Strike",
          "Air Strike",
          "Air Strike",
          "Air Strike",
          "Air Strike",
          "Air Strike",
          "Air Strike",
          "Air Strike",
          "Air Strike",
          "Air Strike",
          "Air Strike",
          "Air Strike",
          "Air Strike",
          "Air Strike",
          "Air Strike",
          "Air Strike",
          "Air Strike",
          "Air Strike",
          "Air Strike",
          "Air Strike",
          "Air Strike",
          "Air Strike",
          "Air Strike",
          "Air Strike",
          "Air Strike",
          "Air Strike",
          "Air Strike",
          "Air Strike",
          "Air Strike",
          "Air Strike",
          "Air Strike",
          "Air Strike",
          "Air Strike",
          "Air Strike",
          "Air Strike",
          "Air Strike",
          "Air Strike",
          "Air Strike",
          "Air Strike",
          "Air Strike",
          "Air Strike",
          "Air Strike",
          "Air Strike",
          "Air Strike",
          "Air Strike",
          "Air Strike",
          "Air Strike",
          "Air Strike",
          "Air Strike",
          "Air Strike",
          "Air Strike",
          "Air Strike",
          "Air Strike",
          "Air Strike",
          "Air Strike",
          "Air Strike",
          "Air Strike",
          "Air Strike",
          "Air Strike",
          "Air Strike",
          "Air Strike",
          "Air Strike",
          "Air Strike",
          "Air Strike",
          "Air Strike",
          "Air Strike",
          "Air Strike",
          "Air Strike",
          "Air Strike",
          "Air Strike",
          "Air Strike",
          "Air Strike",
          "Air Strike",
          "Air Strike",
          "Air Strike",
          "Air Strike",
          "Air Strike",
          "Air Strike",
          "Air Strike",
          "Air Strike",
          "Air Strike",
          "Air Strike",
          "Air Strike",
          "Air Strike",
          "Air Strike",
          "Air Strike",
          "Air Strike",
          "Air Strike",
          "Air Strike",
          "Air Strike",
          "Air Strike",
          "Air Strike",
          "Air Strike",
          "Air Strike",
          "Air Strike",
          "Air Strike",
          "Air Strike",
          "Air Strike",
          "Air Strike",
          "Air Strike",
          "Air Strike",
          "Air Strike",
          "Air Strike",
          "Air Strike",
          "Air Strike",
          "Air Strike",
          "Air Strike",
          "Air Strike",
          "Air Strike",
          "Air Strike",
          "Air Strike",
          "Air Strike",
          "Air Strike",
          "Air Strike",
          "Air Strike",
          "Air Strike",
          "Air Strike",
          "Air Strike",
          "Air Strike",
          "Air Strike",
          "Air Strike",
          "Air Strike",
          "Air Strike",
          "Air Strike",
          "Air Strike",
          "Air Strike",
          "Air Strike",
          "Air Strike",
          "Air Strike",
          "Air Strike",
          "Air Strike",
          "Air Strike",
          "Air Strike",
          "Air Strike",
          "Air Strike",
          "Air Strike",
          "Air Strike",
          "Air Strike",
          "Air Strike",
          "Air Strike",
          "Air Strike",
          "Air Strike",
          "Air Strike",
          "Air Strike",
          "Air Strike",
          "Air Strike",
          "Air Strike",
          "Air Strike",
          "Air Strike",
          "Air Strike",
          "Air Strike",
          "Air Strike",
          "Air Strike",
          "Air Strike",
          "Air Strike",
          "Air Strike",
          "Air Strike",
          "Air Strike",
          "Air Strike",
          "Air Strike",
          "Air Strike",
          "Air Strike",
          "Air Strike",
          "Air Strike",
          "Air Strike",
          "Air Strike",
          "Air Strike",
          "Air Strike",
          "Air Strike",
          "Air Strike",
          "Air Strike",
          "Air Strike",
          "Air Strike",
          "Air Strike",
          "Air Strike",
          "Air Strike",
          "Air Strike",
          "Air Strike",
          "Air Strike",
          "Air Strike",
          "Air Strike",
          "Air Strike",
          "Air Strike",
          "Air Strike",
          "Air Strike",
          "Air Strike",
          "Air Strike",
          "Air Strike",
          "Air Strike",
          "Air Strike",
          "Air Strike",
          "Air Strike",
          "Air Strike",
          "Air Strike",
          "Air Strike",
          "Air Strike",
          "Air Strike",
          "Air Strike",
          "Air Strike",
          "Air Strike",
          "Air Strike",
          "Air Strike",
          "Air Strike",
          "Air Strike",
          "Air Strike",
          "Air Strike",
          "Air Strike",
          "Air Strike",
          "Air Strike",
          "Air Strike",
          "Air Strike",
          "Air Strike",
          "Air Strike",
          "Air Strike",
          "Air Strike",
          "Air Strike",
          "Air Strike",
          "Air Strike",
          "Air Strike",
          "Air Strike",
          "Air Strike",
          "Air Strike",
          "Air Strike",
          "Air Strike",
          "Air Strike",
          "Air Strike",
          "Air Strike",
          "Air Strike",
          "Air Strike",
          "Air Strike",
          "Air Strike",
          "Air Strike",
          "Air Strike",
          "Air Strike",
          "Air Strike",
          "Air Strike",
          "Air Strike",
          "Air Strike",
          "Air Strike",
          "Air Strike",
          "Air Strike",
          "Air Strike",
          "Air Strike",
          "Air Strike",
          "Drone Strike",
          "Air Strike",
          "Air Strike",
          "Air Strike",
          "Air Strike",
          "Air Strike",
          "Air Strike",
          "Air Strike",
          "Air Strike",
          "Air Strike",
          "Air Strike",
          "Air Strike",
          "Air Strike",
          "Air Strike",
          "Air Strike",
          "Air Strike",
          "Air Strike",
          "Air Strike",
          "Air Strike",
          "Air Strike",
          "Air Strike",
          "Air Strike",
          "Air Strike",
          "Air Strike",
          "Air Strike",
          "Air Strike",
          "Air Strike",
          "Air Strike",
          "Air Strike",
          "Air Strike",
          "Air Strike",
          "Air Strike",
          "Air Strike",
          "Air Strike",
          "Air Strike",
          "Air Strike",
          "Air Strike",
          "Air Strike",
          "Air Strike",
          "Air Strike",
          "Air Strike",
          "Air Strike",
          "Air Strike",
          "Air Strike",
          "Air Strike",
          "Air Strike",
          "Air Strike",
          "Air Strike",
          "Air Strike",
          "Air Strike",
          "Air Strike",
          "Air Strike",
          "Air Strike",
          "Air Strike",
          "Air Strike",
          "Air Strike",
          "Air Strike",
          "Air Strike",
          "Air Strike",
          "Air Strike",
          "Air Strike",
          "Air Strike",
          "Air Strike",
          "Air Strike",
          "Air Strike",
          "Air Strike",
          "Air Strike",
          "Air Strike",
          "Air Strike",
          "Air Strike",
          "Air Strike",
          "Air Strike",
          "Air Strike",
          "Air Strike",
          "Air Strike",
          "Air Strike",
          "Air Strike",
          "Air Strike",
          "Air Strike",
          "Air Strike",
          "Air Strike",
          "Air Strike",
          "Air Strike",
          "Air Strike",
          "Air Strike",
          "Air Strike",
          "Air Strike",
          "Air Strike",
          "Air Strike",
          "Air Strike",
          "Air Strike",
          "Air Strike",
          "Air Strike",
          "Air Strike",
          "Air Strike",
          "Air Strike",
          "Air Strike",
          "Air Strike",
          "Air Strike",
          "Air Strike",
          "Air Strike",
          "Air Strike",
          "Air Strike",
          "Air Strike",
          "Air Strike",
          "Air Strike",
          "Air Strike",
          "Air Strike",
          "Air Strike",
          "Air Strike",
          "Air Strike",
          "Air Strike",
          "Air Strike",
          "Air Strike",
          "Air Strike",
          "Air Strike",
          "Drone Strike",
          "Air Strike",
          "Air Strike",
          "Air Strike",
          "Air Strike",
          "Air Strike",
          "Air Strike",
          "Air Strike",
          "Air Strike",
          "Air Strike",
          "Air Strike",
          "Air Strike",
          "Air Strike",
          "Air Strike",
          "Air Strike",
          "Air Strike",
          "Air Strike",
          "Air Strike",
          "Air Strike",
          "Air Strike",
          "Air Strike",
          "Air Strike",
          "Air Strike",
          "Air Strike",
          "Air Strike",
          "Air Strike",
          "Air Strike",
          "Air Strike",
          "Air Strike",
          "Air Strike",
          "Air Strike",
          "Air Strike",
          "Air Strike",
          "Air Strike",
          "Air Strike",
          "Air Strike",
          "Air Strike",
          "Air Strike",
          "Air Strike",
          "Air Strike",
          "Air Strike",
          "Air Strike",
          "Air Strike",
          "Air Strike",
          "Air Strike",
          "Air Strike",
          "Air Strike",
          "Air Strike",
          "Air Strike",
          "Air Strike",
          "Air Strike",
          "Air Strike",
          "Air Strike",
          "Air Strike",
          "Air Strike",
          "Air Strike",
          "Air Strike",
          "Air Strike",
          "Air Strike",
          "Air Strike",
          "Air Strike",
          "Air Strike",
          "Air Strike",
          "Air Strike",
          "Air Strike",
          "Air Strike",
          "Air Strike",
          "Air Strike",
          "Air Strike",
          "Air Strike",
          "Air Strike",
          "Air Strike",
          "Air Strike",
          "Air Strike",
          "Air Strike",
          "Air Strike",
          "Air Strike",
          "Air Strike",
          "Air Strike",
          "Air Strike",
          "Air Strike",
          "Air Strike",
          "Air Strike",
          "Air Strike",
          "Air Strike",
          "Air Strike",
          "Air Strike",
          "Air Strike",
          "Air Strike",
          "Air Strike",
          "Air Strike",
          "Air Strike",
          "Air Strike",
          "Air Strike",
          "Air Strike",
          "Air Strike",
          "Air Strike",
          "Air Strike",
          "Air Strike",
          "Air Strike",
          "Air Strike",
          "Air Strike",
          "Drone Strike",
          "Air Strike",
          "Air Strike",
          "Air Strike",
          "Air Strike",
          "Air Strike",
          "Air Strike",
          "Air Strike",
          "Air Strike",
          "Air Strike",
          "Air Strike",
          "Air Strike",
          "Air Strike",
          "Air Strike",
          "Air Strike",
          "Air Strike",
          "Air Strike",
          "Air Strike",
          "Air Strike",
          "Air Strike",
          "Air Strike",
          "Air Strike",
          "Air Strike",
          "Air Strike",
          "Air Strike",
          "Air Strike",
          "Air Strike",
          "Air Strike",
          "Air Strike",
          "Air Strike",
          "Air Strike",
          "Air Strike",
          "Air Strike",
          "Air Strike",
          "Air Strike",
          "Air Strike",
          "Air Strike",
          "Air Strike",
          "Air Strike",
          "Air Strike",
          "Air Strike",
          "Air Strike",
          "Air Strike",
          "Air Strike",
          "Air Strike",
          "Air Strike",
          "Air Strike",
          "Air Strike",
          "Air Strike",
          "Air Strike",
          "Air Strike",
          "Air Strike",
          "Air Strike",
          "Air Strike",
          "Air Strike",
          "Air Strike",
          "Air Strike",
          "Air Strike",
          "Air Strike",
          "Air Strike",
          "Air Strike",
          "Air Strike",
          "Air Strike",
          "Air Strike",
          "Air Strike",
          "Air Strike",
          "Air Strike",
          "Air Strike",
          "Air Strike",
          "Air Strike",
          "Air Strike",
          "Air Strike",
          "Air Strike",
          "Air Strike",
          "Air Strike",
          "Air Strike",
          "Air Strike",
          "Air Strike",
          "Air Strike",
          "Air Strike",
          "Air Strike",
          "Air Strike",
          "Air Strike",
          "Air Strike",
          "Air Strike",
          "Air Strike",
          "Air Strike",
          "Air Strike",
          "Air Strike",
          "Air Strike",
          "Drone Strike",
          "Air Strike",
          "Air Strike",
          "Air Strike",
          "Air Strike",
          "Air Strike",
          "Air Strike",
          "Air Strike",
          "Air Strike",
          "Air Strike",
          "Air Strike",
          "Air Strike",
          "Air Strike",
          "Air Strike",
          "Air Strike",
          "Air Strike",
          "Air Strike",
          "Air Strike",
          "Air Strike",
          "Air Strike",
          "Air Strike",
          "Air Strike",
          "Air Strike",
          "Air Strike",
          "Air Strike",
          "Air Strike",
          "Air Strike",
          "Air Strike",
          "Air Strike",
          "Air Strike",
          "Air Strike",
          "Air Strike",
          "Air Strike",
          "Air Strike",
          "Air Strike",
          "Air Strike",
          "Air Strike",
          "Air Strike",
          "Air Strike",
          "Air Strike",
          "Air Strike",
          "Air Strike",
          "Air Strike",
          "Air Strike",
          "Air Strike",
          "Air Strike",
          "Air Strike",
          "Air Strike",
          "Air Strike",
          "Air Strike",
          "Air Strike",
          "Air Strike",
          "Air Strike",
          "Air Strike",
          "Air Strike",
          "Air Strike",
          "Air Strike",
          "Air Strike",
          "Air Strike",
          "Air Strike",
          "Air Strike",
          "Air Strike",
          "Air Strike",
          "Drone Strike",
          "Air Strike",
          "Air Strike",
          "Air Strike",
          "Air Strike",
          "Air Strike",
          "Air Strike",
          "Air Strike",
          "Air Strike",
          "Air Strike",
          "Air Strike",
          "Air Strike",
          "Air Strike",
          "Air Strike",
          "Air Strike",
          "Air Strike",
          "Air Strike",
          "Air Strike",
          "Air Strike",
          "Air Strike",
          "Air Strike",
          "Air Strike",
          "Air Strike",
          "Air Strike",
          "Air Strike",
          "Air Strike",
          "Air Strike",
          "Air Strike",
          "Air Strike",
          "Air Strike",
          "Air Strike",
          "Air Strike",
          "Air Strike",
          "Air Strike",
          "Air Strike",
          "Air Strike",
          "Air Strike",
          "Air Strike",
          "Air Strike",
          "Air Strike",
          "Air Strike",
          "Air Strike",
          "Air Strike",
          "Air Strike",
          "Air Strike",
          "Air Strike",
          "Air Strike",
          "Air Strike",
          "Air Strike",
          "Air Strike",
          "Air Strike",
          "Air Strike",
          "Air Strike",
          "Air Strike",
          "Air Strike",
          "Air Strike",
          "Air Strike",
          "Air Strike",
          "Air Strike",
          "Air Strike",
          "Air Strike",
          "Air Strike",
          "Air Strike",
          "Air Strike",
          "Air Strike",
          "Air Strike",
          "Air Strike",
          "Drone Strike",
          "Air Strike",
          "Air Strike",
          "Air Strike",
          "Air Strike",
          "Air Strike",
          "Air Strike",
          "Air Strike",
          "Air Strike",
          "Air Strike",
          "Air Strike",
          "Air Strike",
          "Air Strike",
          "Air Strike",
          "Air Strike",
          "Air Strike",
          "Air Strike",
          "Air Strike",
          "Air Strike",
          "Air Strike",
          "Air Strike",
          "Air Strike",
          "Air Strike",
          "Air Strike",
          "Air Strike",
          "Air Strike",
          "Air Strike",
          "Air Strike",
          "Air Strike",
          "Air Strike",
          "Air Strike",
          "Air Strike",
          "Air Strike",
          "Air Strike",
          "Air Strike",
          "Air Strike",
          "Drone Strike",
          "Air Strike",
          "Air Strike",
          "Air Strike",
          "Air Strike",
          "Air Strike",
          "Air Strike",
          "Drone Strike",
          "Drone Strike",
          "Drone Strike",
          "Drone Strike",
          "Drone Strike",
          "Air Strike",
          "Air Strike",
          "Air Strike",
          "Drone Strike",
          "Air Strike",
          "Air Strike",
          "Air Strike",
          "Drone Strike",
          "Air Strike",
          "Air Strike",
          "Air Strike",
          "Air Strike",
          "Air Strike",
          "Air Strike",
          "Drone Strike",
          "Air Strike",
          "Air Strike",
          "Air Strike",
          "Air Strike",
          "Air Strike",
          "Air Strike",
          "Air Strike",
          "Air Strike",
          "Air Strike",
          "Air Strike",
          "Air Strike",
          "Air Strike",
          "Air Strike",
          "Air Strike",
          "Air Strike",
          "Air Strike",
          "Air Strike",
          "Air Strike",
          "Air Strike",
          "Air Strike",
          "Air Strike",
          "Air Strike",
          "Air Strike",
          "Air Strike",
          "Air Strike",
          "Air Strike",
          "Air Strike",
          "Air Strike",
          "Air Strike",
          "Air Strike",
          "Air Strike",
          "Air Strike",
          "Air Strike",
          "Air Strike",
          "Air Strike",
          "Air Strike",
          "Air Strike",
          "Air Strike",
          "Air Strike",
          "Air Strike",
          "Air Strike",
          "Air Strike",
          "Air Strike",
          "Air Strike",
          "Air Strike",
          "Air Strike",
          "Air Strike",
          "Air Strike",
          "Air Strike",
          "Air Strike",
          "Air Strike",
          "Air Strike",
          "Air Strike",
          "Air Strike",
          "Air Strike",
          "Air Strike",
          "Air Strike",
          "Air Strike",
          "Air Strike",
          "Air Strike",
          "Air Strike",
          "Air Strike",
          "Air Strike",
          "Air Strike",
          "Air Strike",
          "Air Strike",
          "Air Strike",
          "Air Strike",
          "Air Strike",
          "Air Strike",
          "Air Strike",
          "Air Strike",
          "Air Strike",
          "Air Strike",
          "Air Strike",
          "Air Strike",
          "Air Strike",
          "Air Strike",
          "Air Strike",
          "Air Strike",
          "Air Strike",
          "Air Strike",
          "Air Strike",
          "Air Strike",
          "Air Strike",
          "Air Strike",
          "Air Strike",
          "Air Strike",
          "Air Strike",
          "Air Strike",
          "Air Strike",
          "Air Strike",
          "Air Strike",
          "Air Strike",
          "Air Strike",
          "Air Strike",
          "Air Strike",
          "Air Strike",
          "Air Strike",
          "Air Strike",
          "Air Strike",
          "Air Strike",
          "Air Strike",
          "Air Strike",
          "Air Strike",
          "Air Strike",
          "Air Strike",
          "Air Strike",
          "Air Strike",
          "Air Strike",
          "Air Strike",
          "Air Strike",
          "Air Strike",
          "Air Strike",
          "Air Strike",
          "Air Strike",
          "Air Strike",
          "Air Strike",
          "Air Strike",
          "Air Strike",
          "Air Strike",
          "Air Strike",
          "Air Strike",
          "Air Strike",
          "Air Strike",
          "Air Strike",
          "Air Strike",
          "Air Strike",
          "Air Strike",
          "Air Strike",
          "Air Strike",
          "Air Strike",
          "Air Strike",
          "Air Strike",
          "Air Strike",
          "Air Strike",
          "Air Strike",
          "Air Strike",
          "Air Strike",
          "Air Strike",
          "Air Strike",
          "Air Strike",
          "Air Strike",
          "Air Strike",
          "Air Strike",
          "Air Strike",
          "Air Strike",
          "Air Strike",
          "Air Strike",
          "Air Strike",
          "Air Strike",
          "Air Strike",
          "Air Strike",
          "Air Strike",
          "Air Strike",
          "Air Strike",
          "Air Strike",
          "Air Strike",
          "Air Strike",
          "Air Strike",
          "Air Strike",
          "Air Strike",
          "Air Strike",
          "Air Strike",
          "Air Strike",
          "Air Strike",
          "Air Strike",
          "Air Strike",
          "Air Strike",
          "Air Strike",
          "Air Strike",
          "Air Strike",
          "Air Strike",
          "Air Strike",
          "Air Strike",
          "Air Strike",
          "Air Strike",
          "Air Strike",
          "Air Strike",
          "Air Strike",
          "Air Strike",
          "Air Strike",
          "Air Strike",
          "Air Strike",
          "Air Strike",
          "Air Strike",
          "Air Strike",
          "Air Strike",
          "Air Strike",
          "Air Strike",
          "Air Strike",
          "Air Strike",
          "Air Strike",
          "Air Strike",
          "Air Strike",
          "Air Strike",
          "Air Strike",
          "Air Strike",
          "Drone Strike",
          "Air Strike",
          "Air Strike",
          "Air Strike",
          "Air Strike",
          "Air Strike",
          "Air Strike",
          "Air Strike",
          "Air Strike",
          "Air Strike",
          "Air Strike",
          "Air Strike",
          "Air Strike",
          "Air Strike",
          "Air Strike",
          "Air Strike",
          "Air Strike",
          "Air Strike",
          "Air Strike",
          "Air Strike",
          "Air Strike",
          "Air Strike",
          "Air Strike",
          "Drone Strike",
          "Air Strike",
          "Drone Strike",
          "Air Strike",
          "Drone Strike",
          "Air Strike",
          "Air Strike",
          "Air Strike",
          "Air Strike",
          "Drone Strike",
          "Air Strike",
          "Air Strike",
          "Air Strike",
          "Air Strike",
          "Air Strike",
          "Air Strike",
          "Air Strike",
          "Air Strike",
          "Air Strike",
          "Air Strike",
          "Air Strike",
          "Air Strike",
          "Drone Strike",
          "Air Strike",
          "Air Strike",
          "Air Strike",
          "Air Strike",
          "Air Strike",
          "Air Strike",
          "Air Strike",
          "Air Strike",
          "Air Strike",
          "Air Strike",
          "Air Strike",
          "Air Strike",
          "Air Strike",
          "Drone Strike",
          "Air Strike",
          "Air Strike",
          "Air Strike",
          "Air Strike",
          "Air Strike",
          "Drone Strike",
          "Air Strike",
          "Air Strike",
          "Air Strike",
          "Air Strike",
          "Air Strike",
          "Air Strike",
          "Air Strike",
          "Air Strike",
          "Air Strike",
          "Air Strike",
          "Air Strike",
          "Air Strike",
          "Air Strike",
          "Air Strike",
          "Air Strike",
          "Air Strike",
          "Air Strike",
          "Air Strike",
          "Air Strike",
          "Air Strike",
          "Air Strike",
          "Air Strike",
          "Air Strike",
          "Air Strike",
          "Air Strike",
          "Air Strike",
          "Air Strike",
          "Air Strike",
          "Air Strike",
          "Air Strike",
          "Air Strike",
          "Air Strike",
          "Air Strike",
          "Air Strike",
          "Air Strike",
          "Air Strike",
          "Air Strike",
          "Drone Strike",
          "Air Strike",
          "Air Strike",
          "Air Strike",
          "Drone Strike",
          "Air Strike",
          "Air Strike",
          "Air Strike",
          "Air Strike",
          "Air Strike",
          "Air Strike",
          "Air Strike",
          "Air Strike",
          "Air Strike",
          "Air Strike",
          "Air Strike",
          "Air Strike",
          "Air Strike",
          "Air Strike",
          "Air Strike",
          "Air Strike",
          "Air Strike",
          "Air Strike",
          "Air Strike",
          "Air Strike",
          "Air Strike",
          "Air Strike",
          "Air Strike",
          "Air Strike",
          "Air Strike",
          "Air Strike",
          "Air Strike",
          "Air Strike",
          "Air Strike",
          "Air Strike",
          "Air Strike",
          "Air Strike",
          "Air Strike",
          "Air Strike",
          "Air Strike",
          "Air Strike",
          "Air Strike",
          "Air Strike",
          "Air Strike",
          "Air Strike",
          "Air Strike",
          "Air Strike",
          "Air Strike",
          "Air Strike",
          "Air Strike",
          "Air Strike",
          "Air Strike",
          "Air Strike",
          "Air Strike",
          "Air Strike",
          "Air Strike",
          "Air Strike",
          "Air Strike",
          "Air Strike",
          "Air Strike",
          "Air Strike",
          "Air Strike",
          "Air Strike",
          "Air Strike",
          "Air Strike",
          "Air Strike",
          "Air Strike",
          "Air Strike",
          "Air Strike",
          "Air Strike",
          "Drone Strike",
          "Air Strike",
          "Air Strike",
          "Air Strike",
          "Air Strike",
          "Air Strike",
          "Air Strike",
          "Air Strike",
          "Air Strike",
          "Air Strike",
          "Air Strike",
          "Air Strike",
          "Air Strike",
          "Air Strike",
          "Air Strike",
          "Air Strike",
          "Air Strike",
          "Air Strike",
          "Air Strike",
          "Air Strike",
          "Air Strike",
          "Air Strike",
          "Air Strike",
          "Air Strike",
          "Air Strike",
          "Air Strike",
          "Air Strike",
          "Air Strike",
          "Air Strike",
          "Air Strike",
          "Air Strike",
          "Air Strike",
          "Air Strike",
          "Air Strike",
          "Air Strike",
          "Air Strike",
          "Air Strike",
          "Air Strike",
          "Air Strike",
          "Air Strike",
          "Air Strike",
          "Air Strike",
          "Air Strike",
          "Air Strike",
          "Air Strike",
          "Air Strike",
          "Air Strike",
          "Air Strike",
          "Air Strike",
          "Air Strike",
          "Air Strike",
          "Air Strike",
          "Air Strike",
          "Air Strike",
          "Air Strike",
          "Air Strike",
          "Air Strike",
          "Air Strike",
          "Air Strike",
          "Air Strike",
          "Air Strike",
          "Air Strike",
          "Air Strike",
          "Air Strike",
          "Air Strike",
          "Drone Strike",
          "Drone Strike",
          "Air Strike",
          "Air Strike",
          "Air Strike",
          "Air Strike",
          "Air Strike",
          "Air Strike",
          "Air Strike",
          "Air Strike",
          "Air Strike",
          "Air Strike",
          "Air Strike",
          "Air Strike",
          "Air Strike",
          "Air Strike",
          "Air Strike",
          "Air Strike",
          "Air Strike",
          "Air Strike",
          "Air Strike",
          "Air Strike",
          "Air Strike",
          "Drone Strike",
          "Air Strike",
          "Air Strike",
          "Air Strike",
          "Air Strike",
          "Air Strike",
          "Air Strike",
          "Air Strike",
          "Air Strike",
          "Air Strike",
          "Air Strike",
          "Air Strike",
          "Air Strike",
          "Air Strike",
          "Air Strike",
          "Air Strike",
          "Air Strike",
          "Air Strike",
          "Air Strike",
          "Air Strike",
          "Air Strike",
          "Air Strike",
          "Air Strike",
          "Air Strike",
          "Air Strike",
          "Air Strike",
          "Air Strike",
          "Air Strike",
          "Air Strike",
          "Air Strike",
          "Air Strike",
          "Air Strike",
          "Air Strike",
          "Air Strike",
          "Air Strike",
          "Air Strike",
          "Air Strike",
          "Air Strike",
          "Air Strike",
          "Air Strike",
          "Air Strike",
          "Drone Strike",
          "Air Strike",
          "Air Strike",
          "Air Strike",
          "Air Strike",
          "Air Strike",
          "Air Strike",
          "Air Strike",
          "Air Strike",
          "Air Strike",
          "Air Strike",
          "Air Strike",
          "Air Strike",
          "Air Strike",
          "Air Strike",
          "Air Strike",
          "Air Strike",
          "Air Strike",
          "Air Strike",
          "Air Strike",
          "Air Strike",
          "Air Strike",
          "Air Strike",
          "Air Strike",
          "Drone Strike",
          "Air Strike",
          "Air Strike",
          "Drone Strike",
          "Air Strike",
          "Air Strike",
          "Air Strike",
          "Air Strike",
          "Air Strike",
          "Air Strike",
          "Air Strike",
          "Air Strike",
          "Drone Strike",
          "Air Strike",
          "Air Strike",
          "Air Strike",
          "Air Strike",
          "Air Strike",
          "Air Strike",
          "Air Strike",
          "Drone Strike",
          "Air Strike",
          "Drone Strike",
          "Air Strike",
          "Air Strike",
          "Drone Strike",
          "Air Strike",
          "Air Strike",
          "Air Strike",
          "Air Strike",
          "Air Strike",
          "Air Strike",
          "Air Strike",
          "Drone Strike",
          "Air Strike",
          "Air Strike",
          "Air Strike",
          "Drone Strike",
          "Air Strike",
          "Air Strike",
          "Air Strike",
          "Air Strike",
          "Air Strike",
          "Air Strike",
          "Air Strike",
          "Air Strike",
          "Air Strike",
          "Air Strike",
          "Air Strike",
          "Air Strike",
          "Air Strike",
          "Air Strike",
          "Air Strike",
          "Air Strike",
          "Air Strike",
          "Air Strike",
          "Air Strike",
          "Air Strike",
          "Air Strike",
          "Air Strike",
          "Drone Strike",
          "Air Strike",
          "Air Strike",
          "Air Strike",
          "Air Strike",
          "Air Strike",
          "Air Strike",
          "Air Strike",
          "Air Strike",
          "Air Strike",
          "Air Strike",
          "Air Strike",
          "Air Strike",
          "Air Strike",
          "Air Strike",
          "Air Strike",
          "Drone Strike",
          "Air Strike",
          "Air Strike",
          "Air Strike",
          "Air Strike",
          "Air Strike",
          "Air Strike",
          "Air Strike",
          "Air Strike",
          "Air Strike",
          "Air Strike",
          "Air Strike",
          "Air Strike",
          "Air Strike",
          "Air Strike",
          "Air Strike",
          "Air Strike",
          "Air Strike",
          "Air Strike",
          "Air Strike",
          "Drone Strike",
          "Air Strike",
          "Air Strike",
          "Air Strike",
          "Air Strike",
          "Air Strike",
          "Air Strike",
          "Air Strike",
          "Air Strike",
          "Air Strike",
          "Air Strike",
          "Drone Strike",
          "Air Strike",
          "Air Strike",
          "Air Strike",
          "Air Strike",
          "Air Strike",
          "Air Strike",
          "Air Strike",
          "Drone Strike",
          "Drone Strike",
          "Drone Strike",
          "Air Strike",
          "Air Strike",
          "Air Strike",
          "Air Strike",
          "Air Strike",
          "Air Strike",
          "Air Strike",
          "Air Strike",
          "Air Strike",
          "Air Strike",
          "Air Strike",
          "Air Strike",
          "Drone Strike",
          "Drone Strike",
          "Air Strike",
          "Drone Strike",
          "Air Strike"
         ],
         "x0": " ",
         "xaxis": "x",
         "y": [
          0,
          4,
          0,
          0,
          0,
          0,
          0,
          0,
          4,
          0,
          0,
          0,
          0,
          0,
          0,
          0,
          0,
          0,
          0,
          0,
          0,
          0,
          5,
          9,
          0,
          10,
          0,
          74,
          5,
          1,
          1,
          10,
          10,
          0,
          0,
          0,
          0,
          0,
          1,
          0,
          0,
          0,
          0,
          0,
          0,
          0,
          0,
          0,
          0,
          0,
          10,
          0,
          0,
          0,
          0,
          0,
          0,
          5,
          4,
          0,
          0,
          3,
          0,
          0,
          0,
          0,
          0,
          0,
          0,
          0,
          0,
          2,
          0,
          0,
          0,
          0,
          7,
          0,
          0,
          0,
          2,
          0,
          0,
          3,
          10,
          0,
          0,
          0,
          11,
          0,
          0,
          0,
          0,
          0,
          1,
          0,
          0,
          0,
          0,
          0,
          0,
          0,
          0,
          0,
          0,
          0,
          2,
          2,
          0,
          10,
          0,
          0,
          0,
          0,
          0,
          0,
          0,
          0,
          0,
          0,
          0,
          0,
          0,
          10,
          0,
          0,
          0,
          0,
          0,
          0,
          0,
          0,
          0,
          0,
          0,
          0,
          0,
          0,
          0,
          0,
          0,
          0,
          0,
          0,
          0,
          0,
          10,
          0,
          0,
          0,
          0,
          0,
          0,
          8,
          1,
          0,
          0,
          0,
          0,
          0,
          0,
          0,
          0,
          0,
          0,
          0,
          0,
          0,
          0,
          0,
          0,
          0,
          0,
          0,
          10,
          1,
          0,
          1,
          0,
          0,
          0,
          0,
          0,
          0,
          0,
          0,
          10,
          0,
          1,
          0,
          0,
          0,
          0,
          0,
          0,
          0,
          0,
          0,
          0,
          0,
          0,
          5,
          0,
          0,
          0,
          7,
          0,
          0,
          15,
          0,
          0,
          0,
          0,
          0,
          0,
          0,
          0,
          0,
          0,
          10,
          0,
          0,
          0,
          0,
          0,
          0,
          0,
          0,
          0,
          0,
          0,
          0,
          0,
          0,
          0,
          11,
          14,
          0,
          0,
          0,
          0,
          0,
          3,
          0,
          0,
          0,
          0,
          0,
          0,
          0,
          0,
          0,
          0,
          10,
          0,
          0,
          7,
          0,
          0,
          0,
          0,
          10,
          0,
          7,
          0,
          2,
          1,
          0,
          0,
          0,
          0,
          0,
          0,
          0,
          0,
          0,
          0,
          1,
          2,
          5,
          1,
          0,
          0,
          0,
          0,
          10,
          0,
          0,
          0,
          0,
          0,
          0,
          0,
          10,
          0,
          0,
          0,
          0,
          0,
          5,
          4,
          0,
          0,
          0,
          0,
          0,
          43,
          0,
          0,
          0,
          0,
          0,
          15,
          0,
          18,
          0,
          3,
          0,
          0,
          0,
          0,
          0,
          0,
          0,
          0,
          0,
          0,
          0,
          0,
          0,
          0,
          0,
          0,
          0,
          0,
          0,
          0,
          0,
          0,
          3,
          10,
          0,
          6,
          10,
          0,
          0,
          0,
          0,
          0,
          0,
          0,
          0,
          0,
          0,
          0,
          0,
          0,
          2,
          0,
          0,
          0,
          14,
          3,
          0,
          0,
          0,
          2,
          1,
          0,
          0,
          1,
          0,
          1,
          0,
          10,
          0,
          0,
          5,
          5,
          0,
          0,
          0,
          0,
          0,
          1,
          0,
          0,
          0,
          0,
          0,
          0,
          0,
          6,
          0,
          1,
          0,
          0,
          0,
          16,
          0,
          10,
          0,
          6,
          1,
          0,
          2,
          5,
          1,
          0,
          0,
          0,
          0,
          0,
          0,
          0,
          0,
          0,
          0,
          22,
          21,
          0,
          0,
          0,
          0,
          0,
          0,
          0,
          0,
          0,
          0,
          0,
          0,
          0,
          0,
          0,
          0,
          0,
          0,
          0,
          0,
          3,
          0,
          0,
          0,
          7,
          0,
          8,
          1,
          0,
          0,
          0,
          0,
          0,
          0,
          0,
          0,
          0,
          0,
          0,
          0,
          0,
          0,
          0,
          0,
          0,
          0,
          0,
          0,
          0,
          0,
          3,
          0,
          3,
          2,
          0,
          0,
          0,
          0,
          0,
          0,
          0,
          3,
          7,
          10,
          0,
          0,
          0,
          0,
          0,
          20,
          0,
          0,
          0,
          0,
          0,
          0,
          0,
          0,
          0,
          0,
          0,
          30,
          1,
          0,
          1,
          5,
          0,
          2,
          0,
          0,
          0,
          0,
          0,
          0,
          3,
          0,
          0,
          4,
          0,
          0,
          1,
          0,
          0,
          2,
          0,
          90,
          0,
          0,
          0,
          0,
          0,
          0,
          2,
          0,
          0,
          0,
          2,
          7,
          30,
          2,
          2,
          1,
          3,
          0,
          1,
          0,
          0,
          0,
          0,
          0,
          0,
          0,
          1,
          0,
          0,
          0,
          0,
          0,
          0,
          0,
          0,
          0,
          7,
          0,
          1,
          0,
          0,
          0,
          0,
          0,
          0,
          0,
          0,
          0,
          0,
          0,
          0,
          0,
          0,
          0,
          0,
          0,
          0,
          3,
          0,
          5,
          0,
          0,
          0,
          0,
          0,
          0,
          0,
          0,
          0,
          0,
          0,
          0,
          0,
          0,
          0,
          0,
          0,
          0,
          0,
          5,
          0,
          0,
          0,
          0,
          0,
          0,
          0,
          0,
          0,
          0,
          5,
          0,
          0,
          0,
          0,
          0,
          0,
          0,
          0,
          10,
          0,
          1,
          0,
          7,
          0,
          0,
          0,
          0,
          0,
          0,
          0,
          0,
          0,
          0,
          0,
          0,
          0,
          0,
          0,
          0,
          0,
          0,
          1,
          2,
          0,
          0,
          0,
          0,
          4,
          4,
          0,
          0,
          0,
          0,
          2,
          0,
          0,
          0,
          0,
          0,
          0,
          1,
          0,
          3,
          0,
          0,
          0,
          1,
          1,
          0,
          0,
          0,
          0,
          2,
          0,
          2,
          2,
          0,
          0,
          3,
          10,
          0,
          0,
          4,
          0,
          0,
          0,
          0,
          0,
          0,
          0,
          0,
          0,
          0,
          0,
          0,
          0,
          0,
          0,
          0,
          17,
          5,
          0,
          10,
          2,
          0,
          0,
          0,
          0,
          2,
          0,
          2,
          0,
          0,
          15,
          0,
          0,
          0,
          0,
          12,
          0,
          10,
          0,
          0,
          0,
          0,
          0,
          0,
          0,
          0,
          0,
          0,
          0,
          0,
          0,
          0,
          0,
          15,
          10,
          0,
          0,
          0,
          0,
          10,
          0,
          0,
          0,
          0,
          1,
          6,
          3,
          24,
          0,
          0,
          0,
          0,
          0,
          2,
          0,
          0,
          0,
          0,
          16,
          3,
          0,
          0,
          0,
          0,
          1,
          0,
          0,
          0,
          0,
          0,
          3,
          0,
          0,
          1,
          0,
          2,
          0,
          0,
          0,
          6,
          0,
          0,
          0,
          4,
          0,
          1,
          0,
          11,
          2,
          0,
          0,
          0,
          0,
          1,
          0,
          0,
          0,
          0,
          0,
          1,
          0,
          0,
          1,
          0,
          3,
          0,
          0,
          0,
          0,
          0,
          11,
          0,
          0,
          0,
          10,
          11,
          10,
          3,
          0,
          0,
          7,
          10,
          0,
          4,
          1,
          0,
          0,
          0,
          0,
          0,
          3,
          4,
          0,
          0,
          0,
          0,
          0,
          0,
          0,
          0,
          1,
          1,
          0,
          1,
          6,
          0,
          5,
          1,
          0,
          5,
          2,
          0,
          0,
          0,
          0,
          0,
          2,
          2,
          2,
          0,
          2,
          6,
          10,
          5,
          5,
          5,
          5,
          4,
          2,
          4,
          4,
          3,
          4,
          4,
          4,
          4,
          4,
          4,
          4,
          4,
          4,
          4,
          4,
          1,
          2,
          0,
          1,
          0,
          3,
          0,
          4,
          0,
          3,
          3,
          4,
          5,
          0,
          5,
          0,
          0,
          0,
          0,
          4,
          4,
          4,
          4,
          0,
          0,
          0,
          4,
          0,
          0,
          0,
          2,
          0,
          0,
          0,
          0,
          0,
          0,
          0,
          0,
          0,
          0,
          0,
          2,
          0,
          0,
          6,
          0,
          0,
          0,
          0,
          0,
          0,
          0,
          0,
          0,
          0,
          0,
          0,
          0,
          0,
          0,
          0,
          0,
          0,
          0,
          0,
          0,
          0,
          0,
          0,
          0,
          0,
          0,
          0,
          0,
          1,
          0,
          0,
          0,
          0,
          1,
          0,
          0,
          0,
          0,
          0,
          4,
          0,
          0,
          1,
          0,
          0,
          53,
          0,
          0,
          0,
          2,
          0,
          0,
          0,
          0,
          0,
          0,
          0,
          0,
          0,
          0,
          0,
          0,
          0,
          0,
          0,
          0,
          0,
          0,
          0,
          0,
          3,
          0,
          10,
          7,
          0,
          6,
          0,
          0,
          3,
          3,
          0,
          0,
          5,
          0,
          1,
          0,
          0,
          0,
          0,
          0,
          1,
          0,
          0,
          43,
          0,
          0,
          0,
          0,
          0,
          0,
          0,
          0,
          0,
          0,
          0,
          0,
          0,
          0,
          0,
          10,
          0,
          0,
          0,
          0,
          0,
          0,
          0,
          0,
          0,
          0,
          0,
          4,
          0,
          0,
          0,
          0,
          0,
          0,
          0,
          0,
          4,
          0,
          0,
          2,
          0,
          0,
          0,
          0,
          0,
          0,
          0,
          0,
          0,
          0,
          0,
          1,
          10,
          0,
          3,
          0,
          0,
          6,
          0,
          10,
          0,
          0,
          3,
          0,
          0,
          0,
          0,
          0,
          0,
          0,
          0,
          2,
          0,
          0,
          0,
          0,
          0,
          0,
          0,
          0,
          0,
          0,
          0,
          0,
          0,
          0,
          0,
          7,
          0,
          0,
          8,
          7,
          0,
          0,
          0,
          0,
          20,
          0,
          0,
          0,
          11,
          0,
          0,
          0,
          0,
          0,
          0,
          0,
          0,
          17,
          2,
          2,
          1,
          0,
          2,
          7,
          0,
          0,
          12,
          0,
          0,
          0,
          0,
          0,
          0,
          0,
          0,
          0,
          0,
          0,
          0,
          0,
          0,
          1,
          0,
          0,
          0,
          0,
          0,
          0,
          0,
          0,
          0,
          0,
          3,
          21,
          10,
          0,
          10,
          0,
          0,
          0,
          0,
          0,
          0,
          0,
          3,
          0,
          0,
          0,
          0,
          0,
          0,
          0,
          0,
          0,
          0,
          0,
          0,
          0,
          0,
          0,
          0,
          0,
          0,
          0,
          0,
          0,
          0,
          0,
          0,
          0,
          0,
          0,
          0,
          0,
          0,
          0,
          0,
          0,
          0,
          0,
          8,
          0,
          0,
          5,
          12,
          0,
          0,
          11,
          0,
          0,
          0,
          0,
          0,
          0,
          0,
          0,
          5,
          0,
          0,
          0,
          0,
          0,
          0,
          0,
          0,
          10,
          0,
          1,
          0,
          0,
          0,
          0,
          0,
          0,
          0,
          5,
          0,
          5,
          0,
          0,
          0,
          0,
          0,
          3,
          0,
          4,
          2,
          0,
          0,
          1,
          0,
          3,
          3,
          1,
          0,
          0,
          0,
          30,
          0,
          3,
          0,
          0,
          0,
          0,
          0,
          0,
          0,
          0,
          0,
          0,
          0,
          0,
          0,
          1,
          0,
          0,
          0,
          0,
          7,
          3,
          0,
          5,
          0,
          35,
          0,
          0,
          10,
          0,
          0,
          0,
          0,
          0,
          0,
          0,
          0,
          0,
          5,
          0,
          0,
          0,
          0,
          20,
          0,
          0,
          23,
          0,
          0,
          0,
          0,
          0,
          0,
          10,
          0,
          0,
          0,
          10,
          0,
          0,
          0,
          0,
          10,
          0,
          0,
          10,
          0,
          3,
          10,
          0,
          0,
          8,
          0,
          6,
          0,
          10,
          0,
          0,
          0,
          3,
          0,
          0,
          0,
          0,
          0,
          3,
          0,
          0,
          0,
          0,
          4,
          0,
          10,
          0,
          0,
          0,
          10,
          2,
          0,
          0,
          0,
          0,
          0,
          0,
          10,
          0,
          0,
          0,
          13,
          0,
          10,
          6,
          0,
          0,
          5,
          0,
          0,
          3,
          0,
          0,
          0,
          0,
          0,
          2,
          0,
          0,
          0,
          0,
          0,
          2,
          0,
          0,
          0,
          0,
          0,
          0,
          0,
          0,
          0,
          0,
          0,
          0,
          0,
          0,
          0,
          3,
          5,
          12,
          0,
          0,
          0,
          8,
          0,
          0,
          0,
          5,
          1,
          1,
          1,
          6,
          0,
          0,
          0,
          0,
          1
         ],
         "y0": " ",
         "yaxis": "y"
        }
       ],
       "layout": {
        "boxmode": "group",
        "legend": {
         "tracegroupgap": 0
        },
        "margin": {
         "t": 60
        },
        "template": {
         "data": {
          "bar": [
           {
            "error_x": {
             "color": "#2a3f5f"
            },
            "error_y": {
             "color": "#2a3f5f"
            },
            "marker": {
             "line": {
              "color": "#E5ECF6",
              "width": 0.5
             }
            },
            "type": "bar"
           }
          ],
          "barpolar": [
           {
            "marker": {
             "line": {
              "color": "#E5ECF6",
              "width": 0.5
             }
            },
            "type": "barpolar"
           }
          ],
          "carpet": [
           {
            "aaxis": {
             "endlinecolor": "#2a3f5f",
             "gridcolor": "white",
             "linecolor": "white",
             "minorgridcolor": "white",
             "startlinecolor": "#2a3f5f"
            },
            "baxis": {
             "endlinecolor": "#2a3f5f",
             "gridcolor": "white",
             "linecolor": "white",
             "minorgridcolor": "white",
             "startlinecolor": "#2a3f5f"
            },
            "type": "carpet"
           }
          ],
          "choropleth": [
           {
            "colorbar": {
             "outlinewidth": 0,
             "ticks": ""
            },
            "type": "choropleth"
           }
          ],
          "contour": [
           {
            "colorbar": {
             "outlinewidth": 0,
             "ticks": ""
            },
            "colorscale": [
             [
              0,
              "#0d0887"
             ],
             [
              0.1111111111111111,
              "#46039f"
             ],
             [
              0.2222222222222222,
              "#7201a8"
             ],
             [
              0.3333333333333333,
              "#9c179e"
             ],
             [
              0.4444444444444444,
              "#bd3786"
             ],
             [
              0.5555555555555556,
              "#d8576b"
             ],
             [
              0.6666666666666666,
              "#ed7953"
             ],
             [
              0.7777777777777778,
              "#fb9f3a"
             ],
             [
              0.8888888888888888,
              "#fdca26"
             ],
             [
              1,
              "#f0f921"
             ]
            ],
            "type": "contour"
           }
          ],
          "contourcarpet": [
           {
            "colorbar": {
             "outlinewidth": 0,
             "ticks": ""
            },
            "type": "contourcarpet"
           }
          ],
          "heatmap": [
           {
            "colorbar": {
             "outlinewidth": 0,
             "ticks": ""
            },
            "colorscale": [
             [
              0,
              "#0d0887"
             ],
             [
              0.1111111111111111,
              "#46039f"
             ],
             [
              0.2222222222222222,
              "#7201a8"
             ],
             [
              0.3333333333333333,
              "#9c179e"
             ],
             [
              0.4444444444444444,
              "#bd3786"
             ],
             [
              0.5555555555555556,
              "#d8576b"
             ],
             [
              0.6666666666666666,
              "#ed7953"
             ],
             [
              0.7777777777777778,
              "#fb9f3a"
             ],
             [
              0.8888888888888888,
              "#fdca26"
             ],
             [
              1,
              "#f0f921"
             ]
            ],
            "type": "heatmap"
           }
          ],
          "heatmapgl": [
           {
            "colorbar": {
             "outlinewidth": 0,
             "ticks": ""
            },
            "colorscale": [
             [
              0,
              "#0d0887"
             ],
             [
              0.1111111111111111,
              "#46039f"
             ],
             [
              0.2222222222222222,
              "#7201a8"
             ],
             [
              0.3333333333333333,
              "#9c179e"
             ],
             [
              0.4444444444444444,
              "#bd3786"
             ],
             [
              0.5555555555555556,
              "#d8576b"
             ],
             [
              0.6666666666666666,
              "#ed7953"
             ],
             [
              0.7777777777777778,
              "#fb9f3a"
             ],
             [
              0.8888888888888888,
              "#fdca26"
             ],
             [
              1,
              "#f0f921"
             ]
            ],
            "type": "heatmapgl"
           }
          ],
          "histogram": [
           {
            "marker": {
             "colorbar": {
              "outlinewidth": 0,
              "ticks": ""
             }
            },
            "type": "histogram"
           }
          ],
          "histogram2d": [
           {
            "colorbar": {
             "outlinewidth": 0,
             "ticks": ""
            },
            "colorscale": [
             [
              0,
              "#0d0887"
             ],
             [
              0.1111111111111111,
              "#46039f"
             ],
             [
              0.2222222222222222,
              "#7201a8"
             ],
             [
              0.3333333333333333,
              "#9c179e"
             ],
             [
              0.4444444444444444,
              "#bd3786"
             ],
             [
              0.5555555555555556,
              "#d8576b"
             ],
             [
              0.6666666666666666,
              "#ed7953"
             ],
             [
              0.7777777777777778,
              "#fb9f3a"
             ],
             [
              0.8888888888888888,
              "#fdca26"
             ],
             [
              1,
              "#f0f921"
             ]
            ],
            "type": "histogram2d"
           }
          ],
          "histogram2dcontour": [
           {
            "colorbar": {
             "outlinewidth": 0,
             "ticks": ""
            },
            "colorscale": [
             [
              0,
              "#0d0887"
             ],
             [
              0.1111111111111111,
              "#46039f"
             ],
             [
              0.2222222222222222,
              "#7201a8"
             ],
             [
              0.3333333333333333,
              "#9c179e"
             ],
             [
              0.4444444444444444,
              "#bd3786"
             ],
             [
              0.5555555555555556,
              "#d8576b"
             ],
             [
              0.6666666666666666,
              "#ed7953"
             ],
             [
              0.7777777777777778,
              "#fb9f3a"
             ],
             [
              0.8888888888888888,
              "#fdca26"
             ],
             [
              1,
              "#f0f921"
             ]
            ],
            "type": "histogram2dcontour"
           }
          ],
          "mesh3d": [
           {
            "colorbar": {
             "outlinewidth": 0,
             "ticks": ""
            },
            "type": "mesh3d"
           }
          ],
          "parcoords": [
           {
            "line": {
             "colorbar": {
              "outlinewidth": 0,
              "ticks": ""
             }
            },
            "type": "parcoords"
           }
          ],
          "pie": [
           {
            "automargin": true,
            "type": "pie"
           }
          ],
          "scatter": [
           {
            "marker": {
             "colorbar": {
              "outlinewidth": 0,
              "ticks": ""
             }
            },
            "type": "scatter"
           }
          ],
          "scatter3d": [
           {
            "line": {
             "colorbar": {
              "outlinewidth": 0,
              "ticks": ""
             }
            },
            "marker": {
             "colorbar": {
              "outlinewidth": 0,
              "ticks": ""
             }
            },
            "type": "scatter3d"
           }
          ],
          "scattercarpet": [
           {
            "marker": {
             "colorbar": {
              "outlinewidth": 0,
              "ticks": ""
             }
            },
            "type": "scattercarpet"
           }
          ],
          "scattergeo": [
           {
            "marker": {
             "colorbar": {
              "outlinewidth": 0,
              "ticks": ""
             }
            },
            "type": "scattergeo"
           }
          ],
          "scattergl": [
           {
            "marker": {
             "colorbar": {
              "outlinewidth": 0,
              "ticks": ""
             }
            },
            "type": "scattergl"
           }
          ],
          "scattermapbox": [
           {
            "marker": {
             "colorbar": {
              "outlinewidth": 0,
              "ticks": ""
             }
            },
            "type": "scattermapbox"
           }
          ],
          "scatterpolar": [
           {
            "marker": {
             "colorbar": {
              "outlinewidth": 0,
              "ticks": ""
             }
            },
            "type": "scatterpolar"
           }
          ],
          "scatterpolargl": [
           {
            "marker": {
             "colorbar": {
              "outlinewidth": 0,
              "ticks": ""
             }
            },
            "type": "scatterpolargl"
           }
          ],
          "scatterternary": [
           {
            "marker": {
             "colorbar": {
              "outlinewidth": 0,
              "ticks": ""
             }
            },
            "type": "scatterternary"
           }
          ],
          "surface": [
           {
            "colorbar": {
             "outlinewidth": 0,
             "ticks": ""
            },
            "colorscale": [
             [
              0,
              "#0d0887"
             ],
             [
              0.1111111111111111,
              "#46039f"
             ],
             [
              0.2222222222222222,
              "#7201a8"
             ],
             [
              0.3333333333333333,
              "#9c179e"
             ],
             [
              0.4444444444444444,
              "#bd3786"
             ],
             [
              0.5555555555555556,
              "#d8576b"
             ],
             [
              0.6666666666666666,
              "#ed7953"
             ],
             [
              0.7777777777777778,
              "#fb9f3a"
             ],
             [
              0.8888888888888888,
              "#fdca26"
             ],
             [
              1,
              "#f0f921"
             ]
            ],
            "type": "surface"
           }
          ],
          "table": [
           {
            "cells": {
             "fill": {
              "color": "#EBF0F8"
             },
             "line": {
              "color": "white"
             }
            },
            "header": {
             "fill": {
              "color": "#C8D4E3"
             },
             "line": {
              "color": "white"
             }
            },
            "type": "table"
           }
          ]
         },
         "layout": {
          "annotationdefaults": {
           "arrowcolor": "#2a3f5f",
           "arrowhead": 0,
           "arrowwidth": 1
          },
          "autotypenumbers": "strict",
          "coloraxis": {
           "colorbar": {
            "outlinewidth": 0,
            "ticks": ""
           }
          },
          "colorscale": {
           "diverging": [
            [
             0,
             "#8e0152"
            ],
            [
             0.1,
             "#c51b7d"
            ],
            [
             0.2,
             "#de77ae"
            ],
            [
             0.3,
             "#f1b6da"
            ],
            [
             0.4,
             "#fde0ef"
            ],
            [
             0.5,
             "#f7f7f7"
            ],
            [
             0.6,
             "#e6f5d0"
            ],
            [
             0.7,
             "#b8e186"
            ],
            [
             0.8,
             "#7fbc41"
            ],
            [
             0.9,
             "#4d9221"
            ],
            [
             1,
             "#276419"
            ]
           ],
           "sequential": [
            [
             0,
             "#0d0887"
            ],
            [
             0.1111111111111111,
             "#46039f"
            ],
            [
             0.2222222222222222,
             "#7201a8"
            ],
            [
             0.3333333333333333,
             "#9c179e"
            ],
            [
             0.4444444444444444,
             "#bd3786"
            ],
            [
             0.5555555555555556,
             "#d8576b"
            ],
            [
             0.6666666666666666,
             "#ed7953"
            ],
            [
             0.7777777777777778,
             "#fb9f3a"
            ],
            [
             0.8888888888888888,
             "#fdca26"
            ],
            [
             1,
             "#f0f921"
            ]
           ],
           "sequentialminus": [
            [
             0,
             "#0d0887"
            ],
            [
             0.1111111111111111,
             "#46039f"
            ],
            [
             0.2222222222222222,
             "#7201a8"
            ],
            [
             0.3333333333333333,
             "#9c179e"
            ],
            [
             0.4444444444444444,
             "#bd3786"
            ],
            [
             0.5555555555555556,
             "#d8576b"
            ],
            [
             0.6666666666666666,
             "#ed7953"
            ],
            [
             0.7777777777777778,
             "#fb9f3a"
            ],
            [
             0.8888888888888888,
             "#fdca26"
            ],
            [
             1,
             "#f0f921"
            ]
           ]
          },
          "colorway": [
           "#636efa",
           "#EF553B",
           "#00cc96",
           "#ab63fa",
           "#FFA15A",
           "#19d3f3",
           "#FF6692",
           "#B6E880",
           "#FF97FF",
           "#FECB52"
          ],
          "font": {
           "color": "#2a3f5f"
          },
          "geo": {
           "bgcolor": "white",
           "lakecolor": "white",
           "landcolor": "#E5ECF6",
           "showlakes": true,
           "showland": true,
           "subunitcolor": "white"
          },
          "hoverlabel": {
           "align": "left"
          },
          "hovermode": "closest",
          "mapbox": {
           "style": "light"
          },
          "paper_bgcolor": "white",
          "plot_bgcolor": "#E5ECF6",
          "polar": {
           "angularaxis": {
            "gridcolor": "white",
            "linecolor": "white",
            "ticks": ""
           },
           "bgcolor": "#E5ECF6",
           "radialaxis": {
            "gridcolor": "white",
            "linecolor": "white",
            "ticks": ""
           }
          },
          "scene": {
           "xaxis": {
            "backgroundcolor": "#E5ECF6",
            "gridcolor": "white",
            "gridwidth": 2,
            "linecolor": "white",
            "showbackground": true,
            "ticks": "",
            "zerolinecolor": "white"
           },
           "yaxis": {
            "backgroundcolor": "#E5ECF6",
            "gridcolor": "white",
            "gridwidth": 2,
            "linecolor": "white",
            "showbackground": true,
            "ticks": "",
            "zerolinecolor": "white"
           },
           "zaxis": {
            "backgroundcolor": "#E5ECF6",
            "gridcolor": "white",
            "gridwidth": 2,
            "linecolor": "white",
            "showbackground": true,
            "ticks": "",
            "zerolinecolor": "white"
           }
          },
          "shapedefaults": {
           "line": {
            "color": "#2a3f5f"
           }
          },
          "ternary": {
           "aaxis": {
            "gridcolor": "white",
            "linecolor": "white",
            "ticks": ""
           },
           "baxis": {
            "gridcolor": "white",
            "linecolor": "white",
            "ticks": ""
           },
           "bgcolor": "#E5ECF6",
           "caxis": {
            "gridcolor": "white",
            "linecolor": "white",
            "ticks": ""
           }
          },
          "title": {
           "x": 0.05
          },
          "xaxis": {
           "automargin": true,
           "gridcolor": "white",
           "linecolor": "white",
           "ticks": "",
           "title": {
            "standoff": 15
           },
           "zerolinecolor": "white",
           "zerolinewidth": 2
          },
          "yaxis": {
           "automargin": true,
           "gridcolor": "white",
           "linecolor": "white",
           "ticks": "",
           "title": {
            "standoff": 15
           },
           "zerolinecolor": "white",
           "zerolinewidth": 2
          }
         }
        },
        "xaxis": {
         "anchor": "y",
         "domain": [
          0,
          1
         ],
         "title": {
          "text": "type_of_strike"
         }
        },
        "yaxis": {
         "anchor": "x",
         "domain": [
          0,
          1
         ],
         "title": {
          "text": "fatalities"
         }
        }
       }
      }
     },
     "metadata": {}
    }
   ],
   "source": [
    "fig = px.box(df_libya, x=\"type_of_strike\", y=\"fatalities\")\n",
    "fig.show()"
   ]
  },
  {
   "cell_type": "code",
   "execution_count": 43,
   "metadata": {},
   "outputs": [
    {
     "output_type": "display_data",
     "data": {
      "application/vnd.plotly.v1+json": {
       "config": {
        "plotlyServerURL": "https://plot.ly"
       },
       "data": [
        {
         "hovertemplate": "type_of_strike=Air Strike<br>latitude=%{x}<br>longitude=%{y}<br>fatalities=%{marker.size}<extra></extra>",
         "legendgroup": "Air Strike",
         "marker": {
          "color": "#636efa",
          "size": [
           0,
           0,
           0,
           0,
           0,
           0,
           0,
           4,
           0,
           0,
           0,
           0,
           0,
           0,
           0,
           0,
           0,
           0,
           0,
           0,
           0,
           5,
           9,
           0,
           10,
           0,
           74,
           5,
           1,
           1,
           10,
           10,
           0,
           0,
           0,
           0,
           0,
           1,
           0,
           0,
           0,
           0,
           0,
           0,
           0,
           0,
           0,
           0,
           0,
           10,
           0,
           0,
           0,
           0,
           0,
           0,
           5,
           4,
           0,
           0,
           3,
           0,
           0,
           0,
           0,
           0,
           0,
           0,
           0,
           0,
           2,
           0,
           0,
           0,
           0,
           7,
           0,
           0,
           0,
           2,
           0,
           0,
           3,
           10,
           0,
           0,
           0,
           11,
           0,
           0,
           0,
           0,
           0,
           1,
           0,
           0,
           0,
           0,
           0,
           0,
           0,
           0,
           0,
           0,
           0,
           2,
           2,
           0,
           10,
           0,
           0,
           0,
           0,
           0,
           0,
           0,
           0,
           0,
           0,
           0,
           0,
           0,
           10,
           0,
           0,
           0,
           0,
           0,
           0,
           0,
           0,
           0,
           0,
           0,
           0,
           0,
           0,
           0,
           0,
           0,
           0,
           0,
           0,
           0,
           0,
           10,
           0,
           0,
           0,
           0,
           0,
           0,
           8,
           1,
           0,
           0,
           0,
           0,
           0,
           0,
           0,
           0,
           0,
           0,
           0,
           0,
           0,
           0,
           0,
           0,
           0,
           0,
           0,
           10,
           1,
           0,
           1,
           0,
           0,
           0,
           0,
           0,
           0,
           0,
           0,
           10,
           0,
           1,
           0,
           0,
           0,
           0,
           0,
           0,
           0,
           0,
           0,
           0,
           0,
           0,
           5,
           0,
           0,
           0,
           7,
           0,
           0,
           15,
           0,
           0,
           0,
           0,
           0,
           0,
           0,
           0,
           0,
           0,
           10,
           0,
           0,
           0,
           0,
           0,
           0,
           0,
           0,
           0,
           0,
           0,
           0,
           0,
           0,
           0,
           11,
           14,
           0,
           0,
           0,
           0,
           0,
           3,
           0,
           0,
           0,
           0,
           0,
           0,
           0,
           0,
           0,
           0,
           10,
           0,
           0,
           7,
           0,
           0,
           0,
           0,
           10,
           0,
           7,
           0,
           2,
           1,
           0,
           0,
           0,
           0,
           0,
           0,
           0,
           0,
           0,
           0,
           1,
           2,
           5,
           1,
           0,
           0,
           0,
           0,
           10,
           0,
           0,
           0,
           0,
           0,
           0,
           10,
           0,
           0,
           0,
           0,
           0,
           5,
           4,
           0,
           0,
           0,
           0,
           0,
           43,
           0,
           0,
           0,
           0,
           0,
           15,
           0,
           18,
           0,
           3,
           0,
           0,
           0,
           0,
           0,
           0,
           0,
           0,
           0,
           0,
           0,
           0,
           0,
           0,
           0,
           0,
           0,
           0,
           0,
           0,
           0,
           0,
           3,
           10,
           0,
           6,
           10,
           0,
           0,
           0,
           0,
           0,
           0,
           0,
           0,
           0,
           0,
           0,
           0,
           0,
           2,
           0,
           0,
           0,
           14,
           3,
           0,
           0,
           0,
           2,
           1,
           0,
           0,
           1,
           0,
           1,
           0,
           10,
           0,
           0,
           5,
           5,
           0,
           0,
           0,
           0,
           0,
           1,
           0,
           0,
           0,
           0,
           0,
           0,
           0,
           6,
           0,
           1,
           0,
           0,
           0,
           16,
           0,
           10,
           0,
           6,
           1,
           0,
           5,
           1,
           0,
           0,
           0,
           0,
           0,
           0,
           0,
           0,
           0,
           0,
           22,
           21,
           0,
           0,
           0,
           0,
           0,
           0,
           0,
           0,
           0,
           0,
           0,
           0,
           0,
           0,
           0,
           0,
           0,
           0,
           0,
           0,
           3,
           0,
           0,
           0,
           7,
           0,
           8,
           1,
           0,
           0,
           0,
           0,
           0,
           0,
           0,
           0,
           0,
           0,
           0,
           0,
           0,
           0,
           0,
           0,
           0,
           0,
           0,
           0,
           0,
           0,
           3,
           0,
           3,
           2,
           0,
           0,
           0,
           0,
           0,
           0,
           0,
           3,
           7,
           10,
           0,
           0,
           0,
           0,
           0,
           20,
           0,
           0,
           0,
           0,
           0,
           0,
           0,
           0,
           0,
           0,
           0,
           30,
           1,
           0,
           1,
           5,
           0,
           0,
           0,
           0,
           0,
           0,
           0,
           3,
           0,
           0,
           4,
           0,
           0,
           1,
           0,
           0,
           2,
           0,
           90,
           0,
           0,
           0,
           0,
           0,
           0,
           2,
           0,
           0,
           0,
           2,
           7,
           30,
           2,
           2,
           1,
           3,
           0,
           1,
           0,
           0,
           0,
           0,
           0,
           0,
           0,
           1,
           0,
           0,
           0,
           0,
           0,
           0,
           0,
           0,
           0,
           7,
           0,
           1,
           0,
           0,
           0,
           0,
           0,
           0,
           0,
           0,
           0,
           0,
           0,
           0,
           0,
           0,
           0,
           0,
           0,
           0,
           3,
           0,
           5,
           0,
           0,
           0,
           0,
           0,
           0,
           0,
           0,
           0,
           0,
           0,
           0,
           0,
           0,
           0,
           0,
           0,
           0,
           5,
           0,
           0,
           0,
           0,
           0,
           0,
           0,
           0,
           0,
           0,
           5,
           0,
           0,
           0,
           0,
           0,
           0,
           0,
           0,
           10,
           0,
           1,
           0,
           7,
           0,
           0,
           0,
           0,
           0,
           0,
           0,
           0,
           0,
           0,
           0,
           0,
           0,
           0,
           0,
           0,
           0,
           0,
           1,
           2,
           0,
           0,
           0,
           0,
           4,
           4,
           0,
           0,
           0,
           0,
           0,
           0,
           0,
           0,
           0,
           0,
           1,
           0,
           3,
           0,
           0,
           0,
           1,
           1,
           0,
           0,
           0,
           0,
           2,
           0,
           2,
           2,
           0,
           0,
           3,
           10,
           0,
           0,
           4,
           0,
           0,
           0,
           0,
           0,
           0,
           0,
           0,
           0,
           0,
           0,
           0,
           0,
           0,
           0,
           0,
           17,
           5,
           0,
           10,
           2,
           0,
           0,
           0,
           0,
           2,
           0,
           2,
           0,
           0,
           15,
           0,
           0,
           0,
           0,
           12,
           0,
           0,
           0,
           0,
           0,
           0,
           0,
           0,
           0,
           0,
           0,
           0,
           0,
           0,
           0,
           0,
           15,
           10,
           0,
           0,
           0,
           0,
           10,
           0,
           0,
           0,
           0,
           1,
           6,
           3,
           24,
           0,
           0,
           0,
           0,
           0,
           0,
           0,
           0,
           0,
           16,
           3,
           0,
           0,
           0,
           0,
           3,
           0,
           1,
           0,
           2,
           0,
           0,
           0,
           0,
           0,
           0,
           4,
           0,
           1,
           0,
           11,
           2,
           0,
           0,
           0,
           0,
           1,
           0,
           0,
           0,
           0,
           0,
           1,
           0,
           0,
           1,
           0,
           3,
           0,
           0,
           0,
           0,
           0,
           11,
           0,
           0,
           0,
           10,
           11,
           10,
           3,
           0,
           0,
           7,
           10,
           0,
           4,
           1,
           0,
           0,
           0,
           0,
           0,
           3,
           4,
           0,
           0,
           0,
           0,
           0,
           0,
           0,
           0,
           1,
           1,
           0,
           1,
           6,
           0,
           5,
           1,
           0,
           5,
           2,
           0,
           0,
           0,
           0,
           0,
           2,
           2,
           2,
           0,
           2,
           6,
           10,
           5,
           5,
           5,
           5,
           4,
           2,
           4,
           4,
           3,
           4,
           4,
           4,
           4,
           4,
           4,
           4,
           4,
           4,
           4,
           4,
           1,
           2,
           0,
           1,
           0,
           3,
           0,
           4,
           0,
           3,
           3,
           4,
           5,
           0,
           5,
           0,
           0,
           0,
           0,
           4,
           4,
           4,
           4,
           0,
           0,
           0,
           4,
           0,
           0,
           0,
           2,
           0,
           0,
           0,
           0,
           0,
           0,
           0,
           0,
           0,
           0,
           0,
           2,
           0,
           0,
           6,
           0,
           0,
           0,
           0,
           0,
           0,
           0,
           0,
           0,
           0,
           0,
           0,
           0,
           0,
           0,
           0,
           0,
           0,
           0,
           0,
           0,
           0,
           0,
           0,
           0,
           0,
           0,
           0,
           0,
           1,
           0,
           0,
           0,
           0,
           1,
           0,
           0,
           0,
           0,
           0,
           4,
           0,
           0,
           1,
           0,
           0,
           53,
           0,
           0,
           2,
           0,
           0,
           0,
           0,
           0,
           0,
           0,
           0,
           0,
           0,
           0,
           0,
           0,
           0,
           0,
           0,
           0,
           0,
           0,
           0,
           3,
           10,
           0,
           0,
           0,
           3,
           3,
           0,
           5,
           0,
           1,
           0,
           0,
           0,
           0,
           0,
           1,
           0,
           0,
           0,
           0,
           0,
           0,
           0,
           0,
           0,
           0,
           0,
           0,
           0,
           0,
           0,
           0,
           10,
           0,
           0,
           0,
           0,
           0,
           0,
           0,
           0,
           0,
           0,
           4,
           0,
           0,
           0,
           0,
           0,
           0,
           0,
           0,
           4,
           0,
           0,
           2,
           0,
           0,
           0,
           0,
           0,
           0,
           0,
           0,
           0,
           0,
           0,
           1,
           10,
           0,
           3,
           0,
           0,
           0,
           10,
           0,
           3,
           0,
           0,
           0,
           0,
           0,
           0,
           0,
           0,
           2,
           0,
           0,
           0,
           0,
           0,
           0,
           0,
           0,
           0,
           0,
           0,
           0,
           0,
           0,
           0,
           7,
           0,
           0,
           8,
           7,
           0,
           0,
           0,
           0,
           20,
           0,
           0,
           0,
           11,
           0,
           0,
           0,
           0,
           0,
           0,
           0,
           0,
           17,
           2,
           2,
           1,
           0,
           2,
           7,
           0,
           0,
           12,
           0,
           0,
           0,
           0,
           0,
           0,
           0,
           0,
           0,
           0,
           0,
           0,
           0,
           1,
           0,
           0,
           0,
           0,
           0,
           0,
           0,
           0,
           0,
           0,
           3,
           21,
           10,
           0,
           10,
           0,
           0,
           0,
           0,
           0,
           0,
           0,
           3,
           0,
           0,
           0,
           0,
           0,
           0,
           0,
           0,
           0,
           0,
           0,
           0,
           0,
           0,
           0,
           0,
           0,
           0,
           0,
           0,
           0,
           0,
           0,
           0,
           0,
           0,
           0,
           0,
           0,
           0,
           0,
           0,
           0,
           0,
           0,
           0,
           5,
           12,
           0,
           0,
           11,
           0,
           0,
           0,
           0,
           0,
           0,
           0,
           0,
           5,
           0,
           0,
           0,
           0,
           0,
           0,
           0,
           10,
           0,
           1,
           0,
           0,
           0,
           0,
           0,
           0,
           0,
           5,
           0,
           5,
           0,
           0,
           0,
           0,
           0,
           3,
           0,
           4,
           2,
           0,
           0,
           1,
           0,
           3,
           3,
           1,
           0,
           0,
           0,
           30,
           0,
           3,
           0,
           0,
           0,
           0,
           0,
           0,
           0,
           0,
           0,
           0,
           0,
           0,
           1,
           0,
           0,
           0,
           0,
           7,
           3,
           0,
           5,
           0,
           35,
           0,
           0,
           10,
           0,
           0,
           0,
           0,
           0,
           0,
           0,
           5,
           0,
           0,
           0,
           20,
           0,
           0,
           23,
           0,
           0,
           0,
           0,
           10,
           0,
           0,
           10,
           0,
           0,
           0,
           0,
           10,
           0,
           10,
           0,
           10,
           0,
           0,
           8,
           0,
           6,
           0,
           10,
           0,
           0,
           0,
           3,
           0,
           0,
           0,
           0,
           0,
           3,
           0,
           0,
           0,
           0,
           0,
           10,
           0,
           0,
           0,
           10,
           2,
           0,
           0,
           0,
           0,
           0,
           0,
           10,
           0,
           0,
           13,
           0,
           10,
           6,
           0,
           0,
           5,
           0,
           0,
           3,
           0,
           0,
           0,
           0,
           0,
           2,
           0,
           0,
           0,
           0,
           2,
           0,
           0,
           0,
           0,
           0,
           0,
           0,
           0,
           0,
           0,
           0,
           0,
           0,
           0,
           0,
           0,
           0,
           8,
           0,
           0,
           0,
           5,
           1,
           1,
           1,
           6,
           0,
           1
          ],
          "sizemode": "area",
          "sizeref": 0.225,
          "symbol": "circle"
         },
         "mode": "markers",
         "name": "Air Strike",
         "showlegend": true,
         "type": "scattergl",
         "x": [
          24.167,
          27.0377,
          32.1177,
          32.0333,
          32.0116,
          32.0981,
          32.0639,
          32.0116,
          32.1177,
          32.8496,
          32.1177,
          32.0648,
          32.0333,
          32.0116,
          32.8831,
          32.1177,
          32.1177,
          32.1177,
          32.0333,
          32.1459,
          32.0116,
          32.6635,
          32.0984,
          32.1177,
          30.7554,
          32.1177,
          32.0833,
          32.767,
          32.0984,
          32.6878,
          32.8925,
          32.767,
          32.0333,
          32.767,
          32.0984,
          32.0836,
          32.2571,
          32.1722,
          32.9312,
          32.6878,
          32.767,
          32.8925,
          32.0894,
          32.1177,
          32.0333,
          32.0648,
          32.767,
          32.1177,
          32.1177,
          32.0894,
          32.0639,
          32.0648,
          32.6635,
          32.767,
          32.1149,
          32.0648,
          32.0984,
          32.0333,
          32.0833,
          32.1332,
          32.767,
          32.1358,
          32.1358,
          32.3113,
          32.1944,
          32.1722,
          32.7567,
          32.8187,
          32.7187,
          32.8925,
          32.8941,
          32.7934,
          32.8941,
          32.1722,
          32.947,
          32.9312,
          32.9312,
          32.6878,
          32.9312,
          33.0737,
          32.1722,
          32.947,
          32.3113,
          32.7571,
          30.5167,
          31.0635,
          32.947,
          33.0737,
          33.0737,
          33.0737,
          32.1722,
          30.8042,
          30.8042,
          31.2089,
          32.767,
          32.3754,
          30.65,
          30.65,
          30.8042,
          31.0635,
          30.65,
          30.8042,
          32.3754,
          32.8529,
          32.3754,
          32.767,
          32.767,
          29.1981,
          30.8042,
          29.1981,
          32.8529,
          32.7577,
          32.0971,
          32.0116,
          32.8493,
          32.0648,
          32.3113,
          32.767,
          32.1177,
          32.1177,
          32.8831,
          32.8831,
          32.0971,
          32.1177,
          32.0894,
          31.0635,
          30.8042,
          29.75,
          29.4809,
          31.0635,
          32.4764,
          32.767,
          31.9223,
          32.767,
          31.2089,
          30.65,
          30.5167,
          32.8941,
          31.2089,
          32.0639,
          32.8941,
          28.5445,
          31.9223,
          32.9312,
          31.9223,
          31.2089,
          31.9223,
          31.9223,
          32.8941,
          32.9312,
          32.8941,
          29.1981,
          32.435,
          31.9223,
          32.1722,
          32.0833,
          32.9312,
          32.1722,
          32.4764,
          31.9223,
          32.3113,
          32.767,
          32.5277,
          32.0833,
          32.8872,
          31.9223,
          27.5496,
          32.1722,
          32.7133,
          32.5319,
          31.9223,
          32.8941,
          32.8817,
          32.767,
          31.2089,
          31.9223,
          32.767,
          32.767,
          31.2089,
          31.9128,
          32.1177,
          32.0971,
          32.1358,
          32.0984,
          32.322,
          32.4764,
          32.767,
          32.767,
          32.75,
          32.8831,
          32.1722,
          32.1177,
          32.0639,
          32.1358,
          32.767,
          32.0639,
          31.2089,
          32.767,
          31.2089,
          32.767,
          32.767,
          32.767,
          32.767,
          32.6904,
          30.7554,
          30.8042,
          31.2089,
          30.7778,
          31.05,
          32.1177,
          32.1358,
          32.0971,
          31.2089,
          32.1177,
          32.767,
          32.767,
          32.0971,
          32.1177,
          32.1177,
          32.1177,
          32.767,
          32.6904,
          32.6904,
          31.2089,
          32.1177,
          31.2089,
          31.2089,
          32.767,
          32.1177,
          32.1358,
          32.0971,
          32.0333,
          32.1358,
          32.767,
          32.1134,
          32.1358,
          32.0971,
          32.1138,
          32.1177,
          32.1177,
          32.767,
          32.1177,
          30.8042,
          31.2089,
          32.0694,
          32.0639,
          32.1358,
          32.1177,
          32.0971,
          32.0648,
          32.0981,
          31.2089,
          32.6644,
          32.1177,
          32.1177,
          32.1177,
          32.6436,
          32.7314,
          32.6904,
          32.7627,
          32.6904,
          32.1177,
          31.2089,
          32.767,
          30.7554,
          30.7554,
          30.7554,
          30.7554,
          30.7555,
          30.7554,
          32.0984,
          32.767,
          32.0116,
          32.1177,
          30.7554,
          32.1177,
          30.7555,
          30.7554,
          30.7554,
          30.7554,
          30.65,
          32.0116,
          32.1177,
          30.7554,
          31.2089,
          32.0971,
          31.2089,
          32.0333,
          31.9498,
          32.1177,
          30.7554,
          30.8042,
          32.0984,
          32.0984,
          30.7555,
          30.7555,
          32.1177,
          32.1177,
          32.767,
          32.767,
          32.767,
          32.1177,
          32.767,
          32.0639,
          32.7934,
          32.1177,
          32.7934,
          31.2089,
          32.1177,
          31.7566,
          32.1177,
          32.1177,
          31.2089,
          32.1177,
          31.2089,
          32.0724,
          32.0761,
          32.0333,
          32.0763,
          32.1358,
          32.1138,
          32.1177,
          31.4,
          32.1177,
          31.2089,
          32.1177,
          32.1177,
          32.1177,
          32.1358,
          32.029,
          32.0639,
          31.6603,
          32.1358,
          32.0333,
          32.029,
          32.767,
          30.7555,
          32.767,
          31.2089,
          32.1177,
          32.767,
          31.2089,
          32.1177,
          32.1177,
          31.2089,
          32.767,
          32.1177,
          31.4029,
          32.1177,
          32.767,
          31.0189,
          32.1358,
          32.1177,
          32.1177,
          32.1177,
          31.2177,
          32.798,
          32.1177,
          32.1358,
          31.2089,
          32.767,
          31.0575,
          32.1177,
          31.2089,
          32.767,
          32.767,
          32.1177,
          30.7554,
          31.2089,
          31.2089,
          30.7555,
          30.7555,
          32.029,
          30.7555,
          30.7555,
          32.029,
          32.0333,
          30.7555,
          32.1177,
          31.2089,
          30.7555,
          30.7555,
          32.029,
          32.1177,
          31.2089,
          32.767,
          30.7555,
          30.7555,
          32.767,
          31.2089,
          31.1814,
          32.767,
          30.7555,
          30.7555,
          31.2089,
          31.4406,
          31.4406,
          32.8925,
          31.2089,
          32.767,
          32.029,
          31.2089,
          31.2089,
          32.029,
          31.2089,
          31.2089,
          32.0333,
          31.2089,
          31.2089,
          31.2089,
          31.2089,
          31.7566,
          31.2089,
          31.2089,
          31.2089,
          32.029,
          32.029,
          32.029,
          31.0594,
          31.2089,
          31.2089,
          31.2089,
          31.2089,
          31.2089,
          31.2089,
          31.2089,
          32.767,
          31.2089,
          32.1177,
          30.7555,
          30.5167,
          30.9522,
          31.2089,
          32.1177,
          31.2089,
          32.767,
          31.2089,
          32.0836,
          31.2089,
          30.8042,
          31.2089,
          29.0694,
          31.2089,
          31.2089,
          32.029,
          31.2089,
          32.767,
          32.767,
          32.1177,
          31.2089,
          32.029,
          31.2089,
          31.2089,
          31.2089,
          31.2089,
          31.2089,
          31.2089,
          31.2089,
          32.029,
          31.2089,
          31.2089,
          31.2089,
          31.2089,
          31.2089,
          31.2089,
          31.2089,
          29.075,
          31.2089,
          32.767,
          31.2089,
          31.2089,
          31.2089,
          31.2089,
          24.6552,
          31.2089,
          31.2089,
          32.0971,
          32.0856,
          32.029,
          27.4833,
          32.1177,
          31.2089,
          31.2089,
          32.029,
          32.029,
          31.2089,
          31.2089,
          31.2089,
          24.6552,
          31.7566,
          31.2089,
          31.2089,
          31.2089,
          31.2089,
          32.029,
          31.2089,
          31.2089,
          31.2089,
          31.2089,
          30.65,
          30.7778,
          29.1981,
          29.0694,
          32.029,
          29.1268,
          29.1268,
          32.1177,
          29.0694,
          32.1358,
          29.075,
          32.029,
          27.2077,
          29.1268,
          32.029,
          32.1177,
          32.029,
          32.029,
          32.767,
          32.029,
          32.767,
          32.767,
          31.2089,
          31.7566,
          32.767,
          32.767,
          32.767,
          32.767,
          32.1177,
          32.029,
          32.1177,
          32.1177,
          29.1981,
          29.1268,
          30,
          30,
          29.1268,
          29.1268,
          32.029,
          32.029,
          30.7778,
          32.029,
          30.5167,
          30.8042,
          31.05,
          30.65,
          32.767,
          32.029,
          30.5167,
          32.029,
          30.8042,
          30.65,
          30.65,
          30.8042,
          30.7778,
          30.2598,
          30.8042,
          30.65,
          30.7778,
          30.5167,
          30.8042,
          30.5167,
          30.65,
          29.1981,
          32.1358,
          32.1177,
          32.767,
          32.6904,
          32.6904,
          32.1177,
          32.1358,
          32.767,
          32.767,
          32.1177,
          29.1981,
          27.5496,
          27.2077,
          27.2077,
          29.0694,
          27.2746,
          27.2077,
          29.0694,
          27.5496,
          27.2746,
          27.2077,
          27.0377,
          32.6904,
          27.0377,
          32.767,
          27.2077,
          32.1177,
          27.0377,
          27.2077,
          32.6904,
          27.2077,
          32.6904,
          27.2077,
          32.767,
          32.1177,
          32.1177,
          32.767,
          27.0377,
          32.1177,
          32.1358,
          32.1177,
          27.2077,
          29.1981,
          32.1177,
          27.2077,
          27.0377,
          32.767,
          27.0377,
          32.1177,
          32.767,
          32.1358,
          21.9,
          32.1177,
          32.1177,
          29.075,
          29.075,
          27.5496,
          29.1981,
          32.1177,
          29.0694,
          32.1177,
          29.075,
          29.1981,
          29.1268,
          32.767,
          32.767,
          29.1981,
          29.1268,
          32.767,
          32.1177,
          32.767,
          29.1268,
          29.1268,
          29.1981,
          29.1268,
          29.0694,
          32.1358,
          32.1177,
          32.1177,
          32.1177,
          32.1177,
          32.3754,
          27.0377,
          32.1177,
          32.1358,
          32.1177,
          32.1177,
          32.1177,
          32.1177,
          32.1177,
          27.5496,
          32.1177,
          32.1177,
          29.743,
          32.1177,
          32.1358,
          32.1177,
          32.1177,
          32.1177,
          32.1177,
          32.767,
          29.743,
          32.767,
          32.767,
          30.5816,
          32.6904,
          32.767,
          32.1177,
          31.2089,
          31.2089,
          32.435,
          31.2089,
          32.435,
          32.767,
          32.0625,
          32.767,
          32.767,
          32.767,
          32.1177,
          29.743,
          32.1177,
          32.767,
          32.767,
          32.767,
          29.743,
          32.767,
          29.075,
          32.767,
          32.767,
          31.2089,
          31.2089,
          32.767,
          26.5921,
          32.767,
          25.9155,
          32.767,
          31.4684,
          31.2089,
          31.2089,
          29.743,
          29.075,
          31.2089,
          32.767,
          32.767,
          32.767,
          32.7934,
          31.2089,
          32.767,
          27.5496,
          29.743,
          29.743,
          32.767,
          32.5319,
          32.1358,
          32.767,
          32.767,
          31.05,
          31.05,
          27.8333,
          32.767,
          29.743,
          27.8333,
          32.126,
          27.8333,
          32.1177,
          32.1177,
          32.1177,
          29.1268,
          32.126,
          31.2089,
          32.0625,
          32.0625,
          32.0625,
          24.167,
          24.6552,
          27.8333,
          32.0625,
          32.767,
          31.7566,
          32.0625,
          32.767,
          27.3685,
          31.2089,
          29.743,
          27.0377,
          27.0377,
          27.0377,
          25.9155,
          30.7554,
          32.767,
          27.3815,
          27.3815,
          27.3815,
          26.1339,
          26.3948,
          26.3948,
          27.3815,
          31.7566,
          31.4684,
          32.767,
          32.0625,
          32.767,
          32.767,
          24.167,
          32.767,
          32.767,
          32.767,
          32.767,
          32.6904,
          32.767,
          26.1339,
          27.0377,
          26.1339,
          32.767,
          31.4324,
          30.6816,
          31.1397,
          30.65,
          30.7778,
          30.5167,
          30.5167,
          30.5167,
          30.5167,
          31.4684,
          26.5921,
          32.767,
          32.767,
          32.767,
          32.767,
          31.4684,
          32.767,
          32.767,
          32.767,
          31.7566,
          32.8925,
          32.435,
          26.1339,
          26.5921,
          26.3948,
          26.3948,
          31.4684,
          25.7812,
          27.3815,
          31.2319,
          31.4684,
          32.6878,
          31.2089,
          32.1457,
          21.9,
          32.767,
          25.9155,
          25.9155,
          25.9155,
          24.5,
          26.5921,
          25.9155,
          25.9155,
          26.1339,
          25.9155,
          26.1339,
          25.9155,
          27.5496,
          21.9,
          32.1457,
          32.1722,
          32.4764,
          32.7236,
          31.4451,
          32.5277,
          32.4764,
          32.7236,
          32.7549,
          32.8941,
          32.4764,
          29.0694,
          32.4764,
          29.9786,
          32.7549,
          32.8,
          32.8941,
          32.5277,
          32.6878,
          32.1722,
          32.5517,
          29.0694,
          32.5277,
          32.8133,
          32.5277,
          32.8817,
          32.8941,
          32.5319,
          32.9312,
          32.4764,
          32.1722,
          32.8133,
          32.8817,
          32.435,
          32.5319,
          32.8133,
          32.5277,
          32.435,
          32.7236,
          32.6878,
          32.1722,
          32.0333,
          32.8187,
          32.1722,
          29.1268,
          32.435,
          32.1722,
          32.8133,
          32.5319,
          32.8817,
          29.1268,
          32.0333,
          32.8925,
          32.7133,
          32.6878,
          32.8133,
          32.7461,
          32.8925,
          32.8133,
          32.5517,
          32.6381,
          32.435,
          32.5277,
          32.8925,
          32.85,
          32.6381,
          32.8133,
          32.7549,
          32.8133,
          32.7832,
          32.6878,
          32.435,
          32.8,
          32.844,
          32.1742,
          32.7871,
          32.0333,
          32.8,
          32.7043,
          32.5517,
          32.8286,
          32.5611,
          32.8133,
          32.8,
          32.8133,
          32.8817,
          32.8187,
          32.8333,
          32.8187,
          32.8133,
          32.0387,
          32.435,
          32.8925,
          32.7571,
          32.8817,
          32.8133,
          32.6878,
          32.1722,
          32.6381,
          32.6878,
          32.5517,
          32.6635,
          32.1722,
          32.6878,
          32.8133,
          32.8925,
          32.6878,
          32.8187,
          32.1722,
          32.7133,
          32.8941,
          32.5319,
          32.7571,
          32.1722,
          32.1457,
          32.6878,
          32.6635,
          32.435,
          32.7571,
          32.6635,
          32.7236,
          32.8817,
          32.8133,
          32.6635,
          32.8286,
          32.6878,
          32.8817,
          32.1722,
          32.7236,
          32.6635,
          32.8817,
          32.0592,
          32.4764,
          32.1722,
          32.1722,
          32.1722,
          32.8817,
          32.8925,
          32.5319,
          32.7133,
          32.1722,
          32.435,
          32.435,
          32.8817,
          32.8925,
          32.435,
          32.5611,
          27.5496,
          31.4451,
          32.1722,
          32.8817,
          32.1722,
          32.8941,
          24.9514,
          32.1722,
          32.5693,
          31.7566,
          32.6656,
          32.1722,
          31.9445,
          32.1722,
          32.1722,
          32.5319,
          32.8,
          32.8286,
          32.7236,
          31.4451,
          32.7133,
          32.7133,
          29.9786,
          29.075,
          32.8941,
          32.6878,
          32.5167,
          32.3754,
          32.7549,
          31.2089,
          32.7236,
          32.1722,
          32.8925,
          32.5319,
          32.4323,
          31.4516,
          31.4516,
          32.1722,
          31.4684,
          29.1981,
          32.3754,
          25.9155,
          32.8,
          31.2089,
          32.8133,
          32.7236,
          32.88,
          32.7236,
          25.9155,
          32.3754,
          32.5319,
          25.9155,
          32.9312,
          32.4323,
          32.9312,
          33.0737,
          32.8133,
          32.322,
          32.85,
          32.1722,
          25.9233,
          33.0737,
          32.3754,
          32.1722,
          32.7541,
          32.6381,
          32.1722,
          32.1457,
          25.9155,
          32.8133,
          32.4323,
          32.0333,
          32.1457,
          32.0333,
          32.5319,
          32.2667,
          32.1722,
          32.7549,
          32.8941,
          32.8941,
          32.8133,
          32.8133,
          32.7541,
          32.7133,
          32.7043,
          32.8286,
          32.8361,
          32.8286,
          32.8,
          32.6878,
          32.7461,
          32.7133,
          32.435,
          32.7236,
          32.5693,
          31.0635,
          30.5816,
          32.435,
          32.0333,
          32.0387,
          32.8941,
          32.8,
          32.8286,
          32.5319,
          31.4451,
          32.8133,
          31.2089,
          32.8941,
          32.3754,
          32.5872,
          32.7236,
          32.9312,
          32.7133,
          32.8817,
          32.7043,
          32.7541,
          32.5167,
          32.6656,
          32.8361,
          32.5277,
          32.8941,
          32.3754,
          32.8925,
          32.3754,
          32.8187,
          25.9155,
          32.8925,
          32.8,
          32.7549,
          32.8187,
          25.9155,
          32.1457,
          31.2089,
          32.3754,
          31.2319,
          26,
          32.8925,
          31.3679,
          32.5167,
          32.8941,
          32.5319,
          32.5167,
          32.8941,
          32.8925,
          27.0377,
          32.8925,
          32.8925,
          31.2089,
          32.1722,
          31.2089,
          26.1339,
          32.8941,
          32.7133,
          31.4684,
          31.2089,
          31.2089,
          32.8941,
          32.7549,
          31.2089,
          31.2089,
          32.8,
          32.7549,
          31.2089,
          32.8941,
          32.8187,
          31.2089,
          32.6789,
          32.6381,
          32.7549,
          32.6381,
          32.6878,
          32.7549,
          32.5319,
          32.6789,
          32.8817,
          32.1457,
          32.8,
          32.6635,
          32.8925,
          32.7461,
          32.8925,
          32.8925,
          32.1722,
          32.3754,
          32.4142,
          32.7133,
          32.8,
          32.5167,
          32.8941,
          32.8133,
          32.7549,
          32.8,
          32.8133,
          32.8941,
          31.4684,
          32.7549,
          31.2089,
          32.8,
          32.8817,
          32.5319,
          31.2089,
          32.3754,
          32.7549,
          32.8187,
          32.8133,
          32.8925,
          32.8925,
          32.947,
          32.8817,
          32.8941,
          32.8817,
          32.3754,
          32.1722,
          32.6656,
          31.0575,
          32.5319,
          31.9445,
          32.7541,
          32.7133,
          32.8817,
          32.7043,
          32.5872,
          32.844,
          31.2089,
          32.8,
          32.8817,
          24.5,
          26.1339,
          26.0874,
          32.8941,
          31.8472,
          26.1339,
          32.8133,
          32.6166,
          32.7667,
          32.8187,
          32.5319,
          32.8133,
          32.7549,
          31.2089,
          32.7133,
          32.6667,
          32.7549,
          31.2089,
          32.25,
          31.0635,
          32.8925,
          32.3754,
          32.3754,
          32.844,
          31.2319,
          32.844,
          32.8133,
          32.8,
          32.85,
          32.3754,
          32.8133,
          32.8,
          32.4674,
          32.7549,
          31.0575,
          32.8133,
          32.5822,
          32.7133,
          32.85,
          32.4674,
          32.5822,
          32.7549,
          32.8817,
          32.7571,
          32.6878,
          32.7571,
          32.8941,
          32.3754,
          31.0575,
          32.7133,
          31.2089,
          31.0575,
          31.2089,
          32.7133,
          32.844,
          32.8925,
          32.4764,
          32.8817,
          31.8472,
          31.4516,
          31.4004,
          31.4516,
          31.8685,
          31.4684,
          32.3754,
          32.8925,
          32.8925,
          31.4516,
          31.6483,
          32.8817,
          31.4516,
          32.4674,
          32.3754,
          31.2089,
          31.4029,
          31.2089,
          31.4,
          32.7427,
          32.8925,
          32.8286,
          32.6878,
          31.6483,
          31.4516,
          32.8133,
          31.4516,
          31.4,
          31.6483,
          31.2786,
          31.4029,
          32.4764,
          32.4764,
          31.6483,
          32.3754,
          31.4029,
          31.4029,
          32.8529,
          31.3933,
          31.4029,
          32.4764,
          32.9312,
          31.4029,
          32.435,
          31.4516,
          31.6483,
          32.4764,
          31.6483,
          31.7566,
          31.6483,
          31.4516,
          32.435,
          32.7567,
          32.4764,
          32.8902,
          32.435,
          32.4764,
          32.7549,
          32,
          31.9582,
          31.6483,
          31.9582,
          32.4764,
          26.4363,
          32.4764,
          32.435,
          32.435,
          32.435,
          32.435,
          32.5822,
          32.8817,
          32.1722,
          31.6483,
          32.4764,
          31.7566,
          31.7566,
          31.2319,
          32.4764,
          31.4451,
          30.9948,
          31.4451,
          31.7566,
          30.3844,
          31.3933,
          32.4764,
          30.3844,
          32.8524,
          30.3844,
          32.8524,
          32.7577,
          32.3754,
          32.8817,
          29.9786,
          31.6483,
          32.4764,
          31.6483,
          32.4764,
          32,
          31.6483,
          32.4764,
          31.3679,
          31.7566,
          29.9786,
          31.6483,
          32.8529,
          32.4764,
          32.4764,
          30.9948,
          31.398,
          29.9786,
          31.3933,
          31.7566,
          32.4764,
          29.1614,
          29.1614,
          32.4764,
          31.4029,
          32.435,
          32.1722,
          32.435,
          32.1722,
          32.1722,
          32.3754,
          32.435,
          32.3754,
          31.6483,
          31.4,
          31.3679,
          31.6483,
          31.3679,
          31.6483,
          29.1981,
          31.2319,
          31.3679,
          31.6483,
          31.4,
          31.2089,
          31.2319,
          31.2089,
          31.2598,
          32.4764,
          31.4029,
          29.743
         ],
         "xaxis": "x",
         "y": [
          23.27,
          14.4283,
          20.1293,
          20.0667,
          20.2592,
          20.1154,
          20.052,
          20.2592,
          20.1293,
          22.417,
          20.1293,
          20.1493,
          20.0667,
          20.2592,
          22.1809,
          20.1293,
          20.1293,
          20.1293,
          20.0667,
          20.0911,
          20.2592,
          13.159,
          20.1767,
          20.1293,
          20.2263,
          20.1293,
          20.2667,
          22.6367,
          20.1767,
          13.1739,
          13.18,
          22.6367,
          20.0667,
          22.6367,
          20.1767,
          23.9764,
          20.1977,
          13.0203,
          12.082,
          13.1739,
          22.6367,
          13.18,
          20.0575,
          20.1293,
          20.0667,
          20.1493,
          22.6367,
          20.1293,
          20.1293,
          20.0575,
          20.052,
          20.1493,
          13.159,
          22.6367,
          20.149,
          20.1493,
          20.1767,
          20.0667,
          12.7,
          20.0961,
          22.6367,
          20.0785,
          20.0785,
          12.5685,
          13.0213,
          13.0203,
          12.5716,
          13.0173,
          13.0297,
          13.18,
          13.276,
          12.4885,
          13.276,
          13.0203,
          11.8665,
          12.082,
          12.082,
          13.1739,
          12.082,
          11.7363,
          13.0203,
          11.8665,
          12.5685,
          12.7276,
          18.5667,
          16.595,
          11.8665,
          11.7363,
          11.7363,
          11.7363,
          13.0203,
          18.0772,
          18.0772,
          16.5887,
          22.6367,
          15.0925,
          18.3667,
          18.3667,
          18.0772,
          16.595,
          18.3667,
          18.0772,
          15.0925,
          12.0612,
          15.0925,
          22.6367,
          22.6367,
          16.0011,
          18.0772,
          16.0011,
          12.0612,
          12.3772,
          20.1292,
          20.2592,
          13.0902,
          20.1493,
          12.5685,
          22.6367,
          20.1293,
          20.1293,
          22.1809,
          22.1809,
          20.1292,
          20.1293,
          20.0575,
          16.595,
          18.0772,
          17.6667,
          17.9301,
          16.595,
          11.7679,
          22.6367,
          12.252,
          22.6367,
          16.5887,
          18.3667,
          18.5667,
          13.276,
          16.5887,
          20.052,
          13.276,
          17.5565,
          12.252,
          12.082,
          12.252,
          16.5887,
          12.252,
          12.252,
          13.276,
          12.082,
          13.276,
          16.0011,
          13.6332,
          12.252,
          13.0203,
          12.7,
          12.082,
          13.0203,
          11.7679,
          12.252,
          12.5685,
          22.6367,
          13.2198,
          12.7,
          11.9873,
          12.252,
          14.2714,
          13.0203,
          13.0722,
          13.0175,
          12.252,
          13.276,
          13.3506,
          22.6367,
          16.5887,
          12.252,
          22.6367,
          22.6367,
          16.5887,
          12.7013,
          20.1293,
          20.1292,
          20.0785,
          20.1767,
          13.0397,
          11.7679,
          22.6367,
          22.6367,
          22.3833,
          22.1809,
          13.0203,
          20.1293,
          20.052,
          20.0785,
          22.6367,
          20.052,
          16.5887,
          22.6367,
          16.5887,
          22.6367,
          22.6367,
          22.6367,
          22.6367,
          22.6727,
          20.2263,
          18.0772,
          16.5887,
          17.8354,
          17.2833,
          20.1293,
          20.0785,
          20.1292,
          16.5887,
          20.1293,
          22.6367,
          22.6367,
          20.1292,
          20.1293,
          20.1293,
          20.1293,
          22.6367,
          22.6727,
          22.6727,
          16.5887,
          20.1293,
          16.5887,
          16.5887,
          22.6367,
          20.1293,
          20.0785,
          20.1292,
          20.0667,
          20.0785,
          22.6367,
          20.091,
          20.0785,
          20.1292,
          20.0478,
          20.1293,
          20.1293,
          22.6367,
          20.1293,
          18.0772,
          16.5887,
          20.0927,
          20.052,
          20.0785,
          20.1293,
          20.1292,
          20.1493,
          20.1154,
          16.5887,
          22.9233,
          20.1293,
          20.1293,
          20.1293,
          22.9901,
          22.6792,
          22.6727,
          21.7551,
          22.6727,
          20.1293,
          16.5887,
          22.6367,
          20.2263,
          20.2263,
          20.2263,
          20.2263,
          20.2263,
          20.2263,
          20.1767,
          22.6367,
          20.2592,
          20.1293,
          20.2263,
          20.1293,
          20.2263,
          20.2263,
          20.2263,
          20.2263,
          18.3667,
          20.2592,
          20.1293,
          20.2263,
          16.5887,
          20.1292,
          16.5887,
          20.0667,
          19.9459,
          20.1293,
          20.2263,
          18.0772,
          20.1767,
          20.1767,
          20.2263,
          20.2263,
          20.1293,
          20.1293,
          22.6367,
          22.6367,
          22.6367,
          20.1293,
          22.6367,
          20.052,
          12.4885,
          20.1293,
          12.4885,
          16.5887,
          20.1293,
          13.9942,
          20.1293,
          20.1293,
          16.5887,
          20.1293,
          16.5887,
          20.335,
          20.1207,
          20.0667,
          20.0572,
          20.0785,
          20.0478,
          20.1293,
          15.2833,
          20.1293,
          16.5887,
          20.1293,
          20.1293,
          20.1293,
          20.0785,
          20.0162,
          20.052,
          20.0156,
          20.0785,
          20.0667,
          20.0162,
          22.6367,
          20.2263,
          22.6367,
          16.5887,
          20.1293,
          22.6367,
          16.5887,
          20.1293,
          20.1293,
          16.5887,
          22.6367,
          20.1293,
          15.5807,
          20.1293,
          22.6367,
          15.3097,
          20.0785,
          20.1293,
          20.1293,
          20.1293,
          16.3457,
          22.5631,
          20.1293,
          20.0785,
          16.5887,
          22.6367,
          16.6625,
          20.1293,
          16.5887,
          22.6367,
          22.6367,
          20.1293,
          20.2263,
          16.5887,
          16.5887,
          20.2263,
          20.2263,
          20.0162,
          20.2263,
          20.2263,
          20.0162,
          20.0667,
          20.2263,
          20.1293,
          16.5887,
          20.2263,
          20.2263,
          20.0162,
          20.1293,
          16.5887,
          22.6367,
          20.2263,
          20.2263,
          22.6367,
          16.5887,
          20.2375,
          22.6367,
          20.2263,
          20.2263,
          16.5887,
          20.153,
          20.153,
          13.18,
          16.5887,
          22.6367,
          20.0162,
          16.5887,
          16.5887,
          20.0162,
          16.5887,
          16.5887,
          20.0667,
          16.5887,
          16.5887,
          16.5887,
          16.5887,
          13.9942,
          16.5887,
          16.5887,
          16.5887,
          20.0162,
          20.0162,
          20.0162,
          16.6589,
          16.5887,
          16.5887,
          16.5887,
          16.5887,
          16.5887,
          16.5887,
          16.5887,
          22.6367,
          16.5887,
          20.1293,
          20.2263,
          18.5667,
          20.1202,
          16.5887,
          20.1293,
          16.5887,
          22.6367,
          16.5887,
          23.9764,
          16.5887,
          18.0772,
          16.5887,
          15.7827,
          16.5887,
          16.5887,
          20.0162,
          16.5887,
          22.6367,
          22.6367,
          20.1293,
          16.5887,
          20.0162,
          16.5887,
          16.5887,
          16.5887,
          16.5887,
          16.5887,
          16.5887,
          16.5887,
          20.0162,
          16.5887,
          16.5887,
          16.5887,
          16.5887,
          16.5887,
          16.5887,
          16.5887,
          17.7478,
          16.5887,
          22.6367,
          16.5887,
          16.5887,
          16.5887,
          16.5887,
          20.4189,
          16.5887,
          16.5887,
          20.1292,
          20.257,
          20.0162,
          14.0167,
          20.1293,
          16.5887,
          16.5887,
          20.0162,
          20.0162,
          16.5887,
          16.5887,
          16.5887,
          20.4189,
          13.9942,
          16.5887,
          16.5887,
          16.5887,
          16.5887,
          20.0162,
          16.5887,
          16.5887,
          16.5887,
          16.5887,
          18.3667,
          17.8354,
          16.0011,
          15.7827,
          20.0162,
          15.9477,
          15.9477,
          20.1293,
          15.7827,
          20.0785,
          17.7478,
          20.0162,
          14.6274,
          15.9477,
          20.0162,
          20.1293,
          20.0162,
          20.0162,
          22.6367,
          20.0162,
          22.6367,
          22.6367,
          16.5887,
          13.9942,
          22.6367,
          22.6367,
          22.6367,
          22.6367,
          20.1293,
          20.0162,
          20.1293,
          20.1293,
          16.0011,
          15.9477,
          17.25,
          17.25,
          15.9477,
          15.9477,
          20.0162,
          20.0162,
          17.8354,
          20.0162,
          18.5667,
          18.0772,
          17.2833,
          18.3667,
          22.6367,
          20.0162,
          18.5667,
          20.0162,
          18.0772,
          18.3667,
          18.3667,
          18.0772,
          17.8354,
          19.1975,
          18.0772,
          18.3667,
          17.8354,
          18.5667,
          18.0772,
          18.5667,
          18.3667,
          16.0011,
          20.0785,
          20.1293,
          22.6367,
          22.6727,
          22.6727,
          20.1293,
          20.0785,
          22.6367,
          22.6367,
          20.1293,
          16.0011,
          14.2714,
          14.6274,
          14.6274,
          15.7827,
          14.8819,
          14.6274,
          15.7827,
          14.2714,
          14.8819,
          14.6274,
          14.4283,
          22.6727,
          14.4283,
          22.6367,
          14.6274,
          20.1293,
          14.4283,
          14.6274,
          22.6727,
          14.6274,
          22.6727,
          14.6274,
          22.6367,
          20.1293,
          20.1293,
          22.6367,
          14.4283,
          20.1293,
          20.0785,
          20.1293,
          14.6274,
          16.0011,
          20.1293,
          14.6274,
          14.4283,
          22.6367,
          14.4283,
          20.1293,
          22.6367,
          20.0785,
          24.9667,
          20.1293,
          20.1293,
          17.7478,
          17.7478,
          14.2714,
          16.0011,
          20.1293,
          15.7827,
          20.1293,
          17.7478,
          16.0011,
          15.9477,
          22.6367,
          22.6367,
          16.0011,
          15.9477,
          22.6367,
          20.1293,
          22.6367,
          15.9477,
          15.9477,
          16.0011,
          15.9477,
          15.7827,
          20.0785,
          20.1293,
          20.1293,
          20.1293,
          20.1293,
          15.0925,
          14.4283,
          20.1293,
          20.0785,
          20.1293,
          20.1293,
          20.1293,
          20.1293,
          20.1293,
          14.2714,
          20.1293,
          20.1293,
          24.5176,
          20.1293,
          20.0785,
          20.1293,
          20.1293,
          20.1293,
          20.1293,
          22.6367,
          24.5176,
          22.6367,
          22.6367,
          15.3958,
          22.6727,
          22.6367,
          20.1293,
          16.5887,
          16.5887,
          13.6332,
          16.5887,
          13.6332,
          22.6367,
          23.0934,
          22.6367,
          22.6367,
          22.6367,
          20.1293,
          24.5176,
          20.1293,
          22.6367,
          22.6367,
          22.6367,
          24.5176,
          22.6367,
          17.7478,
          22.6367,
          22.6367,
          16.5887,
          16.5887,
          22.6367,
          12.7805,
          22.6367,
          13.9184,
          22.6367,
          14.6312,
          16.5887,
          16.5887,
          24.5176,
          17.7478,
          16.5887,
          22.6367,
          22.6367,
          22.6367,
          12.4885,
          16.5887,
          22.6367,
          14.2714,
          24.5176,
          24.5176,
          22.6367,
          13.0175,
          20.0785,
          22.6367,
          22.6367,
          17.2833,
          17.2833,
          16.35,
          22.6367,
          24.5176,
          16.35,
          20.0659,
          16.35,
          20.1293,
          20.1293,
          20.1293,
          15.9477,
          20.0659,
          16.5887,
          23.0934,
          23.0934,
          23.0934,
          23.27,
          20.4189,
          16.35,
          23.0934,
          22.6367,
          13.9942,
          23.0934,
          22.6367,
          14.9079,
          16.5887,
          24.5176,
          14.4283,
          14.4283,
          14.4283,
          13.9184,
          20.2263,
          22.6367,
          17.4573,
          17.4573,
          17.4573,
          14.7372,
          15.7848,
          15.7848,
          17.4573,
          13.9942,
          14.6312,
          22.6367,
          23.0934,
          22.6367,
          22.6367,
          23.27,
          22.6367,
          22.6367,
          22.6367,
          22.6367,
          22.6727,
          22.6367,
          14.7372,
          14.4283,
          14.7372,
          22.6367,
          13.8578,
          16.5779,
          14.5868,
          18.25,
          17.8354,
          18.5667,
          18.5667,
          18.5667,
          18.5667,
          14.6312,
          12.7805,
          22.6367,
          22.6367,
          22.6367,
          22.6367,
          14.6312,
          22.6367,
          22.6367,
          22.6367,
          13.9942,
          13.18,
          13.6332,
          14.7372,
          12.7805,
          15.7848,
          15.7848,
          14.6312,
          10.5613,
          17.4573,
          16.2109,
          14.6312,
          13.1739,
          16.5887,
          13.0991,
          24.9667,
          22.6367,
          13.9184,
          13.9184,
          13.9184,
          13,
          12.7805,
          13.9184,
          13.9184,
          14.7372,
          13.9184,
          14.7372,
          13.9184,
          14.2714,
          24.9667,
          13.0991,
          13.0203,
          11.7679,
          13.2553,
          12.9801,
          13.2198,
          11.7679,
          13.2553,
          13.1427,
          13.276,
          11.7679,
          15.7827,
          11.7679,
          14.2601,
          13.1427,
          13.2167,
          13.276,
          13.2198,
          13.1739,
          13.0203,
          13.4419,
          15.7827,
          13.2198,
          13.2697,
          13.2198,
          13.3506,
          13.276,
          13.0175,
          12.082,
          11.7679,
          13.0203,
          13.2697,
          13.3506,
          13.6332,
          13.0175,
          13.2697,
          13.2198,
          13.6332,
          13.2553,
          13.1739,
          13.0203,
          12.8667,
          13.0173,
          13.0203,
          15.9477,
          13.6332,
          13.0203,
          13.2697,
          13.0175,
          13.3506,
          15.9477,
          12.8667,
          13.18,
          13.0722,
          13.1739,
          13.2697,
          13.2086,
          13.18,
          13.2697,
          13.4419,
          13.0719,
          13.6332,
          13.2198,
          13.18,
          13.1667,
          13.0719,
          13.2697,
          13.1427,
          13.2697,
          13.4882,
          13.1739,
          13.6332,
          13.2167,
          13.1906,
          12.8639,
          13.6318,
          12.8667,
          13.2167,
          13.4764,
          13.4419,
          13.2141,
          13.2536,
          13.2697,
          13.2167,
          13.2697,
          13.3506,
          13.0173,
          13.1079,
          13.0173,
          13.2697,
          13.2442,
          13.6332,
          13.18,
          12.7276,
          13.3506,
          13.2697,
          13.1739,
          13.0203,
          13.0719,
          13.1739,
          13.4419,
          13.159,
          13.0203,
          13.1739,
          13.2697,
          13.18,
          13.1739,
          13.0173,
          13.0203,
          13.0722,
          13.276,
          13.0175,
          12.7276,
          13.0203,
          13.0991,
          13.1739,
          13.159,
          13.6332,
          12.7276,
          13.159,
          13.2553,
          13.3506,
          13.2697,
          13.159,
          13.2141,
          13.1739,
          13.3506,
          13.0203,
          13.2553,
          13.159,
          13.3506,
          12.8895,
          11.7679,
          13.0203,
          13.0203,
          13.0203,
          13.3506,
          13.18,
          13.0175,
          13.0722,
          13.0203,
          13.6332,
          13.6332,
          13.3506,
          13.18,
          13.6332,
          13.2536,
          14.2714,
          12.9801,
          13.0203,
          13.3506,
          13.0203,
          13.276,
          14.6486,
          13.0203,
          13.1013,
          13.9942,
          13.2922,
          13.0203,
          12.9887,
          13.0203,
          13.0203,
          13.0175,
          13.2167,
          13.2141,
          13.2553,
          12.9801,
          13.0722,
          13.0722,
          14.2601,
          17.7478,
          13.276,
          13.1739,
          13.1667,
          15.0925,
          13.1427,
          16.5887,
          13.2553,
          13.0203,
          13.18,
          13.0175,
          12.9213,
          15.2474,
          15.2474,
          13.0203,
          14.6312,
          16.0011,
          15.0925,
          13.9184,
          13.2167,
          16.5887,
          13.2697,
          13.2553,
          13.2323,
          13.2553,
          13.9184,
          15.0925,
          13.0175,
          13.9184,
          12.082,
          12.9213,
          12.082,
          11.7363,
          13.2697,
          13.0397,
          13.1667,
          13.0203,
          14.4206,
          11.7363,
          15.0925,
          13.0203,
          13.0867,
          13.0719,
          13.0203,
          13.0991,
          13.9184,
          13.2697,
          12.9213,
          12.8667,
          13.0991,
          12.8667,
          13.0175,
          13.0167,
          13.0203,
          13.1427,
          13.276,
          13.276,
          13.2697,
          13.2697,
          13.0867,
          13.0722,
          13.4764,
          13.2141,
          13.0722,
          13.2141,
          13.2167,
          13.1739,
          13.2086,
          13.0722,
          13.6332,
          13.2553,
          13.1013,
          16.595,
          15.3958,
          13.6332,
          12.8667,
          13.2442,
          13.276,
          13.2167,
          13.2141,
          13.0175,
          12.9801,
          13.2697,
          16.5887,
          13.276,
          15.0925,
          14.3469,
          13.2553,
          12.082,
          13.0722,
          13.3506,
          13.4764,
          13.0867,
          13.1667,
          13.2922,
          13.0722,
          13.2198,
          13.276,
          15.0925,
          13.18,
          15.0925,
          13.0173,
          13.9184,
          13.18,
          13.2167,
          13.1427,
          13.0173,
          13.9184,
          13.0991,
          16.5887,
          15.0925,
          16.2109,
          13.5,
          13.18,
          15.2269,
          13.1667,
          13.276,
          13.0175,
          13.1667,
          13.276,
          13.18,
          14.4283,
          13.18,
          13.18,
          16.5887,
          13.0203,
          16.5887,
          14.7372,
          13.276,
          13.0722,
          14.6312,
          16.5887,
          16.5887,
          13.276,
          13.1427,
          16.5887,
          16.5887,
          13.2167,
          13.1427,
          16.5887,
          13.276,
          13.0173,
          16.5887,
          12.8733,
          13.0719,
          13.1427,
          13.0719,
          13.1739,
          13.1427,
          13.0175,
          12.8733,
          13.3506,
          13.0991,
          13.2167,
          13.159,
          13.18,
          13.2086,
          13.18,
          13.18,
          13.0203,
          15.0925,
          14.7934,
          13.0722,
          13.2167,
          13.1667,
          13.276,
          13.2697,
          13.1427,
          13.2167,
          13.2697,
          13.276,
          14.6312,
          13.1427,
          16.5887,
          13.2167,
          13.3506,
          13.0175,
          16.5887,
          15.0925,
          13.1427,
          13.0173,
          13.2697,
          13.18,
          13.18,
          11.8665,
          13.3506,
          13.276,
          13.3506,
          15.0925,
          13.0203,
          13.2922,
          16.6625,
          13.0175,
          12.9887,
          13.0867,
          13.0722,
          13.3506,
          13.4764,
          14.3469,
          13.1906,
          16.5887,
          13.2167,
          13.3506,
          13,
          14.7372,
          13.5087,
          13.276,
          11.3306,
          14.7372,
          13.2697,
          13.05,
          12.6666,
          13.0173,
          13.0175,
          13.2697,
          13.1427,
          16.5887,
          13.0722,
          13.05,
          13.1427,
          16.5887,
          15.0833,
          16.595,
          13.18,
          15.0925,
          15.0925,
          13.1906,
          16.2109,
          13.1906,
          13.2697,
          13.2167,
          13.1667,
          15.0925,
          13.2697,
          13.2167,
          14.5687,
          13.1427,
          16.6625,
          13.2697,
          14.04,
          13.0722,
          13.1667,
          14.5687,
          14.04,
          13.1427,
          13.3506,
          12.7276,
          13.1739,
          12.7276,
          13.276,
          15.0925,
          16.6625,
          13.0722,
          16.5887,
          16.6625,
          16.5887,
          13.0722,
          13.1906,
          13.18,
          11.7679,
          13.3506,
          11.3306,
          15.2474,
          15.7274,
          15.2474,
          10.9812,
          14.6312,
          15.0925,
          13.18,
          13.18,
          15.2474,
          15.276,
          13.3506,
          15.2474,
          14.5687,
          15.0925,
          16.5887,
          15.5807,
          16.5887,
          15.2833,
          13.7128,
          13.18,
          13.2141,
          13.1739,
          15.276,
          15.2474,
          13.2697,
          15.2474,
          15.2833,
          15.276,
          16.0114,
          15.5807,
          11.7679,
          11.7679,
          15.276,
          15.0925,
          15.5807,
          15.5807,
          12.0612,
          13.7408,
          15.5807,
          11.7679,
          12.082,
          15.5807,
          13.6332,
          15.2474,
          15.276,
          11.7679,
          15.276,
          13.9942,
          15.276,
          15.2474,
          13.6332,
          12.5716,
          11.7679,
          13.2322,
          13.6332,
          11.7679,
          13.1427,
          11.6667,
          12.0203,
          15.276,
          12.0203,
          11.7679,
          14.2758,
          11.7679,
          13.6332,
          13.6332,
          13.6332,
          13.6332,
          14.04,
          13.3506,
          13.0203,
          15.276,
          11.7679,
          13.9942,
          13.9942,
          16.2109,
          11.7679,
          12.9801,
          13.5802,
          12.9801,
          13.9942,
          13.5843,
          13.7408,
          11.7679,
          13.5843,
          12.491,
          13.5843,
          12.491,
          12.3772,
          15.0925,
          13.3506,
          14.2601,
          15.276,
          11.7679,
          15.276,
          11.7679,
          12.1667,
          15.276,
          11.7679,
          15.2269,
          13.9942,
          14.2601,
          15.276,
          12.0612,
          11.7679,
          11.7679,
          13.5802,
          13.327,
          14.2601,
          13.7408,
          13.9942,
          11.7679,
          16.139,
          16.139,
          11.7679,
          15.5807,
          13.6332,
          13.0203,
          13.6332,
          13.0203,
          13.0203,
          15.0925,
          13.6332,
          15.0925,
          15.276,
          15.2833,
          15.2269,
          15.276,
          15.2269,
          15.276,
          16.0011,
          16.2109,
          15.2269,
          15.276,
          15.2833,
          16.5887,
          16.2109,
          16.5887,
          16.0942,
          11.7679,
          15.5807,
          24.5176
         ],
         "yaxis": "y"
        },
        {
         "hovertemplate": "type_of_strike=Drone Strike<br>latitude=%{x}<br>longitude=%{y}<br>fatalities=%{marker.size}<extra></extra>",
         "legendgroup": "Drone Strike",
         "marker": {
          "color": "#EF553B",
          "size": [
           4,
           0,
           2,
           2,
           0,
           2,
           10,
           2,
           0,
           0,
           0,
           0,
           1,
           0,
           0,
           6,
           0,
           0,
           7,
           6,
           0,
           43,
           0,
           0,
           6,
           0,
           0,
           8,
           0,
           0,
           0,
           0,
           0,
           0,
           0,
           0,
           0,
           0,
           3,
           4,
           0,
           0,
           0,
           3,
           5,
           12,
           0,
           0,
           0
          ],
          "sizemode": "area",
          "sizeref": 0.225,
          "symbol": "circle"
         },
         "mode": "markers",
         "name": "Drone Strike",
         "showlegend": true,
         "type": "scattergl",
         "x": [
          31.2089,
          32.0639,
          32.029,
          32.029,
          32.1177,
          32.1358,
          27.8333,
          26.5921,
          32.0625,
          32.767,
          32.0625,
          32.0625,
          32.767,
          32.0625,
          32.767,
          32.767,
          32.8941,
          32.8941,
          32.6635,
          32.7236,
          29.1981,
          25.9155,
          32.5319,
          32.3754,
          29.1981,
          32.3754,
          32.3754,
          32.7236,
          32.3754,
          32.3754,
          31.6483,
          32.7236,
          32.5167,
          31.6483,
          31.3933,
          31.7566,
          31.7566,
          31.7566,
          31.3933,
          31.398,
          32.8524,
          32.4764,
          32.8941,
          31.7566,
          32.1722,
          32.6878,
          31.2089,
          29.9786,
          31.9223
         ],
         "xaxis": "x",
         "y": [
          16.5887,
          20.052,
          20.0162,
          20.0162,
          20.1293,
          20.0785,
          16.35,
          12.7805,
          23.0934,
          22.6367,
          23.0934,
          23.0934,
          22.6367,
          23.0934,
          22.6367,
          22.6367,
          13.276,
          13.276,
          13.159,
          13.2553,
          16.0011,
          13.9184,
          13.0175,
          15.0925,
          16.0011,
          15.0925,
          15.0925,
          13.2553,
          15.0925,
          15.0925,
          15.276,
          13.2553,
          13.1667,
          15.276,
          13.7408,
          13.9942,
          13.9942,
          13.9942,
          13.7408,
          13.327,
          12.491,
          11.7679,
          13.276,
          13.9942,
          13.0203,
          13.1739,
          16.5887,
          14.2601,
          12.252
         ],
         "yaxis": "y"
        }
       ],
       "layout": {
        "legend": {
         "itemsizing": "constant",
         "title": {
          "text": "type_of_strike"
         },
         "tracegroupgap": 0
        },
        "margin": {
         "t": 60
        },
        "template": {
         "data": {
          "bar": [
           {
            "error_x": {
             "color": "#2a3f5f"
            },
            "error_y": {
             "color": "#2a3f5f"
            },
            "marker": {
             "line": {
              "color": "#E5ECF6",
              "width": 0.5
             }
            },
            "type": "bar"
           }
          ],
          "barpolar": [
           {
            "marker": {
             "line": {
              "color": "#E5ECF6",
              "width": 0.5
             }
            },
            "type": "barpolar"
           }
          ],
          "carpet": [
           {
            "aaxis": {
             "endlinecolor": "#2a3f5f",
             "gridcolor": "white",
             "linecolor": "white",
             "minorgridcolor": "white",
             "startlinecolor": "#2a3f5f"
            },
            "baxis": {
             "endlinecolor": "#2a3f5f",
             "gridcolor": "white",
             "linecolor": "white",
             "minorgridcolor": "white",
             "startlinecolor": "#2a3f5f"
            },
            "type": "carpet"
           }
          ],
          "choropleth": [
           {
            "colorbar": {
             "outlinewidth": 0,
             "ticks": ""
            },
            "type": "choropleth"
           }
          ],
          "contour": [
           {
            "colorbar": {
             "outlinewidth": 0,
             "ticks": ""
            },
            "colorscale": [
             [
              0,
              "#0d0887"
             ],
             [
              0.1111111111111111,
              "#46039f"
             ],
             [
              0.2222222222222222,
              "#7201a8"
             ],
             [
              0.3333333333333333,
              "#9c179e"
             ],
             [
              0.4444444444444444,
              "#bd3786"
             ],
             [
              0.5555555555555556,
              "#d8576b"
             ],
             [
              0.6666666666666666,
              "#ed7953"
             ],
             [
              0.7777777777777778,
              "#fb9f3a"
             ],
             [
              0.8888888888888888,
              "#fdca26"
             ],
             [
              1,
              "#f0f921"
             ]
            ],
            "type": "contour"
           }
          ],
          "contourcarpet": [
           {
            "colorbar": {
             "outlinewidth": 0,
             "ticks": ""
            },
            "type": "contourcarpet"
           }
          ],
          "heatmap": [
           {
            "colorbar": {
             "outlinewidth": 0,
             "ticks": ""
            },
            "colorscale": [
             [
              0,
              "#0d0887"
             ],
             [
              0.1111111111111111,
              "#46039f"
             ],
             [
              0.2222222222222222,
              "#7201a8"
             ],
             [
              0.3333333333333333,
              "#9c179e"
             ],
             [
              0.4444444444444444,
              "#bd3786"
             ],
             [
              0.5555555555555556,
              "#d8576b"
             ],
             [
              0.6666666666666666,
              "#ed7953"
             ],
             [
              0.7777777777777778,
              "#fb9f3a"
             ],
             [
              0.8888888888888888,
              "#fdca26"
             ],
             [
              1,
              "#f0f921"
             ]
            ],
            "type": "heatmap"
           }
          ],
          "heatmapgl": [
           {
            "colorbar": {
             "outlinewidth": 0,
             "ticks": ""
            },
            "colorscale": [
             [
              0,
              "#0d0887"
             ],
             [
              0.1111111111111111,
              "#46039f"
             ],
             [
              0.2222222222222222,
              "#7201a8"
             ],
             [
              0.3333333333333333,
              "#9c179e"
             ],
             [
              0.4444444444444444,
              "#bd3786"
             ],
             [
              0.5555555555555556,
              "#d8576b"
             ],
             [
              0.6666666666666666,
              "#ed7953"
             ],
             [
              0.7777777777777778,
              "#fb9f3a"
             ],
             [
              0.8888888888888888,
              "#fdca26"
             ],
             [
              1,
              "#f0f921"
             ]
            ],
            "type": "heatmapgl"
           }
          ],
          "histogram": [
           {
            "marker": {
             "colorbar": {
              "outlinewidth": 0,
              "ticks": ""
             }
            },
            "type": "histogram"
           }
          ],
          "histogram2d": [
           {
            "colorbar": {
             "outlinewidth": 0,
             "ticks": ""
            },
            "colorscale": [
             [
              0,
              "#0d0887"
             ],
             [
              0.1111111111111111,
              "#46039f"
             ],
             [
              0.2222222222222222,
              "#7201a8"
             ],
             [
              0.3333333333333333,
              "#9c179e"
             ],
             [
              0.4444444444444444,
              "#bd3786"
             ],
             [
              0.5555555555555556,
              "#d8576b"
             ],
             [
              0.6666666666666666,
              "#ed7953"
             ],
             [
              0.7777777777777778,
              "#fb9f3a"
             ],
             [
              0.8888888888888888,
              "#fdca26"
             ],
             [
              1,
              "#f0f921"
             ]
            ],
            "type": "histogram2d"
           }
          ],
          "histogram2dcontour": [
           {
            "colorbar": {
             "outlinewidth": 0,
             "ticks": ""
            },
            "colorscale": [
             [
              0,
              "#0d0887"
             ],
             [
              0.1111111111111111,
              "#46039f"
             ],
             [
              0.2222222222222222,
              "#7201a8"
             ],
             [
              0.3333333333333333,
              "#9c179e"
             ],
             [
              0.4444444444444444,
              "#bd3786"
             ],
             [
              0.5555555555555556,
              "#d8576b"
             ],
             [
              0.6666666666666666,
              "#ed7953"
             ],
             [
              0.7777777777777778,
              "#fb9f3a"
             ],
             [
              0.8888888888888888,
              "#fdca26"
             ],
             [
              1,
              "#f0f921"
             ]
            ],
            "type": "histogram2dcontour"
           }
          ],
          "mesh3d": [
           {
            "colorbar": {
             "outlinewidth": 0,
             "ticks": ""
            },
            "type": "mesh3d"
           }
          ],
          "parcoords": [
           {
            "line": {
             "colorbar": {
              "outlinewidth": 0,
              "ticks": ""
             }
            },
            "type": "parcoords"
           }
          ],
          "pie": [
           {
            "automargin": true,
            "type": "pie"
           }
          ],
          "scatter": [
           {
            "marker": {
             "colorbar": {
              "outlinewidth": 0,
              "ticks": ""
             }
            },
            "type": "scatter"
           }
          ],
          "scatter3d": [
           {
            "line": {
             "colorbar": {
              "outlinewidth": 0,
              "ticks": ""
             }
            },
            "marker": {
             "colorbar": {
              "outlinewidth": 0,
              "ticks": ""
             }
            },
            "type": "scatter3d"
           }
          ],
          "scattercarpet": [
           {
            "marker": {
             "colorbar": {
              "outlinewidth": 0,
              "ticks": ""
             }
            },
            "type": "scattercarpet"
           }
          ],
          "scattergeo": [
           {
            "marker": {
             "colorbar": {
              "outlinewidth": 0,
              "ticks": ""
             }
            },
            "type": "scattergeo"
           }
          ],
          "scattergl": [
           {
            "marker": {
             "colorbar": {
              "outlinewidth": 0,
              "ticks": ""
             }
            },
            "type": "scattergl"
           }
          ],
          "scattermapbox": [
           {
            "marker": {
             "colorbar": {
              "outlinewidth": 0,
              "ticks": ""
             }
            },
            "type": "scattermapbox"
           }
          ],
          "scatterpolar": [
           {
            "marker": {
             "colorbar": {
              "outlinewidth": 0,
              "ticks": ""
             }
            },
            "type": "scatterpolar"
           }
          ],
          "scatterpolargl": [
           {
            "marker": {
             "colorbar": {
              "outlinewidth": 0,
              "ticks": ""
             }
            },
            "type": "scatterpolargl"
           }
          ],
          "scatterternary": [
           {
            "marker": {
             "colorbar": {
              "outlinewidth": 0,
              "ticks": ""
             }
            },
            "type": "scatterternary"
           }
          ],
          "surface": [
           {
            "colorbar": {
             "outlinewidth": 0,
             "ticks": ""
            },
            "colorscale": [
             [
              0,
              "#0d0887"
             ],
             [
              0.1111111111111111,
              "#46039f"
             ],
             [
              0.2222222222222222,
              "#7201a8"
             ],
             [
              0.3333333333333333,
              "#9c179e"
             ],
             [
              0.4444444444444444,
              "#bd3786"
             ],
             [
              0.5555555555555556,
              "#d8576b"
             ],
             [
              0.6666666666666666,
              "#ed7953"
             ],
             [
              0.7777777777777778,
              "#fb9f3a"
             ],
             [
              0.8888888888888888,
              "#fdca26"
             ],
             [
              1,
              "#f0f921"
             ]
            ],
            "type": "surface"
           }
          ],
          "table": [
           {
            "cells": {
             "fill": {
              "color": "#EBF0F8"
             },
             "line": {
              "color": "white"
             }
            },
            "header": {
             "fill": {
              "color": "#C8D4E3"
             },
             "line": {
              "color": "white"
             }
            },
            "type": "table"
           }
          ]
         },
         "layout": {
          "annotationdefaults": {
           "arrowcolor": "#2a3f5f",
           "arrowhead": 0,
           "arrowwidth": 1
          },
          "autotypenumbers": "strict",
          "coloraxis": {
           "colorbar": {
            "outlinewidth": 0,
            "ticks": ""
           }
          },
          "colorscale": {
           "diverging": [
            [
             0,
             "#8e0152"
            ],
            [
             0.1,
             "#c51b7d"
            ],
            [
             0.2,
             "#de77ae"
            ],
            [
             0.3,
             "#f1b6da"
            ],
            [
             0.4,
             "#fde0ef"
            ],
            [
             0.5,
             "#f7f7f7"
            ],
            [
             0.6,
             "#e6f5d0"
            ],
            [
             0.7,
             "#b8e186"
            ],
            [
             0.8,
             "#7fbc41"
            ],
            [
             0.9,
             "#4d9221"
            ],
            [
             1,
             "#276419"
            ]
           ],
           "sequential": [
            [
             0,
             "#0d0887"
            ],
            [
             0.1111111111111111,
             "#46039f"
            ],
            [
             0.2222222222222222,
             "#7201a8"
            ],
            [
             0.3333333333333333,
             "#9c179e"
            ],
            [
             0.4444444444444444,
             "#bd3786"
            ],
            [
             0.5555555555555556,
             "#d8576b"
            ],
            [
             0.6666666666666666,
             "#ed7953"
            ],
            [
             0.7777777777777778,
             "#fb9f3a"
            ],
            [
             0.8888888888888888,
             "#fdca26"
            ],
            [
             1,
             "#f0f921"
            ]
           ],
           "sequentialminus": [
            [
             0,
             "#0d0887"
            ],
            [
             0.1111111111111111,
             "#46039f"
            ],
            [
             0.2222222222222222,
             "#7201a8"
            ],
            [
             0.3333333333333333,
             "#9c179e"
            ],
            [
             0.4444444444444444,
             "#bd3786"
            ],
            [
             0.5555555555555556,
             "#d8576b"
            ],
            [
             0.6666666666666666,
             "#ed7953"
            ],
            [
             0.7777777777777778,
             "#fb9f3a"
            ],
            [
             0.8888888888888888,
             "#fdca26"
            ],
            [
             1,
             "#f0f921"
            ]
           ]
          },
          "colorway": [
           "#636efa",
           "#EF553B",
           "#00cc96",
           "#ab63fa",
           "#FFA15A",
           "#19d3f3",
           "#FF6692",
           "#B6E880",
           "#FF97FF",
           "#FECB52"
          ],
          "font": {
           "color": "#2a3f5f"
          },
          "geo": {
           "bgcolor": "white",
           "lakecolor": "white",
           "landcolor": "#E5ECF6",
           "showlakes": true,
           "showland": true,
           "subunitcolor": "white"
          },
          "hoverlabel": {
           "align": "left"
          },
          "hovermode": "closest",
          "mapbox": {
           "style": "light"
          },
          "paper_bgcolor": "white",
          "plot_bgcolor": "#E5ECF6",
          "polar": {
           "angularaxis": {
            "gridcolor": "white",
            "linecolor": "white",
            "ticks": ""
           },
           "bgcolor": "#E5ECF6",
           "radialaxis": {
            "gridcolor": "white",
            "linecolor": "white",
            "ticks": ""
           }
          },
          "scene": {
           "xaxis": {
            "backgroundcolor": "#E5ECF6",
            "gridcolor": "white",
            "gridwidth": 2,
            "linecolor": "white",
            "showbackground": true,
            "ticks": "",
            "zerolinecolor": "white"
           },
           "yaxis": {
            "backgroundcolor": "#E5ECF6",
            "gridcolor": "white",
            "gridwidth": 2,
            "linecolor": "white",
            "showbackground": true,
            "ticks": "",
            "zerolinecolor": "white"
           },
           "zaxis": {
            "backgroundcolor": "#E5ECF6",
            "gridcolor": "white",
            "gridwidth": 2,
            "linecolor": "white",
            "showbackground": true,
            "ticks": "",
            "zerolinecolor": "white"
           }
          },
          "shapedefaults": {
           "line": {
            "color": "#2a3f5f"
           }
          },
          "ternary": {
           "aaxis": {
            "gridcolor": "white",
            "linecolor": "white",
            "ticks": ""
           },
           "baxis": {
            "gridcolor": "white",
            "linecolor": "white",
            "ticks": ""
           },
           "bgcolor": "#E5ECF6",
           "caxis": {
            "gridcolor": "white",
            "linecolor": "white",
            "ticks": ""
           }
          },
          "title": {
           "x": 0.05
          },
          "xaxis": {
           "automargin": true,
           "gridcolor": "white",
           "linecolor": "white",
           "ticks": "",
           "title": {
            "standoff": 15
           },
           "zerolinecolor": "white",
           "zerolinewidth": 2
          },
          "yaxis": {
           "automargin": true,
           "gridcolor": "white",
           "linecolor": "white",
           "ticks": "",
           "title": {
            "standoff": 15
           },
           "zerolinecolor": "white",
           "zerolinewidth": 2
          }
         }
        },
        "xaxis": {
         "anchor": "y",
         "domain": [
          0,
          1
         ],
         "title": {
          "text": "latitude"
         }
        },
        "yaxis": {
         "anchor": "x",
         "domain": [
          0,
          1
         ],
         "title": {
          "text": "longitude"
         }
        }
       }
      }
     },
     "metadata": {}
    }
   ],
   "source": [
    "fig = px.scatter(df_libya, x=\"latitude\", y=\"longitude\", color='type_of_strike',size='fatalities')\n",
    "fig.show()"
   ]
  },
  {
   "cell_type": "code",
   "execution_count": null,
   "metadata": {},
   "outputs": [],
   "source": []
  },
  {
   "cell_type": "code",
   "execution_count": 93,
   "metadata": {},
   "outputs": [],
   "source": [
    "#acled_countries = list(acled['actor1'])\n",
    "#sipri_countries = list(sipri['buyer'])"
   ]
  },
  {
   "cell_type": "code",
   "execution_count": 94,
   "metadata": {
    "tags": []
   },
   "outputs": [],
   "source": [
    "#res = [x for x in acled_countries + sipri_countries if x not in sipri_countries]\n",
    "#print(sorted(res, key=str.lower))"
   ]
  },
  {
   "cell_type": "code",
   "execution_count": 95,
   "metadata": {},
   "outputs": [],
   "source": [
    "#res = [x for x in acled_countries + sipri_countries if x not in acled_countries]\n",
    "#print(sorted(res, key=str.lower))"
   ]
  },
  {
   "cell_type": "code",
   "execution_count": null,
   "metadata": {},
   "outputs": [],
   "source": []
  }
 ]
}